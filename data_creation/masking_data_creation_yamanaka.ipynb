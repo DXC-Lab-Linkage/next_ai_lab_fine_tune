{
 "cells": [
  {
   "cell_type": "markdown",
   "metadata": {},
   "source": [
    "# マスキングデータセットを作成"
   ]
  },
  {
   "cell_type": "markdown",
   "metadata": {},
   "source": [
    "##　パッケージのインストール"
   ]
  },
  {
   "cell_type": "code",
   "execution_count": 90,
   "metadata": {},
   "outputs": [
    {
     "name": "stdout",
     "output_type": "stream",
     "text": [
      "Looking in links: /dbfs/databricks/libraries/\n",
      "Requirement already satisfied: langchain in c:\\users\\yukiyamanaka\\appdata\\local\\programs\\python\\python311\\lib\\site-packages (0.3.18)\n",
      "Requirement already satisfied: langchain-core<1.0.0,>=0.3.34 in c:\\users\\yukiyamanaka\\appdata\\local\\programs\\python\\python311\\lib\\site-packages (from langchain) (0.3.35)\n",
      "Requirement already satisfied: langchain-text-splitters<1.0.0,>=0.3.6 in c:\\users\\yukiyamanaka\\appdata\\local\\programs\\python\\python311\\lib\\site-packages (from langchain) (0.3.6)\n",
      "Requirement already satisfied: langsmith<0.4,>=0.1.17 in c:\\users\\yukiyamanaka\\appdata\\local\\programs\\python\\python311\\lib\\site-packages (from langchain) (0.3.8)\n",
      "Requirement already satisfied: pydantic<3.0.0,>=2.7.4 in c:\\users\\yukiyamanaka\\appdata\\local\\programs\\python\\python311\\lib\\site-packages (from langchain) (2.9.2)\n",
      "Requirement already satisfied: SQLAlchemy<3,>=1.4 in c:\\users\\yukiyamanaka\\appdata\\local\\programs\\python\\python311\\lib\\site-packages (from langchain) (2.0.35)\n",
      "Requirement already satisfied: requests<3,>=2 in c:\\users\\yukiyamanaka\\appdata\\local\\programs\\python\\python311\\lib\\site-packages (from langchain) (2.32.3)\n",
      "Requirement already satisfied: PyYAML>=5.3 in c:\\users\\yukiyamanaka\\appdata\\local\\programs\\python\\python311\\lib\\site-packages (from langchain) (6.0.2)\n",
      "Requirement already satisfied: aiohttp<4.0.0,>=3.8.3 in c:\\users\\yukiyamanaka\\appdata\\local\\programs\\python\\python311\\lib\\site-packages (from langchain) (3.9.2)\n",
      "Requirement already satisfied: tenacity!=8.4.0,<10,>=8.1.0 in c:\\users\\yukiyamanaka\\appdata\\local\\programs\\python\\python311\\lib\\site-packages (from langchain) (8.2.3)\n",
      "Requirement already satisfied: numpy<2,>=1.26.4 in c:\\users\\yukiyamanaka\\appdata\\local\\programs\\python\\python311\\lib\\site-packages (from langchain) (1.26.4)\n",
      "Requirement already satisfied: aiosignal>=1.1.2 in c:\\users\\yukiyamanaka\\appdata\\local\\programs\\python\\python311\\lib\\site-packages (from aiohttp<4.0.0,>=3.8.3->langchain) (1.3.1)\n",
      "Requirement already satisfied: attrs>=17.3.0 in c:\\users\\yukiyamanaka\\appdata\\local\\programs\\python\\python311\\lib\\site-packages (from aiohttp<4.0.0,>=3.8.3->langchain) (23.1.0)\n",
      "Requirement already satisfied: frozenlist>=1.1.1 in c:\\users\\yukiyamanaka\\appdata\\local\\programs\\python\\python311\\lib\\site-packages (from aiohttp<4.0.0,>=3.8.3->langchain) (1.4.1)\n",
      "Requirement already satisfied: multidict<7.0,>=4.5 in c:\\users\\yukiyamanaka\\appdata\\local\\programs\\python\\python311\\lib\\site-packages (from aiohttp<4.0.0,>=3.8.3->langchain) (6.1.0)\n",
      "Requirement already satisfied: yarl<2.0,>=1.0 in c:\\users\\yukiyamanaka\\appdata\\local\\programs\\python\\python311\\lib\\site-packages (from aiohttp<4.0.0,>=3.8.3->langchain) (1.12.1)\n",
      "Requirement already satisfied: jsonpatch<2.0,>=1.33 in c:\\users\\yukiyamanaka\\appdata\\local\\programs\\python\\python311\\lib\\site-packages (from langchain-core<1.0.0,>=0.3.34->langchain) (1.33)\n",
      "Requirement already satisfied: packaging<25,>=23.2 in c:\\users\\yukiyamanaka\\appdata\\local\\programs\\python\\python311\\lib\\site-packages (from langchain-core<1.0.0,>=0.3.34->langchain) (23.2)\n",
      "Requirement already satisfied: typing-extensions>=4.7 in c:\\users\\yukiyamanaka\\appdata\\local\\programs\\python\\python311\\lib\\site-packages (from langchain-core<1.0.0,>=0.3.34->langchain) (4.12.2)\n",
      "Requirement already satisfied: httpx<1,>=0.23.0 in c:\\users\\yukiyamanaka\\appdata\\local\\programs\\python\\python311\\lib\\site-packages (from langsmith<0.4,>=0.1.17->langchain) (0.26.0)\n",
      "Requirement already satisfied: orjson<4.0.0,>=3.9.14 in c:\\users\\yukiyamanaka\\appdata\\local\\programs\\python\\python311\\lib\\site-packages (from langsmith<0.4,>=0.1.17->langchain) (3.10.15)\n",
      "Requirement already satisfied: requests-toolbelt<2.0.0,>=1.0.0 in c:\\users\\yukiyamanaka\\appdata\\local\\programs\\python\\python311\\lib\\site-packages (from langsmith<0.4,>=0.1.17->langchain) (1.0.0)\n",
      "Requirement already satisfied: zstandard<0.24.0,>=0.23.0 in c:\\users\\yukiyamanaka\\appdata\\local\\programs\\python\\python311\\lib\\site-packages (from langsmith<0.4,>=0.1.17->langchain) (0.23.0)\n",
      "Requirement already satisfied: annotated-types>=0.6.0 in c:\\users\\yukiyamanaka\\appdata\\local\\programs\\python\\python311\\lib\\site-packages (from pydantic<3.0.0,>=2.7.4->langchain) (0.7.0)\n",
      "Requirement already satisfied: pydantic-core==2.23.4 in c:\\users\\yukiyamanaka\\appdata\\local\\programs\\python\\python311\\lib\\site-packages (from pydantic<3.0.0,>=2.7.4->langchain) (2.23.4)\n",
      "Requirement already satisfied: charset-normalizer<4,>=2 in c:\\users\\yukiyamanaka\\appdata\\local\\programs\\python\\python311\\lib\\site-packages (from requests<3,>=2->langchain) (3.3.2)\n",
      "Requirement already satisfied: idna<4,>=2.5 in c:\\users\\yukiyamanaka\\appdata\\local\\programs\\python\\python311\\lib\\site-packages (from requests<3,>=2->langchain) (3.10)\n",
      "Requirement already satisfied: urllib3<3,>=1.21.1 in c:\\users\\yukiyamanaka\\appdata\\local\\programs\\python\\python311\\lib\\site-packages (from requests<3,>=2->langchain) (2.1.0)\n",
      "Requirement already satisfied: certifi>=2017.4.17 in c:\\users\\yukiyamanaka\\appdata\\local\\programs\\python\\python311\\lib\\site-packages (from requests<3,>=2->langchain) (2024.8.30)\n",
      "Requirement already satisfied: greenlet!=0.4.17 in c:\\users\\yukiyamanaka\\appdata\\local\\programs\\python\\python311\\lib\\site-packages (from SQLAlchemy<3,>=1.4->langchain) (3.1.1)\n",
      "Requirement already satisfied: anyio in c:\\users\\yukiyamanaka\\appdata\\local\\programs\\python\\python311\\lib\\site-packages (from httpx<1,>=0.23.0->langsmith<0.4,>=0.1.17->langchain) (4.6.0)\n",
      "Requirement already satisfied: httpcore==1.* in c:\\users\\yukiyamanaka\\appdata\\local\\programs\\python\\python311\\lib\\site-packages (from httpx<1,>=0.23.0->langsmith<0.4,>=0.1.17->langchain) (1.0.5)\n",
      "Requirement already satisfied: sniffio in c:\\users\\yukiyamanaka\\appdata\\local\\programs\\python\\python311\\lib\\site-packages (from httpx<1,>=0.23.0->langsmith<0.4,>=0.1.17->langchain) (1.3.1)\n",
      "Requirement already satisfied: h11<0.15,>=0.13 in c:\\users\\yukiyamanaka\\appdata\\local\\programs\\python\\python311\\lib\\site-packages (from httpcore==1.*->httpx<1,>=0.23.0->langsmith<0.4,>=0.1.17->langchain) (0.14.0)\n",
      "Requirement already satisfied: jsonpointer>=1.9 in c:\\users\\yukiyamanaka\\appdata\\local\\programs\\python\\python311\\lib\\site-packages (from jsonpatch<2.0,>=1.33->langchain-core<1.0.0,>=0.3.34->langchain) (3.0.0)\n",
      "Looking in links: /dbfs/databricks/libraries/\n",
      "Requirement already satisfied: langchain-openai in c:\\users\\yukiyamanaka\\appdata\\local\\programs\\python\\python311\\lib\\site-packages (0.3.5)\n",
      "Requirement already satisfied: langchain-core<1.0.0,>=0.3.34 in c:\\users\\yukiyamanaka\\appdata\\local\\programs\\python\\python311\\lib\\site-packages (from langchain-openai) (0.3.35)\n",
      "Requirement already satisfied: openai<2.0.0,>=1.58.1 in c:\\users\\yukiyamanaka\\appdata\\local\\programs\\python\\python311\\lib\\site-packages (from langchain-openai) (1.62.0)\n",
      "Requirement already satisfied: tiktoken<1,>=0.7 in c:\\users\\yukiyamanaka\\appdata\\local\\programs\\python\\python311\\lib\\site-packages (from langchain-openai) (0.8.0)\n",
      "Requirement already satisfied: langsmith<0.4,>=0.1.125 in c:\\users\\yukiyamanaka\\appdata\\local\\programs\\python\\python311\\lib\\site-packages (from langchain-core<1.0.0,>=0.3.34->langchain-openai) (0.3.8)\n",
      "Requirement already satisfied: tenacity!=8.4.0,<10.0.0,>=8.1.0 in c:\\users\\yukiyamanaka\\appdata\\local\\programs\\python\\python311\\lib\\site-packages (from langchain-core<1.0.0,>=0.3.34->langchain-openai) (8.2.3)\n",
      "Requirement already satisfied: jsonpatch<2.0,>=1.33 in c:\\users\\yukiyamanaka\\appdata\\local\\programs\\python\\python311\\lib\\site-packages (from langchain-core<1.0.0,>=0.3.34->langchain-openai) (1.33)\n",
      "Requirement already satisfied: PyYAML>=5.3 in c:\\users\\yukiyamanaka\\appdata\\local\\programs\\python\\python311\\lib\\site-packages (from langchain-core<1.0.0,>=0.3.34->langchain-openai) (6.0.2)\n",
      "Requirement already satisfied: packaging<25,>=23.2 in c:\\users\\yukiyamanaka\\appdata\\local\\programs\\python\\python311\\lib\\site-packages (from langchain-core<1.0.0,>=0.3.34->langchain-openai) (23.2)\n",
      "Requirement already satisfied: typing-extensions>=4.7 in c:\\users\\yukiyamanaka\\appdata\\local\\programs\\python\\python311\\lib\\site-packages (from langchain-core<1.0.0,>=0.3.34->langchain-openai) (4.12.2)\n",
      "Requirement already satisfied: pydantic<3.0.0,>=2.5.2 in c:\\users\\yukiyamanaka\\appdata\\local\\programs\\python\\python311\\lib\\site-packages (from langchain-core<1.0.0,>=0.3.34->langchain-openai) (2.9.2)\n",
      "Requirement already satisfied: anyio<5,>=3.5.0 in c:\\users\\yukiyamanaka\\appdata\\local\\programs\\python\\python311\\lib\\site-packages (from openai<2.0.0,>=1.58.1->langchain-openai) (4.6.0)\n",
      "Requirement already satisfied: distro<2,>=1.7.0 in c:\\users\\yukiyamanaka\\appdata\\local\\programs\\python\\python311\\lib\\site-packages (from openai<2.0.0,>=1.58.1->langchain-openai) (1.9.0)\n",
      "Requirement already satisfied: httpx<1,>=0.23.0 in c:\\users\\yukiyamanaka\\appdata\\local\\programs\\python\\python311\\lib\\site-packages (from openai<2.0.0,>=1.58.1->langchain-openai) (0.26.0)\n",
      "Requirement already satisfied: jiter<1,>=0.4.0 in c:\\users\\yukiyamanaka\\appdata\\local\\programs\\python\\python311\\lib\\site-packages (from openai<2.0.0,>=1.58.1->langchain-openai) (0.8.2)\n",
      "Requirement already satisfied: sniffio in c:\\users\\yukiyamanaka\\appdata\\local\\programs\\python\\python311\\lib\\site-packages (from openai<2.0.0,>=1.58.1->langchain-openai) (1.3.1)\n",
      "Requirement already satisfied: tqdm>4 in c:\\users\\yukiyamanaka\\appdata\\local\\programs\\python\\python311\\lib\\site-packages (from openai<2.0.0,>=1.58.1->langchain-openai) (4.66.5)\n",
      "Requirement already satisfied: regex>=2022.1.18 in c:\\users\\yukiyamanaka\\appdata\\local\\programs\\python\\python311\\lib\\site-packages (from tiktoken<1,>=0.7->langchain-openai) (2024.9.11)\n",
      "Requirement already satisfied: requests>=2.26.0 in c:\\users\\yukiyamanaka\\appdata\\local\\programs\\python\\python311\\lib\\site-packages (from tiktoken<1,>=0.7->langchain-openai) (2.32.3)\n",
      "Requirement already satisfied: idna>=2.8 in c:\\users\\yukiyamanaka\\appdata\\local\\programs\\python\\python311\\lib\\site-packages (from anyio<5,>=3.5.0->openai<2.0.0,>=1.58.1->langchain-openai) (3.10)\n",
      "Requirement already satisfied: certifi in c:\\users\\yukiyamanaka\\appdata\\local\\programs\\python\\python311\\lib\\site-packages (from httpx<1,>=0.23.0->openai<2.0.0,>=1.58.1->langchain-openai) (2024.8.30)\n",
      "Requirement already satisfied: httpcore==1.* in c:\\users\\yukiyamanaka\\appdata\\local\\programs\\python\\python311\\lib\\site-packages (from httpx<1,>=0.23.0->openai<2.0.0,>=1.58.1->langchain-openai) (1.0.5)\n",
      "Requirement already satisfied: h11<0.15,>=0.13 in c:\\users\\yukiyamanaka\\appdata\\local\\programs\\python\\python311\\lib\\site-packages (from httpcore==1.*->httpx<1,>=0.23.0->openai<2.0.0,>=1.58.1->langchain-openai) (0.14.0)\n",
      "Requirement already satisfied: jsonpointer>=1.9 in c:\\users\\yukiyamanaka\\appdata\\local\\programs\\python\\python311\\lib\\site-packages (from jsonpatch<2.0,>=1.33->langchain-core<1.0.0,>=0.3.34->langchain-openai) (3.0.0)\n",
      "Requirement already satisfied: orjson<4.0.0,>=3.9.14 in c:\\users\\yukiyamanaka\\appdata\\local\\programs\\python\\python311\\lib\\site-packages (from langsmith<0.4,>=0.1.125->langchain-core<1.0.0,>=0.3.34->langchain-openai) (3.10.15)\n",
      "Requirement already satisfied: requests-toolbelt<2.0.0,>=1.0.0 in c:\\users\\yukiyamanaka\\appdata\\local\\programs\\python\\python311\\lib\\site-packages (from langsmith<0.4,>=0.1.125->langchain-core<1.0.0,>=0.3.34->langchain-openai) (1.0.0)\n",
      "Requirement already satisfied: zstandard<0.24.0,>=0.23.0 in c:\\users\\yukiyamanaka\\appdata\\local\\programs\\python\\python311\\lib\\site-packages (from langsmith<0.4,>=0.1.125->langchain-core<1.0.0,>=0.3.34->langchain-openai) (0.23.0)\n",
      "Requirement already satisfied: annotated-types>=0.6.0 in c:\\users\\yukiyamanaka\\appdata\\local\\programs\\python\\python311\\lib\\site-packages (from pydantic<3.0.0,>=2.5.2->langchain-core<1.0.0,>=0.3.34->langchain-openai) (0.7.0)\n",
      "Requirement already satisfied: pydantic-core==2.23.4 in c:\\users\\yukiyamanaka\\appdata\\local\\programs\\python\\python311\\lib\\site-packages (from pydantic<3.0.0,>=2.5.2->langchain-core<1.0.0,>=0.3.34->langchain-openai) (2.23.4)\n",
      "Requirement already satisfied: charset-normalizer<4,>=2 in c:\\users\\yukiyamanaka\\appdata\\local\\programs\\python\\python311\\lib\\site-packages (from requests>=2.26.0->tiktoken<1,>=0.7->langchain-openai) (3.3.2)\n",
      "Requirement already satisfied: urllib3<3,>=1.21.1 in c:\\users\\yukiyamanaka\\appdata\\local\\programs\\python\\python311\\lib\\site-packages (from requests>=2.26.0->tiktoken<1,>=0.7->langchain-openai) (2.1.0)\n",
      "Requirement already satisfied: colorama in c:\\users\\yukiyamanaka\\appdata\\local\\programs\\python\\python311\\lib\\site-packages (from tqdm>4->openai<2.0.0,>=1.58.1->langchain-openai) (0.4.6)\n",
      "Looking in links: /dbfs/databricks/libraries/\n",
      "Requirement already satisfied: python-dotenv in c:\\users\\yukiyamanaka\\appdata\\local\\programs\\python\\python311\\lib\\site-packages (1.0.1)\n"
     ]
    }
   ],
   "source": [
    "!pip install --no-index --find-links=/dbfs/databricks/libraries/ langchain\n",
    "!pip install --no-index --find-links=/dbfs/databricks/libraries/ langchain-openai\n",
    "!pip install --no-index --find-links=/dbfs/databricks/libraries/ python-dotenv"
   ]
  },
  {
   "cell_type": "markdown",
   "metadata": {},
   "source": [
    "## ライブラリのインポート"
   ]
  },
  {
   "cell_type": "code",
   "execution_count": 91,
   "metadata": {},
   "outputs": [],
   "source": [
    "from langchain_core.prompts import ChatPromptTemplate\n",
    "from langchain_openai import AzureChatOpenAI\n",
    "import os\n",
    "from dotenv import load_dotenv\n",
    "from pydantic import BaseModel\n",
    "from langchain_core.pydantic_v1 import Field\n",
    "import pandas as pd"
   ]
  },
  {
   "cell_type": "markdown",
   "metadata": {},
   "source": [
    "## 環境変数の設定"
   ]
  },
  {
   "cell_type": "code",
   "execution_count": null,
   "metadata": {},
   "outputs": [],
   "source": [
    "load_dotenv()\n",
    "\n",
    "# AzureOpenAIのAPI KEY\n",
    "azure_openai_api_key: str = ''\n",
    "os.environ['AZURE_OPENAI_ENDPOINT'] = ''"
   ]
  },
  {
   "cell_type": "markdown",
   "metadata": {},
   "source": [
    "## チャットオブジェクトを取得する関数"
   ]
  },
  {
   "cell_type": "code",
   "execution_count": 93,
   "metadata": {},
   "outputs": [],
   "source": [
    "def get_llm(azure_deployment=\"gpt-4o-2024-11-20\", api_version=\"2024-08-01-preview\"):\n",
    "\n",
    "    llm = AzureChatOpenAI(\n",
    "        api_key=azure_openai_api_key,\n",
    "        temperature=1,\n",
    "        azure_deployment=azure_deployment,\n",
    "        api_version=api_version,\n",
    "    )\n",
    "    return llm"
   ]
  },
  {
   "cell_type": "markdown",
   "metadata": {},
   "source": [
    "## システムプロンプトの設定"
   ]
  },
  {
   "cell_type": "code",
   "execution_count": 143,
   "metadata": {},
   "outputs": [],
   "source": [
    "generate_masking_content_system_prompt = \"\"\"\n",
    "【役割】\n",
    "あなたは日本の個人情報をマスキングするためのデータセットを作成するデータ作成担当者です。\n",
    "個人情報は、人の氏名、生年月日、会社名、住所、emailアドレス、電話番号です。\n",
    "\n",
    "【背景】\n",
    "個人情報をマスキングすることに特化したLLMを作成するために、マスキングされたデータセットが必要\n",
    "あなたに個人情報をマスキングするためのデータセットを量産してもらいたい\n",
    "\n",
    "【制約】\n",
    "- 文章は日本語で、様々なバリエーションを持つ文章を生成して下さい。バリエーションが豊富であればあるほど良いです。自然な文章で長めの文章を生成して下さい。\n",
    "- 自然な文章で1000文字以上で文章を生成して下さい。\n",
    "- 文章の書き出しは可能な限り重複することがないように文章を作成してください。\n",
    "- 文章は下記の【フォーマット】に従って必ず出力して下さい。「マスク前の文章」と「マスク後の文章」をワンセットで1件だけ生成して下さい。\n",
    "- 生成した個人情報は、「マスク後の文章」で必ずマスキングしてください。元の個人情報が一切推測できないように完全にマスキングしてください。\n",
    "- 必ず【必須で含める個人情報】を含めたマスキングデータを作成して下さい。\n",
    "- 【任意で含める個人情報】を含めても良いです。自然な文章を作成するにあたり、【任意で含める個人情報】の内容が必要であれば含めて下さい。\n",
    "- 【必須で含める個人情報】と【任意で含める個人情報】の内容は必ずマスキングして「マスク後の文章:」に出力して下さい。\n",
    "- 【必須で含める個人情報】でも【任意で含める個人情報】でも、個人情報は【各個人情報のマスキング方法】に従ってマスキングするようにしてください。\n",
    "- 文章に含まれる個人情報の数やその種類に関しても可能な限りバリエーションを持つようにしてください。\n",
    "- 必須で含める個人情報は例にあるデータだけでなく可能な限り多様なバリエーションを含むようにしてください。\n",
    "\n",
    "【必須で含める個人情報】\n",
    "- カタカナで記載された個人の氏名をフルネーム（例: タナカタロウ、ヤマダハナコ、スズキイチロウなど、一般的に考えられる名前）\n",
    "- 個人の名前は例に示された名前以外も考えて、生成すること。\n",
    "\n",
    "【任意で含める個人情報】\n",
    "- 会社名\n",
    "- 日本の住所\n",
    "- 電話番号\n",
    "- 郵便番号\n",
    "- emailアドレス\n",
    "- 生年月日\n",
    "\n",
    "【各個人情報のマスキング方法】\n",
    "各情報は以下を参考にマスキングしてください。\n",
    "- 人の氏名: <マスキング済みの氏名> （例: タナカタロウ → <マスキング済みの氏名>、ヤマダハナコ → <マスキング済みの氏名> など、元の氏名とは明らかに異なる、自然な日本人の氏名に見える文字列を全て<マスキング済みの氏名>にマスキング）\n",
    "- 会社名: <マスキング済みの会社名>\n",
    "- 日本の住所: <マスキング済みの住所>\n",
    "- emailアドレス: <マスキング済みのemailアドレス>\n",
    "- 電話番号: <マスキング済みの電話番号>\n",
    "- 郵便番号: <マスキング済みの郵便番号>\n",
    "- 生年月日: <マスキング済みの生年月日>\n",
    "\n",
    "【フォーマット】\n",
    "マスキング前の文章:IBM Japan Systems Engineering Co. Ltd.（ISE）の住所は東京都中央区日本橋箱崎町19番21号 MSH 日本橋箱崎ビルで、郵便番号は〒0123456でタナカタロウさんの職場の電話番号は0120000000です。\n",
    "マスキング後の文章:<マスキング済みの会社名>の住所は<マスキング済みの住所>で、<マスキング済みの郵便番号>で<マスキング済みの氏名>さんの職場の電話番号は<マスキング済みの電話番号>です。\n",
    "\"\"\"\n",
    "\n",
    "\n",
    "\n",
    "set_before_masking_after_masking_system_prompt = \"\"\"\n",
    "【役割】\n",
    "あなたはマスキング前の文章とマスキング後の文章を分けることAIアシスタントです。\n",
    "\n",
    "【背景】\n",
    "個人情報をマスキングすることに特化したLLMを作成するために、マスキングされたデータセットが必要です。\n",
    "マスキング前の文章とマスキング後の文章を明確に分けてほしい。\n",
    "\n",
    "【制約】\n",
    "- 「マスク前の文章:」の文章を忠実にbefore_maskingフィールドに格納して下さい。\n",
    "- 「マスク後の文章:」の文章を忠実にafter_maskingフィールドに格納して下さい。\n",
    "- 「マスク前の文章」が存在する場合、必ず「マスク後の文章」を作成してください。\n",
    "\"\"\""
   ]
  },
  {
   "cell_type": "markdown",
   "metadata": {},
   "source": [
    "## マスキング前と後の文章をテキスト抽出するクラス"
   ]
  },
  {
   "cell_type": "code",
   "execution_count": 144,
   "metadata": {},
   "outputs": [],
   "source": [
    "class BeforeMaskingAfterMaskingModel(BaseModel):\n",
    "    before_masking: str = Field(description='マスキング前の文章。「マスキング前の文章:・・・」となっている文章をここのbefore_maskingフィールドに格納する')\n",
    "    after_masking: str = Field(description='マスキング後の文章。「マスキング後の文章:・・・」となっている文章をここのafter_maskingフィールドに格納する')\n",
    "\n",
    "    model_config = {\n",
    "        \"json_schema_extra\": {\n",
    "            \"required\": [\"before_masking\", \"after_masking\"]\n",
    "        }\n",
    "    }"
   ]
  },
  {
   "cell_type": "code",
   "execution_count": 145,
   "metadata": {},
   "outputs": [],
   "source": [
    "def set_before_masking_after_masking(before_masking_after_masking_content):\n",
    "    prompt = ChatPromptTemplate.from_messages(\n",
    "        [\n",
    "            (\n",
    "                'system',\n",
    "                set_before_masking_after_masking_system_prompt,\n",
    "            ),\n",
    "            (\"human\", \"{input}\"),\n",
    "        ]\n",
    "    )\n",
    "\n",
    "    llm = get_llm()\n",
    "    chain = prompt | llm.with_structured_output(BeforeMaskingAfterMaskingModel)\n",
    "    output_qanda = chain.invoke({\n",
    "        'input': before_masking_after_masking_content\n",
    "        })\n",
    "    \n",
    "    return output_qanda"
   ]
  },
  {
   "cell_type": "markdown",
   "metadata": {},
   "source": [
    "## マスキング用のデータを作成する関数"
   ]
  },
  {
   "cell_type": "code",
   "execution_count": 146,
   "metadata": {},
   "outputs": [],
   "source": [
    "def generate_masking_content(system_prompt):\n",
    "    try:\n",
    "        llm = get_llm()\n",
    "        user_query = \"日本の個人情報をマスキングするためのデータセットを作成したいです。多彩で様々なバリエーションの文章を可能な限り長文生成して下さい。\"\n",
    "\n",
    "        prompt = ChatPromptTemplate.from_messages(\n",
    "            [\n",
    "                (\n",
    "                    \"system\",\n",
    "                    system_prompt\n",
    "                ),\n",
    "                (\"human\", \"{input}\"),\n",
    "            ]\n",
    "        )\n",
    "\n",
    "        chain = prompt | llm\n",
    "        result = chain.invoke({\n",
    "            'input': user_query\n",
    "        })\n",
    "\n",
    "        return result\n",
    "\n",
    "    except Exception as e:\n",
    "        print(f\"タグ生成に失敗しました: {e}\")\n",
    "        return []"
   ]
  },
  {
   "cell_type": "code",
   "execution_count": 147,
   "metadata": {},
   "outputs": [
    {
     "name": "stdout",
     "output_type": "stream",
     "text": [
      "1件目のマスキングデータを生成開始\n"
     ]
    },
    {
     "name": "stderr",
     "output_type": "stream",
     "text": [
      "c:\\Users\\YukiYamanaka\\AppData\\Local\\Programs\\Python\\Python311\\Lib\\site-packages\\pydantic\\json_schema.py:2191: PydanticJsonSchemaWarning: Default value default=PydanticUndefined description='マスキング前の文章。「マスキング前の文章:・・・」となっている文章をここのbefore_maskingフィールドに格納する' extra={} is not JSON serializable; excluding default from JSON schema [non-serializable-default]\n",
      "  warnings.warn(message, PydanticJsonSchemaWarning)\n",
      "c:\\Users\\YukiYamanaka\\AppData\\Local\\Programs\\Python\\Python311\\Lib\\site-packages\\pydantic\\json_schema.py:2191: PydanticJsonSchemaWarning: Default value default=PydanticUndefined description='マスキング後の文章。「マスキング後の文章:・・・」となっている文章をここのafter_maskingフィールドに格納する' extra={} is not JSON serializable; excluding default from JSON schema [non-serializable-default]\n",
      "  warnings.warn(message, PydanticJsonSchemaWarning)\n",
      "c:\\Users\\YukiYamanaka\\AppData\\Local\\Programs\\Python\\Python311\\Lib\\site-packages\\pydantic\\json_schema.py:2191: PydanticJsonSchemaWarning: Default value default=PydanticUndefined description='マスキング前の文章。「マスキング前の文章:・・・」となっている文章をここのbefore_maskingフィールドに格納する' extra={} is not JSON serializable; excluding default from JSON schema [non-serializable-default]\n",
      "  warnings.warn(message, PydanticJsonSchemaWarning)\n",
      "c:\\Users\\YukiYamanaka\\AppData\\Local\\Programs\\Python\\Python311\\Lib\\site-packages\\pydantic\\json_schema.py:2191: PydanticJsonSchemaWarning: Default value default=PydanticUndefined description='マスキング後の文章。「マスキング後の文章:・・・」となっている文章をここのafter_maskingフィールドに格納する' extra={} is not JSON serializable; excluding default from JSON schema [non-serializable-default]\n",
      "  warnings.warn(message, PydanticJsonSchemaWarning)\n"
     ]
    },
    {
     "name": "stdout",
     "output_type": "stream",
     "text": [
      "1件目のマスキングデータを生成完了\n",
      "2件目のマスキングデータを生成開始\n"
     ]
    },
    {
     "name": "stderr",
     "output_type": "stream",
     "text": [
      "c:\\Users\\YukiYamanaka\\AppData\\Local\\Programs\\Python\\Python311\\Lib\\site-packages\\pydantic\\json_schema.py:2191: PydanticJsonSchemaWarning: Default value default=PydanticUndefined description='マスキング前の文章。「マスキング前の文章:・・・」となっている文章をここのbefore_maskingフィールドに格納する' extra={} is not JSON serializable; excluding default from JSON schema [non-serializable-default]\n",
      "  warnings.warn(message, PydanticJsonSchemaWarning)\n",
      "c:\\Users\\YukiYamanaka\\AppData\\Local\\Programs\\Python\\Python311\\Lib\\site-packages\\pydantic\\json_schema.py:2191: PydanticJsonSchemaWarning: Default value default=PydanticUndefined description='マスキング後の文章。「マスキング後の文章:・・・」となっている文章をここのafter_maskingフィールドに格納する' extra={} is not JSON serializable; excluding default from JSON schema [non-serializable-default]\n",
      "  warnings.warn(message, PydanticJsonSchemaWarning)\n",
      "c:\\Users\\YukiYamanaka\\AppData\\Local\\Programs\\Python\\Python311\\Lib\\site-packages\\pydantic\\json_schema.py:2191: PydanticJsonSchemaWarning: Default value default=PydanticUndefined description='マスキング前の文章。「マスキング前の文章:・・・」となっている文章をここのbefore_maskingフィールドに格納する' extra={} is not JSON serializable; excluding default from JSON schema [non-serializable-default]\n",
      "  warnings.warn(message, PydanticJsonSchemaWarning)\n",
      "c:\\Users\\YukiYamanaka\\AppData\\Local\\Programs\\Python\\Python311\\Lib\\site-packages\\pydantic\\json_schema.py:2191: PydanticJsonSchemaWarning: Default value default=PydanticUndefined description='マスキング後の文章。「マスキング後の文章:・・・」となっている文章をここのafter_maskingフィールドに格納する' extra={} is not JSON serializable; excluding default from JSON schema [non-serializable-default]\n",
      "  warnings.warn(message, PydanticJsonSchemaWarning)\n"
     ]
    },
    {
     "name": "stdout",
     "output_type": "stream",
     "text": [
      "2件目のマスキングデータを生成完了\n",
      "3件目のマスキングデータを生成開始\n"
     ]
    },
    {
     "name": "stderr",
     "output_type": "stream",
     "text": [
      "c:\\Users\\YukiYamanaka\\AppData\\Local\\Programs\\Python\\Python311\\Lib\\site-packages\\pydantic\\json_schema.py:2191: PydanticJsonSchemaWarning: Default value default=PydanticUndefined description='マスキング前の文章。「マスキング前の文章:・・・」となっている文章をここのbefore_maskingフィールドに格納する' extra={} is not JSON serializable; excluding default from JSON schema [non-serializable-default]\n",
      "  warnings.warn(message, PydanticJsonSchemaWarning)\n",
      "c:\\Users\\YukiYamanaka\\AppData\\Local\\Programs\\Python\\Python311\\Lib\\site-packages\\pydantic\\json_schema.py:2191: PydanticJsonSchemaWarning: Default value default=PydanticUndefined description='マスキング後の文章。「マスキング後の文章:・・・」となっている文章をここのafter_maskingフィールドに格納する' extra={} is not JSON serializable; excluding default from JSON schema [non-serializable-default]\n",
      "  warnings.warn(message, PydanticJsonSchemaWarning)\n",
      "c:\\Users\\YukiYamanaka\\AppData\\Local\\Programs\\Python\\Python311\\Lib\\site-packages\\pydantic\\json_schema.py:2191: PydanticJsonSchemaWarning: Default value default=PydanticUndefined description='マスキング前の文章。「マスキング前の文章:・・・」となっている文章をここのbefore_maskingフィールドに格納する' extra={} is not JSON serializable; excluding default from JSON schema [non-serializable-default]\n",
      "  warnings.warn(message, PydanticJsonSchemaWarning)\n",
      "c:\\Users\\YukiYamanaka\\AppData\\Local\\Programs\\Python\\Python311\\Lib\\site-packages\\pydantic\\json_schema.py:2191: PydanticJsonSchemaWarning: Default value default=PydanticUndefined description='マスキング後の文章。「マスキング後の文章:・・・」となっている文章をここのafter_maskingフィールドに格納する' extra={} is not JSON serializable; excluding default from JSON schema [non-serializable-default]\n",
      "  warnings.warn(message, PydanticJsonSchemaWarning)\n"
     ]
    },
    {
     "name": "stdout",
     "output_type": "stream",
     "text": [
      "3件目のマスキングデータを生成完了\n",
      "4件目のマスキングデータを生成開始\n"
     ]
    },
    {
     "name": "stderr",
     "output_type": "stream",
     "text": [
      "c:\\Users\\YukiYamanaka\\AppData\\Local\\Programs\\Python\\Python311\\Lib\\site-packages\\pydantic\\json_schema.py:2191: PydanticJsonSchemaWarning: Default value default=PydanticUndefined description='マスキング前の文章。「マスキング前の文章:・・・」となっている文章をここのbefore_maskingフィールドに格納する' extra={} is not JSON serializable; excluding default from JSON schema [non-serializable-default]\n",
      "  warnings.warn(message, PydanticJsonSchemaWarning)\n",
      "c:\\Users\\YukiYamanaka\\AppData\\Local\\Programs\\Python\\Python311\\Lib\\site-packages\\pydantic\\json_schema.py:2191: PydanticJsonSchemaWarning: Default value default=PydanticUndefined description='マスキング後の文章。「マスキング後の文章:・・・」となっている文章をここのafter_maskingフィールドに格納する' extra={} is not JSON serializable; excluding default from JSON schema [non-serializable-default]\n",
      "  warnings.warn(message, PydanticJsonSchemaWarning)\n",
      "c:\\Users\\YukiYamanaka\\AppData\\Local\\Programs\\Python\\Python311\\Lib\\site-packages\\pydantic\\json_schema.py:2191: PydanticJsonSchemaWarning: Default value default=PydanticUndefined description='マスキング前の文章。「マスキング前の文章:・・・」となっている文章をここのbefore_maskingフィールドに格納する' extra={} is not JSON serializable; excluding default from JSON schema [non-serializable-default]\n",
      "  warnings.warn(message, PydanticJsonSchemaWarning)\n",
      "c:\\Users\\YukiYamanaka\\AppData\\Local\\Programs\\Python\\Python311\\Lib\\site-packages\\pydantic\\json_schema.py:2191: PydanticJsonSchemaWarning: Default value default=PydanticUndefined description='マスキング後の文章。「マスキング後の文章:・・・」となっている文章をここのafter_maskingフィールドに格納する' extra={} is not JSON serializable; excluding default from JSON schema [non-serializable-default]\n",
      "  warnings.warn(message, PydanticJsonSchemaWarning)\n"
     ]
    },
    {
     "name": "stdout",
     "output_type": "stream",
     "text": [
      "4件目のマスキングデータを生成完了\n",
      "5件目のマスキングデータを生成開始\n"
     ]
    },
    {
     "name": "stderr",
     "output_type": "stream",
     "text": [
      "c:\\Users\\YukiYamanaka\\AppData\\Local\\Programs\\Python\\Python311\\Lib\\site-packages\\pydantic\\json_schema.py:2191: PydanticJsonSchemaWarning: Default value default=PydanticUndefined description='マスキング前の文章。「マスキング前の文章:・・・」となっている文章をここのbefore_maskingフィールドに格納する' extra={} is not JSON serializable; excluding default from JSON schema [non-serializable-default]\n",
      "  warnings.warn(message, PydanticJsonSchemaWarning)\n",
      "c:\\Users\\YukiYamanaka\\AppData\\Local\\Programs\\Python\\Python311\\Lib\\site-packages\\pydantic\\json_schema.py:2191: PydanticJsonSchemaWarning: Default value default=PydanticUndefined description='マスキング後の文章。「マスキング後の文章:・・・」となっている文章をここのafter_maskingフィールドに格納する' extra={} is not JSON serializable; excluding default from JSON schema [non-serializable-default]\n",
      "  warnings.warn(message, PydanticJsonSchemaWarning)\n",
      "c:\\Users\\YukiYamanaka\\AppData\\Local\\Programs\\Python\\Python311\\Lib\\site-packages\\pydantic\\json_schema.py:2191: PydanticJsonSchemaWarning: Default value default=PydanticUndefined description='マスキング前の文章。「マスキング前の文章:・・・」となっている文章をここのbefore_maskingフィールドに格納する' extra={} is not JSON serializable; excluding default from JSON schema [non-serializable-default]\n",
      "  warnings.warn(message, PydanticJsonSchemaWarning)\n",
      "c:\\Users\\YukiYamanaka\\AppData\\Local\\Programs\\Python\\Python311\\Lib\\site-packages\\pydantic\\json_schema.py:2191: PydanticJsonSchemaWarning: Default value default=PydanticUndefined description='マスキング後の文章。「マスキング後の文章:・・・」となっている文章をここのafter_maskingフィールドに格納する' extra={} is not JSON serializable; excluding default from JSON schema [non-serializable-default]\n",
      "  warnings.warn(message, PydanticJsonSchemaWarning)\n"
     ]
    },
    {
     "name": "stdout",
     "output_type": "stream",
     "text": [
      "5件目のマスキングデータを生成完了\n",
      "6件目のマスキングデータを生成開始\n"
     ]
    },
    {
     "name": "stderr",
     "output_type": "stream",
     "text": [
      "c:\\Users\\YukiYamanaka\\AppData\\Local\\Programs\\Python\\Python311\\Lib\\site-packages\\pydantic\\json_schema.py:2191: PydanticJsonSchemaWarning: Default value default=PydanticUndefined description='マスキング前の文章。「マスキング前の文章:・・・」となっている文章をここのbefore_maskingフィールドに格納する' extra={} is not JSON serializable; excluding default from JSON schema [non-serializable-default]\n",
      "  warnings.warn(message, PydanticJsonSchemaWarning)\n",
      "c:\\Users\\YukiYamanaka\\AppData\\Local\\Programs\\Python\\Python311\\Lib\\site-packages\\pydantic\\json_schema.py:2191: PydanticJsonSchemaWarning: Default value default=PydanticUndefined description='マスキング後の文章。「マスキング後の文章:・・・」となっている文章をここのafter_maskingフィールドに格納する' extra={} is not JSON serializable; excluding default from JSON schema [non-serializable-default]\n",
      "  warnings.warn(message, PydanticJsonSchemaWarning)\n",
      "c:\\Users\\YukiYamanaka\\AppData\\Local\\Programs\\Python\\Python311\\Lib\\site-packages\\pydantic\\json_schema.py:2191: PydanticJsonSchemaWarning: Default value default=PydanticUndefined description='マスキング前の文章。「マスキング前の文章:・・・」となっている文章をここのbefore_maskingフィールドに格納する' extra={} is not JSON serializable; excluding default from JSON schema [non-serializable-default]\n",
      "  warnings.warn(message, PydanticJsonSchemaWarning)\n",
      "c:\\Users\\YukiYamanaka\\AppData\\Local\\Programs\\Python\\Python311\\Lib\\site-packages\\pydantic\\json_schema.py:2191: PydanticJsonSchemaWarning: Default value default=PydanticUndefined description='マスキング後の文章。「マスキング後の文章:・・・」となっている文章をここのafter_maskingフィールドに格納する' extra={} is not JSON serializable; excluding default from JSON schema [non-serializable-default]\n",
      "  warnings.warn(message, PydanticJsonSchemaWarning)\n"
     ]
    },
    {
     "name": "stdout",
     "output_type": "stream",
     "text": [
      "6件目のマスキングデータを生成完了\n",
      "7件目のマスキングデータを生成開始\n"
     ]
    },
    {
     "name": "stderr",
     "output_type": "stream",
     "text": [
      "c:\\Users\\YukiYamanaka\\AppData\\Local\\Programs\\Python\\Python311\\Lib\\site-packages\\pydantic\\json_schema.py:2191: PydanticJsonSchemaWarning: Default value default=PydanticUndefined description='マスキング前の文章。「マスキング前の文章:・・・」となっている文章をここのbefore_maskingフィールドに格納する' extra={} is not JSON serializable; excluding default from JSON schema [non-serializable-default]\n",
      "  warnings.warn(message, PydanticJsonSchemaWarning)\n",
      "c:\\Users\\YukiYamanaka\\AppData\\Local\\Programs\\Python\\Python311\\Lib\\site-packages\\pydantic\\json_schema.py:2191: PydanticJsonSchemaWarning: Default value default=PydanticUndefined description='マスキング後の文章。「マスキング後の文章:・・・」となっている文章をここのafter_maskingフィールドに格納する' extra={} is not JSON serializable; excluding default from JSON schema [non-serializable-default]\n",
      "  warnings.warn(message, PydanticJsonSchemaWarning)\n",
      "c:\\Users\\YukiYamanaka\\AppData\\Local\\Programs\\Python\\Python311\\Lib\\site-packages\\pydantic\\json_schema.py:2191: PydanticJsonSchemaWarning: Default value default=PydanticUndefined description='マスキング前の文章。「マスキング前の文章:・・・」となっている文章をここのbefore_maskingフィールドに格納する' extra={} is not JSON serializable; excluding default from JSON schema [non-serializable-default]\n",
      "  warnings.warn(message, PydanticJsonSchemaWarning)\n",
      "c:\\Users\\YukiYamanaka\\AppData\\Local\\Programs\\Python\\Python311\\Lib\\site-packages\\pydantic\\json_schema.py:2191: PydanticJsonSchemaWarning: Default value default=PydanticUndefined description='マスキング後の文章。「マスキング後の文章:・・・」となっている文章をここのafter_maskingフィールドに格納する' extra={} is not JSON serializable; excluding default from JSON schema [non-serializable-default]\n",
      "  warnings.warn(message, PydanticJsonSchemaWarning)\n"
     ]
    },
    {
     "name": "stdout",
     "output_type": "stream",
     "text": [
      "7件目のマスキングデータを生成完了\n",
      "8件目のマスキングデータを生成開始\n"
     ]
    },
    {
     "name": "stderr",
     "output_type": "stream",
     "text": [
      "c:\\Users\\YukiYamanaka\\AppData\\Local\\Programs\\Python\\Python311\\Lib\\site-packages\\pydantic\\json_schema.py:2191: PydanticJsonSchemaWarning: Default value default=PydanticUndefined description='マスキング前の文章。「マスキング前の文章:・・・」となっている文章をここのbefore_maskingフィールドに格納する' extra={} is not JSON serializable; excluding default from JSON schema [non-serializable-default]\n",
      "  warnings.warn(message, PydanticJsonSchemaWarning)\n",
      "c:\\Users\\YukiYamanaka\\AppData\\Local\\Programs\\Python\\Python311\\Lib\\site-packages\\pydantic\\json_schema.py:2191: PydanticJsonSchemaWarning: Default value default=PydanticUndefined description='マスキング後の文章。「マスキング後の文章:・・・」となっている文章をここのafter_maskingフィールドに格納する' extra={} is not JSON serializable; excluding default from JSON schema [non-serializable-default]\n",
      "  warnings.warn(message, PydanticJsonSchemaWarning)\n",
      "c:\\Users\\YukiYamanaka\\AppData\\Local\\Programs\\Python\\Python311\\Lib\\site-packages\\pydantic\\json_schema.py:2191: PydanticJsonSchemaWarning: Default value default=PydanticUndefined description='マスキング前の文章。「マスキング前の文章:・・・」となっている文章をここのbefore_maskingフィールドに格納する' extra={} is not JSON serializable; excluding default from JSON schema [non-serializable-default]\n",
      "  warnings.warn(message, PydanticJsonSchemaWarning)\n",
      "c:\\Users\\YukiYamanaka\\AppData\\Local\\Programs\\Python\\Python311\\Lib\\site-packages\\pydantic\\json_schema.py:2191: PydanticJsonSchemaWarning: Default value default=PydanticUndefined description='マスキング後の文章。「マスキング後の文章:・・・」となっている文章をここのafter_maskingフィールドに格納する' extra={} is not JSON serializable; excluding default from JSON schema [non-serializable-default]\n",
      "  warnings.warn(message, PydanticJsonSchemaWarning)\n"
     ]
    },
    {
     "name": "stdout",
     "output_type": "stream",
     "text": [
      "8件目のマスキングデータを生成完了\n",
      "9件目のマスキングデータを生成開始\n"
     ]
    },
    {
     "name": "stderr",
     "output_type": "stream",
     "text": [
      "c:\\Users\\YukiYamanaka\\AppData\\Local\\Programs\\Python\\Python311\\Lib\\site-packages\\pydantic\\json_schema.py:2191: PydanticJsonSchemaWarning: Default value default=PydanticUndefined description='マスキング前の文章。「マスキング前の文章:・・・」となっている文章をここのbefore_maskingフィールドに格納する' extra={} is not JSON serializable; excluding default from JSON schema [non-serializable-default]\n",
      "  warnings.warn(message, PydanticJsonSchemaWarning)\n",
      "c:\\Users\\YukiYamanaka\\AppData\\Local\\Programs\\Python\\Python311\\Lib\\site-packages\\pydantic\\json_schema.py:2191: PydanticJsonSchemaWarning: Default value default=PydanticUndefined description='マスキング後の文章。「マスキング後の文章:・・・」となっている文章をここのafter_maskingフィールドに格納する' extra={} is not JSON serializable; excluding default from JSON schema [non-serializable-default]\n",
      "  warnings.warn(message, PydanticJsonSchemaWarning)\n",
      "c:\\Users\\YukiYamanaka\\AppData\\Local\\Programs\\Python\\Python311\\Lib\\site-packages\\pydantic\\json_schema.py:2191: PydanticJsonSchemaWarning: Default value default=PydanticUndefined description='マスキング前の文章。「マスキング前の文章:・・・」となっている文章をここのbefore_maskingフィールドに格納する' extra={} is not JSON serializable; excluding default from JSON schema [non-serializable-default]\n",
      "  warnings.warn(message, PydanticJsonSchemaWarning)\n",
      "c:\\Users\\YukiYamanaka\\AppData\\Local\\Programs\\Python\\Python311\\Lib\\site-packages\\pydantic\\json_schema.py:2191: PydanticJsonSchemaWarning: Default value default=PydanticUndefined description='マスキング後の文章。「マスキング後の文章:・・・」となっている文章をここのafter_maskingフィールドに格納する' extra={} is not JSON serializable; excluding default from JSON schema [non-serializable-default]\n",
      "  warnings.warn(message, PydanticJsonSchemaWarning)\n"
     ]
    },
    {
     "name": "stdout",
     "output_type": "stream",
     "text": [
      "9件目のマスキングデータを生成完了\n",
      "10件目のマスキングデータを生成開始\n"
     ]
    },
    {
     "name": "stderr",
     "output_type": "stream",
     "text": [
      "c:\\Users\\YukiYamanaka\\AppData\\Local\\Programs\\Python\\Python311\\Lib\\site-packages\\pydantic\\json_schema.py:2191: PydanticJsonSchemaWarning: Default value default=PydanticUndefined description='マスキング前の文章。「マスキング前の文章:・・・」となっている文章をここのbefore_maskingフィールドに格納する' extra={} is not JSON serializable; excluding default from JSON schema [non-serializable-default]\n",
      "  warnings.warn(message, PydanticJsonSchemaWarning)\n",
      "c:\\Users\\YukiYamanaka\\AppData\\Local\\Programs\\Python\\Python311\\Lib\\site-packages\\pydantic\\json_schema.py:2191: PydanticJsonSchemaWarning: Default value default=PydanticUndefined description='マスキング後の文章。「マスキング後の文章:・・・」となっている文章をここのafter_maskingフィールドに格納する' extra={} is not JSON serializable; excluding default from JSON schema [non-serializable-default]\n",
      "  warnings.warn(message, PydanticJsonSchemaWarning)\n",
      "c:\\Users\\YukiYamanaka\\AppData\\Local\\Programs\\Python\\Python311\\Lib\\site-packages\\pydantic\\json_schema.py:2191: PydanticJsonSchemaWarning: Default value default=PydanticUndefined description='マスキング前の文章。「マスキング前の文章:・・・」となっている文章をここのbefore_maskingフィールドに格納する' extra={} is not JSON serializable; excluding default from JSON schema [non-serializable-default]\n",
      "  warnings.warn(message, PydanticJsonSchemaWarning)\n",
      "c:\\Users\\YukiYamanaka\\AppData\\Local\\Programs\\Python\\Python311\\Lib\\site-packages\\pydantic\\json_schema.py:2191: PydanticJsonSchemaWarning: Default value default=PydanticUndefined description='マスキング後の文章。「マスキング後の文章:・・・」となっている文章をここのafter_maskingフィールドに格納する' extra={} is not JSON serializable; excluding default from JSON schema [non-serializable-default]\n",
      "  warnings.warn(message, PydanticJsonSchemaWarning)\n"
     ]
    },
    {
     "name": "stdout",
     "output_type": "stream",
     "text": [
      "10件目のマスキングデータを生成完了\n",
      "11件目のマスキングデータを生成開始\n"
     ]
    },
    {
     "name": "stderr",
     "output_type": "stream",
     "text": [
      "c:\\Users\\YukiYamanaka\\AppData\\Local\\Programs\\Python\\Python311\\Lib\\site-packages\\pydantic\\json_schema.py:2191: PydanticJsonSchemaWarning: Default value default=PydanticUndefined description='マスキング前の文章。「マスキング前の文章:・・・」となっている文章をここのbefore_maskingフィールドに格納する' extra={} is not JSON serializable; excluding default from JSON schema [non-serializable-default]\n",
      "  warnings.warn(message, PydanticJsonSchemaWarning)\n",
      "c:\\Users\\YukiYamanaka\\AppData\\Local\\Programs\\Python\\Python311\\Lib\\site-packages\\pydantic\\json_schema.py:2191: PydanticJsonSchemaWarning: Default value default=PydanticUndefined description='マスキング後の文章。「マスキング後の文章:・・・」となっている文章をここのafter_maskingフィールドに格納する' extra={} is not JSON serializable; excluding default from JSON schema [non-serializable-default]\n",
      "  warnings.warn(message, PydanticJsonSchemaWarning)\n",
      "c:\\Users\\YukiYamanaka\\AppData\\Local\\Programs\\Python\\Python311\\Lib\\site-packages\\pydantic\\json_schema.py:2191: PydanticJsonSchemaWarning: Default value default=PydanticUndefined description='マスキング前の文章。「マスキング前の文章:・・・」となっている文章をここのbefore_maskingフィールドに格納する' extra={} is not JSON serializable; excluding default from JSON schema [non-serializable-default]\n",
      "  warnings.warn(message, PydanticJsonSchemaWarning)\n",
      "c:\\Users\\YukiYamanaka\\AppData\\Local\\Programs\\Python\\Python311\\Lib\\site-packages\\pydantic\\json_schema.py:2191: PydanticJsonSchemaWarning: Default value default=PydanticUndefined description='マスキング後の文章。「マスキング後の文章:・・・」となっている文章をここのafter_maskingフィールドに格納する' extra={} is not JSON serializable; excluding default from JSON schema [non-serializable-default]\n",
      "  warnings.warn(message, PydanticJsonSchemaWarning)\n"
     ]
    },
    {
     "name": "stdout",
     "output_type": "stream",
     "text": [
      "11件目のマスキングデータを生成完了\n",
      "12件目のマスキングデータを生成開始\n"
     ]
    },
    {
     "name": "stderr",
     "output_type": "stream",
     "text": [
      "c:\\Users\\YukiYamanaka\\AppData\\Local\\Programs\\Python\\Python311\\Lib\\site-packages\\pydantic\\json_schema.py:2191: PydanticJsonSchemaWarning: Default value default=PydanticUndefined description='マスキング前の文章。「マスキング前の文章:・・・」となっている文章をここのbefore_maskingフィールドに格納する' extra={} is not JSON serializable; excluding default from JSON schema [non-serializable-default]\n",
      "  warnings.warn(message, PydanticJsonSchemaWarning)\n",
      "c:\\Users\\YukiYamanaka\\AppData\\Local\\Programs\\Python\\Python311\\Lib\\site-packages\\pydantic\\json_schema.py:2191: PydanticJsonSchemaWarning: Default value default=PydanticUndefined description='マスキング後の文章。「マスキング後の文章:・・・」となっている文章をここのafter_maskingフィールドに格納する' extra={} is not JSON serializable; excluding default from JSON schema [non-serializable-default]\n",
      "  warnings.warn(message, PydanticJsonSchemaWarning)\n",
      "c:\\Users\\YukiYamanaka\\AppData\\Local\\Programs\\Python\\Python311\\Lib\\site-packages\\pydantic\\json_schema.py:2191: PydanticJsonSchemaWarning: Default value default=PydanticUndefined description='マスキング前の文章。「マスキング前の文章:・・・」となっている文章をここのbefore_maskingフィールドに格納する' extra={} is not JSON serializable; excluding default from JSON schema [non-serializable-default]\n",
      "  warnings.warn(message, PydanticJsonSchemaWarning)\n",
      "c:\\Users\\YukiYamanaka\\AppData\\Local\\Programs\\Python\\Python311\\Lib\\site-packages\\pydantic\\json_schema.py:2191: PydanticJsonSchemaWarning: Default value default=PydanticUndefined description='マスキング後の文章。「マスキング後の文章:・・・」となっている文章をここのafter_maskingフィールドに格納する' extra={} is not JSON serializable; excluding default from JSON schema [non-serializable-default]\n",
      "  warnings.warn(message, PydanticJsonSchemaWarning)\n"
     ]
    },
    {
     "name": "stdout",
     "output_type": "stream",
     "text": [
      "12件目のマスキングデータを生成完了\n",
      "13件目のマスキングデータを生成開始\n"
     ]
    },
    {
     "name": "stderr",
     "output_type": "stream",
     "text": [
      "c:\\Users\\YukiYamanaka\\AppData\\Local\\Programs\\Python\\Python311\\Lib\\site-packages\\pydantic\\json_schema.py:2191: PydanticJsonSchemaWarning: Default value default=PydanticUndefined description='マスキング前の文章。「マスキング前の文章:・・・」となっている文章をここのbefore_maskingフィールドに格納する' extra={} is not JSON serializable; excluding default from JSON schema [non-serializable-default]\n",
      "  warnings.warn(message, PydanticJsonSchemaWarning)\n",
      "c:\\Users\\YukiYamanaka\\AppData\\Local\\Programs\\Python\\Python311\\Lib\\site-packages\\pydantic\\json_schema.py:2191: PydanticJsonSchemaWarning: Default value default=PydanticUndefined description='マスキング後の文章。「マスキング後の文章:・・・」となっている文章をここのafter_maskingフィールドに格納する' extra={} is not JSON serializable; excluding default from JSON schema [non-serializable-default]\n",
      "  warnings.warn(message, PydanticJsonSchemaWarning)\n",
      "c:\\Users\\YukiYamanaka\\AppData\\Local\\Programs\\Python\\Python311\\Lib\\site-packages\\pydantic\\json_schema.py:2191: PydanticJsonSchemaWarning: Default value default=PydanticUndefined description='マスキング前の文章。「マスキング前の文章:・・・」となっている文章をここのbefore_maskingフィールドに格納する' extra={} is not JSON serializable; excluding default from JSON schema [non-serializable-default]\n",
      "  warnings.warn(message, PydanticJsonSchemaWarning)\n",
      "c:\\Users\\YukiYamanaka\\AppData\\Local\\Programs\\Python\\Python311\\Lib\\site-packages\\pydantic\\json_schema.py:2191: PydanticJsonSchemaWarning: Default value default=PydanticUndefined description='マスキング後の文章。「マスキング後の文章:・・・」となっている文章をここのafter_maskingフィールドに格納する' extra={} is not JSON serializable; excluding default from JSON schema [non-serializable-default]\n",
      "  warnings.warn(message, PydanticJsonSchemaWarning)\n"
     ]
    },
    {
     "name": "stdout",
     "output_type": "stream",
     "text": [
      "13件目のマスキングデータを生成完了\n",
      "14件目のマスキングデータを生成開始\n"
     ]
    },
    {
     "name": "stderr",
     "output_type": "stream",
     "text": [
      "c:\\Users\\YukiYamanaka\\AppData\\Local\\Programs\\Python\\Python311\\Lib\\site-packages\\pydantic\\json_schema.py:2191: PydanticJsonSchemaWarning: Default value default=PydanticUndefined description='マスキング前の文章。「マスキング前の文章:・・・」となっている文章をここのbefore_maskingフィールドに格納する' extra={} is not JSON serializable; excluding default from JSON schema [non-serializable-default]\n",
      "  warnings.warn(message, PydanticJsonSchemaWarning)\n",
      "c:\\Users\\YukiYamanaka\\AppData\\Local\\Programs\\Python\\Python311\\Lib\\site-packages\\pydantic\\json_schema.py:2191: PydanticJsonSchemaWarning: Default value default=PydanticUndefined description='マスキング後の文章。「マスキング後の文章:・・・」となっている文章をここのafter_maskingフィールドに格納する' extra={} is not JSON serializable; excluding default from JSON schema [non-serializable-default]\n",
      "  warnings.warn(message, PydanticJsonSchemaWarning)\n",
      "c:\\Users\\YukiYamanaka\\AppData\\Local\\Programs\\Python\\Python311\\Lib\\site-packages\\pydantic\\json_schema.py:2191: PydanticJsonSchemaWarning: Default value default=PydanticUndefined description='マスキング前の文章。「マスキング前の文章:・・・」となっている文章をここのbefore_maskingフィールドに格納する' extra={} is not JSON serializable; excluding default from JSON schema [non-serializable-default]\n",
      "  warnings.warn(message, PydanticJsonSchemaWarning)\n",
      "c:\\Users\\YukiYamanaka\\AppData\\Local\\Programs\\Python\\Python311\\Lib\\site-packages\\pydantic\\json_schema.py:2191: PydanticJsonSchemaWarning: Default value default=PydanticUndefined description='マスキング後の文章。「マスキング後の文章:・・・」となっている文章をここのafter_maskingフィールドに格納する' extra={} is not JSON serializable; excluding default from JSON schema [non-serializable-default]\n",
      "  warnings.warn(message, PydanticJsonSchemaWarning)\n"
     ]
    },
    {
     "name": "stdout",
     "output_type": "stream",
     "text": [
      "14件目のマスキングデータを生成完了\n",
      "15件目のマスキングデータを生成開始\n"
     ]
    },
    {
     "name": "stderr",
     "output_type": "stream",
     "text": [
      "c:\\Users\\YukiYamanaka\\AppData\\Local\\Programs\\Python\\Python311\\Lib\\site-packages\\pydantic\\json_schema.py:2191: PydanticJsonSchemaWarning: Default value default=PydanticUndefined description='マスキング前の文章。「マスキング前の文章:・・・」となっている文章をここのbefore_maskingフィールドに格納する' extra={} is not JSON serializable; excluding default from JSON schema [non-serializable-default]\n",
      "  warnings.warn(message, PydanticJsonSchemaWarning)\n",
      "c:\\Users\\YukiYamanaka\\AppData\\Local\\Programs\\Python\\Python311\\Lib\\site-packages\\pydantic\\json_schema.py:2191: PydanticJsonSchemaWarning: Default value default=PydanticUndefined description='マスキング後の文章。「マスキング後の文章:・・・」となっている文章をここのafter_maskingフィールドに格納する' extra={} is not JSON serializable; excluding default from JSON schema [non-serializable-default]\n",
      "  warnings.warn(message, PydanticJsonSchemaWarning)\n",
      "c:\\Users\\YukiYamanaka\\AppData\\Local\\Programs\\Python\\Python311\\Lib\\site-packages\\pydantic\\json_schema.py:2191: PydanticJsonSchemaWarning: Default value default=PydanticUndefined description='マスキング前の文章。「マスキング前の文章:・・・」となっている文章をここのbefore_maskingフィールドに格納する' extra={} is not JSON serializable; excluding default from JSON schema [non-serializable-default]\n",
      "  warnings.warn(message, PydanticJsonSchemaWarning)\n",
      "c:\\Users\\YukiYamanaka\\AppData\\Local\\Programs\\Python\\Python311\\Lib\\site-packages\\pydantic\\json_schema.py:2191: PydanticJsonSchemaWarning: Default value default=PydanticUndefined description='マスキング後の文章。「マスキング後の文章:・・・」となっている文章をここのafter_maskingフィールドに格納する' extra={} is not JSON serializable; excluding default from JSON schema [non-serializable-default]\n",
      "  warnings.warn(message, PydanticJsonSchemaWarning)\n"
     ]
    },
    {
     "name": "stdout",
     "output_type": "stream",
     "text": [
      "15件目のマスキングデータを生成完了\n",
      "16件目のマスキングデータを生成開始\n"
     ]
    },
    {
     "name": "stderr",
     "output_type": "stream",
     "text": [
      "c:\\Users\\YukiYamanaka\\AppData\\Local\\Programs\\Python\\Python311\\Lib\\site-packages\\pydantic\\json_schema.py:2191: PydanticJsonSchemaWarning: Default value default=PydanticUndefined description='マスキング前の文章。「マスキング前の文章:・・・」となっている文章をここのbefore_maskingフィールドに格納する' extra={} is not JSON serializable; excluding default from JSON schema [non-serializable-default]\n",
      "  warnings.warn(message, PydanticJsonSchemaWarning)\n",
      "c:\\Users\\YukiYamanaka\\AppData\\Local\\Programs\\Python\\Python311\\Lib\\site-packages\\pydantic\\json_schema.py:2191: PydanticJsonSchemaWarning: Default value default=PydanticUndefined description='マスキング後の文章。「マスキング後の文章:・・・」となっている文章をここのafter_maskingフィールドに格納する' extra={} is not JSON serializable; excluding default from JSON schema [non-serializable-default]\n",
      "  warnings.warn(message, PydanticJsonSchemaWarning)\n",
      "c:\\Users\\YukiYamanaka\\AppData\\Local\\Programs\\Python\\Python311\\Lib\\site-packages\\pydantic\\json_schema.py:2191: PydanticJsonSchemaWarning: Default value default=PydanticUndefined description='マスキング前の文章。「マスキング前の文章:・・・」となっている文章をここのbefore_maskingフィールドに格納する' extra={} is not JSON serializable; excluding default from JSON schema [non-serializable-default]\n",
      "  warnings.warn(message, PydanticJsonSchemaWarning)\n",
      "c:\\Users\\YukiYamanaka\\AppData\\Local\\Programs\\Python\\Python311\\Lib\\site-packages\\pydantic\\json_schema.py:2191: PydanticJsonSchemaWarning: Default value default=PydanticUndefined description='マスキング後の文章。「マスキング後の文章:・・・」となっている文章をここのafter_maskingフィールドに格納する' extra={} is not JSON serializable; excluding default from JSON schema [non-serializable-default]\n",
      "  warnings.warn(message, PydanticJsonSchemaWarning)\n"
     ]
    },
    {
     "name": "stdout",
     "output_type": "stream",
     "text": [
      "16件目のマスキングデータを生成完了\n",
      "17件目のマスキングデータを生成開始\n"
     ]
    },
    {
     "name": "stderr",
     "output_type": "stream",
     "text": [
      "c:\\Users\\YukiYamanaka\\AppData\\Local\\Programs\\Python\\Python311\\Lib\\site-packages\\pydantic\\json_schema.py:2191: PydanticJsonSchemaWarning: Default value default=PydanticUndefined description='マスキング前の文章。「マスキング前の文章:・・・」となっている文章をここのbefore_maskingフィールドに格納する' extra={} is not JSON serializable; excluding default from JSON schema [non-serializable-default]\n",
      "  warnings.warn(message, PydanticJsonSchemaWarning)\n",
      "c:\\Users\\YukiYamanaka\\AppData\\Local\\Programs\\Python\\Python311\\Lib\\site-packages\\pydantic\\json_schema.py:2191: PydanticJsonSchemaWarning: Default value default=PydanticUndefined description='マスキング後の文章。「マスキング後の文章:・・・」となっている文章をここのafter_maskingフィールドに格納する' extra={} is not JSON serializable; excluding default from JSON schema [non-serializable-default]\n",
      "  warnings.warn(message, PydanticJsonSchemaWarning)\n",
      "c:\\Users\\YukiYamanaka\\AppData\\Local\\Programs\\Python\\Python311\\Lib\\site-packages\\pydantic\\json_schema.py:2191: PydanticJsonSchemaWarning: Default value default=PydanticUndefined description='マスキング前の文章。「マスキング前の文章:・・・」となっている文章をここのbefore_maskingフィールドに格納する' extra={} is not JSON serializable; excluding default from JSON schema [non-serializable-default]\n",
      "  warnings.warn(message, PydanticJsonSchemaWarning)\n",
      "c:\\Users\\YukiYamanaka\\AppData\\Local\\Programs\\Python\\Python311\\Lib\\site-packages\\pydantic\\json_schema.py:2191: PydanticJsonSchemaWarning: Default value default=PydanticUndefined description='マスキング後の文章。「マスキング後の文章:・・・」となっている文章をここのafter_maskingフィールドに格納する' extra={} is not JSON serializable; excluding default from JSON schema [non-serializable-default]\n",
      "  warnings.warn(message, PydanticJsonSchemaWarning)\n"
     ]
    },
    {
     "name": "stdout",
     "output_type": "stream",
     "text": [
      "17件目のマスキングデータを生成完了\n",
      "18件目のマスキングデータを生成開始\n"
     ]
    },
    {
     "name": "stderr",
     "output_type": "stream",
     "text": [
      "c:\\Users\\YukiYamanaka\\AppData\\Local\\Programs\\Python\\Python311\\Lib\\site-packages\\pydantic\\json_schema.py:2191: PydanticJsonSchemaWarning: Default value default=PydanticUndefined description='マスキング前の文章。「マスキング前の文章:・・・」となっている文章をここのbefore_maskingフィールドに格納する' extra={} is not JSON serializable; excluding default from JSON schema [non-serializable-default]\n",
      "  warnings.warn(message, PydanticJsonSchemaWarning)\n",
      "c:\\Users\\YukiYamanaka\\AppData\\Local\\Programs\\Python\\Python311\\Lib\\site-packages\\pydantic\\json_schema.py:2191: PydanticJsonSchemaWarning: Default value default=PydanticUndefined description='マスキング後の文章。「マスキング後の文章:・・・」となっている文章をここのafter_maskingフィールドに格納する' extra={} is not JSON serializable; excluding default from JSON schema [non-serializable-default]\n",
      "  warnings.warn(message, PydanticJsonSchemaWarning)\n",
      "c:\\Users\\YukiYamanaka\\AppData\\Local\\Programs\\Python\\Python311\\Lib\\site-packages\\pydantic\\json_schema.py:2191: PydanticJsonSchemaWarning: Default value default=PydanticUndefined description='マスキング前の文章。「マスキング前の文章:・・・」となっている文章をここのbefore_maskingフィールドに格納する' extra={} is not JSON serializable; excluding default from JSON schema [non-serializable-default]\n",
      "  warnings.warn(message, PydanticJsonSchemaWarning)\n",
      "c:\\Users\\YukiYamanaka\\AppData\\Local\\Programs\\Python\\Python311\\Lib\\site-packages\\pydantic\\json_schema.py:2191: PydanticJsonSchemaWarning: Default value default=PydanticUndefined description='マスキング後の文章。「マスキング後の文章:・・・」となっている文章をここのafter_maskingフィールドに格納する' extra={} is not JSON serializable; excluding default from JSON schema [non-serializable-default]\n",
      "  warnings.warn(message, PydanticJsonSchemaWarning)\n"
     ]
    },
    {
     "name": "stdout",
     "output_type": "stream",
     "text": [
      "18件目のマスキングデータを生成完了\n",
      "19件目のマスキングデータを生成開始\n"
     ]
    },
    {
     "name": "stderr",
     "output_type": "stream",
     "text": [
      "c:\\Users\\YukiYamanaka\\AppData\\Local\\Programs\\Python\\Python311\\Lib\\site-packages\\pydantic\\json_schema.py:2191: PydanticJsonSchemaWarning: Default value default=PydanticUndefined description='マスキング前の文章。「マスキング前の文章:・・・」となっている文章をここのbefore_maskingフィールドに格納する' extra={} is not JSON serializable; excluding default from JSON schema [non-serializable-default]\n",
      "  warnings.warn(message, PydanticJsonSchemaWarning)\n",
      "c:\\Users\\YukiYamanaka\\AppData\\Local\\Programs\\Python\\Python311\\Lib\\site-packages\\pydantic\\json_schema.py:2191: PydanticJsonSchemaWarning: Default value default=PydanticUndefined description='マスキング後の文章。「マスキング後の文章:・・・」となっている文章をここのafter_maskingフィールドに格納する' extra={} is not JSON serializable; excluding default from JSON schema [non-serializable-default]\n",
      "  warnings.warn(message, PydanticJsonSchemaWarning)\n",
      "c:\\Users\\YukiYamanaka\\AppData\\Local\\Programs\\Python\\Python311\\Lib\\site-packages\\pydantic\\json_schema.py:2191: PydanticJsonSchemaWarning: Default value default=PydanticUndefined description='マスキング前の文章。「マスキング前の文章:・・・」となっている文章をここのbefore_maskingフィールドに格納する' extra={} is not JSON serializable; excluding default from JSON schema [non-serializable-default]\n",
      "  warnings.warn(message, PydanticJsonSchemaWarning)\n",
      "c:\\Users\\YukiYamanaka\\AppData\\Local\\Programs\\Python\\Python311\\Lib\\site-packages\\pydantic\\json_schema.py:2191: PydanticJsonSchemaWarning: Default value default=PydanticUndefined description='マスキング後の文章。「マスキング後の文章:・・・」となっている文章をここのafter_maskingフィールドに格納する' extra={} is not JSON serializable; excluding default from JSON schema [non-serializable-default]\n",
      "  warnings.warn(message, PydanticJsonSchemaWarning)\n"
     ]
    },
    {
     "name": "stdout",
     "output_type": "stream",
     "text": [
      "19件目のマスキングデータを生成完了\n",
      "20件目のマスキングデータを生成開始\n"
     ]
    },
    {
     "name": "stderr",
     "output_type": "stream",
     "text": [
      "c:\\Users\\YukiYamanaka\\AppData\\Local\\Programs\\Python\\Python311\\Lib\\site-packages\\pydantic\\json_schema.py:2191: PydanticJsonSchemaWarning: Default value default=PydanticUndefined description='マスキング前の文章。「マスキング前の文章:・・・」となっている文章をここのbefore_maskingフィールドに格納する' extra={} is not JSON serializable; excluding default from JSON schema [non-serializable-default]\n",
      "  warnings.warn(message, PydanticJsonSchemaWarning)\n",
      "c:\\Users\\YukiYamanaka\\AppData\\Local\\Programs\\Python\\Python311\\Lib\\site-packages\\pydantic\\json_schema.py:2191: PydanticJsonSchemaWarning: Default value default=PydanticUndefined description='マスキング後の文章。「マスキング後の文章:・・・」となっている文章をここのafter_maskingフィールドに格納する' extra={} is not JSON serializable; excluding default from JSON schema [non-serializable-default]\n",
      "  warnings.warn(message, PydanticJsonSchemaWarning)\n",
      "c:\\Users\\YukiYamanaka\\AppData\\Local\\Programs\\Python\\Python311\\Lib\\site-packages\\pydantic\\json_schema.py:2191: PydanticJsonSchemaWarning: Default value default=PydanticUndefined description='マスキング前の文章。「マスキング前の文章:・・・」となっている文章をここのbefore_maskingフィールドに格納する' extra={} is not JSON serializable; excluding default from JSON schema [non-serializable-default]\n",
      "  warnings.warn(message, PydanticJsonSchemaWarning)\n",
      "c:\\Users\\YukiYamanaka\\AppData\\Local\\Programs\\Python\\Python311\\Lib\\site-packages\\pydantic\\json_schema.py:2191: PydanticJsonSchemaWarning: Default value default=PydanticUndefined description='マスキング後の文章。「マスキング後の文章:・・・」となっている文章をここのafter_maskingフィールドに格納する' extra={} is not JSON serializable; excluding default from JSON schema [non-serializable-default]\n",
      "  warnings.warn(message, PydanticJsonSchemaWarning)\n"
     ]
    },
    {
     "name": "stdout",
     "output_type": "stream",
     "text": [
      "20件目のマスキングデータを生成完了\n",
      "21件目のマスキングデータを生成開始\n"
     ]
    },
    {
     "name": "stderr",
     "output_type": "stream",
     "text": [
      "c:\\Users\\YukiYamanaka\\AppData\\Local\\Programs\\Python\\Python311\\Lib\\site-packages\\pydantic\\json_schema.py:2191: PydanticJsonSchemaWarning: Default value default=PydanticUndefined description='マスキング前の文章。「マスキング前の文章:・・・」となっている文章をここのbefore_maskingフィールドに格納する' extra={} is not JSON serializable; excluding default from JSON schema [non-serializable-default]\n",
      "  warnings.warn(message, PydanticJsonSchemaWarning)\n",
      "c:\\Users\\YukiYamanaka\\AppData\\Local\\Programs\\Python\\Python311\\Lib\\site-packages\\pydantic\\json_schema.py:2191: PydanticJsonSchemaWarning: Default value default=PydanticUndefined description='マスキング後の文章。「マスキング後の文章:・・・」となっている文章をここのafter_maskingフィールドに格納する' extra={} is not JSON serializable; excluding default from JSON schema [non-serializable-default]\n",
      "  warnings.warn(message, PydanticJsonSchemaWarning)\n",
      "c:\\Users\\YukiYamanaka\\AppData\\Local\\Programs\\Python\\Python311\\Lib\\site-packages\\pydantic\\json_schema.py:2191: PydanticJsonSchemaWarning: Default value default=PydanticUndefined description='マスキング前の文章。「マスキング前の文章:・・・」となっている文章をここのbefore_maskingフィールドに格納する' extra={} is not JSON serializable; excluding default from JSON schema [non-serializable-default]\n",
      "  warnings.warn(message, PydanticJsonSchemaWarning)\n",
      "c:\\Users\\YukiYamanaka\\AppData\\Local\\Programs\\Python\\Python311\\Lib\\site-packages\\pydantic\\json_schema.py:2191: PydanticJsonSchemaWarning: Default value default=PydanticUndefined description='マスキング後の文章。「マスキング後の文章:・・・」となっている文章をここのafter_maskingフィールドに格納する' extra={} is not JSON serializable; excluding default from JSON schema [non-serializable-default]\n",
      "  warnings.warn(message, PydanticJsonSchemaWarning)\n"
     ]
    },
    {
     "name": "stdout",
     "output_type": "stream",
     "text": [
      "21件目のマスキングデータを生成完了\n",
      "22件目のマスキングデータを生成開始\n"
     ]
    },
    {
     "name": "stderr",
     "output_type": "stream",
     "text": [
      "c:\\Users\\YukiYamanaka\\AppData\\Local\\Programs\\Python\\Python311\\Lib\\site-packages\\pydantic\\json_schema.py:2191: PydanticJsonSchemaWarning: Default value default=PydanticUndefined description='マスキング前の文章。「マスキング前の文章:・・・」となっている文章をここのbefore_maskingフィールドに格納する' extra={} is not JSON serializable; excluding default from JSON schema [non-serializable-default]\n",
      "  warnings.warn(message, PydanticJsonSchemaWarning)\n",
      "c:\\Users\\YukiYamanaka\\AppData\\Local\\Programs\\Python\\Python311\\Lib\\site-packages\\pydantic\\json_schema.py:2191: PydanticJsonSchemaWarning: Default value default=PydanticUndefined description='マスキング後の文章。「マスキング後の文章:・・・」となっている文章をここのafter_maskingフィールドに格納する' extra={} is not JSON serializable; excluding default from JSON schema [non-serializable-default]\n",
      "  warnings.warn(message, PydanticJsonSchemaWarning)\n",
      "c:\\Users\\YukiYamanaka\\AppData\\Local\\Programs\\Python\\Python311\\Lib\\site-packages\\pydantic\\json_schema.py:2191: PydanticJsonSchemaWarning: Default value default=PydanticUndefined description='マスキング前の文章。「マスキング前の文章:・・・」となっている文章をここのbefore_maskingフィールドに格納する' extra={} is not JSON serializable; excluding default from JSON schema [non-serializable-default]\n",
      "  warnings.warn(message, PydanticJsonSchemaWarning)\n",
      "c:\\Users\\YukiYamanaka\\AppData\\Local\\Programs\\Python\\Python311\\Lib\\site-packages\\pydantic\\json_schema.py:2191: PydanticJsonSchemaWarning: Default value default=PydanticUndefined description='マスキング後の文章。「マスキング後の文章:・・・」となっている文章をここのafter_maskingフィールドに格納する' extra={} is not JSON serializable; excluding default from JSON schema [non-serializable-default]\n",
      "  warnings.warn(message, PydanticJsonSchemaWarning)\n"
     ]
    },
    {
     "name": "stdout",
     "output_type": "stream",
     "text": [
      "22件目のマスキングデータを生成完了\n",
      "23件目のマスキングデータを生成開始\n"
     ]
    },
    {
     "name": "stderr",
     "output_type": "stream",
     "text": [
      "c:\\Users\\YukiYamanaka\\AppData\\Local\\Programs\\Python\\Python311\\Lib\\site-packages\\pydantic\\json_schema.py:2191: PydanticJsonSchemaWarning: Default value default=PydanticUndefined description='マスキング前の文章。「マスキング前の文章:・・・」となっている文章をここのbefore_maskingフィールドに格納する' extra={} is not JSON serializable; excluding default from JSON schema [non-serializable-default]\n",
      "  warnings.warn(message, PydanticJsonSchemaWarning)\n",
      "c:\\Users\\YukiYamanaka\\AppData\\Local\\Programs\\Python\\Python311\\Lib\\site-packages\\pydantic\\json_schema.py:2191: PydanticJsonSchemaWarning: Default value default=PydanticUndefined description='マスキング後の文章。「マスキング後の文章:・・・」となっている文章をここのafter_maskingフィールドに格納する' extra={} is not JSON serializable; excluding default from JSON schema [non-serializable-default]\n",
      "  warnings.warn(message, PydanticJsonSchemaWarning)\n",
      "c:\\Users\\YukiYamanaka\\AppData\\Local\\Programs\\Python\\Python311\\Lib\\site-packages\\pydantic\\json_schema.py:2191: PydanticJsonSchemaWarning: Default value default=PydanticUndefined description='マスキング前の文章。「マスキング前の文章:・・・」となっている文章をここのbefore_maskingフィールドに格納する' extra={} is not JSON serializable; excluding default from JSON schema [non-serializable-default]\n",
      "  warnings.warn(message, PydanticJsonSchemaWarning)\n",
      "c:\\Users\\YukiYamanaka\\AppData\\Local\\Programs\\Python\\Python311\\Lib\\site-packages\\pydantic\\json_schema.py:2191: PydanticJsonSchemaWarning: Default value default=PydanticUndefined description='マスキング後の文章。「マスキング後の文章:・・・」となっている文章をここのafter_maskingフィールドに格納する' extra={} is not JSON serializable; excluding default from JSON schema [non-serializable-default]\n",
      "  warnings.warn(message, PydanticJsonSchemaWarning)\n"
     ]
    },
    {
     "name": "stdout",
     "output_type": "stream",
     "text": [
      "23件目のマスキングデータを生成完了\n",
      "24件目のマスキングデータを生成開始\n"
     ]
    },
    {
     "name": "stderr",
     "output_type": "stream",
     "text": [
      "c:\\Users\\YukiYamanaka\\AppData\\Local\\Programs\\Python\\Python311\\Lib\\site-packages\\pydantic\\json_schema.py:2191: PydanticJsonSchemaWarning: Default value default=PydanticUndefined description='マスキング前の文章。「マスキング前の文章:・・・」となっている文章をここのbefore_maskingフィールドに格納する' extra={} is not JSON serializable; excluding default from JSON schema [non-serializable-default]\n",
      "  warnings.warn(message, PydanticJsonSchemaWarning)\n",
      "c:\\Users\\YukiYamanaka\\AppData\\Local\\Programs\\Python\\Python311\\Lib\\site-packages\\pydantic\\json_schema.py:2191: PydanticJsonSchemaWarning: Default value default=PydanticUndefined description='マスキング後の文章。「マスキング後の文章:・・・」となっている文章をここのafter_maskingフィールドに格納する' extra={} is not JSON serializable; excluding default from JSON schema [non-serializable-default]\n",
      "  warnings.warn(message, PydanticJsonSchemaWarning)\n",
      "c:\\Users\\YukiYamanaka\\AppData\\Local\\Programs\\Python\\Python311\\Lib\\site-packages\\pydantic\\json_schema.py:2191: PydanticJsonSchemaWarning: Default value default=PydanticUndefined description='マスキング前の文章。「マスキング前の文章:・・・」となっている文章をここのbefore_maskingフィールドに格納する' extra={} is not JSON serializable; excluding default from JSON schema [non-serializable-default]\n",
      "  warnings.warn(message, PydanticJsonSchemaWarning)\n",
      "c:\\Users\\YukiYamanaka\\AppData\\Local\\Programs\\Python\\Python311\\Lib\\site-packages\\pydantic\\json_schema.py:2191: PydanticJsonSchemaWarning: Default value default=PydanticUndefined description='マスキング後の文章。「マスキング後の文章:・・・」となっている文章をここのafter_maskingフィールドに格納する' extra={} is not JSON serializable; excluding default from JSON schema [non-serializable-default]\n",
      "  warnings.warn(message, PydanticJsonSchemaWarning)\n"
     ]
    },
    {
     "name": "stdout",
     "output_type": "stream",
     "text": [
      "24件目のマスキングデータを生成完了\n",
      "25件目のマスキングデータを生成開始\n"
     ]
    },
    {
     "name": "stderr",
     "output_type": "stream",
     "text": [
      "c:\\Users\\YukiYamanaka\\AppData\\Local\\Programs\\Python\\Python311\\Lib\\site-packages\\pydantic\\json_schema.py:2191: PydanticJsonSchemaWarning: Default value default=PydanticUndefined description='マスキング前の文章。「マスキング前の文章:・・・」となっている文章をここのbefore_maskingフィールドに格納する' extra={} is not JSON serializable; excluding default from JSON schema [non-serializable-default]\n",
      "  warnings.warn(message, PydanticJsonSchemaWarning)\n",
      "c:\\Users\\YukiYamanaka\\AppData\\Local\\Programs\\Python\\Python311\\Lib\\site-packages\\pydantic\\json_schema.py:2191: PydanticJsonSchemaWarning: Default value default=PydanticUndefined description='マスキング後の文章。「マスキング後の文章:・・・」となっている文章をここのafter_maskingフィールドに格納する' extra={} is not JSON serializable; excluding default from JSON schema [non-serializable-default]\n",
      "  warnings.warn(message, PydanticJsonSchemaWarning)\n",
      "c:\\Users\\YukiYamanaka\\AppData\\Local\\Programs\\Python\\Python311\\Lib\\site-packages\\pydantic\\json_schema.py:2191: PydanticJsonSchemaWarning: Default value default=PydanticUndefined description='マスキング前の文章。「マスキング前の文章:・・・」となっている文章をここのbefore_maskingフィールドに格納する' extra={} is not JSON serializable; excluding default from JSON schema [non-serializable-default]\n",
      "  warnings.warn(message, PydanticJsonSchemaWarning)\n",
      "c:\\Users\\YukiYamanaka\\AppData\\Local\\Programs\\Python\\Python311\\Lib\\site-packages\\pydantic\\json_schema.py:2191: PydanticJsonSchemaWarning: Default value default=PydanticUndefined description='マスキング後の文章。「マスキング後の文章:・・・」となっている文章をここのafter_maskingフィールドに格納する' extra={} is not JSON serializable; excluding default from JSON schema [non-serializable-default]\n",
      "  warnings.warn(message, PydanticJsonSchemaWarning)\n"
     ]
    },
    {
     "name": "stdout",
     "output_type": "stream",
     "text": [
      "25件目のマスキングデータを生成完了\n",
      "26件目のマスキングデータを生成開始\n"
     ]
    },
    {
     "name": "stderr",
     "output_type": "stream",
     "text": [
      "c:\\Users\\YukiYamanaka\\AppData\\Local\\Programs\\Python\\Python311\\Lib\\site-packages\\pydantic\\json_schema.py:2191: PydanticJsonSchemaWarning: Default value default=PydanticUndefined description='マスキング前の文章。「マスキング前の文章:・・・」となっている文章をここのbefore_maskingフィールドに格納する' extra={} is not JSON serializable; excluding default from JSON schema [non-serializable-default]\n",
      "  warnings.warn(message, PydanticJsonSchemaWarning)\n",
      "c:\\Users\\YukiYamanaka\\AppData\\Local\\Programs\\Python\\Python311\\Lib\\site-packages\\pydantic\\json_schema.py:2191: PydanticJsonSchemaWarning: Default value default=PydanticUndefined description='マスキング後の文章。「マスキング後の文章:・・・」となっている文章をここのafter_maskingフィールドに格納する' extra={} is not JSON serializable; excluding default from JSON schema [non-serializable-default]\n",
      "  warnings.warn(message, PydanticJsonSchemaWarning)\n",
      "c:\\Users\\YukiYamanaka\\AppData\\Local\\Programs\\Python\\Python311\\Lib\\site-packages\\pydantic\\json_schema.py:2191: PydanticJsonSchemaWarning: Default value default=PydanticUndefined description='マスキング前の文章。「マスキング前の文章:・・・」となっている文章をここのbefore_maskingフィールドに格納する' extra={} is not JSON serializable; excluding default from JSON schema [non-serializable-default]\n",
      "  warnings.warn(message, PydanticJsonSchemaWarning)\n",
      "c:\\Users\\YukiYamanaka\\AppData\\Local\\Programs\\Python\\Python311\\Lib\\site-packages\\pydantic\\json_schema.py:2191: PydanticJsonSchemaWarning: Default value default=PydanticUndefined description='マスキング後の文章。「マスキング後の文章:・・・」となっている文章をここのafter_maskingフィールドに格納する' extra={} is not JSON serializable; excluding default from JSON schema [non-serializable-default]\n",
      "  warnings.warn(message, PydanticJsonSchemaWarning)\n"
     ]
    },
    {
     "name": "stdout",
     "output_type": "stream",
     "text": [
      "26件目のマスキングデータを生成完了\n",
      "27件目のマスキングデータを生成開始\n"
     ]
    },
    {
     "name": "stderr",
     "output_type": "stream",
     "text": [
      "c:\\Users\\YukiYamanaka\\AppData\\Local\\Programs\\Python\\Python311\\Lib\\site-packages\\pydantic\\json_schema.py:2191: PydanticJsonSchemaWarning: Default value default=PydanticUndefined description='マスキング前の文章。「マスキング前の文章:・・・」となっている文章をここのbefore_maskingフィールドに格納する' extra={} is not JSON serializable; excluding default from JSON schema [non-serializable-default]\n",
      "  warnings.warn(message, PydanticJsonSchemaWarning)\n",
      "c:\\Users\\YukiYamanaka\\AppData\\Local\\Programs\\Python\\Python311\\Lib\\site-packages\\pydantic\\json_schema.py:2191: PydanticJsonSchemaWarning: Default value default=PydanticUndefined description='マスキング後の文章。「マスキング後の文章:・・・」となっている文章をここのafter_maskingフィールドに格納する' extra={} is not JSON serializable; excluding default from JSON schema [non-serializable-default]\n",
      "  warnings.warn(message, PydanticJsonSchemaWarning)\n",
      "c:\\Users\\YukiYamanaka\\AppData\\Local\\Programs\\Python\\Python311\\Lib\\site-packages\\pydantic\\json_schema.py:2191: PydanticJsonSchemaWarning: Default value default=PydanticUndefined description='マスキング前の文章。「マスキング前の文章:・・・」となっている文章をここのbefore_maskingフィールドに格納する' extra={} is not JSON serializable; excluding default from JSON schema [non-serializable-default]\n",
      "  warnings.warn(message, PydanticJsonSchemaWarning)\n",
      "c:\\Users\\YukiYamanaka\\AppData\\Local\\Programs\\Python\\Python311\\Lib\\site-packages\\pydantic\\json_schema.py:2191: PydanticJsonSchemaWarning: Default value default=PydanticUndefined description='マスキング後の文章。「マスキング後の文章:・・・」となっている文章をここのafter_maskingフィールドに格納する' extra={} is not JSON serializable; excluding default from JSON schema [non-serializable-default]\n",
      "  warnings.warn(message, PydanticJsonSchemaWarning)\n"
     ]
    },
    {
     "name": "stdout",
     "output_type": "stream",
     "text": [
      "27件目のマスキングデータを生成完了\n",
      "28件目のマスキングデータを生成開始\n"
     ]
    },
    {
     "name": "stderr",
     "output_type": "stream",
     "text": [
      "c:\\Users\\YukiYamanaka\\AppData\\Local\\Programs\\Python\\Python311\\Lib\\site-packages\\pydantic\\json_schema.py:2191: PydanticJsonSchemaWarning: Default value default=PydanticUndefined description='マスキング前の文章。「マスキング前の文章:・・・」となっている文章をここのbefore_maskingフィールドに格納する' extra={} is not JSON serializable; excluding default from JSON schema [non-serializable-default]\n",
      "  warnings.warn(message, PydanticJsonSchemaWarning)\n",
      "c:\\Users\\YukiYamanaka\\AppData\\Local\\Programs\\Python\\Python311\\Lib\\site-packages\\pydantic\\json_schema.py:2191: PydanticJsonSchemaWarning: Default value default=PydanticUndefined description='マスキング後の文章。「マスキング後の文章:・・・」となっている文章をここのafter_maskingフィールドに格納する' extra={} is not JSON serializable; excluding default from JSON schema [non-serializable-default]\n",
      "  warnings.warn(message, PydanticJsonSchemaWarning)\n",
      "c:\\Users\\YukiYamanaka\\AppData\\Local\\Programs\\Python\\Python311\\Lib\\site-packages\\pydantic\\json_schema.py:2191: PydanticJsonSchemaWarning: Default value default=PydanticUndefined description='マスキング前の文章。「マスキング前の文章:・・・」となっている文章をここのbefore_maskingフィールドに格納する' extra={} is not JSON serializable; excluding default from JSON schema [non-serializable-default]\n",
      "  warnings.warn(message, PydanticJsonSchemaWarning)\n",
      "c:\\Users\\YukiYamanaka\\AppData\\Local\\Programs\\Python\\Python311\\Lib\\site-packages\\pydantic\\json_schema.py:2191: PydanticJsonSchemaWarning: Default value default=PydanticUndefined description='マスキング後の文章。「マスキング後の文章:・・・」となっている文章をここのafter_maskingフィールドに格納する' extra={} is not JSON serializable; excluding default from JSON schema [non-serializable-default]\n",
      "  warnings.warn(message, PydanticJsonSchemaWarning)\n"
     ]
    },
    {
     "name": "stdout",
     "output_type": "stream",
     "text": [
      "28件目のマスキングデータを生成完了\n",
      "29件目のマスキングデータを生成開始\n"
     ]
    },
    {
     "name": "stderr",
     "output_type": "stream",
     "text": [
      "c:\\Users\\YukiYamanaka\\AppData\\Local\\Programs\\Python\\Python311\\Lib\\site-packages\\pydantic\\json_schema.py:2191: PydanticJsonSchemaWarning: Default value default=PydanticUndefined description='マスキング前の文章。「マスキング前の文章:・・・」となっている文章をここのbefore_maskingフィールドに格納する' extra={} is not JSON serializable; excluding default from JSON schema [non-serializable-default]\n",
      "  warnings.warn(message, PydanticJsonSchemaWarning)\n",
      "c:\\Users\\YukiYamanaka\\AppData\\Local\\Programs\\Python\\Python311\\Lib\\site-packages\\pydantic\\json_schema.py:2191: PydanticJsonSchemaWarning: Default value default=PydanticUndefined description='マスキング後の文章。「マスキング後の文章:・・・」となっている文章をここのafter_maskingフィールドに格納する' extra={} is not JSON serializable; excluding default from JSON schema [non-serializable-default]\n",
      "  warnings.warn(message, PydanticJsonSchemaWarning)\n",
      "c:\\Users\\YukiYamanaka\\AppData\\Local\\Programs\\Python\\Python311\\Lib\\site-packages\\pydantic\\json_schema.py:2191: PydanticJsonSchemaWarning: Default value default=PydanticUndefined description='マスキング前の文章。「マスキング前の文章:・・・」となっている文章をここのbefore_maskingフィールドに格納する' extra={} is not JSON serializable; excluding default from JSON schema [non-serializable-default]\n",
      "  warnings.warn(message, PydanticJsonSchemaWarning)\n",
      "c:\\Users\\YukiYamanaka\\AppData\\Local\\Programs\\Python\\Python311\\Lib\\site-packages\\pydantic\\json_schema.py:2191: PydanticJsonSchemaWarning: Default value default=PydanticUndefined description='マスキング後の文章。「マスキング後の文章:・・・」となっている文章をここのafter_maskingフィールドに格納する' extra={} is not JSON serializable; excluding default from JSON schema [non-serializable-default]\n",
      "  warnings.warn(message, PydanticJsonSchemaWarning)\n"
     ]
    },
    {
     "name": "stdout",
     "output_type": "stream",
     "text": [
      "29件目のマスキングデータを生成完了\n",
      "30件目のマスキングデータを生成開始\n"
     ]
    },
    {
     "name": "stderr",
     "output_type": "stream",
     "text": [
      "c:\\Users\\YukiYamanaka\\AppData\\Local\\Programs\\Python\\Python311\\Lib\\site-packages\\pydantic\\json_schema.py:2191: PydanticJsonSchemaWarning: Default value default=PydanticUndefined description='マスキング前の文章。「マスキング前の文章:・・・」となっている文章をここのbefore_maskingフィールドに格納する' extra={} is not JSON serializable; excluding default from JSON schema [non-serializable-default]\n",
      "  warnings.warn(message, PydanticJsonSchemaWarning)\n",
      "c:\\Users\\YukiYamanaka\\AppData\\Local\\Programs\\Python\\Python311\\Lib\\site-packages\\pydantic\\json_schema.py:2191: PydanticJsonSchemaWarning: Default value default=PydanticUndefined description='マスキング後の文章。「マスキング後の文章:・・・」となっている文章をここのafter_maskingフィールドに格納する' extra={} is not JSON serializable; excluding default from JSON schema [non-serializable-default]\n",
      "  warnings.warn(message, PydanticJsonSchemaWarning)\n",
      "c:\\Users\\YukiYamanaka\\AppData\\Local\\Programs\\Python\\Python311\\Lib\\site-packages\\pydantic\\json_schema.py:2191: PydanticJsonSchemaWarning: Default value default=PydanticUndefined description='マスキング前の文章。「マスキング前の文章:・・・」となっている文章をここのbefore_maskingフィールドに格納する' extra={} is not JSON serializable; excluding default from JSON schema [non-serializable-default]\n",
      "  warnings.warn(message, PydanticJsonSchemaWarning)\n",
      "c:\\Users\\YukiYamanaka\\AppData\\Local\\Programs\\Python\\Python311\\Lib\\site-packages\\pydantic\\json_schema.py:2191: PydanticJsonSchemaWarning: Default value default=PydanticUndefined description='マスキング後の文章。「マスキング後の文章:・・・」となっている文章をここのafter_maskingフィールドに格納する' extra={} is not JSON serializable; excluding default from JSON schema [non-serializable-default]\n",
      "  warnings.warn(message, PydanticJsonSchemaWarning)\n"
     ]
    },
    {
     "name": "stdout",
     "output_type": "stream",
     "text": [
      "30件目のマスキングデータを生成完了\n",
      "31件目のマスキングデータを生成開始\n"
     ]
    },
    {
     "name": "stderr",
     "output_type": "stream",
     "text": [
      "c:\\Users\\YukiYamanaka\\AppData\\Local\\Programs\\Python\\Python311\\Lib\\site-packages\\pydantic\\json_schema.py:2191: PydanticJsonSchemaWarning: Default value default=PydanticUndefined description='マスキング前の文章。「マスキング前の文章:・・・」となっている文章をここのbefore_maskingフィールドに格納する' extra={} is not JSON serializable; excluding default from JSON schema [non-serializable-default]\n",
      "  warnings.warn(message, PydanticJsonSchemaWarning)\n",
      "c:\\Users\\YukiYamanaka\\AppData\\Local\\Programs\\Python\\Python311\\Lib\\site-packages\\pydantic\\json_schema.py:2191: PydanticJsonSchemaWarning: Default value default=PydanticUndefined description='マスキング後の文章。「マスキング後の文章:・・・」となっている文章をここのafter_maskingフィールドに格納する' extra={} is not JSON serializable; excluding default from JSON schema [non-serializable-default]\n",
      "  warnings.warn(message, PydanticJsonSchemaWarning)\n",
      "c:\\Users\\YukiYamanaka\\AppData\\Local\\Programs\\Python\\Python311\\Lib\\site-packages\\pydantic\\json_schema.py:2191: PydanticJsonSchemaWarning: Default value default=PydanticUndefined description='マスキング前の文章。「マスキング前の文章:・・・」となっている文章をここのbefore_maskingフィールドに格納する' extra={} is not JSON serializable; excluding default from JSON schema [non-serializable-default]\n",
      "  warnings.warn(message, PydanticJsonSchemaWarning)\n",
      "c:\\Users\\YukiYamanaka\\AppData\\Local\\Programs\\Python\\Python311\\Lib\\site-packages\\pydantic\\json_schema.py:2191: PydanticJsonSchemaWarning: Default value default=PydanticUndefined description='マスキング後の文章。「マスキング後の文章:・・・」となっている文章をここのafter_maskingフィールドに格納する' extra={} is not JSON serializable; excluding default from JSON schema [non-serializable-default]\n",
      "  warnings.warn(message, PydanticJsonSchemaWarning)\n"
     ]
    },
    {
     "name": "stdout",
     "output_type": "stream",
     "text": [
      "31件目のマスキングデータを生成完了\n",
      "32件目のマスキングデータを生成開始\n"
     ]
    },
    {
     "name": "stderr",
     "output_type": "stream",
     "text": [
      "c:\\Users\\YukiYamanaka\\AppData\\Local\\Programs\\Python\\Python311\\Lib\\site-packages\\pydantic\\json_schema.py:2191: PydanticJsonSchemaWarning: Default value default=PydanticUndefined description='マスキング前の文章。「マスキング前の文章:・・・」となっている文章をここのbefore_maskingフィールドに格納する' extra={} is not JSON serializable; excluding default from JSON schema [non-serializable-default]\n",
      "  warnings.warn(message, PydanticJsonSchemaWarning)\n",
      "c:\\Users\\YukiYamanaka\\AppData\\Local\\Programs\\Python\\Python311\\Lib\\site-packages\\pydantic\\json_schema.py:2191: PydanticJsonSchemaWarning: Default value default=PydanticUndefined description='マスキング後の文章。「マスキング後の文章:・・・」となっている文章をここのafter_maskingフィールドに格納する' extra={} is not JSON serializable; excluding default from JSON schema [non-serializable-default]\n",
      "  warnings.warn(message, PydanticJsonSchemaWarning)\n",
      "c:\\Users\\YukiYamanaka\\AppData\\Local\\Programs\\Python\\Python311\\Lib\\site-packages\\pydantic\\json_schema.py:2191: PydanticJsonSchemaWarning: Default value default=PydanticUndefined description='マスキング前の文章。「マスキング前の文章:・・・」となっている文章をここのbefore_maskingフィールドに格納する' extra={} is not JSON serializable; excluding default from JSON schema [non-serializable-default]\n",
      "  warnings.warn(message, PydanticJsonSchemaWarning)\n",
      "c:\\Users\\YukiYamanaka\\AppData\\Local\\Programs\\Python\\Python311\\Lib\\site-packages\\pydantic\\json_schema.py:2191: PydanticJsonSchemaWarning: Default value default=PydanticUndefined description='マスキング後の文章。「マスキング後の文章:・・・」となっている文章をここのafter_maskingフィールドに格納する' extra={} is not JSON serializable; excluding default from JSON schema [non-serializable-default]\n",
      "  warnings.warn(message, PydanticJsonSchemaWarning)\n"
     ]
    },
    {
     "name": "stdout",
     "output_type": "stream",
     "text": [
      "32件目のマスキングデータを生成完了\n",
      "33件目のマスキングデータを生成開始\n"
     ]
    },
    {
     "name": "stderr",
     "output_type": "stream",
     "text": [
      "c:\\Users\\YukiYamanaka\\AppData\\Local\\Programs\\Python\\Python311\\Lib\\site-packages\\pydantic\\json_schema.py:2191: PydanticJsonSchemaWarning: Default value default=PydanticUndefined description='マスキング前の文章。「マスキング前の文章:・・・」となっている文章をここのbefore_maskingフィールドに格納する' extra={} is not JSON serializable; excluding default from JSON schema [non-serializable-default]\n",
      "  warnings.warn(message, PydanticJsonSchemaWarning)\n",
      "c:\\Users\\YukiYamanaka\\AppData\\Local\\Programs\\Python\\Python311\\Lib\\site-packages\\pydantic\\json_schema.py:2191: PydanticJsonSchemaWarning: Default value default=PydanticUndefined description='マスキング後の文章。「マスキング後の文章:・・・」となっている文章をここのafter_maskingフィールドに格納する' extra={} is not JSON serializable; excluding default from JSON schema [non-serializable-default]\n",
      "  warnings.warn(message, PydanticJsonSchemaWarning)\n",
      "c:\\Users\\YukiYamanaka\\AppData\\Local\\Programs\\Python\\Python311\\Lib\\site-packages\\pydantic\\json_schema.py:2191: PydanticJsonSchemaWarning: Default value default=PydanticUndefined description='マスキング前の文章。「マスキング前の文章:・・・」となっている文章をここのbefore_maskingフィールドに格納する' extra={} is not JSON serializable; excluding default from JSON schema [non-serializable-default]\n",
      "  warnings.warn(message, PydanticJsonSchemaWarning)\n",
      "c:\\Users\\YukiYamanaka\\AppData\\Local\\Programs\\Python\\Python311\\Lib\\site-packages\\pydantic\\json_schema.py:2191: PydanticJsonSchemaWarning: Default value default=PydanticUndefined description='マスキング後の文章。「マスキング後の文章:・・・」となっている文章をここのafter_maskingフィールドに格納する' extra={} is not JSON serializable; excluding default from JSON schema [non-serializable-default]\n",
      "  warnings.warn(message, PydanticJsonSchemaWarning)\n"
     ]
    },
    {
     "name": "stdout",
     "output_type": "stream",
     "text": [
      "33件目のマスキングデータを生成完了\n",
      "34件目のマスキングデータを生成開始\n"
     ]
    },
    {
     "name": "stderr",
     "output_type": "stream",
     "text": [
      "c:\\Users\\YukiYamanaka\\AppData\\Local\\Programs\\Python\\Python311\\Lib\\site-packages\\pydantic\\json_schema.py:2191: PydanticJsonSchemaWarning: Default value default=PydanticUndefined description='マスキング前の文章。「マスキング前の文章:・・・」となっている文章をここのbefore_maskingフィールドに格納する' extra={} is not JSON serializable; excluding default from JSON schema [non-serializable-default]\n",
      "  warnings.warn(message, PydanticJsonSchemaWarning)\n",
      "c:\\Users\\YukiYamanaka\\AppData\\Local\\Programs\\Python\\Python311\\Lib\\site-packages\\pydantic\\json_schema.py:2191: PydanticJsonSchemaWarning: Default value default=PydanticUndefined description='マスキング後の文章。「マスキング後の文章:・・・」となっている文章をここのafter_maskingフィールドに格納する' extra={} is not JSON serializable; excluding default from JSON schema [non-serializable-default]\n",
      "  warnings.warn(message, PydanticJsonSchemaWarning)\n",
      "c:\\Users\\YukiYamanaka\\AppData\\Local\\Programs\\Python\\Python311\\Lib\\site-packages\\pydantic\\json_schema.py:2191: PydanticJsonSchemaWarning: Default value default=PydanticUndefined description='マスキング前の文章。「マスキング前の文章:・・・」となっている文章をここのbefore_maskingフィールドに格納する' extra={} is not JSON serializable; excluding default from JSON schema [non-serializable-default]\n",
      "  warnings.warn(message, PydanticJsonSchemaWarning)\n",
      "c:\\Users\\YukiYamanaka\\AppData\\Local\\Programs\\Python\\Python311\\Lib\\site-packages\\pydantic\\json_schema.py:2191: PydanticJsonSchemaWarning: Default value default=PydanticUndefined description='マスキング後の文章。「マスキング後の文章:・・・」となっている文章をここのafter_maskingフィールドに格納する' extra={} is not JSON serializable; excluding default from JSON schema [non-serializable-default]\n",
      "  warnings.warn(message, PydanticJsonSchemaWarning)\n"
     ]
    },
    {
     "name": "stdout",
     "output_type": "stream",
     "text": [
      "34件目のマスキングデータを生成完了\n",
      "35件目のマスキングデータを生成開始\n"
     ]
    },
    {
     "name": "stderr",
     "output_type": "stream",
     "text": [
      "c:\\Users\\YukiYamanaka\\AppData\\Local\\Programs\\Python\\Python311\\Lib\\site-packages\\pydantic\\json_schema.py:2191: PydanticJsonSchemaWarning: Default value default=PydanticUndefined description='マスキング前の文章。「マスキング前の文章:・・・」となっている文章をここのbefore_maskingフィールドに格納する' extra={} is not JSON serializable; excluding default from JSON schema [non-serializable-default]\n",
      "  warnings.warn(message, PydanticJsonSchemaWarning)\n",
      "c:\\Users\\YukiYamanaka\\AppData\\Local\\Programs\\Python\\Python311\\Lib\\site-packages\\pydantic\\json_schema.py:2191: PydanticJsonSchemaWarning: Default value default=PydanticUndefined description='マスキング後の文章。「マスキング後の文章:・・・」となっている文章をここのafter_maskingフィールドに格納する' extra={} is not JSON serializable; excluding default from JSON schema [non-serializable-default]\n",
      "  warnings.warn(message, PydanticJsonSchemaWarning)\n",
      "c:\\Users\\YukiYamanaka\\AppData\\Local\\Programs\\Python\\Python311\\Lib\\site-packages\\pydantic\\json_schema.py:2191: PydanticJsonSchemaWarning: Default value default=PydanticUndefined description='マスキング前の文章。「マスキング前の文章:・・・」となっている文章をここのbefore_maskingフィールドに格納する' extra={} is not JSON serializable; excluding default from JSON schema [non-serializable-default]\n",
      "  warnings.warn(message, PydanticJsonSchemaWarning)\n",
      "c:\\Users\\YukiYamanaka\\AppData\\Local\\Programs\\Python\\Python311\\Lib\\site-packages\\pydantic\\json_schema.py:2191: PydanticJsonSchemaWarning: Default value default=PydanticUndefined description='マスキング後の文章。「マスキング後の文章:・・・」となっている文章をここのafter_maskingフィールドに格納する' extra={} is not JSON serializable; excluding default from JSON schema [non-serializable-default]\n",
      "  warnings.warn(message, PydanticJsonSchemaWarning)\n"
     ]
    },
    {
     "name": "stdout",
     "output_type": "stream",
     "text": [
      "35件目のマスキングデータを生成完了\n",
      "36件目のマスキングデータを生成開始\n"
     ]
    },
    {
     "name": "stderr",
     "output_type": "stream",
     "text": [
      "c:\\Users\\YukiYamanaka\\AppData\\Local\\Programs\\Python\\Python311\\Lib\\site-packages\\pydantic\\json_schema.py:2191: PydanticJsonSchemaWarning: Default value default=PydanticUndefined description='マスキング前の文章。「マスキング前の文章:・・・」となっている文章をここのbefore_maskingフィールドに格納する' extra={} is not JSON serializable; excluding default from JSON schema [non-serializable-default]\n",
      "  warnings.warn(message, PydanticJsonSchemaWarning)\n",
      "c:\\Users\\YukiYamanaka\\AppData\\Local\\Programs\\Python\\Python311\\Lib\\site-packages\\pydantic\\json_schema.py:2191: PydanticJsonSchemaWarning: Default value default=PydanticUndefined description='マスキング後の文章。「マスキング後の文章:・・・」となっている文章をここのafter_maskingフィールドに格納する' extra={} is not JSON serializable; excluding default from JSON schema [non-serializable-default]\n",
      "  warnings.warn(message, PydanticJsonSchemaWarning)\n",
      "c:\\Users\\YukiYamanaka\\AppData\\Local\\Programs\\Python\\Python311\\Lib\\site-packages\\pydantic\\json_schema.py:2191: PydanticJsonSchemaWarning: Default value default=PydanticUndefined description='マスキング前の文章。「マスキング前の文章:・・・」となっている文章をここのbefore_maskingフィールドに格納する' extra={} is not JSON serializable; excluding default from JSON schema [non-serializable-default]\n",
      "  warnings.warn(message, PydanticJsonSchemaWarning)\n",
      "c:\\Users\\YukiYamanaka\\AppData\\Local\\Programs\\Python\\Python311\\Lib\\site-packages\\pydantic\\json_schema.py:2191: PydanticJsonSchemaWarning: Default value default=PydanticUndefined description='マスキング後の文章。「マスキング後の文章:・・・」となっている文章をここのafter_maskingフィールドに格納する' extra={} is not JSON serializable; excluding default from JSON schema [non-serializable-default]\n",
      "  warnings.warn(message, PydanticJsonSchemaWarning)\n"
     ]
    },
    {
     "name": "stdout",
     "output_type": "stream",
     "text": [
      "36件目のマスキングデータを生成完了\n",
      "37件目のマスキングデータを生成開始\n"
     ]
    },
    {
     "name": "stderr",
     "output_type": "stream",
     "text": [
      "c:\\Users\\YukiYamanaka\\AppData\\Local\\Programs\\Python\\Python311\\Lib\\site-packages\\pydantic\\json_schema.py:2191: PydanticJsonSchemaWarning: Default value default=PydanticUndefined description='マスキング前の文章。「マスキング前の文章:・・・」となっている文章をここのbefore_maskingフィールドに格納する' extra={} is not JSON serializable; excluding default from JSON schema [non-serializable-default]\n",
      "  warnings.warn(message, PydanticJsonSchemaWarning)\n",
      "c:\\Users\\YukiYamanaka\\AppData\\Local\\Programs\\Python\\Python311\\Lib\\site-packages\\pydantic\\json_schema.py:2191: PydanticJsonSchemaWarning: Default value default=PydanticUndefined description='マスキング後の文章。「マスキング後の文章:・・・」となっている文章をここのafter_maskingフィールドに格納する' extra={} is not JSON serializable; excluding default from JSON schema [non-serializable-default]\n",
      "  warnings.warn(message, PydanticJsonSchemaWarning)\n",
      "c:\\Users\\YukiYamanaka\\AppData\\Local\\Programs\\Python\\Python311\\Lib\\site-packages\\pydantic\\json_schema.py:2191: PydanticJsonSchemaWarning: Default value default=PydanticUndefined description='マスキング前の文章。「マスキング前の文章:・・・」となっている文章をここのbefore_maskingフィールドに格納する' extra={} is not JSON serializable; excluding default from JSON schema [non-serializable-default]\n",
      "  warnings.warn(message, PydanticJsonSchemaWarning)\n",
      "c:\\Users\\YukiYamanaka\\AppData\\Local\\Programs\\Python\\Python311\\Lib\\site-packages\\pydantic\\json_schema.py:2191: PydanticJsonSchemaWarning: Default value default=PydanticUndefined description='マスキング後の文章。「マスキング後の文章:・・・」となっている文章をここのafter_maskingフィールドに格納する' extra={} is not JSON serializable; excluding default from JSON schema [non-serializable-default]\n",
      "  warnings.warn(message, PydanticJsonSchemaWarning)\n"
     ]
    },
    {
     "name": "stdout",
     "output_type": "stream",
     "text": [
      "37件目のマスキングデータを生成完了\n",
      "38件目のマスキングデータを生成開始\n"
     ]
    },
    {
     "name": "stderr",
     "output_type": "stream",
     "text": [
      "c:\\Users\\YukiYamanaka\\AppData\\Local\\Programs\\Python\\Python311\\Lib\\site-packages\\pydantic\\json_schema.py:2191: PydanticJsonSchemaWarning: Default value default=PydanticUndefined description='マスキング前の文章。「マスキング前の文章:・・・」となっている文章をここのbefore_maskingフィールドに格納する' extra={} is not JSON serializable; excluding default from JSON schema [non-serializable-default]\n",
      "  warnings.warn(message, PydanticJsonSchemaWarning)\n",
      "c:\\Users\\YukiYamanaka\\AppData\\Local\\Programs\\Python\\Python311\\Lib\\site-packages\\pydantic\\json_schema.py:2191: PydanticJsonSchemaWarning: Default value default=PydanticUndefined description='マスキング後の文章。「マスキング後の文章:・・・」となっている文章をここのafter_maskingフィールドに格納する' extra={} is not JSON serializable; excluding default from JSON schema [non-serializable-default]\n",
      "  warnings.warn(message, PydanticJsonSchemaWarning)\n",
      "c:\\Users\\YukiYamanaka\\AppData\\Local\\Programs\\Python\\Python311\\Lib\\site-packages\\pydantic\\json_schema.py:2191: PydanticJsonSchemaWarning: Default value default=PydanticUndefined description='マスキング前の文章。「マスキング前の文章:・・・」となっている文章をここのbefore_maskingフィールドに格納する' extra={} is not JSON serializable; excluding default from JSON schema [non-serializable-default]\n",
      "  warnings.warn(message, PydanticJsonSchemaWarning)\n",
      "c:\\Users\\YukiYamanaka\\AppData\\Local\\Programs\\Python\\Python311\\Lib\\site-packages\\pydantic\\json_schema.py:2191: PydanticJsonSchemaWarning: Default value default=PydanticUndefined description='マスキング後の文章。「マスキング後の文章:・・・」となっている文章をここのafter_maskingフィールドに格納する' extra={} is not JSON serializable; excluding default from JSON schema [non-serializable-default]\n",
      "  warnings.warn(message, PydanticJsonSchemaWarning)\n"
     ]
    },
    {
     "name": "stdout",
     "output_type": "stream",
     "text": [
      "38件目のマスキングデータを生成完了\n",
      "39件目のマスキングデータを生成開始\n"
     ]
    },
    {
     "name": "stderr",
     "output_type": "stream",
     "text": [
      "c:\\Users\\YukiYamanaka\\AppData\\Local\\Programs\\Python\\Python311\\Lib\\site-packages\\pydantic\\json_schema.py:2191: PydanticJsonSchemaWarning: Default value default=PydanticUndefined description='マスキング前の文章。「マスキング前の文章:・・・」となっている文章をここのbefore_maskingフィールドに格納する' extra={} is not JSON serializable; excluding default from JSON schema [non-serializable-default]\n",
      "  warnings.warn(message, PydanticJsonSchemaWarning)\n",
      "c:\\Users\\YukiYamanaka\\AppData\\Local\\Programs\\Python\\Python311\\Lib\\site-packages\\pydantic\\json_schema.py:2191: PydanticJsonSchemaWarning: Default value default=PydanticUndefined description='マスキング後の文章。「マスキング後の文章:・・・」となっている文章をここのafter_maskingフィールドに格納する' extra={} is not JSON serializable; excluding default from JSON schema [non-serializable-default]\n",
      "  warnings.warn(message, PydanticJsonSchemaWarning)\n",
      "c:\\Users\\YukiYamanaka\\AppData\\Local\\Programs\\Python\\Python311\\Lib\\site-packages\\pydantic\\json_schema.py:2191: PydanticJsonSchemaWarning: Default value default=PydanticUndefined description='マスキング前の文章。「マスキング前の文章:・・・」となっている文章をここのbefore_maskingフィールドに格納する' extra={} is not JSON serializable; excluding default from JSON schema [non-serializable-default]\n",
      "  warnings.warn(message, PydanticJsonSchemaWarning)\n",
      "c:\\Users\\YukiYamanaka\\AppData\\Local\\Programs\\Python\\Python311\\Lib\\site-packages\\pydantic\\json_schema.py:2191: PydanticJsonSchemaWarning: Default value default=PydanticUndefined description='マスキング後の文章。「マスキング後の文章:・・・」となっている文章をここのafter_maskingフィールドに格納する' extra={} is not JSON serializable; excluding default from JSON schema [non-serializable-default]\n",
      "  warnings.warn(message, PydanticJsonSchemaWarning)\n"
     ]
    },
    {
     "name": "stdout",
     "output_type": "stream",
     "text": [
      "39件目のマスキングデータを生成完了\n",
      "40件目のマスキングデータを生成開始\n"
     ]
    },
    {
     "name": "stderr",
     "output_type": "stream",
     "text": [
      "c:\\Users\\YukiYamanaka\\AppData\\Local\\Programs\\Python\\Python311\\Lib\\site-packages\\pydantic\\json_schema.py:2191: PydanticJsonSchemaWarning: Default value default=PydanticUndefined description='マスキング前の文章。「マスキング前の文章:・・・」となっている文章をここのbefore_maskingフィールドに格納する' extra={} is not JSON serializable; excluding default from JSON schema [non-serializable-default]\n",
      "  warnings.warn(message, PydanticJsonSchemaWarning)\n",
      "c:\\Users\\YukiYamanaka\\AppData\\Local\\Programs\\Python\\Python311\\Lib\\site-packages\\pydantic\\json_schema.py:2191: PydanticJsonSchemaWarning: Default value default=PydanticUndefined description='マスキング後の文章。「マスキング後の文章:・・・」となっている文章をここのafter_maskingフィールドに格納する' extra={} is not JSON serializable; excluding default from JSON schema [non-serializable-default]\n",
      "  warnings.warn(message, PydanticJsonSchemaWarning)\n",
      "c:\\Users\\YukiYamanaka\\AppData\\Local\\Programs\\Python\\Python311\\Lib\\site-packages\\pydantic\\json_schema.py:2191: PydanticJsonSchemaWarning: Default value default=PydanticUndefined description='マスキング前の文章。「マスキング前の文章:・・・」となっている文章をここのbefore_maskingフィールドに格納する' extra={} is not JSON serializable; excluding default from JSON schema [non-serializable-default]\n",
      "  warnings.warn(message, PydanticJsonSchemaWarning)\n",
      "c:\\Users\\YukiYamanaka\\AppData\\Local\\Programs\\Python\\Python311\\Lib\\site-packages\\pydantic\\json_schema.py:2191: PydanticJsonSchemaWarning: Default value default=PydanticUndefined description='マスキング後の文章。「マスキング後の文章:・・・」となっている文章をここのafter_maskingフィールドに格納する' extra={} is not JSON serializable; excluding default from JSON schema [non-serializable-default]\n",
      "  warnings.warn(message, PydanticJsonSchemaWarning)\n"
     ]
    },
    {
     "name": "stdout",
     "output_type": "stream",
     "text": [
      "40件目のマスキングデータを生成完了\n",
      "41件目のマスキングデータを生成開始\n"
     ]
    },
    {
     "name": "stderr",
     "output_type": "stream",
     "text": [
      "c:\\Users\\YukiYamanaka\\AppData\\Local\\Programs\\Python\\Python311\\Lib\\site-packages\\pydantic\\json_schema.py:2191: PydanticJsonSchemaWarning: Default value default=PydanticUndefined description='マスキング前の文章。「マスキング前の文章:・・・」となっている文章をここのbefore_maskingフィールドに格納する' extra={} is not JSON serializable; excluding default from JSON schema [non-serializable-default]\n",
      "  warnings.warn(message, PydanticJsonSchemaWarning)\n",
      "c:\\Users\\YukiYamanaka\\AppData\\Local\\Programs\\Python\\Python311\\Lib\\site-packages\\pydantic\\json_schema.py:2191: PydanticJsonSchemaWarning: Default value default=PydanticUndefined description='マスキング後の文章。「マスキング後の文章:・・・」となっている文章をここのafter_maskingフィールドに格納する' extra={} is not JSON serializable; excluding default from JSON schema [non-serializable-default]\n",
      "  warnings.warn(message, PydanticJsonSchemaWarning)\n",
      "c:\\Users\\YukiYamanaka\\AppData\\Local\\Programs\\Python\\Python311\\Lib\\site-packages\\pydantic\\json_schema.py:2191: PydanticJsonSchemaWarning: Default value default=PydanticUndefined description='マスキング前の文章。「マスキング前の文章:・・・」となっている文章をここのbefore_maskingフィールドに格納する' extra={} is not JSON serializable; excluding default from JSON schema [non-serializable-default]\n",
      "  warnings.warn(message, PydanticJsonSchemaWarning)\n",
      "c:\\Users\\YukiYamanaka\\AppData\\Local\\Programs\\Python\\Python311\\Lib\\site-packages\\pydantic\\json_schema.py:2191: PydanticJsonSchemaWarning: Default value default=PydanticUndefined description='マスキング後の文章。「マスキング後の文章:・・・」となっている文章をここのafter_maskingフィールドに格納する' extra={} is not JSON serializable; excluding default from JSON schema [non-serializable-default]\n",
      "  warnings.warn(message, PydanticJsonSchemaWarning)\n"
     ]
    },
    {
     "name": "stdout",
     "output_type": "stream",
     "text": [
      "41件目のマスキングデータを生成完了\n",
      "42件目のマスキングデータを生成開始\n"
     ]
    },
    {
     "name": "stderr",
     "output_type": "stream",
     "text": [
      "c:\\Users\\YukiYamanaka\\AppData\\Local\\Programs\\Python\\Python311\\Lib\\site-packages\\pydantic\\json_schema.py:2191: PydanticJsonSchemaWarning: Default value default=PydanticUndefined description='マスキング前の文章。「マスキング前の文章:・・・」となっている文章をここのbefore_maskingフィールドに格納する' extra={} is not JSON serializable; excluding default from JSON schema [non-serializable-default]\n",
      "  warnings.warn(message, PydanticJsonSchemaWarning)\n",
      "c:\\Users\\YukiYamanaka\\AppData\\Local\\Programs\\Python\\Python311\\Lib\\site-packages\\pydantic\\json_schema.py:2191: PydanticJsonSchemaWarning: Default value default=PydanticUndefined description='マスキング後の文章。「マスキング後の文章:・・・」となっている文章をここのafter_maskingフィールドに格納する' extra={} is not JSON serializable; excluding default from JSON schema [non-serializable-default]\n",
      "  warnings.warn(message, PydanticJsonSchemaWarning)\n",
      "c:\\Users\\YukiYamanaka\\AppData\\Local\\Programs\\Python\\Python311\\Lib\\site-packages\\pydantic\\json_schema.py:2191: PydanticJsonSchemaWarning: Default value default=PydanticUndefined description='マスキング前の文章。「マスキング前の文章:・・・」となっている文章をここのbefore_maskingフィールドに格納する' extra={} is not JSON serializable; excluding default from JSON schema [non-serializable-default]\n",
      "  warnings.warn(message, PydanticJsonSchemaWarning)\n",
      "c:\\Users\\YukiYamanaka\\AppData\\Local\\Programs\\Python\\Python311\\Lib\\site-packages\\pydantic\\json_schema.py:2191: PydanticJsonSchemaWarning: Default value default=PydanticUndefined description='マスキング後の文章。「マスキング後の文章:・・・」となっている文章をここのafter_maskingフィールドに格納する' extra={} is not JSON serializable; excluding default from JSON schema [non-serializable-default]\n",
      "  warnings.warn(message, PydanticJsonSchemaWarning)\n"
     ]
    },
    {
     "name": "stdout",
     "output_type": "stream",
     "text": [
      "42件目のマスキングデータを生成完了\n",
      "43件目のマスキングデータを生成開始\n"
     ]
    },
    {
     "name": "stderr",
     "output_type": "stream",
     "text": [
      "c:\\Users\\YukiYamanaka\\AppData\\Local\\Programs\\Python\\Python311\\Lib\\site-packages\\pydantic\\json_schema.py:2191: PydanticJsonSchemaWarning: Default value default=PydanticUndefined description='マスキング前の文章。「マスキング前の文章:・・・」となっている文章をここのbefore_maskingフィールドに格納する' extra={} is not JSON serializable; excluding default from JSON schema [non-serializable-default]\n",
      "  warnings.warn(message, PydanticJsonSchemaWarning)\n",
      "c:\\Users\\YukiYamanaka\\AppData\\Local\\Programs\\Python\\Python311\\Lib\\site-packages\\pydantic\\json_schema.py:2191: PydanticJsonSchemaWarning: Default value default=PydanticUndefined description='マスキング後の文章。「マスキング後の文章:・・・」となっている文章をここのafter_maskingフィールドに格納する' extra={} is not JSON serializable; excluding default from JSON schema [non-serializable-default]\n",
      "  warnings.warn(message, PydanticJsonSchemaWarning)\n",
      "c:\\Users\\YukiYamanaka\\AppData\\Local\\Programs\\Python\\Python311\\Lib\\site-packages\\pydantic\\json_schema.py:2191: PydanticJsonSchemaWarning: Default value default=PydanticUndefined description='マスキング前の文章。「マスキング前の文章:・・・」となっている文章をここのbefore_maskingフィールドに格納する' extra={} is not JSON serializable; excluding default from JSON schema [non-serializable-default]\n",
      "  warnings.warn(message, PydanticJsonSchemaWarning)\n",
      "c:\\Users\\YukiYamanaka\\AppData\\Local\\Programs\\Python\\Python311\\Lib\\site-packages\\pydantic\\json_schema.py:2191: PydanticJsonSchemaWarning: Default value default=PydanticUndefined description='マスキング後の文章。「マスキング後の文章:・・・」となっている文章をここのafter_maskingフィールドに格納する' extra={} is not JSON serializable; excluding default from JSON schema [non-serializable-default]\n",
      "  warnings.warn(message, PydanticJsonSchemaWarning)\n"
     ]
    },
    {
     "name": "stdout",
     "output_type": "stream",
     "text": [
      "43件目のマスキングデータを生成完了\n",
      "44件目のマスキングデータを生成開始\n"
     ]
    },
    {
     "name": "stderr",
     "output_type": "stream",
     "text": [
      "c:\\Users\\YukiYamanaka\\AppData\\Local\\Programs\\Python\\Python311\\Lib\\site-packages\\pydantic\\json_schema.py:2191: PydanticJsonSchemaWarning: Default value default=PydanticUndefined description='マスキング前の文章。「マスキング前の文章:・・・」となっている文章をここのbefore_maskingフィールドに格納する' extra={} is not JSON serializable; excluding default from JSON schema [non-serializable-default]\n",
      "  warnings.warn(message, PydanticJsonSchemaWarning)\n",
      "c:\\Users\\YukiYamanaka\\AppData\\Local\\Programs\\Python\\Python311\\Lib\\site-packages\\pydantic\\json_schema.py:2191: PydanticJsonSchemaWarning: Default value default=PydanticUndefined description='マスキング後の文章。「マスキング後の文章:・・・」となっている文章をここのafter_maskingフィールドに格納する' extra={} is not JSON serializable; excluding default from JSON schema [non-serializable-default]\n",
      "  warnings.warn(message, PydanticJsonSchemaWarning)\n",
      "c:\\Users\\YukiYamanaka\\AppData\\Local\\Programs\\Python\\Python311\\Lib\\site-packages\\pydantic\\json_schema.py:2191: PydanticJsonSchemaWarning: Default value default=PydanticUndefined description='マスキング前の文章。「マスキング前の文章:・・・」となっている文章をここのbefore_maskingフィールドに格納する' extra={} is not JSON serializable; excluding default from JSON schema [non-serializable-default]\n",
      "  warnings.warn(message, PydanticJsonSchemaWarning)\n",
      "c:\\Users\\YukiYamanaka\\AppData\\Local\\Programs\\Python\\Python311\\Lib\\site-packages\\pydantic\\json_schema.py:2191: PydanticJsonSchemaWarning: Default value default=PydanticUndefined description='マスキング後の文章。「マスキング後の文章:・・・」となっている文章をここのafter_maskingフィールドに格納する' extra={} is not JSON serializable; excluding default from JSON schema [non-serializable-default]\n",
      "  warnings.warn(message, PydanticJsonSchemaWarning)\n"
     ]
    },
    {
     "name": "stdout",
     "output_type": "stream",
     "text": [
      "44件目のマスキングデータを生成完了\n",
      "45件目のマスキングデータを生成開始\n"
     ]
    },
    {
     "name": "stderr",
     "output_type": "stream",
     "text": [
      "c:\\Users\\YukiYamanaka\\AppData\\Local\\Programs\\Python\\Python311\\Lib\\site-packages\\pydantic\\json_schema.py:2191: PydanticJsonSchemaWarning: Default value default=PydanticUndefined description='マスキング前の文章。「マスキング前の文章:・・・」となっている文章をここのbefore_maskingフィールドに格納する' extra={} is not JSON serializable; excluding default from JSON schema [non-serializable-default]\n",
      "  warnings.warn(message, PydanticJsonSchemaWarning)\n",
      "c:\\Users\\YukiYamanaka\\AppData\\Local\\Programs\\Python\\Python311\\Lib\\site-packages\\pydantic\\json_schema.py:2191: PydanticJsonSchemaWarning: Default value default=PydanticUndefined description='マスキング後の文章。「マスキング後の文章:・・・」となっている文章をここのafter_maskingフィールドに格納する' extra={} is not JSON serializable; excluding default from JSON schema [non-serializable-default]\n",
      "  warnings.warn(message, PydanticJsonSchemaWarning)\n",
      "c:\\Users\\YukiYamanaka\\AppData\\Local\\Programs\\Python\\Python311\\Lib\\site-packages\\pydantic\\json_schema.py:2191: PydanticJsonSchemaWarning: Default value default=PydanticUndefined description='マスキング前の文章。「マスキング前の文章:・・・」となっている文章をここのbefore_maskingフィールドに格納する' extra={} is not JSON serializable; excluding default from JSON schema [non-serializable-default]\n",
      "  warnings.warn(message, PydanticJsonSchemaWarning)\n",
      "c:\\Users\\YukiYamanaka\\AppData\\Local\\Programs\\Python\\Python311\\Lib\\site-packages\\pydantic\\json_schema.py:2191: PydanticJsonSchemaWarning: Default value default=PydanticUndefined description='マスキング後の文章。「マスキング後の文章:・・・」となっている文章をここのafter_maskingフィールドに格納する' extra={} is not JSON serializable; excluding default from JSON schema [non-serializable-default]\n",
      "  warnings.warn(message, PydanticJsonSchemaWarning)\n"
     ]
    },
    {
     "name": "stdout",
     "output_type": "stream",
     "text": [
      "45件目のマスキングデータを生成完了\n",
      "46件目のマスキングデータを生成開始\n"
     ]
    },
    {
     "name": "stderr",
     "output_type": "stream",
     "text": [
      "c:\\Users\\YukiYamanaka\\AppData\\Local\\Programs\\Python\\Python311\\Lib\\site-packages\\pydantic\\json_schema.py:2191: PydanticJsonSchemaWarning: Default value default=PydanticUndefined description='マスキング前の文章。「マスキング前の文章:・・・」となっている文章をここのbefore_maskingフィールドに格納する' extra={} is not JSON serializable; excluding default from JSON schema [non-serializable-default]\n",
      "  warnings.warn(message, PydanticJsonSchemaWarning)\n",
      "c:\\Users\\YukiYamanaka\\AppData\\Local\\Programs\\Python\\Python311\\Lib\\site-packages\\pydantic\\json_schema.py:2191: PydanticJsonSchemaWarning: Default value default=PydanticUndefined description='マスキング後の文章。「マスキング後の文章:・・・」となっている文章をここのafter_maskingフィールドに格納する' extra={} is not JSON serializable; excluding default from JSON schema [non-serializable-default]\n",
      "  warnings.warn(message, PydanticJsonSchemaWarning)\n",
      "c:\\Users\\YukiYamanaka\\AppData\\Local\\Programs\\Python\\Python311\\Lib\\site-packages\\pydantic\\json_schema.py:2191: PydanticJsonSchemaWarning: Default value default=PydanticUndefined description='マスキング前の文章。「マスキング前の文章:・・・」となっている文章をここのbefore_maskingフィールドに格納する' extra={} is not JSON serializable; excluding default from JSON schema [non-serializable-default]\n",
      "  warnings.warn(message, PydanticJsonSchemaWarning)\n",
      "c:\\Users\\YukiYamanaka\\AppData\\Local\\Programs\\Python\\Python311\\Lib\\site-packages\\pydantic\\json_schema.py:2191: PydanticJsonSchemaWarning: Default value default=PydanticUndefined description='マスキング後の文章。「マスキング後の文章:・・・」となっている文章をここのafter_maskingフィールドに格納する' extra={} is not JSON serializable; excluding default from JSON schema [non-serializable-default]\n",
      "  warnings.warn(message, PydanticJsonSchemaWarning)\n"
     ]
    },
    {
     "name": "stdout",
     "output_type": "stream",
     "text": [
      "46件目のマスキングデータを生成完了\n",
      "47件目のマスキングデータを生成開始\n"
     ]
    },
    {
     "name": "stderr",
     "output_type": "stream",
     "text": [
      "c:\\Users\\YukiYamanaka\\AppData\\Local\\Programs\\Python\\Python311\\Lib\\site-packages\\pydantic\\json_schema.py:2191: PydanticJsonSchemaWarning: Default value default=PydanticUndefined description='マスキング前の文章。「マスキング前の文章:・・・」となっている文章をここのbefore_maskingフィールドに格納する' extra={} is not JSON serializable; excluding default from JSON schema [non-serializable-default]\n",
      "  warnings.warn(message, PydanticJsonSchemaWarning)\n",
      "c:\\Users\\YukiYamanaka\\AppData\\Local\\Programs\\Python\\Python311\\Lib\\site-packages\\pydantic\\json_schema.py:2191: PydanticJsonSchemaWarning: Default value default=PydanticUndefined description='マスキング後の文章。「マスキング後の文章:・・・」となっている文章をここのafter_maskingフィールドに格納する' extra={} is not JSON serializable; excluding default from JSON schema [non-serializable-default]\n",
      "  warnings.warn(message, PydanticJsonSchemaWarning)\n",
      "c:\\Users\\YukiYamanaka\\AppData\\Local\\Programs\\Python\\Python311\\Lib\\site-packages\\pydantic\\json_schema.py:2191: PydanticJsonSchemaWarning: Default value default=PydanticUndefined description='マスキング前の文章。「マスキング前の文章:・・・」となっている文章をここのbefore_maskingフィールドに格納する' extra={} is not JSON serializable; excluding default from JSON schema [non-serializable-default]\n",
      "  warnings.warn(message, PydanticJsonSchemaWarning)\n",
      "c:\\Users\\YukiYamanaka\\AppData\\Local\\Programs\\Python\\Python311\\Lib\\site-packages\\pydantic\\json_schema.py:2191: PydanticJsonSchemaWarning: Default value default=PydanticUndefined description='マスキング後の文章。「マスキング後の文章:・・・」となっている文章をここのafter_maskingフィールドに格納する' extra={} is not JSON serializable; excluding default from JSON schema [non-serializable-default]\n",
      "  warnings.warn(message, PydanticJsonSchemaWarning)\n"
     ]
    },
    {
     "name": "stdout",
     "output_type": "stream",
     "text": [
      "47件目のマスキングデータを生成完了\n",
      "48件目のマスキングデータを生成開始\n"
     ]
    },
    {
     "name": "stderr",
     "output_type": "stream",
     "text": [
      "c:\\Users\\YukiYamanaka\\AppData\\Local\\Programs\\Python\\Python311\\Lib\\site-packages\\pydantic\\json_schema.py:2191: PydanticJsonSchemaWarning: Default value default=PydanticUndefined description='マスキング前の文章。「マスキング前の文章:・・・」となっている文章をここのbefore_maskingフィールドに格納する' extra={} is not JSON serializable; excluding default from JSON schema [non-serializable-default]\n",
      "  warnings.warn(message, PydanticJsonSchemaWarning)\n",
      "c:\\Users\\YukiYamanaka\\AppData\\Local\\Programs\\Python\\Python311\\Lib\\site-packages\\pydantic\\json_schema.py:2191: PydanticJsonSchemaWarning: Default value default=PydanticUndefined description='マスキング後の文章。「マスキング後の文章:・・・」となっている文章をここのafter_maskingフィールドに格納する' extra={} is not JSON serializable; excluding default from JSON schema [non-serializable-default]\n",
      "  warnings.warn(message, PydanticJsonSchemaWarning)\n",
      "c:\\Users\\YukiYamanaka\\AppData\\Local\\Programs\\Python\\Python311\\Lib\\site-packages\\pydantic\\json_schema.py:2191: PydanticJsonSchemaWarning: Default value default=PydanticUndefined description='マスキング前の文章。「マスキング前の文章:・・・」となっている文章をここのbefore_maskingフィールドに格納する' extra={} is not JSON serializable; excluding default from JSON schema [non-serializable-default]\n",
      "  warnings.warn(message, PydanticJsonSchemaWarning)\n",
      "c:\\Users\\YukiYamanaka\\AppData\\Local\\Programs\\Python\\Python311\\Lib\\site-packages\\pydantic\\json_schema.py:2191: PydanticJsonSchemaWarning: Default value default=PydanticUndefined description='マスキング後の文章。「マスキング後の文章:・・・」となっている文章をここのafter_maskingフィールドに格納する' extra={} is not JSON serializable; excluding default from JSON schema [non-serializable-default]\n",
      "  warnings.warn(message, PydanticJsonSchemaWarning)\n"
     ]
    },
    {
     "name": "stdout",
     "output_type": "stream",
     "text": [
      "48件目のマスキングデータを生成完了\n",
      "49件目のマスキングデータを生成開始\n"
     ]
    },
    {
     "name": "stderr",
     "output_type": "stream",
     "text": [
      "c:\\Users\\YukiYamanaka\\AppData\\Local\\Programs\\Python\\Python311\\Lib\\site-packages\\pydantic\\json_schema.py:2191: PydanticJsonSchemaWarning: Default value default=PydanticUndefined description='マスキング前の文章。「マスキング前の文章:・・・」となっている文章をここのbefore_maskingフィールドに格納する' extra={} is not JSON serializable; excluding default from JSON schema [non-serializable-default]\n",
      "  warnings.warn(message, PydanticJsonSchemaWarning)\n",
      "c:\\Users\\YukiYamanaka\\AppData\\Local\\Programs\\Python\\Python311\\Lib\\site-packages\\pydantic\\json_schema.py:2191: PydanticJsonSchemaWarning: Default value default=PydanticUndefined description='マスキング後の文章。「マスキング後の文章:・・・」となっている文章をここのafter_maskingフィールドに格納する' extra={} is not JSON serializable; excluding default from JSON schema [non-serializable-default]\n",
      "  warnings.warn(message, PydanticJsonSchemaWarning)\n",
      "c:\\Users\\YukiYamanaka\\AppData\\Local\\Programs\\Python\\Python311\\Lib\\site-packages\\pydantic\\json_schema.py:2191: PydanticJsonSchemaWarning: Default value default=PydanticUndefined description='マスキング前の文章。「マスキング前の文章:・・・」となっている文章をここのbefore_maskingフィールドに格納する' extra={} is not JSON serializable; excluding default from JSON schema [non-serializable-default]\n",
      "  warnings.warn(message, PydanticJsonSchemaWarning)\n",
      "c:\\Users\\YukiYamanaka\\AppData\\Local\\Programs\\Python\\Python311\\Lib\\site-packages\\pydantic\\json_schema.py:2191: PydanticJsonSchemaWarning: Default value default=PydanticUndefined description='マスキング後の文章。「マスキング後の文章:・・・」となっている文章をここのafter_maskingフィールドに格納する' extra={} is not JSON serializable; excluding default from JSON schema [non-serializable-default]\n",
      "  warnings.warn(message, PydanticJsonSchemaWarning)\n"
     ]
    },
    {
     "name": "stdout",
     "output_type": "stream",
     "text": [
      "49件目のマスキングデータを生成完了\n",
      "50件目のマスキングデータを生成開始\n"
     ]
    },
    {
     "name": "stderr",
     "output_type": "stream",
     "text": [
      "c:\\Users\\YukiYamanaka\\AppData\\Local\\Programs\\Python\\Python311\\Lib\\site-packages\\pydantic\\json_schema.py:2191: PydanticJsonSchemaWarning: Default value default=PydanticUndefined description='マスキング前の文章。「マスキング前の文章:・・・」となっている文章をここのbefore_maskingフィールドに格納する' extra={} is not JSON serializable; excluding default from JSON schema [non-serializable-default]\n",
      "  warnings.warn(message, PydanticJsonSchemaWarning)\n",
      "c:\\Users\\YukiYamanaka\\AppData\\Local\\Programs\\Python\\Python311\\Lib\\site-packages\\pydantic\\json_schema.py:2191: PydanticJsonSchemaWarning: Default value default=PydanticUndefined description='マスキング後の文章。「マスキング後の文章:・・・」となっている文章をここのafter_maskingフィールドに格納する' extra={} is not JSON serializable; excluding default from JSON schema [non-serializable-default]\n",
      "  warnings.warn(message, PydanticJsonSchemaWarning)\n",
      "c:\\Users\\YukiYamanaka\\AppData\\Local\\Programs\\Python\\Python311\\Lib\\site-packages\\pydantic\\json_schema.py:2191: PydanticJsonSchemaWarning: Default value default=PydanticUndefined description='マスキング前の文章。「マスキング前の文章:・・・」となっている文章をここのbefore_maskingフィールドに格納する' extra={} is not JSON serializable; excluding default from JSON schema [non-serializable-default]\n",
      "  warnings.warn(message, PydanticJsonSchemaWarning)\n",
      "c:\\Users\\YukiYamanaka\\AppData\\Local\\Programs\\Python\\Python311\\Lib\\site-packages\\pydantic\\json_schema.py:2191: PydanticJsonSchemaWarning: Default value default=PydanticUndefined description='マスキング後の文章。「マスキング後の文章:・・・」となっている文章をここのafter_maskingフィールドに格納する' extra={} is not JSON serializable; excluding default from JSON schema [non-serializable-default]\n",
      "  warnings.warn(message, PydanticJsonSchemaWarning)\n"
     ]
    },
    {
     "name": "stdout",
     "output_type": "stream",
     "text": [
      "50件目のマスキングデータを生成完了\n",
      "51件目のマスキングデータを生成開始\n"
     ]
    },
    {
     "name": "stderr",
     "output_type": "stream",
     "text": [
      "c:\\Users\\YukiYamanaka\\AppData\\Local\\Programs\\Python\\Python311\\Lib\\site-packages\\pydantic\\json_schema.py:2191: PydanticJsonSchemaWarning: Default value default=PydanticUndefined description='マスキング前の文章。「マスキング前の文章:・・・」となっている文章をここのbefore_maskingフィールドに格納する' extra={} is not JSON serializable; excluding default from JSON schema [non-serializable-default]\n",
      "  warnings.warn(message, PydanticJsonSchemaWarning)\n",
      "c:\\Users\\YukiYamanaka\\AppData\\Local\\Programs\\Python\\Python311\\Lib\\site-packages\\pydantic\\json_schema.py:2191: PydanticJsonSchemaWarning: Default value default=PydanticUndefined description='マスキング後の文章。「マスキング後の文章:・・・」となっている文章をここのafter_maskingフィールドに格納する' extra={} is not JSON serializable; excluding default from JSON schema [non-serializable-default]\n",
      "  warnings.warn(message, PydanticJsonSchemaWarning)\n",
      "c:\\Users\\YukiYamanaka\\AppData\\Local\\Programs\\Python\\Python311\\Lib\\site-packages\\pydantic\\json_schema.py:2191: PydanticJsonSchemaWarning: Default value default=PydanticUndefined description='マスキング前の文章。「マスキング前の文章:・・・」となっている文章をここのbefore_maskingフィールドに格納する' extra={} is not JSON serializable; excluding default from JSON schema [non-serializable-default]\n",
      "  warnings.warn(message, PydanticJsonSchemaWarning)\n",
      "c:\\Users\\YukiYamanaka\\AppData\\Local\\Programs\\Python\\Python311\\Lib\\site-packages\\pydantic\\json_schema.py:2191: PydanticJsonSchemaWarning: Default value default=PydanticUndefined description='マスキング後の文章。「マスキング後の文章:・・・」となっている文章をここのafter_maskingフィールドに格納する' extra={} is not JSON serializable; excluding default from JSON schema [non-serializable-default]\n",
      "  warnings.warn(message, PydanticJsonSchemaWarning)\n"
     ]
    },
    {
     "name": "stdout",
     "output_type": "stream",
     "text": [
      "51件目のマスキングデータを生成完了\n",
      "52件目のマスキングデータを生成開始\n"
     ]
    },
    {
     "name": "stderr",
     "output_type": "stream",
     "text": [
      "c:\\Users\\YukiYamanaka\\AppData\\Local\\Programs\\Python\\Python311\\Lib\\site-packages\\pydantic\\json_schema.py:2191: PydanticJsonSchemaWarning: Default value default=PydanticUndefined description='マスキング前の文章。「マスキング前の文章:・・・」となっている文章をここのbefore_maskingフィールドに格納する' extra={} is not JSON serializable; excluding default from JSON schema [non-serializable-default]\n",
      "  warnings.warn(message, PydanticJsonSchemaWarning)\n",
      "c:\\Users\\YukiYamanaka\\AppData\\Local\\Programs\\Python\\Python311\\Lib\\site-packages\\pydantic\\json_schema.py:2191: PydanticJsonSchemaWarning: Default value default=PydanticUndefined description='マスキング後の文章。「マスキング後の文章:・・・」となっている文章をここのafter_maskingフィールドに格納する' extra={} is not JSON serializable; excluding default from JSON schema [non-serializable-default]\n",
      "  warnings.warn(message, PydanticJsonSchemaWarning)\n",
      "c:\\Users\\YukiYamanaka\\AppData\\Local\\Programs\\Python\\Python311\\Lib\\site-packages\\pydantic\\json_schema.py:2191: PydanticJsonSchemaWarning: Default value default=PydanticUndefined description='マスキング前の文章。「マスキング前の文章:・・・」となっている文章をここのbefore_maskingフィールドに格納する' extra={} is not JSON serializable; excluding default from JSON schema [non-serializable-default]\n",
      "  warnings.warn(message, PydanticJsonSchemaWarning)\n",
      "c:\\Users\\YukiYamanaka\\AppData\\Local\\Programs\\Python\\Python311\\Lib\\site-packages\\pydantic\\json_schema.py:2191: PydanticJsonSchemaWarning: Default value default=PydanticUndefined description='マスキング後の文章。「マスキング後の文章:・・・」となっている文章をここのafter_maskingフィールドに格納する' extra={} is not JSON serializable; excluding default from JSON schema [non-serializable-default]\n",
      "  warnings.warn(message, PydanticJsonSchemaWarning)\n"
     ]
    },
    {
     "name": "stdout",
     "output_type": "stream",
     "text": [
      "52件目のマスキングデータを生成完了\n",
      "53件目のマスキングデータを生成開始\n"
     ]
    },
    {
     "name": "stderr",
     "output_type": "stream",
     "text": [
      "c:\\Users\\YukiYamanaka\\AppData\\Local\\Programs\\Python\\Python311\\Lib\\site-packages\\pydantic\\json_schema.py:2191: PydanticJsonSchemaWarning: Default value default=PydanticUndefined description='マスキング前の文章。「マスキング前の文章:・・・」となっている文章をここのbefore_maskingフィールドに格納する' extra={} is not JSON serializable; excluding default from JSON schema [non-serializable-default]\n",
      "  warnings.warn(message, PydanticJsonSchemaWarning)\n",
      "c:\\Users\\YukiYamanaka\\AppData\\Local\\Programs\\Python\\Python311\\Lib\\site-packages\\pydantic\\json_schema.py:2191: PydanticJsonSchemaWarning: Default value default=PydanticUndefined description='マスキング後の文章。「マスキング後の文章:・・・」となっている文章をここのafter_maskingフィールドに格納する' extra={} is not JSON serializable; excluding default from JSON schema [non-serializable-default]\n",
      "  warnings.warn(message, PydanticJsonSchemaWarning)\n",
      "c:\\Users\\YukiYamanaka\\AppData\\Local\\Programs\\Python\\Python311\\Lib\\site-packages\\pydantic\\json_schema.py:2191: PydanticJsonSchemaWarning: Default value default=PydanticUndefined description='マスキング前の文章。「マスキング前の文章:・・・」となっている文章をここのbefore_maskingフィールドに格納する' extra={} is not JSON serializable; excluding default from JSON schema [non-serializable-default]\n",
      "  warnings.warn(message, PydanticJsonSchemaWarning)\n",
      "c:\\Users\\YukiYamanaka\\AppData\\Local\\Programs\\Python\\Python311\\Lib\\site-packages\\pydantic\\json_schema.py:2191: PydanticJsonSchemaWarning: Default value default=PydanticUndefined description='マスキング後の文章。「マスキング後の文章:・・・」となっている文章をここのafter_maskingフィールドに格納する' extra={} is not JSON serializable; excluding default from JSON schema [non-serializable-default]\n",
      "  warnings.warn(message, PydanticJsonSchemaWarning)\n"
     ]
    },
    {
     "name": "stdout",
     "output_type": "stream",
     "text": [
      "53件目のマスキングデータを生成完了\n",
      "54件目のマスキングデータを生成開始\n"
     ]
    },
    {
     "name": "stderr",
     "output_type": "stream",
     "text": [
      "c:\\Users\\YukiYamanaka\\AppData\\Local\\Programs\\Python\\Python311\\Lib\\site-packages\\pydantic\\json_schema.py:2191: PydanticJsonSchemaWarning: Default value default=PydanticUndefined description='マスキング前の文章。「マスキング前の文章:・・・」となっている文章をここのbefore_maskingフィールドに格納する' extra={} is not JSON serializable; excluding default from JSON schema [non-serializable-default]\n",
      "  warnings.warn(message, PydanticJsonSchemaWarning)\n",
      "c:\\Users\\YukiYamanaka\\AppData\\Local\\Programs\\Python\\Python311\\Lib\\site-packages\\pydantic\\json_schema.py:2191: PydanticJsonSchemaWarning: Default value default=PydanticUndefined description='マスキング後の文章。「マスキング後の文章:・・・」となっている文章をここのafter_maskingフィールドに格納する' extra={} is not JSON serializable; excluding default from JSON schema [non-serializable-default]\n",
      "  warnings.warn(message, PydanticJsonSchemaWarning)\n",
      "c:\\Users\\YukiYamanaka\\AppData\\Local\\Programs\\Python\\Python311\\Lib\\site-packages\\pydantic\\json_schema.py:2191: PydanticJsonSchemaWarning: Default value default=PydanticUndefined description='マスキング前の文章。「マスキング前の文章:・・・」となっている文章をここのbefore_maskingフィールドに格納する' extra={} is not JSON serializable; excluding default from JSON schema [non-serializable-default]\n",
      "  warnings.warn(message, PydanticJsonSchemaWarning)\n",
      "c:\\Users\\YukiYamanaka\\AppData\\Local\\Programs\\Python\\Python311\\Lib\\site-packages\\pydantic\\json_schema.py:2191: PydanticJsonSchemaWarning: Default value default=PydanticUndefined description='マスキング後の文章。「マスキング後の文章:・・・」となっている文章をここのafter_maskingフィールドに格納する' extra={} is not JSON serializable; excluding default from JSON schema [non-serializable-default]\n",
      "  warnings.warn(message, PydanticJsonSchemaWarning)\n"
     ]
    },
    {
     "name": "stdout",
     "output_type": "stream",
     "text": [
      "54件目のマスキングデータを生成完了\n",
      "55件目のマスキングデータを生成開始\n"
     ]
    },
    {
     "name": "stderr",
     "output_type": "stream",
     "text": [
      "c:\\Users\\YukiYamanaka\\AppData\\Local\\Programs\\Python\\Python311\\Lib\\site-packages\\pydantic\\json_schema.py:2191: PydanticJsonSchemaWarning: Default value default=PydanticUndefined description='マスキング前の文章。「マスキング前の文章:・・・」となっている文章をここのbefore_maskingフィールドに格納する' extra={} is not JSON serializable; excluding default from JSON schema [non-serializable-default]\n",
      "  warnings.warn(message, PydanticJsonSchemaWarning)\n",
      "c:\\Users\\YukiYamanaka\\AppData\\Local\\Programs\\Python\\Python311\\Lib\\site-packages\\pydantic\\json_schema.py:2191: PydanticJsonSchemaWarning: Default value default=PydanticUndefined description='マスキング後の文章。「マスキング後の文章:・・・」となっている文章をここのafter_maskingフィールドに格納する' extra={} is not JSON serializable; excluding default from JSON schema [non-serializable-default]\n",
      "  warnings.warn(message, PydanticJsonSchemaWarning)\n",
      "c:\\Users\\YukiYamanaka\\AppData\\Local\\Programs\\Python\\Python311\\Lib\\site-packages\\pydantic\\json_schema.py:2191: PydanticJsonSchemaWarning: Default value default=PydanticUndefined description='マスキング前の文章。「マスキング前の文章:・・・」となっている文章をここのbefore_maskingフィールドに格納する' extra={} is not JSON serializable; excluding default from JSON schema [non-serializable-default]\n",
      "  warnings.warn(message, PydanticJsonSchemaWarning)\n",
      "c:\\Users\\YukiYamanaka\\AppData\\Local\\Programs\\Python\\Python311\\Lib\\site-packages\\pydantic\\json_schema.py:2191: PydanticJsonSchemaWarning: Default value default=PydanticUndefined description='マスキング後の文章。「マスキング後の文章:・・・」となっている文章をここのafter_maskingフィールドに格納する' extra={} is not JSON serializable; excluding default from JSON schema [non-serializable-default]\n",
      "  warnings.warn(message, PydanticJsonSchemaWarning)\n"
     ]
    },
    {
     "name": "stdout",
     "output_type": "stream",
     "text": [
      "55件目のマスキングデータを生成完了\n",
      "56件目のマスキングデータを生成開始\n"
     ]
    },
    {
     "name": "stderr",
     "output_type": "stream",
     "text": [
      "c:\\Users\\YukiYamanaka\\AppData\\Local\\Programs\\Python\\Python311\\Lib\\site-packages\\pydantic\\json_schema.py:2191: PydanticJsonSchemaWarning: Default value default=PydanticUndefined description='マスキング前の文章。「マスキング前の文章:・・・」となっている文章をここのbefore_maskingフィールドに格納する' extra={} is not JSON serializable; excluding default from JSON schema [non-serializable-default]\n",
      "  warnings.warn(message, PydanticJsonSchemaWarning)\n",
      "c:\\Users\\YukiYamanaka\\AppData\\Local\\Programs\\Python\\Python311\\Lib\\site-packages\\pydantic\\json_schema.py:2191: PydanticJsonSchemaWarning: Default value default=PydanticUndefined description='マスキング後の文章。「マスキング後の文章:・・・」となっている文章をここのafter_maskingフィールドに格納する' extra={} is not JSON serializable; excluding default from JSON schema [non-serializable-default]\n",
      "  warnings.warn(message, PydanticJsonSchemaWarning)\n",
      "c:\\Users\\YukiYamanaka\\AppData\\Local\\Programs\\Python\\Python311\\Lib\\site-packages\\pydantic\\json_schema.py:2191: PydanticJsonSchemaWarning: Default value default=PydanticUndefined description='マスキング前の文章。「マスキング前の文章:・・・」となっている文章をここのbefore_maskingフィールドに格納する' extra={} is not JSON serializable; excluding default from JSON schema [non-serializable-default]\n",
      "  warnings.warn(message, PydanticJsonSchemaWarning)\n",
      "c:\\Users\\YukiYamanaka\\AppData\\Local\\Programs\\Python\\Python311\\Lib\\site-packages\\pydantic\\json_schema.py:2191: PydanticJsonSchemaWarning: Default value default=PydanticUndefined description='マスキング後の文章。「マスキング後の文章:・・・」となっている文章をここのafter_maskingフィールドに格納する' extra={} is not JSON serializable; excluding default from JSON schema [non-serializable-default]\n",
      "  warnings.warn(message, PydanticJsonSchemaWarning)\n"
     ]
    },
    {
     "name": "stdout",
     "output_type": "stream",
     "text": [
      "56件目のマスキングデータを生成完了\n",
      "57件目のマスキングデータを生成開始\n"
     ]
    },
    {
     "name": "stderr",
     "output_type": "stream",
     "text": [
      "c:\\Users\\YukiYamanaka\\AppData\\Local\\Programs\\Python\\Python311\\Lib\\site-packages\\pydantic\\json_schema.py:2191: PydanticJsonSchemaWarning: Default value default=PydanticUndefined description='マスキング前の文章。「マスキング前の文章:・・・」となっている文章をここのbefore_maskingフィールドに格納する' extra={} is not JSON serializable; excluding default from JSON schema [non-serializable-default]\n",
      "  warnings.warn(message, PydanticJsonSchemaWarning)\n",
      "c:\\Users\\YukiYamanaka\\AppData\\Local\\Programs\\Python\\Python311\\Lib\\site-packages\\pydantic\\json_schema.py:2191: PydanticJsonSchemaWarning: Default value default=PydanticUndefined description='マスキング後の文章。「マスキング後の文章:・・・」となっている文章をここのafter_maskingフィールドに格納する' extra={} is not JSON serializable; excluding default from JSON schema [non-serializable-default]\n",
      "  warnings.warn(message, PydanticJsonSchemaWarning)\n",
      "c:\\Users\\YukiYamanaka\\AppData\\Local\\Programs\\Python\\Python311\\Lib\\site-packages\\pydantic\\json_schema.py:2191: PydanticJsonSchemaWarning: Default value default=PydanticUndefined description='マスキング前の文章。「マスキング前の文章:・・・」となっている文章をここのbefore_maskingフィールドに格納する' extra={} is not JSON serializable; excluding default from JSON schema [non-serializable-default]\n",
      "  warnings.warn(message, PydanticJsonSchemaWarning)\n",
      "c:\\Users\\YukiYamanaka\\AppData\\Local\\Programs\\Python\\Python311\\Lib\\site-packages\\pydantic\\json_schema.py:2191: PydanticJsonSchemaWarning: Default value default=PydanticUndefined description='マスキング後の文章。「マスキング後の文章:・・・」となっている文章をここのafter_maskingフィールドに格納する' extra={} is not JSON serializable; excluding default from JSON schema [non-serializable-default]\n",
      "  warnings.warn(message, PydanticJsonSchemaWarning)\n"
     ]
    },
    {
     "name": "stdout",
     "output_type": "stream",
     "text": [
      "57件目のマスキングデータを生成完了\n",
      "58件目のマスキングデータを生成開始\n"
     ]
    },
    {
     "name": "stderr",
     "output_type": "stream",
     "text": [
      "c:\\Users\\YukiYamanaka\\AppData\\Local\\Programs\\Python\\Python311\\Lib\\site-packages\\pydantic\\json_schema.py:2191: PydanticJsonSchemaWarning: Default value default=PydanticUndefined description='マスキング前の文章。「マスキング前の文章:・・・」となっている文章をここのbefore_maskingフィールドに格納する' extra={} is not JSON serializable; excluding default from JSON schema [non-serializable-default]\n",
      "  warnings.warn(message, PydanticJsonSchemaWarning)\n",
      "c:\\Users\\YukiYamanaka\\AppData\\Local\\Programs\\Python\\Python311\\Lib\\site-packages\\pydantic\\json_schema.py:2191: PydanticJsonSchemaWarning: Default value default=PydanticUndefined description='マスキング後の文章。「マスキング後の文章:・・・」となっている文章をここのafter_maskingフィールドに格納する' extra={} is not JSON serializable; excluding default from JSON schema [non-serializable-default]\n",
      "  warnings.warn(message, PydanticJsonSchemaWarning)\n",
      "c:\\Users\\YukiYamanaka\\AppData\\Local\\Programs\\Python\\Python311\\Lib\\site-packages\\pydantic\\json_schema.py:2191: PydanticJsonSchemaWarning: Default value default=PydanticUndefined description='マスキング前の文章。「マスキング前の文章:・・・」となっている文章をここのbefore_maskingフィールドに格納する' extra={} is not JSON serializable; excluding default from JSON schema [non-serializable-default]\n",
      "  warnings.warn(message, PydanticJsonSchemaWarning)\n",
      "c:\\Users\\YukiYamanaka\\AppData\\Local\\Programs\\Python\\Python311\\Lib\\site-packages\\pydantic\\json_schema.py:2191: PydanticJsonSchemaWarning: Default value default=PydanticUndefined description='マスキング後の文章。「マスキング後の文章:・・・」となっている文章をここのafter_maskingフィールドに格納する' extra={} is not JSON serializable; excluding default from JSON schema [non-serializable-default]\n",
      "  warnings.warn(message, PydanticJsonSchemaWarning)\n"
     ]
    },
    {
     "name": "stdout",
     "output_type": "stream",
     "text": [
      "58件目のマスキングデータを生成完了\n",
      "59件目のマスキングデータを生成開始\n"
     ]
    },
    {
     "name": "stderr",
     "output_type": "stream",
     "text": [
      "c:\\Users\\YukiYamanaka\\AppData\\Local\\Programs\\Python\\Python311\\Lib\\site-packages\\pydantic\\json_schema.py:2191: PydanticJsonSchemaWarning: Default value default=PydanticUndefined description='マスキング前の文章。「マスキング前の文章:・・・」となっている文章をここのbefore_maskingフィールドに格納する' extra={} is not JSON serializable; excluding default from JSON schema [non-serializable-default]\n",
      "  warnings.warn(message, PydanticJsonSchemaWarning)\n",
      "c:\\Users\\YukiYamanaka\\AppData\\Local\\Programs\\Python\\Python311\\Lib\\site-packages\\pydantic\\json_schema.py:2191: PydanticJsonSchemaWarning: Default value default=PydanticUndefined description='マスキング後の文章。「マスキング後の文章:・・・」となっている文章をここのafter_maskingフィールドに格納する' extra={} is not JSON serializable; excluding default from JSON schema [non-serializable-default]\n",
      "  warnings.warn(message, PydanticJsonSchemaWarning)\n",
      "c:\\Users\\YukiYamanaka\\AppData\\Local\\Programs\\Python\\Python311\\Lib\\site-packages\\pydantic\\json_schema.py:2191: PydanticJsonSchemaWarning: Default value default=PydanticUndefined description='マスキング前の文章。「マスキング前の文章:・・・」となっている文章をここのbefore_maskingフィールドに格納する' extra={} is not JSON serializable; excluding default from JSON schema [non-serializable-default]\n",
      "  warnings.warn(message, PydanticJsonSchemaWarning)\n",
      "c:\\Users\\YukiYamanaka\\AppData\\Local\\Programs\\Python\\Python311\\Lib\\site-packages\\pydantic\\json_schema.py:2191: PydanticJsonSchemaWarning: Default value default=PydanticUndefined description='マスキング後の文章。「マスキング後の文章:・・・」となっている文章をここのafter_maskingフィールドに格納する' extra={} is not JSON serializable; excluding default from JSON schema [non-serializable-default]\n",
      "  warnings.warn(message, PydanticJsonSchemaWarning)\n"
     ]
    },
    {
     "name": "stdout",
     "output_type": "stream",
     "text": [
      "59件目のマスキングデータを生成完了\n",
      "60件目のマスキングデータを生成開始\n"
     ]
    },
    {
     "name": "stderr",
     "output_type": "stream",
     "text": [
      "c:\\Users\\YukiYamanaka\\AppData\\Local\\Programs\\Python\\Python311\\Lib\\site-packages\\pydantic\\json_schema.py:2191: PydanticJsonSchemaWarning: Default value default=PydanticUndefined description='マスキング前の文章。「マスキング前の文章:・・・」となっている文章をここのbefore_maskingフィールドに格納する' extra={} is not JSON serializable; excluding default from JSON schema [non-serializable-default]\n",
      "  warnings.warn(message, PydanticJsonSchemaWarning)\n",
      "c:\\Users\\YukiYamanaka\\AppData\\Local\\Programs\\Python\\Python311\\Lib\\site-packages\\pydantic\\json_schema.py:2191: PydanticJsonSchemaWarning: Default value default=PydanticUndefined description='マスキング後の文章。「マスキング後の文章:・・・」となっている文章をここのafter_maskingフィールドに格納する' extra={} is not JSON serializable; excluding default from JSON schema [non-serializable-default]\n",
      "  warnings.warn(message, PydanticJsonSchemaWarning)\n",
      "c:\\Users\\YukiYamanaka\\AppData\\Local\\Programs\\Python\\Python311\\Lib\\site-packages\\pydantic\\json_schema.py:2191: PydanticJsonSchemaWarning: Default value default=PydanticUndefined description='マスキング前の文章。「マスキング前の文章:・・・」となっている文章をここのbefore_maskingフィールドに格納する' extra={} is not JSON serializable; excluding default from JSON schema [non-serializable-default]\n",
      "  warnings.warn(message, PydanticJsonSchemaWarning)\n",
      "c:\\Users\\YukiYamanaka\\AppData\\Local\\Programs\\Python\\Python311\\Lib\\site-packages\\pydantic\\json_schema.py:2191: PydanticJsonSchemaWarning: Default value default=PydanticUndefined description='マスキング後の文章。「マスキング後の文章:・・・」となっている文章をここのafter_maskingフィールドに格納する' extra={} is not JSON serializable; excluding default from JSON schema [non-serializable-default]\n",
      "  warnings.warn(message, PydanticJsonSchemaWarning)\n"
     ]
    },
    {
     "name": "stdout",
     "output_type": "stream",
     "text": [
      "60件目のマスキングデータを生成完了\n",
      "61件目のマスキングデータを生成開始\n"
     ]
    },
    {
     "name": "stderr",
     "output_type": "stream",
     "text": [
      "c:\\Users\\YukiYamanaka\\AppData\\Local\\Programs\\Python\\Python311\\Lib\\site-packages\\pydantic\\json_schema.py:2191: PydanticJsonSchemaWarning: Default value default=PydanticUndefined description='マスキング前の文章。「マスキング前の文章:・・・」となっている文章をここのbefore_maskingフィールドに格納する' extra={} is not JSON serializable; excluding default from JSON schema [non-serializable-default]\n",
      "  warnings.warn(message, PydanticJsonSchemaWarning)\n",
      "c:\\Users\\YukiYamanaka\\AppData\\Local\\Programs\\Python\\Python311\\Lib\\site-packages\\pydantic\\json_schema.py:2191: PydanticJsonSchemaWarning: Default value default=PydanticUndefined description='マスキング後の文章。「マスキング後の文章:・・・」となっている文章をここのafter_maskingフィールドに格納する' extra={} is not JSON serializable; excluding default from JSON schema [non-serializable-default]\n",
      "  warnings.warn(message, PydanticJsonSchemaWarning)\n",
      "c:\\Users\\YukiYamanaka\\AppData\\Local\\Programs\\Python\\Python311\\Lib\\site-packages\\pydantic\\json_schema.py:2191: PydanticJsonSchemaWarning: Default value default=PydanticUndefined description='マスキング前の文章。「マスキング前の文章:・・・」となっている文章をここのbefore_maskingフィールドに格納する' extra={} is not JSON serializable; excluding default from JSON schema [non-serializable-default]\n",
      "  warnings.warn(message, PydanticJsonSchemaWarning)\n",
      "c:\\Users\\YukiYamanaka\\AppData\\Local\\Programs\\Python\\Python311\\Lib\\site-packages\\pydantic\\json_schema.py:2191: PydanticJsonSchemaWarning: Default value default=PydanticUndefined description='マスキング後の文章。「マスキング後の文章:・・・」となっている文章をここのafter_maskingフィールドに格納する' extra={} is not JSON serializable; excluding default from JSON schema [non-serializable-default]\n",
      "  warnings.warn(message, PydanticJsonSchemaWarning)\n"
     ]
    },
    {
     "name": "stdout",
     "output_type": "stream",
     "text": [
      "61件目のマスキングデータを生成完了\n",
      "62件目のマスキングデータを生成開始\n"
     ]
    },
    {
     "name": "stderr",
     "output_type": "stream",
     "text": [
      "c:\\Users\\YukiYamanaka\\AppData\\Local\\Programs\\Python\\Python311\\Lib\\site-packages\\pydantic\\json_schema.py:2191: PydanticJsonSchemaWarning: Default value default=PydanticUndefined description='マスキング前の文章。「マスキング前の文章:・・・」となっている文章をここのbefore_maskingフィールドに格納する' extra={} is not JSON serializable; excluding default from JSON schema [non-serializable-default]\n",
      "  warnings.warn(message, PydanticJsonSchemaWarning)\n",
      "c:\\Users\\YukiYamanaka\\AppData\\Local\\Programs\\Python\\Python311\\Lib\\site-packages\\pydantic\\json_schema.py:2191: PydanticJsonSchemaWarning: Default value default=PydanticUndefined description='マスキング後の文章。「マスキング後の文章:・・・」となっている文章をここのafter_maskingフィールドに格納する' extra={} is not JSON serializable; excluding default from JSON schema [non-serializable-default]\n",
      "  warnings.warn(message, PydanticJsonSchemaWarning)\n",
      "c:\\Users\\YukiYamanaka\\AppData\\Local\\Programs\\Python\\Python311\\Lib\\site-packages\\pydantic\\json_schema.py:2191: PydanticJsonSchemaWarning: Default value default=PydanticUndefined description='マスキング前の文章。「マスキング前の文章:・・・」となっている文章をここのbefore_maskingフィールドに格納する' extra={} is not JSON serializable; excluding default from JSON schema [non-serializable-default]\n",
      "  warnings.warn(message, PydanticJsonSchemaWarning)\n",
      "c:\\Users\\YukiYamanaka\\AppData\\Local\\Programs\\Python\\Python311\\Lib\\site-packages\\pydantic\\json_schema.py:2191: PydanticJsonSchemaWarning: Default value default=PydanticUndefined description='マスキング後の文章。「マスキング後の文章:・・・」となっている文章をここのafter_maskingフィールドに格納する' extra={} is not JSON serializable; excluding default from JSON schema [non-serializable-default]\n",
      "  warnings.warn(message, PydanticJsonSchemaWarning)\n"
     ]
    },
    {
     "name": "stdout",
     "output_type": "stream",
     "text": [
      "62件目のマスキングデータを生成完了\n",
      "63件目のマスキングデータを生成開始\n"
     ]
    },
    {
     "name": "stderr",
     "output_type": "stream",
     "text": [
      "c:\\Users\\YukiYamanaka\\AppData\\Local\\Programs\\Python\\Python311\\Lib\\site-packages\\pydantic\\json_schema.py:2191: PydanticJsonSchemaWarning: Default value default=PydanticUndefined description='マスキング前の文章。「マスキング前の文章:・・・」となっている文章をここのbefore_maskingフィールドに格納する' extra={} is not JSON serializable; excluding default from JSON schema [non-serializable-default]\n",
      "  warnings.warn(message, PydanticJsonSchemaWarning)\n",
      "c:\\Users\\YukiYamanaka\\AppData\\Local\\Programs\\Python\\Python311\\Lib\\site-packages\\pydantic\\json_schema.py:2191: PydanticJsonSchemaWarning: Default value default=PydanticUndefined description='マスキング後の文章。「マスキング後の文章:・・・」となっている文章をここのafter_maskingフィールドに格納する' extra={} is not JSON serializable; excluding default from JSON schema [non-serializable-default]\n",
      "  warnings.warn(message, PydanticJsonSchemaWarning)\n",
      "c:\\Users\\YukiYamanaka\\AppData\\Local\\Programs\\Python\\Python311\\Lib\\site-packages\\pydantic\\json_schema.py:2191: PydanticJsonSchemaWarning: Default value default=PydanticUndefined description='マスキング前の文章。「マスキング前の文章:・・・」となっている文章をここのbefore_maskingフィールドに格納する' extra={} is not JSON serializable; excluding default from JSON schema [non-serializable-default]\n",
      "  warnings.warn(message, PydanticJsonSchemaWarning)\n",
      "c:\\Users\\YukiYamanaka\\AppData\\Local\\Programs\\Python\\Python311\\Lib\\site-packages\\pydantic\\json_schema.py:2191: PydanticJsonSchemaWarning: Default value default=PydanticUndefined description='マスキング後の文章。「マスキング後の文章:・・・」となっている文章をここのafter_maskingフィールドに格納する' extra={} is not JSON serializable; excluding default from JSON schema [non-serializable-default]\n",
      "  warnings.warn(message, PydanticJsonSchemaWarning)\n"
     ]
    },
    {
     "name": "stdout",
     "output_type": "stream",
     "text": [
      "63件目のマスキングデータを生成完了\n",
      "64件目のマスキングデータを生成開始\n"
     ]
    },
    {
     "name": "stderr",
     "output_type": "stream",
     "text": [
      "c:\\Users\\YukiYamanaka\\AppData\\Local\\Programs\\Python\\Python311\\Lib\\site-packages\\pydantic\\json_schema.py:2191: PydanticJsonSchemaWarning: Default value default=PydanticUndefined description='マスキング前の文章。「マスキング前の文章:・・・」となっている文章をここのbefore_maskingフィールドに格納する' extra={} is not JSON serializable; excluding default from JSON schema [non-serializable-default]\n",
      "  warnings.warn(message, PydanticJsonSchemaWarning)\n",
      "c:\\Users\\YukiYamanaka\\AppData\\Local\\Programs\\Python\\Python311\\Lib\\site-packages\\pydantic\\json_schema.py:2191: PydanticJsonSchemaWarning: Default value default=PydanticUndefined description='マスキング後の文章。「マスキング後の文章:・・・」となっている文章をここのafter_maskingフィールドに格納する' extra={} is not JSON serializable; excluding default from JSON schema [non-serializable-default]\n",
      "  warnings.warn(message, PydanticJsonSchemaWarning)\n",
      "c:\\Users\\YukiYamanaka\\AppData\\Local\\Programs\\Python\\Python311\\Lib\\site-packages\\pydantic\\json_schema.py:2191: PydanticJsonSchemaWarning: Default value default=PydanticUndefined description='マスキング前の文章。「マスキング前の文章:・・・」となっている文章をここのbefore_maskingフィールドに格納する' extra={} is not JSON serializable; excluding default from JSON schema [non-serializable-default]\n",
      "  warnings.warn(message, PydanticJsonSchemaWarning)\n",
      "c:\\Users\\YukiYamanaka\\AppData\\Local\\Programs\\Python\\Python311\\Lib\\site-packages\\pydantic\\json_schema.py:2191: PydanticJsonSchemaWarning: Default value default=PydanticUndefined description='マスキング後の文章。「マスキング後の文章:・・・」となっている文章をここのafter_maskingフィールドに格納する' extra={} is not JSON serializable; excluding default from JSON schema [non-serializable-default]\n",
      "  warnings.warn(message, PydanticJsonSchemaWarning)\n"
     ]
    },
    {
     "name": "stdout",
     "output_type": "stream",
     "text": [
      "64件目のマスキングデータを生成完了\n",
      "65件目のマスキングデータを生成開始\n"
     ]
    },
    {
     "name": "stderr",
     "output_type": "stream",
     "text": [
      "c:\\Users\\YukiYamanaka\\AppData\\Local\\Programs\\Python\\Python311\\Lib\\site-packages\\pydantic\\json_schema.py:2191: PydanticJsonSchemaWarning: Default value default=PydanticUndefined description='マスキング前の文章。「マスキング前の文章:・・・」となっている文章をここのbefore_maskingフィールドに格納する' extra={} is not JSON serializable; excluding default from JSON schema [non-serializable-default]\n",
      "  warnings.warn(message, PydanticJsonSchemaWarning)\n",
      "c:\\Users\\YukiYamanaka\\AppData\\Local\\Programs\\Python\\Python311\\Lib\\site-packages\\pydantic\\json_schema.py:2191: PydanticJsonSchemaWarning: Default value default=PydanticUndefined description='マスキング後の文章。「マスキング後の文章:・・・」となっている文章をここのafter_maskingフィールドに格納する' extra={} is not JSON serializable; excluding default from JSON schema [non-serializable-default]\n",
      "  warnings.warn(message, PydanticJsonSchemaWarning)\n",
      "c:\\Users\\YukiYamanaka\\AppData\\Local\\Programs\\Python\\Python311\\Lib\\site-packages\\pydantic\\json_schema.py:2191: PydanticJsonSchemaWarning: Default value default=PydanticUndefined description='マスキング前の文章。「マスキング前の文章:・・・」となっている文章をここのbefore_maskingフィールドに格納する' extra={} is not JSON serializable; excluding default from JSON schema [non-serializable-default]\n",
      "  warnings.warn(message, PydanticJsonSchemaWarning)\n",
      "c:\\Users\\YukiYamanaka\\AppData\\Local\\Programs\\Python\\Python311\\Lib\\site-packages\\pydantic\\json_schema.py:2191: PydanticJsonSchemaWarning: Default value default=PydanticUndefined description='マスキング後の文章。「マスキング後の文章:・・・」となっている文章をここのafter_maskingフィールドに格納する' extra={} is not JSON serializable; excluding default from JSON schema [non-serializable-default]\n",
      "  warnings.warn(message, PydanticJsonSchemaWarning)\n"
     ]
    },
    {
     "name": "stdout",
     "output_type": "stream",
     "text": [
      "65件目のマスキングデータを生成完了\n",
      "66件目のマスキングデータを生成開始\n"
     ]
    },
    {
     "name": "stderr",
     "output_type": "stream",
     "text": [
      "c:\\Users\\YukiYamanaka\\AppData\\Local\\Programs\\Python\\Python311\\Lib\\site-packages\\pydantic\\json_schema.py:2191: PydanticJsonSchemaWarning: Default value default=PydanticUndefined description='マスキング前の文章。「マスキング前の文章:・・・」となっている文章をここのbefore_maskingフィールドに格納する' extra={} is not JSON serializable; excluding default from JSON schema [non-serializable-default]\n",
      "  warnings.warn(message, PydanticJsonSchemaWarning)\n",
      "c:\\Users\\YukiYamanaka\\AppData\\Local\\Programs\\Python\\Python311\\Lib\\site-packages\\pydantic\\json_schema.py:2191: PydanticJsonSchemaWarning: Default value default=PydanticUndefined description='マスキング後の文章。「マスキング後の文章:・・・」となっている文章をここのafter_maskingフィールドに格納する' extra={} is not JSON serializable; excluding default from JSON schema [non-serializable-default]\n",
      "  warnings.warn(message, PydanticJsonSchemaWarning)\n",
      "c:\\Users\\YukiYamanaka\\AppData\\Local\\Programs\\Python\\Python311\\Lib\\site-packages\\pydantic\\json_schema.py:2191: PydanticJsonSchemaWarning: Default value default=PydanticUndefined description='マスキング前の文章。「マスキング前の文章:・・・」となっている文章をここのbefore_maskingフィールドに格納する' extra={} is not JSON serializable; excluding default from JSON schema [non-serializable-default]\n",
      "  warnings.warn(message, PydanticJsonSchemaWarning)\n",
      "c:\\Users\\YukiYamanaka\\AppData\\Local\\Programs\\Python\\Python311\\Lib\\site-packages\\pydantic\\json_schema.py:2191: PydanticJsonSchemaWarning: Default value default=PydanticUndefined description='マスキング後の文章。「マスキング後の文章:・・・」となっている文章をここのafter_maskingフィールドに格納する' extra={} is not JSON serializable; excluding default from JSON schema [non-serializable-default]\n",
      "  warnings.warn(message, PydanticJsonSchemaWarning)\n"
     ]
    },
    {
     "name": "stdout",
     "output_type": "stream",
     "text": [
      "66件目のマスキングデータを生成完了\n",
      "67件目のマスキングデータを生成開始\n"
     ]
    },
    {
     "name": "stderr",
     "output_type": "stream",
     "text": [
      "c:\\Users\\YukiYamanaka\\AppData\\Local\\Programs\\Python\\Python311\\Lib\\site-packages\\pydantic\\json_schema.py:2191: PydanticJsonSchemaWarning: Default value default=PydanticUndefined description='マスキング前の文章。「マスキング前の文章:・・・」となっている文章をここのbefore_maskingフィールドに格納する' extra={} is not JSON serializable; excluding default from JSON schema [non-serializable-default]\n",
      "  warnings.warn(message, PydanticJsonSchemaWarning)\n",
      "c:\\Users\\YukiYamanaka\\AppData\\Local\\Programs\\Python\\Python311\\Lib\\site-packages\\pydantic\\json_schema.py:2191: PydanticJsonSchemaWarning: Default value default=PydanticUndefined description='マスキング後の文章。「マスキング後の文章:・・・」となっている文章をここのafter_maskingフィールドに格納する' extra={} is not JSON serializable; excluding default from JSON schema [non-serializable-default]\n",
      "  warnings.warn(message, PydanticJsonSchemaWarning)\n",
      "c:\\Users\\YukiYamanaka\\AppData\\Local\\Programs\\Python\\Python311\\Lib\\site-packages\\pydantic\\json_schema.py:2191: PydanticJsonSchemaWarning: Default value default=PydanticUndefined description='マスキング前の文章。「マスキング前の文章:・・・」となっている文章をここのbefore_maskingフィールドに格納する' extra={} is not JSON serializable; excluding default from JSON schema [non-serializable-default]\n",
      "  warnings.warn(message, PydanticJsonSchemaWarning)\n",
      "c:\\Users\\YukiYamanaka\\AppData\\Local\\Programs\\Python\\Python311\\Lib\\site-packages\\pydantic\\json_schema.py:2191: PydanticJsonSchemaWarning: Default value default=PydanticUndefined description='マスキング後の文章。「マスキング後の文章:・・・」となっている文章をここのafter_maskingフィールドに格納する' extra={} is not JSON serializable; excluding default from JSON schema [non-serializable-default]\n",
      "  warnings.warn(message, PydanticJsonSchemaWarning)\n"
     ]
    },
    {
     "name": "stdout",
     "output_type": "stream",
     "text": [
      "67件目のマスキングデータを生成完了\n",
      "68件目のマスキングデータを生成開始\n"
     ]
    },
    {
     "name": "stderr",
     "output_type": "stream",
     "text": [
      "c:\\Users\\YukiYamanaka\\AppData\\Local\\Programs\\Python\\Python311\\Lib\\site-packages\\pydantic\\json_schema.py:2191: PydanticJsonSchemaWarning: Default value default=PydanticUndefined description='マスキング前の文章。「マスキング前の文章:・・・」となっている文章をここのbefore_maskingフィールドに格納する' extra={} is not JSON serializable; excluding default from JSON schema [non-serializable-default]\n",
      "  warnings.warn(message, PydanticJsonSchemaWarning)\n",
      "c:\\Users\\YukiYamanaka\\AppData\\Local\\Programs\\Python\\Python311\\Lib\\site-packages\\pydantic\\json_schema.py:2191: PydanticJsonSchemaWarning: Default value default=PydanticUndefined description='マスキング後の文章。「マスキング後の文章:・・・」となっている文章をここのafter_maskingフィールドに格納する' extra={} is not JSON serializable; excluding default from JSON schema [non-serializable-default]\n",
      "  warnings.warn(message, PydanticJsonSchemaWarning)\n",
      "c:\\Users\\YukiYamanaka\\AppData\\Local\\Programs\\Python\\Python311\\Lib\\site-packages\\pydantic\\json_schema.py:2191: PydanticJsonSchemaWarning: Default value default=PydanticUndefined description='マスキング前の文章。「マスキング前の文章:・・・」となっている文章をここのbefore_maskingフィールドに格納する' extra={} is not JSON serializable; excluding default from JSON schema [non-serializable-default]\n",
      "  warnings.warn(message, PydanticJsonSchemaWarning)\n",
      "c:\\Users\\YukiYamanaka\\AppData\\Local\\Programs\\Python\\Python311\\Lib\\site-packages\\pydantic\\json_schema.py:2191: PydanticJsonSchemaWarning: Default value default=PydanticUndefined description='マスキング後の文章。「マスキング後の文章:・・・」となっている文章をここのafter_maskingフィールドに格納する' extra={} is not JSON serializable; excluding default from JSON schema [non-serializable-default]\n",
      "  warnings.warn(message, PydanticJsonSchemaWarning)\n"
     ]
    },
    {
     "name": "stdout",
     "output_type": "stream",
     "text": [
      "68件目のマスキングデータを生成完了\n",
      "69件目のマスキングデータを生成開始\n"
     ]
    },
    {
     "name": "stderr",
     "output_type": "stream",
     "text": [
      "c:\\Users\\YukiYamanaka\\AppData\\Local\\Programs\\Python\\Python311\\Lib\\site-packages\\pydantic\\json_schema.py:2191: PydanticJsonSchemaWarning: Default value default=PydanticUndefined description='マスキング前の文章。「マスキング前の文章:・・・」となっている文章をここのbefore_maskingフィールドに格納する' extra={} is not JSON serializable; excluding default from JSON schema [non-serializable-default]\n",
      "  warnings.warn(message, PydanticJsonSchemaWarning)\n",
      "c:\\Users\\YukiYamanaka\\AppData\\Local\\Programs\\Python\\Python311\\Lib\\site-packages\\pydantic\\json_schema.py:2191: PydanticJsonSchemaWarning: Default value default=PydanticUndefined description='マスキング後の文章。「マスキング後の文章:・・・」となっている文章をここのafter_maskingフィールドに格納する' extra={} is not JSON serializable; excluding default from JSON schema [non-serializable-default]\n",
      "  warnings.warn(message, PydanticJsonSchemaWarning)\n",
      "c:\\Users\\YukiYamanaka\\AppData\\Local\\Programs\\Python\\Python311\\Lib\\site-packages\\pydantic\\json_schema.py:2191: PydanticJsonSchemaWarning: Default value default=PydanticUndefined description='マスキング前の文章。「マスキング前の文章:・・・」となっている文章をここのbefore_maskingフィールドに格納する' extra={} is not JSON serializable; excluding default from JSON schema [non-serializable-default]\n",
      "  warnings.warn(message, PydanticJsonSchemaWarning)\n",
      "c:\\Users\\YukiYamanaka\\AppData\\Local\\Programs\\Python\\Python311\\Lib\\site-packages\\pydantic\\json_schema.py:2191: PydanticJsonSchemaWarning: Default value default=PydanticUndefined description='マスキング後の文章。「マスキング後の文章:・・・」となっている文章をここのafter_maskingフィールドに格納する' extra={} is not JSON serializable; excluding default from JSON schema [non-serializable-default]\n",
      "  warnings.warn(message, PydanticJsonSchemaWarning)\n"
     ]
    },
    {
     "name": "stdout",
     "output_type": "stream",
     "text": [
      "69件目のマスキングデータを生成完了\n",
      "70件目のマスキングデータを生成開始\n"
     ]
    },
    {
     "name": "stderr",
     "output_type": "stream",
     "text": [
      "c:\\Users\\YukiYamanaka\\AppData\\Local\\Programs\\Python\\Python311\\Lib\\site-packages\\pydantic\\json_schema.py:2191: PydanticJsonSchemaWarning: Default value default=PydanticUndefined description='マスキング前の文章。「マスキング前の文章:・・・」となっている文章をここのbefore_maskingフィールドに格納する' extra={} is not JSON serializable; excluding default from JSON schema [non-serializable-default]\n",
      "  warnings.warn(message, PydanticJsonSchemaWarning)\n",
      "c:\\Users\\YukiYamanaka\\AppData\\Local\\Programs\\Python\\Python311\\Lib\\site-packages\\pydantic\\json_schema.py:2191: PydanticJsonSchemaWarning: Default value default=PydanticUndefined description='マスキング後の文章。「マスキング後の文章:・・・」となっている文章をここのafter_maskingフィールドに格納する' extra={} is not JSON serializable; excluding default from JSON schema [non-serializable-default]\n",
      "  warnings.warn(message, PydanticJsonSchemaWarning)\n",
      "c:\\Users\\YukiYamanaka\\AppData\\Local\\Programs\\Python\\Python311\\Lib\\site-packages\\pydantic\\json_schema.py:2191: PydanticJsonSchemaWarning: Default value default=PydanticUndefined description='マスキング前の文章。「マスキング前の文章:・・・」となっている文章をここのbefore_maskingフィールドに格納する' extra={} is not JSON serializable; excluding default from JSON schema [non-serializable-default]\n",
      "  warnings.warn(message, PydanticJsonSchemaWarning)\n",
      "c:\\Users\\YukiYamanaka\\AppData\\Local\\Programs\\Python\\Python311\\Lib\\site-packages\\pydantic\\json_schema.py:2191: PydanticJsonSchemaWarning: Default value default=PydanticUndefined description='マスキング後の文章。「マスキング後の文章:・・・」となっている文章をここのafter_maskingフィールドに格納する' extra={} is not JSON serializable; excluding default from JSON schema [non-serializable-default]\n",
      "  warnings.warn(message, PydanticJsonSchemaWarning)\n"
     ]
    },
    {
     "name": "stdout",
     "output_type": "stream",
     "text": [
      "70件目のマスキングデータを生成完了\n",
      "71件目のマスキングデータを生成開始\n"
     ]
    },
    {
     "name": "stderr",
     "output_type": "stream",
     "text": [
      "c:\\Users\\YukiYamanaka\\AppData\\Local\\Programs\\Python\\Python311\\Lib\\site-packages\\pydantic\\json_schema.py:2191: PydanticJsonSchemaWarning: Default value default=PydanticUndefined description='マスキング前の文章。「マスキング前の文章:・・・」となっている文章をここのbefore_maskingフィールドに格納する' extra={} is not JSON serializable; excluding default from JSON schema [non-serializable-default]\n",
      "  warnings.warn(message, PydanticJsonSchemaWarning)\n",
      "c:\\Users\\YukiYamanaka\\AppData\\Local\\Programs\\Python\\Python311\\Lib\\site-packages\\pydantic\\json_schema.py:2191: PydanticJsonSchemaWarning: Default value default=PydanticUndefined description='マスキング後の文章。「マスキング後の文章:・・・」となっている文章をここのafter_maskingフィールドに格納する' extra={} is not JSON serializable; excluding default from JSON schema [non-serializable-default]\n",
      "  warnings.warn(message, PydanticJsonSchemaWarning)\n",
      "c:\\Users\\YukiYamanaka\\AppData\\Local\\Programs\\Python\\Python311\\Lib\\site-packages\\pydantic\\json_schema.py:2191: PydanticJsonSchemaWarning: Default value default=PydanticUndefined description='マスキング前の文章。「マスキング前の文章:・・・」となっている文章をここのbefore_maskingフィールドに格納する' extra={} is not JSON serializable; excluding default from JSON schema [non-serializable-default]\n",
      "  warnings.warn(message, PydanticJsonSchemaWarning)\n",
      "c:\\Users\\YukiYamanaka\\AppData\\Local\\Programs\\Python\\Python311\\Lib\\site-packages\\pydantic\\json_schema.py:2191: PydanticJsonSchemaWarning: Default value default=PydanticUndefined description='マスキング後の文章。「マスキング後の文章:・・・」となっている文章をここのafter_maskingフィールドに格納する' extra={} is not JSON serializable; excluding default from JSON schema [non-serializable-default]\n",
      "  warnings.warn(message, PydanticJsonSchemaWarning)\n"
     ]
    },
    {
     "name": "stdout",
     "output_type": "stream",
     "text": [
      "71件目のマスキングデータを生成完了\n",
      "72件目のマスキングデータを生成開始\n"
     ]
    },
    {
     "name": "stderr",
     "output_type": "stream",
     "text": [
      "c:\\Users\\YukiYamanaka\\AppData\\Local\\Programs\\Python\\Python311\\Lib\\site-packages\\pydantic\\json_schema.py:2191: PydanticJsonSchemaWarning: Default value default=PydanticUndefined description='マスキング前の文章。「マスキング前の文章:・・・」となっている文章をここのbefore_maskingフィールドに格納する' extra={} is not JSON serializable; excluding default from JSON schema [non-serializable-default]\n",
      "  warnings.warn(message, PydanticJsonSchemaWarning)\n",
      "c:\\Users\\YukiYamanaka\\AppData\\Local\\Programs\\Python\\Python311\\Lib\\site-packages\\pydantic\\json_schema.py:2191: PydanticJsonSchemaWarning: Default value default=PydanticUndefined description='マスキング後の文章。「マスキング後の文章:・・・」となっている文章をここのafter_maskingフィールドに格納する' extra={} is not JSON serializable; excluding default from JSON schema [non-serializable-default]\n",
      "  warnings.warn(message, PydanticJsonSchemaWarning)\n",
      "c:\\Users\\YukiYamanaka\\AppData\\Local\\Programs\\Python\\Python311\\Lib\\site-packages\\pydantic\\json_schema.py:2191: PydanticJsonSchemaWarning: Default value default=PydanticUndefined description='マスキング前の文章。「マスキング前の文章:・・・」となっている文章をここのbefore_maskingフィールドに格納する' extra={} is not JSON serializable; excluding default from JSON schema [non-serializable-default]\n",
      "  warnings.warn(message, PydanticJsonSchemaWarning)\n",
      "c:\\Users\\YukiYamanaka\\AppData\\Local\\Programs\\Python\\Python311\\Lib\\site-packages\\pydantic\\json_schema.py:2191: PydanticJsonSchemaWarning: Default value default=PydanticUndefined description='マスキング後の文章。「マスキング後の文章:・・・」となっている文章をここのafter_maskingフィールドに格納する' extra={} is not JSON serializable; excluding default from JSON schema [non-serializable-default]\n",
      "  warnings.warn(message, PydanticJsonSchemaWarning)\n"
     ]
    },
    {
     "name": "stdout",
     "output_type": "stream",
     "text": [
      "72件目のマスキングデータを生成完了\n",
      "73件目のマスキングデータを生成開始\n"
     ]
    },
    {
     "name": "stderr",
     "output_type": "stream",
     "text": [
      "c:\\Users\\YukiYamanaka\\AppData\\Local\\Programs\\Python\\Python311\\Lib\\site-packages\\pydantic\\json_schema.py:2191: PydanticJsonSchemaWarning: Default value default=PydanticUndefined description='マスキング前の文章。「マスキング前の文章:・・・」となっている文章をここのbefore_maskingフィールドに格納する' extra={} is not JSON serializable; excluding default from JSON schema [non-serializable-default]\n",
      "  warnings.warn(message, PydanticJsonSchemaWarning)\n",
      "c:\\Users\\YukiYamanaka\\AppData\\Local\\Programs\\Python\\Python311\\Lib\\site-packages\\pydantic\\json_schema.py:2191: PydanticJsonSchemaWarning: Default value default=PydanticUndefined description='マスキング後の文章。「マスキング後の文章:・・・」となっている文章をここのafter_maskingフィールドに格納する' extra={} is not JSON serializable; excluding default from JSON schema [non-serializable-default]\n",
      "  warnings.warn(message, PydanticJsonSchemaWarning)\n",
      "c:\\Users\\YukiYamanaka\\AppData\\Local\\Programs\\Python\\Python311\\Lib\\site-packages\\pydantic\\json_schema.py:2191: PydanticJsonSchemaWarning: Default value default=PydanticUndefined description='マスキング前の文章。「マスキング前の文章:・・・」となっている文章をここのbefore_maskingフィールドに格納する' extra={} is not JSON serializable; excluding default from JSON schema [non-serializable-default]\n",
      "  warnings.warn(message, PydanticJsonSchemaWarning)\n",
      "c:\\Users\\YukiYamanaka\\AppData\\Local\\Programs\\Python\\Python311\\Lib\\site-packages\\pydantic\\json_schema.py:2191: PydanticJsonSchemaWarning: Default value default=PydanticUndefined description='マスキング後の文章。「マスキング後の文章:・・・」となっている文章をここのafter_maskingフィールドに格納する' extra={} is not JSON serializable; excluding default from JSON schema [non-serializable-default]\n",
      "  warnings.warn(message, PydanticJsonSchemaWarning)\n"
     ]
    },
    {
     "name": "stdout",
     "output_type": "stream",
     "text": [
      "73件目のマスキングデータを生成完了\n",
      "74件目のマスキングデータを生成開始\n"
     ]
    },
    {
     "name": "stderr",
     "output_type": "stream",
     "text": [
      "c:\\Users\\YukiYamanaka\\AppData\\Local\\Programs\\Python\\Python311\\Lib\\site-packages\\pydantic\\json_schema.py:2191: PydanticJsonSchemaWarning: Default value default=PydanticUndefined description='マスキング前の文章。「マスキング前の文章:・・・」となっている文章をここのbefore_maskingフィールドに格納する' extra={} is not JSON serializable; excluding default from JSON schema [non-serializable-default]\n",
      "  warnings.warn(message, PydanticJsonSchemaWarning)\n",
      "c:\\Users\\YukiYamanaka\\AppData\\Local\\Programs\\Python\\Python311\\Lib\\site-packages\\pydantic\\json_schema.py:2191: PydanticJsonSchemaWarning: Default value default=PydanticUndefined description='マスキング後の文章。「マスキング後の文章:・・・」となっている文章をここのafter_maskingフィールドに格納する' extra={} is not JSON serializable; excluding default from JSON schema [non-serializable-default]\n",
      "  warnings.warn(message, PydanticJsonSchemaWarning)\n",
      "c:\\Users\\YukiYamanaka\\AppData\\Local\\Programs\\Python\\Python311\\Lib\\site-packages\\pydantic\\json_schema.py:2191: PydanticJsonSchemaWarning: Default value default=PydanticUndefined description='マスキング前の文章。「マスキング前の文章:・・・」となっている文章をここのbefore_maskingフィールドに格納する' extra={} is not JSON serializable; excluding default from JSON schema [non-serializable-default]\n",
      "  warnings.warn(message, PydanticJsonSchemaWarning)\n",
      "c:\\Users\\YukiYamanaka\\AppData\\Local\\Programs\\Python\\Python311\\Lib\\site-packages\\pydantic\\json_schema.py:2191: PydanticJsonSchemaWarning: Default value default=PydanticUndefined description='マスキング後の文章。「マスキング後の文章:・・・」となっている文章をここのafter_maskingフィールドに格納する' extra={} is not JSON serializable; excluding default from JSON schema [non-serializable-default]\n",
      "  warnings.warn(message, PydanticJsonSchemaWarning)\n"
     ]
    },
    {
     "name": "stdout",
     "output_type": "stream",
     "text": [
      "74件目のマスキングデータを生成完了\n",
      "75件目のマスキングデータを生成開始\n"
     ]
    },
    {
     "name": "stderr",
     "output_type": "stream",
     "text": [
      "c:\\Users\\YukiYamanaka\\AppData\\Local\\Programs\\Python\\Python311\\Lib\\site-packages\\pydantic\\json_schema.py:2191: PydanticJsonSchemaWarning: Default value default=PydanticUndefined description='マスキング前の文章。「マスキング前の文章:・・・」となっている文章をここのbefore_maskingフィールドに格納する' extra={} is not JSON serializable; excluding default from JSON schema [non-serializable-default]\n",
      "  warnings.warn(message, PydanticJsonSchemaWarning)\n",
      "c:\\Users\\YukiYamanaka\\AppData\\Local\\Programs\\Python\\Python311\\Lib\\site-packages\\pydantic\\json_schema.py:2191: PydanticJsonSchemaWarning: Default value default=PydanticUndefined description='マスキング後の文章。「マスキング後の文章:・・・」となっている文章をここのafter_maskingフィールドに格納する' extra={} is not JSON serializable; excluding default from JSON schema [non-serializable-default]\n",
      "  warnings.warn(message, PydanticJsonSchemaWarning)\n",
      "c:\\Users\\YukiYamanaka\\AppData\\Local\\Programs\\Python\\Python311\\Lib\\site-packages\\pydantic\\json_schema.py:2191: PydanticJsonSchemaWarning: Default value default=PydanticUndefined description='マスキング前の文章。「マスキング前の文章:・・・」となっている文章をここのbefore_maskingフィールドに格納する' extra={} is not JSON serializable; excluding default from JSON schema [non-serializable-default]\n",
      "  warnings.warn(message, PydanticJsonSchemaWarning)\n",
      "c:\\Users\\YukiYamanaka\\AppData\\Local\\Programs\\Python\\Python311\\Lib\\site-packages\\pydantic\\json_schema.py:2191: PydanticJsonSchemaWarning: Default value default=PydanticUndefined description='マスキング後の文章。「マスキング後の文章:・・・」となっている文章をここのafter_maskingフィールドに格納する' extra={} is not JSON serializable; excluding default from JSON schema [non-serializable-default]\n",
      "  warnings.warn(message, PydanticJsonSchemaWarning)\n"
     ]
    },
    {
     "name": "stdout",
     "output_type": "stream",
     "text": [
      "75件目のマスキングデータを生成完了\n",
      "76件目のマスキングデータを生成開始\n"
     ]
    },
    {
     "name": "stderr",
     "output_type": "stream",
     "text": [
      "c:\\Users\\YukiYamanaka\\AppData\\Local\\Programs\\Python\\Python311\\Lib\\site-packages\\pydantic\\json_schema.py:2191: PydanticJsonSchemaWarning: Default value default=PydanticUndefined description='マスキング前の文章。「マスキング前の文章:・・・」となっている文章をここのbefore_maskingフィールドに格納する' extra={} is not JSON serializable; excluding default from JSON schema [non-serializable-default]\n",
      "  warnings.warn(message, PydanticJsonSchemaWarning)\n",
      "c:\\Users\\YukiYamanaka\\AppData\\Local\\Programs\\Python\\Python311\\Lib\\site-packages\\pydantic\\json_schema.py:2191: PydanticJsonSchemaWarning: Default value default=PydanticUndefined description='マスキング後の文章。「マスキング後の文章:・・・」となっている文章をここのafter_maskingフィールドに格納する' extra={} is not JSON serializable; excluding default from JSON schema [non-serializable-default]\n",
      "  warnings.warn(message, PydanticJsonSchemaWarning)\n",
      "c:\\Users\\YukiYamanaka\\AppData\\Local\\Programs\\Python\\Python311\\Lib\\site-packages\\pydantic\\json_schema.py:2191: PydanticJsonSchemaWarning: Default value default=PydanticUndefined description='マスキング前の文章。「マスキング前の文章:・・・」となっている文章をここのbefore_maskingフィールドに格納する' extra={} is not JSON serializable; excluding default from JSON schema [non-serializable-default]\n",
      "  warnings.warn(message, PydanticJsonSchemaWarning)\n",
      "c:\\Users\\YukiYamanaka\\AppData\\Local\\Programs\\Python\\Python311\\Lib\\site-packages\\pydantic\\json_schema.py:2191: PydanticJsonSchemaWarning: Default value default=PydanticUndefined description='マスキング後の文章。「マスキング後の文章:・・・」となっている文章をここのafter_maskingフィールドに格納する' extra={} is not JSON serializable; excluding default from JSON schema [non-serializable-default]\n",
      "  warnings.warn(message, PydanticJsonSchemaWarning)\n"
     ]
    },
    {
     "name": "stdout",
     "output_type": "stream",
     "text": [
      "76件目のマスキングデータを生成完了\n",
      "77件目のマスキングデータを生成開始\n"
     ]
    },
    {
     "name": "stderr",
     "output_type": "stream",
     "text": [
      "c:\\Users\\YukiYamanaka\\AppData\\Local\\Programs\\Python\\Python311\\Lib\\site-packages\\pydantic\\json_schema.py:2191: PydanticJsonSchemaWarning: Default value default=PydanticUndefined description='マスキング前の文章。「マスキング前の文章:・・・」となっている文章をここのbefore_maskingフィールドに格納する' extra={} is not JSON serializable; excluding default from JSON schema [non-serializable-default]\n",
      "  warnings.warn(message, PydanticJsonSchemaWarning)\n",
      "c:\\Users\\YukiYamanaka\\AppData\\Local\\Programs\\Python\\Python311\\Lib\\site-packages\\pydantic\\json_schema.py:2191: PydanticJsonSchemaWarning: Default value default=PydanticUndefined description='マスキング後の文章。「マスキング後の文章:・・・」となっている文章をここのafter_maskingフィールドに格納する' extra={} is not JSON serializable; excluding default from JSON schema [non-serializable-default]\n",
      "  warnings.warn(message, PydanticJsonSchemaWarning)\n",
      "c:\\Users\\YukiYamanaka\\AppData\\Local\\Programs\\Python\\Python311\\Lib\\site-packages\\pydantic\\json_schema.py:2191: PydanticJsonSchemaWarning: Default value default=PydanticUndefined description='マスキング前の文章。「マスキング前の文章:・・・」となっている文章をここのbefore_maskingフィールドに格納する' extra={} is not JSON serializable; excluding default from JSON schema [non-serializable-default]\n",
      "  warnings.warn(message, PydanticJsonSchemaWarning)\n",
      "c:\\Users\\YukiYamanaka\\AppData\\Local\\Programs\\Python\\Python311\\Lib\\site-packages\\pydantic\\json_schema.py:2191: PydanticJsonSchemaWarning: Default value default=PydanticUndefined description='マスキング後の文章。「マスキング後の文章:・・・」となっている文章をここのafter_maskingフィールドに格納する' extra={} is not JSON serializable; excluding default from JSON schema [non-serializable-default]\n",
      "  warnings.warn(message, PydanticJsonSchemaWarning)\n"
     ]
    },
    {
     "name": "stdout",
     "output_type": "stream",
     "text": [
      "77件目のマスキングデータを生成完了\n",
      "78件目のマスキングデータを生成開始\n"
     ]
    },
    {
     "name": "stderr",
     "output_type": "stream",
     "text": [
      "c:\\Users\\YukiYamanaka\\AppData\\Local\\Programs\\Python\\Python311\\Lib\\site-packages\\pydantic\\json_schema.py:2191: PydanticJsonSchemaWarning: Default value default=PydanticUndefined description='マスキング前の文章。「マスキング前の文章:・・・」となっている文章をここのbefore_maskingフィールドに格納する' extra={} is not JSON serializable; excluding default from JSON schema [non-serializable-default]\n",
      "  warnings.warn(message, PydanticJsonSchemaWarning)\n",
      "c:\\Users\\YukiYamanaka\\AppData\\Local\\Programs\\Python\\Python311\\Lib\\site-packages\\pydantic\\json_schema.py:2191: PydanticJsonSchemaWarning: Default value default=PydanticUndefined description='マスキング後の文章。「マスキング後の文章:・・・」となっている文章をここのafter_maskingフィールドに格納する' extra={} is not JSON serializable; excluding default from JSON schema [non-serializable-default]\n",
      "  warnings.warn(message, PydanticJsonSchemaWarning)\n",
      "c:\\Users\\YukiYamanaka\\AppData\\Local\\Programs\\Python\\Python311\\Lib\\site-packages\\pydantic\\json_schema.py:2191: PydanticJsonSchemaWarning: Default value default=PydanticUndefined description='マスキング前の文章。「マスキング前の文章:・・・」となっている文章をここのbefore_maskingフィールドに格納する' extra={} is not JSON serializable; excluding default from JSON schema [non-serializable-default]\n",
      "  warnings.warn(message, PydanticJsonSchemaWarning)\n",
      "c:\\Users\\YukiYamanaka\\AppData\\Local\\Programs\\Python\\Python311\\Lib\\site-packages\\pydantic\\json_schema.py:2191: PydanticJsonSchemaWarning: Default value default=PydanticUndefined description='マスキング後の文章。「マスキング後の文章:・・・」となっている文章をここのafter_maskingフィールドに格納する' extra={} is not JSON serializable; excluding default from JSON schema [non-serializable-default]\n",
      "  warnings.warn(message, PydanticJsonSchemaWarning)\n"
     ]
    },
    {
     "name": "stdout",
     "output_type": "stream",
     "text": [
      "78件目のマスキングデータを生成完了\n",
      "79件目のマスキングデータを生成開始\n"
     ]
    },
    {
     "name": "stderr",
     "output_type": "stream",
     "text": [
      "c:\\Users\\YukiYamanaka\\AppData\\Local\\Programs\\Python\\Python311\\Lib\\site-packages\\pydantic\\json_schema.py:2191: PydanticJsonSchemaWarning: Default value default=PydanticUndefined description='マスキング前の文章。「マスキング前の文章:・・・」となっている文章をここのbefore_maskingフィールドに格納する' extra={} is not JSON serializable; excluding default from JSON schema [non-serializable-default]\n",
      "  warnings.warn(message, PydanticJsonSchemaWarning)\n",
      "c:\\Users\\YukiYamanaka\\AppData\\Local\\Programs\\Python\\Python311\\Lib\\site-packages\\pydantic\\json_schema.py:2191: PydanticJsonSchemaWarning: Default value default=PydanticUndefined description='マスキング後の文章。「マスキング後の文章:・・・」となっている文章をここのafter_maskingフィールドに格納する' extra={} is not JSON serializable; excluding default from JSON schema [non-serializable-default]\n",
      "  warnings.warn(message, PydanticJsonSchemaWarning)\n",
      "c:\\Users\\YukiYamanaka\\AppData\\Local\\Programs\\Python\\Python311\\Lib\\site-packages\\pydantic\\json_schema.py:2191: PydanticJsonSchemaWarning: Default value default=PydanticUndefined description='マスキング前の文章。「マスキング前の文章:・・・」となっている文章をここのbefore_maskingフィールドに格納する' extra={} is not JSON serializable; excluding default from JSON schema [non-serializable-default]\n",
      "  warnings.warn(message, PydanticJsonSchemaWarning)\n",
      "c:\\Users\\YukiYamanaka\\AppData\\Local\\Programs\\Python\\Python311\\Lib\\site-packages\\pydantic\\json_schema.py:2191: PydanticJsonSchemaWarning: Default value default=PydanticUndefined description='マスキング後の文章。「マスキング後の文章:・・・」となっている文章をここのafter_maskingフィールドに格納する' extra={} is not JSON serializable; excluding default from JSON schema [non-serializable-default]\n",
      "  warnings.warn(message, PydanticJsonSchemaWarning)\n"
     ]
    },
    {
     "name": "stdout",
     "output_type": "stream",
     "text": [
      "79件目のマスキングデータを生成完了\n",
      "80件目のマスキングデータを生成開始\n"
     ]
    },
    {
     "name": "stderr",
     "output_type": "stream",
     "text": [
      "c:\\Users\\YukiYamanaka\\AppData\\Local\\Programs\\Python\\Python311\\Lib\\site-packages\\pydantic\\json_schema.py:2191: PydanticJsonSchemaWarning: Default value default=PydanticUndefined description='マスキング前の文章。「マスキング前の文章:・・・」となっている文章をここのbefore_maskingフィールドに格納する' extra={} is not JSON serializable; excluding default from JSON schema [non-serializable-default]\n",
      "  warnings.warn(message, PydanticJsonSchemaWarning)\n",
      "c:\\Users\\YukiYamanaka\\AppData\\Local\\Programs\\Python\\Python311\\Lib\\site-packages\\pydantic\\json_schema.py:2191: PydanticJsonSchemaWarning: Default value default=PydanticUndefined description='マスキング後の文章。「マスキング後の文章:・・・」となっている文章をここのafter_maskingフィールドに格納する' extra={} is not JSON serializable; excluding default from JSON schema [non-serializable-default]\n",
      "  warnings.warn(message, PydanticJsonSchemaWarning)\n",
      "c:\\Users\\YukiYamanaka\\AppData\\Local\\Programs\\Python\\Python311\\Lib\\site-packages\\pydantic\\json_schema.py:2191: PydanticJsonSchemaWarning: Default value default=PydanticUndefined description='マスキング前の文章。「マスキング前の文章:・・・」となっている文章をここのbefore_maskingフィールドに格納する' extra={} is not JSON serializable; excluding default from JSON schema [non-serializable-default]\n",
      "  warnings.warn(message, PydanticJsonSchemaWarning)\n",
      "c:\\Users\\YukiYamanaka\\AppData\\Local\\Programs\\Python\\Python311\\Lib\\site-packages\\pydantic\\json_schema.py:2191: PydanticJsonSchemaWarning: Default value default=PydanticUndefined description='マスキング後の文章。「マスキング後の文章:・・・」となっている文章をここのafter_maskingフィールドに格納する' extra={} is not JSON serializable; excluding default from JSON schema [non-serializable-default]\n",
      "  warnings.warn(message, PydanticJsonSchemaWarning)\n"
     ]
    },
    {
     "name": "stdout",
     "output_type": "stream",
     "text": [
      "80件目のマスキングデータを生成完了\n",
      "81件目のマスキングデータを生成開始\n"
     ]
    },
    {
     "name": "stderr",
     "output_type": "stream",
     "text": [
      "c:\\Users\\YukiYamanaka\\AppData\\Local\\Programs\\Python\\Python311\\Lib\\site-packages\\pydantic\\json_schema.py:2191: PydanticJsonSchemaWarning: Default value default=PydanticUndefined description='マスキング前の文章。「マスキング前の文章:・・・」となっている文章をここのbefore_maskingフィールドに格納する' extra={} is not JSON serializable; excluding default from JSON schema [non-serializable-default]\n",
      "  warnings.warn(message, PydanticJsonSchemaWarning)\n",
      "c:\\Users\\YukiYamanaka\\AppData\\Local\\Programs\\Python\\Python311\\Lib\\site-packages\\pydantic\\json_schema.py:2191: PydanticJsonSchemaWarning: Default value default=PydanticUndefined description='マスキング後の文章。「マスキング後の文章:・・・」となっている文章をここのafter_maskingフィールドに格納する' extra={} is not JSON serializable; excluding default from JSON schema [non-serializable-default]\n",
      "  warnings.warn(message, PydanticJsonSchemaWarning)\n",
      "c:\\Users\\YukiYamanaka\\AppData\\Local\\Programs\\Python\\Python311\\Lib\\site-packages\\pydantic\\json_schema.py:2191: PydanticJsonSchemaWarning: Default value default=PydanticUndefined description='マスキング前の文章。「マスキング前の文章:・・・」となっている文章をここのbefore_maskingフィールドに格納する' extra={} is not JSON serializable; excluding default from JSON schema [non-serializable-default]\n",
      "  warnings.warn(message, PydanticJsonSchemaWarning)\n",
      "c:\\Users\\YukiYamanaka\\AppData\\Local\\Programs\\Python\\Python311\\Lib\\site-packages\\pydantic\\json_schema.py:2191: PydanticJsonSchemaWarning: Default value default=PydanticUndefined description='マスキング後の文章。「マスキング後の文章:・・・」となっている文章をここのafter_maskingフィールドに格納する' extra={} is not JSON serializable; excluding default from JSON schema [non-serializable-default]\n",
      "  warnings.warn(message, PydanticJsonSchemaWarning)\n"
     ]
    },
    {
     "name": "stdout",
     "output_type": "stream",
     "text": [
      "81件目のマスキングデータを生成完了\n",
      "82件目のマスキングデータを生成開始\n"
     ]
    },
    {
     "name": "stderr",
     "output_type": "stream",
     "text": [
      "c:\\Users\\YukiYamanaka\\AppData\\Local\\Programs\\Python\\Python311\\Lib\\site-packages\\pydantic\\json_schema.py:2191: PydanticJsonSchemaWarning: Default value default=PydanticUndefined description='マスキング前の文章。「マスキング前の文章:・・・」となっている文章をここのbefore_maskingフィールドに格納する' extra={} is not JSON serializable; excluding default from JSON schema [non-serializable-default]\n",
      "  warnings.warn(message, PydanticJsonSchemaWarning)\n",
      "c:\\Users\\YukiYamanaka\\AppData\\Local\\Programs\\Python\\Python311\\Lib\\site-packages\\pydantic\\json_schema.py:2191: PydanticJsonSchemaWarning: Default value default=PydanticUndefined description='マスキング後の文章。「マスキング後の文章:・・・」となっている文章をここのafter_maskingフィールドに格納する' extra={} is not JSON serializable; excluding default from JSON schema [non-serializable-default]\n",
      "  warnings.warn(message, PydanticJsonSchemaWarning)\n",
      "c:\\Users\\YukiYamanaka\\AppData\\Local\\Programs\\Python\\Python311\\Lib\\site-packages\\pydantic\\json_schema.py:2191: PydanticJsonSchemaWarning: Default value default=PydanticUndefined description='マスキング前の文章。「マスキング前の文章:・・・」となっている文章をここのbefore_maskingフィールドに格納する' extra={} is not JSON serializable; excluding default from JSON schema [non-serializable-default]\n",
      "  warnings.warn(message, PydanticJsonSchemaWarning)\n",
      "c:\\Users\\YukiYamanaka\\AppData\\Local\\Programs\\Python\\Python311\\Lib\\site-packages\\pydantic\\json_schema.py:2191: PydanticJsonSchemaWarning: Default value default=PydanticUndefined description='マスキング後の文章。「マスキング後の文章:・・・」となっている文章をここのafter_maskingフィールドに格納する' extra={} is not JSON serializable; excluding default from JSON schema [non-serializable-default]\n",
      "  warnings.warn(message, PydanticJsonSchemaWarning)\n"
     ]
    },
    {
     "name": "stdout",
     "output_type": "stream",
     "text": [
      "82件目のマスキングデータを生成完了\n",
      "83件目のマスキングデータを生成開始\n"
     ]
    },
    {
     "name": "stderr",
     "output_type": "stream",
     "text": [
      "c:\\Users\\YukiYamanaka\\AppData\\Local\\Programs\\Python\\Python311\\Lib\\site-packages\\pydantic\\json_schema.py:2191: PydanticJsonSchemaWarning: Default value default=PydanticUndefined description='マスキング前の文章。「マスキング前の文章:・・・」となっている文章をここのbefore_maskingフィールドに格納する' extra={} is not JSON serializable; excluding default from JSON schema [non-serializable-default]\n",
      "  warnings.warn(message, PydanticJsonSchemaWarning)\n",
      "c:\\Users\\YukiYamanaka\\AppData\\Local\\Programs\\Python\\Python311\\Lib\\site-packages\\pydantic\\json_schema.py:2191: PydanticJsonSchemaWarning: Default value default=PydanticUndefined description='マスキング後の文章。「マスキング後の文章:・・・」となっている文章をここのafter_maskingフィールドに格納する' extra={} is not JSON serializable; excluding default from JSON schema [non-serializable-default]\n",
      "  warnings.warn(message, PydanticJsonSchemaWarning)\n",
      "c:\\Users\\YukiYamanaka\\AppData\\Local\\Programs\\Python\\Python311\\Lib\\site-packages\\pydantic\\json_schema.py:2191: PydanticJsonSchemaWarning: Default value default=PydanticUndefined description='マスキング前の文章。「マスキング前の文章:・・・」となっている文章をここのbefore_maskingフィールドに格納する' extra={} is not JSON serializable; excluding default from JSON schema [non-serializable-default]\n",
      "  warnings.warn(message, PydanticJsonSchemaWarning)\n",
      "c:\\Users\\YukiYamanaka\\AppData\\Local\\Programs\\Python\\Python311\\Lib\\site-packages\\pydantic\\json_schema.py:2191: PydanticJsonSchemaWarning: Default value default=PydanticUndefined description='マスキング後の文章。「マスキング後の文章:・・・」となっている文章をここのafter_maskingフィールドに格納する' extra={} is not JSON serializable; excluding default from JSON schema [non-serializable-default]\n",
      "  warnings.warn(message, PydanticJsonSchemaWarning)\n"
     ]
    },
    {
     "name": "stdout",
     "output_type": "stream",
     "text": [
      "83件目のマスキングデータを生成完了\n",
      "84件目のマスキングデータを生成開始\n"
     ]
    },
    {
     "name": "stderr",
     "output_type": "stream",
     "text": [
      "c:\\Users\\YukiYamanaka\\AppData\\Local\\Programs\\Python\\Python311\\Lib\\site-packages\\pydantic\\json_schema.py:2191: PydanticJsonSchemaWarning: Default value default=PydanticUndefined description='マスキング前の文章。「マスキング前の文章:・・・」となっている文章をここのbefore_maskingフィールドに格納する' extra={} is not JSON serializable; excluding default from JSON schema [non-serializable-default]\n",
      "  warnings.warn(message, PydanticJsonSchemaWarning)\n",
      "c:\\Users\\YukiYamanaka\\AppData\\Local\\Programs\\Python\\Python311\\Lib\\site-packages\\pydantic\\json_schema.py:2191: PydanticJsonSchemaWarning: Default value default=PydanticUndefined description='マスキング後の文章。「マスキング後の文章:・・・」となっている文章をここのafter_maskingフィールドに格納する' extra={} is not JSON serializable; excluding default from JSON schema [non-serializable-default]\n",
      "  warnings.warn(message, PydanticJsonSchemaWarning)\n",
      "c:\\Users\\YukiYamanaka\\AppData\\Local\\Programs\\Python\\Python311\\Lib\\site-packages\\pydantic\\json_schema.py:2191: PydanticJsonSchemaWarning: Default value default=PydanticUndefined description='マスキング前の文章。「マスキング前の文章:・・・」となっている文章をここのbefore_maskingフィールドに格納する' extra={} is not JSON serializable; excluding default from JSON schema [non-serializable-default]\n",
      "  warnings.warn(message, PydanticJsonSchemaWarning)\n",
      "c:\\Users\\YukiYamanaka\\AppData\\Local\\Programs\\Python\\Python311\\Lib\\site-packages\\pydantic\\json_schema.py:2191: PydanticJsonSchemaWarning: Default value default=PydanticUndefined description='マスキング後の文章。「マスキング後の文章:・・・」となっている文章をここのafter_maskingフィールドに格納する' extra={} is not JSON serializable; excluding default from JSON schema [non-serializable-default]\n",
      "  warnings.warn(message, PydanticJsonSchemaWarning)\n"
     ]
    },
    {
     "name": "stdout",
     "output_type": "stream",
     "text": [
      "84件目のマスキングデータを生成完了\n",
      "85件目のマスキングデータを生成開始\n"
     ]
    },
    {
     "name": "stderr",
     "output_type": "stream",
     "text": [
      "c:\\Users\\YukiYamanaka\\AppData\\Local\\Programs\\Python\\Python311\\Lib\\site-packages\\pydantic\\json_schema.py:2191: PydanticJsonSchemaWarning: Default value default=PydanticUndefined description='マスキング前の文章。「マスキング前の文章:・・・」となっている文章をここのbefore_maskingフィールドに格納する' extra={} is not JSON serializable; excluding default from JSON schema [non-serializable-default]\n",
      "  warnings.warn(message, PydanticJsonSchemaWarning)\n",
      "c:\\Users\\YukiYamanaka\\AppData\\Local\\Programs\\Python\\Python311\\Lib\\site-packages\\pydantic\\json_schema.py:2191: PydanticJsonSchemaWarning: Default value default=PydanticUndefined description='マスキング後の文章。「マスキング後の文章:・・・」となっている文章をここのafter_maskingフィールドに格納する' extra={} is not JSON serializable; excluding default from JSON schema [non-serializable-default]\n",
      "  warnings.warn(message, PydanticJsonSchemaWarning)\n",
      "c:\\Users\\YukiYamanaka\\AppData\\Local\\Programs\\Python\\Python311\\Lib\\site-packages\\pydantic\\json_schema.py:2191: PydanticJsonSchemaWarning: Default value default=PydanticUndefined description='マスキング前の文章。「マスキング前の文章:・・・」となっている文章をここのbefore_maskingフィールドに格納する' extra={} is not JSON serializable; excluding default from JSON schema [non-serializable-default]\n",
      "  warnings.warn(message, PydanticJsonSchemaWarning)\n",
      "c:\\Users\\YukiYamanaka\\AppData\\Local\\Programs\\Python\\Python311\\Lib\\site-packages\\pydantic\\json_schema.py:2191: PydanticJsonSchemaWarning: Default value default=PydanticUndefined description='マスキング後の文章。「マスキング後の文章:・・・」となっている文章をここのafter_maskingフィールドに格納する' extra={} is not JSON serializable; excluding default from JSON schema [non-serializable-default]\n",
      "  warnings.warn(message, PydanticJsonSchemaWarning)\n"
     ]
    },
    {
     "name": "stdout",
     "output_type": "stream",
     "text": [
      "85件目のマスキングデータを生成完了\n",
      "86件目のマスキングデータを生成開始\n"
     ]
    },
    {
     "name": "stderr",
     "output_type": "stream",
     "text": [
      "c:\\Users\\YukiYamanaka\\AppData\\Local\\Programs\\Python\\Python311\\Lib\\site-packages\\pydantic\\json_schema.py:2191: PydanticJsonSchemaWarning: Default value default=PydanticUndefined description='マスキング前の文章。「マスキング前の文章:・・・」となっている文章をここのbefore_maskingフィールドに格納する' extra={} is not JSON serializable; excluding default from JSON schema [non-serializable-default]\n",
      "  warnings.warn(message, PydanticJsonSchemaWarning)\n",
      "c:\\Users\\YukiYamanaka\\AppData\\Local\\Programs\\Python\\Python311\\Lib\\site-packages\\pydantic\\json_schema.py:2191: PydanticJsonSchemaWarning: Default value default=PydanticUndefined description='マスキング後の文章。「マスキング後の文章:・・・」となっている文章をここのafter_maskingフィールドに格納する' extra={} is not JSON serializable; excluding default from JSON schema [non-serializable-default]\n",
      "  warnings.warn(message, PydanticJsonSchemaWarning)\n",
      "c:\\Users\\YukiYamanaka\\AppData\\Local\\Programs\\Python\\Python311\\Lib\\site-packages\\pydantic\\json_schema.py:2191: PydanticJsonSchemaWarning: Default value default=PydanticUndefined description='マスキング前の文章。「マスキング前の文章:・・・」となっている文章をここのbefore_maskingフィールドに格納する' extra={} is not JSON serializable; excluding default from JSON schema [non-serializable-default]\n",
      "  warnings.warn(message, PydanticJsonSchemaWarning)\n",
      "c:\\Users\\YukiYamanaka\\AppData\\Local\\Programs\\Python\\Python311\\Lib\\site-packages\\pydantic\\json_schema.py:2191: PydanticJsonSchemaWarning: Default value default=PydanticUndefined description='マスキング後の文章。「マスキング後の文章:・・・」となっている文章をここのafter_maskingフィールドに格納する' extra={} is not JSON serializable; excluding default from JSON schema [non-serializable-default]\n",
      "  warnings.warn(message, PydanticJsonSchemaWarning)\n"
     ]
    },
    {
     "name": "stdout",
     "output_type": "stream",
     "text": [
      "86件目のマスキングデータを生成完了\n",
      "87件目のマスキングデータを生成開始\n"
     ]
    },
    {
     "name": "stderr",
     "output_type": "stream",
     "text": [
      "c:\\Users\\YukiYamanaka\\AppData\\Local\\Programs\\Python\\Python311\\Lib\\site-packages\\pydantic\\json_schema.py:2191: PydanticJsonSchemaWarning: Default value default=PydanticUndefined description='マスキング前の文章。「マスキング前の文章:・・・」となっている文章をここのbefore_maskingフィールドに格納する' extra={} is not JSON serializable; excluding default from JSON schema [non-serializable-default]\n",
      "  warnings.warn(message, PydanticJsonSchemaWarning)\n",
      "c:\\Users\\YukiYamanaka\\AppData\\Local\\Programs\\Python\\Python311\\Lib\\site-packages\\pydantic\\json_schema.py:2191: PydanticJsonSchemaWarning: Default value default=PydanticUndefined description='マスキング後の文章。「マスキング後の文章:・・・」となっている文章をここのafter_maskingフィールドに格納する' extra={} is not JSON serializable; excluding default from JSON schema [non-serializable-default]\n",
      "  warnings.warn(message, PydanticJsonSchemaWarning)\n",
      "c:\\Users\\YukiYamanaka\\AppData\\Local\\Programs\\Python\\Python311\\Lib\\site-packages\\pydantic\\json_schema.py:2191: PydanticJsonSchemaWarning: Default value default=PydanticUndefined description='マスキング前の文章。「マスキング前の文章:・・・」となっている文章をここのbefore_maskingフィールドに格納する' extra={} is not JSON serializable; excluding default from JSON schema [non-serializable-default]\n",
      "  warnings.warn(message, PydanticJsonSchemaWarning)\n",
      "c:\\Users\\YukiYamanaka\\AppData\\Local\\Programs\\Python\\Python311\\Lib\\site-packages\\pydantic\\json_schema.py:2191: PydanticJsonSchemaWarning: Default value default=PydanticUndefined description='マスキング後の文章。「マスキング後の文章:・・・」となっている文章をここのafter_maskingフィールドに格納する' extra={} is not JSON serializable; excluding default from JSON schema [non-serializable-default]\n",
      "  warnings.warn(message, PydanticJsonSchemaWarning)\n"
     ]
    },
    {
     "name": "stdout",
     "output_type": "stream",
     "text": [
      "87件目のマスキングデータを生成完了\n",
      "88件目のマスキングデータを生成開始\n"
     ]
    },
    {
     "name": "stderr",
     "output_type": "stream",
     "text": [
      "c:\\Users\\YukiYamanaka\\AppData\\Local\\Programs\\Python\\Python311\\Lib\\site-packages\\pydantic\\json_schema.py:2191: PydanticJsonSchemaWarning: Default value default=PydanticUndefined description='マスキング前の文章。「マスキング前の文章:・・・」となっている文章をここのbefore_maskingフィールドに格納する' extra={} is not JSON serializable; excluding default from JSON schema [non-serializable-default]\n",
      "  warnings.warn(message, PydanticJsonSchemaWarning)\n",
      "c:\\Users\\YukiYamanaka\\AppData\\Local\\Programs\\Python\\Python311\\Lib\\site-packages\\pydantic\\json_schema.py:2191: PydanticJsonSchemaWarning: Default value default=PydanticUndefined description='マスキング後の文章。「マスキング後の文章:・・・」となっている文章をここのafter_maskingフィールドに格納する' extra={} is not JSON serializable; excluding default from JSON schema [non-serializable-default]\n",
      "  warnings.warn(message, PydanticJsonSchemaWarning)\n",
      "c:\\Users\\YukiYamanaka\\AppData\\Local\\Programs\\Python\\Python311\\Lib\\site-packages\\pydantic\\json_schema.py:2191: PydanticJsonSchemaWarning: Default value default=PydanticUndefined description='マスキング前の文章。「マスキング前の文章:・・・」となっている文章をここのbefore_maskingフィールドに格納する' extra={} is not JSON serializable; excluding default from JSON schema [non-serializable-default]\n",
      "  warnings.warn(message, PydanticJsonSchemaWarning)\n",
      "c:\\Users\\YukiYamanaka\\AppData\\Local\\Programs\\Python\\Python311\\Lib\\site-packages\\pydantic\\json_schema.py:2191: PydanticJsonSchemaWarning: Default value default=PydanticUndefined description='マスキング後の文章。「マスキング後の文章:・・・」となっている文章をここのafter_maskingフィールドに格納する' extra={} is not JSON serializable; excluding default from JSON schema [non-serializable-default]\n",
      "  warnings.warn(message, PydanticJsonSchemaWarning)\n"
     ]
    },
    {
     "name": "stdout",
     "output_type": "stream",
     "text": [
      "88件目のマスキングデータを生成完了\n",
      "89件目のマスキングデータを生成開始\n"
     ]
    },
    {
     "name": "stderr",
     "output_type": "stream",
     "text": [
      "c:\\Users\\YukiYamanaka\\AppData\\Local\\Programs\\Python\\Python311\\Lib\\site-packages\\pydantic\\json_schema.py:2191: PydanticJsonSchemaWarning: Default value default=PydanticUndefined description='マスキング前の文章。「マスキング前の文章:・・・」となっている文章をここのbefore_maskingフィールドに格納する' extra={} is not JSON serializable; excluding default from JSON schema [non-serializable-default]\n",
      "  warnings.warn(message, PydanticJsonSchemaWarning)\n",
      "c:\\Users\\YukiYamanaka\\AppData\\Local\\Programs\\Python\\Python311\\Lib\\site-packages\\pydantic\\json_schema.py:2191: PydanticJsonSchemaWarning: Default value default=PydanticUndefined description='マスキング後の文章。「マスキング後の文章:・・・」となっている文章をここのafter_maskingフィールドに格納する' extra={} is not JSON serializable; excluding default from JSON schema [non-serializable-default]\n",
      "  warnings.warn(message, PydanticJsonSchemaWarning)\n",
      "c:\\Users\\YukiYamanaka\\AppData\\Local\\Programs\\Python\\Python311\\Lib\\site-packages\\pydantic\\json_schema.py:2191: PydanticJsonSchemaWarning: Default value default=PydanticUndefined description='マスキング前の文章。「マスキング前の文章:・・・」となっている文章をここのbefore_maskingフィールドに格納する' extra={} is not JSON serializable; excluding default from JSON schema [non-serializable-default]\n",
      "  warnings.warn(message, PydanticJsonSchemaWarning)\n",
      "c:\\Users\\YukiYamanaka\\AppData\\Local\\Programs\\Python\\Python311\\Lib\\site-packages\\pydantic\\json_schema.py:2191: PydanticJsonSchemaWarning: Default value default=PydanticUndefined description='マスキング後の文章。「マスキング後の文章:・・・」となっている文章をここのafter_maskingフィールドに格納する' extra={} is not JSON serializable; excluding default from JSON schema [non-serializable-default]\n",
      "  warnings.warn(message, PydanticJsonSchemaWarning)\n"
     ]
    },
    {
     "name": "stdout",
     "output_type": "stream",
     "text": [
      "89件目のマスキングデータを生成完了\n",
      "90件目のマスキングデータを生成開始\n"
     ]
    },
    {
     "name": "stderr",
     "output_type": "stream",
     "text": [
      "c:\\Users\\YukiYamanaka\\AppData\\Local\\Programs\\Python\\Python311\\Lib\\site-packages\\pydantic\\json_schema.py:2191: PydanticJsonSchemaWarning: Default value default=PydanticUndefined description='マスキング前の文章。「マスキング前の文章:・・・」となっている文章をここのbefore_maskingフィールドに格納する' extra={} is not JSON serializable; excluding default from JSON schema [non-serializable-default]\n",
      "  warnings.warn(message, PydanticJsonSchemaWarning)\n",
      "c:\\Users\\YukiYamanaka\\AppData\\Local\\Programs\\Python\\Python311\\Lib\\site-packages\\pydantic\\json_schema.py:2191: PydanticJsonSchemaWarning: Default value default=PydanticUndefined description='マスキング後の文章。「マスキング後の文章:・・・」となっている文章をここのafter_maskingフィールドに格納する' extra={} is not JSON serializable; excluding default from JSON schema [non-serializable-default]\n",
      "  warnings.warn(message, PydanticJsonSchemaWarning)\n",
      "c:\\Users\\YukiYamanaka\\AppData\\Local\\Programs\\Python\\Python311\\Lib\\site-packages\\pydantic\\json_schema.py:2191: PydanticJsonSchemaWarning: Default value default=PydanticUndefined description='マスキング前の文章。「マスキング前の文章:・・・」となっている文章をここのbefore_maskingフィールドに格納する' extra={} is not JSON serializable; excluding default from JSON schema [non-serializable-default]\n",
      "  warnings.warn(message, PydanticJsonSchemaWarning)\n",
      "c:\\Users\\YukiYamanaka\\AppData\\Local\\Programs\\Python\\Python311\\Lib\\site-packages\\pydantic\\json_schema.py:2191: PydanticJsonSchemaWarning: Default value default=PydanticUndefined description='マスキング後の文章。「マスキング後の文章:・・・」となっている文章をここのafter_maskingフィールドに格納する' extra={} is not JSON serializable; excluding default from JSON schema [non-serializable-default]\n",
      "  warnings.warn(message, PydanticJsonSchemaWarning)\n"
     ]
    },
    {
     "name": "stdout",
     "output_type": "stream",
     "text": [
      "90件目のマスキングデータを生成完了\n",
      "91件目のマスキングデータを生成開始\n"
     ]
    },
    {
     "name": "stderr",
     "output_type": "stream",
     "text": [
      "c:\\Users\\YukiYamanaka\\AppData\\Local\\Programs\\Python\\Python311\\Lib\\site-packages\\pydantic\\json_schema.py:2191: PydanticJsonSchemaWarning: Default value default=PydanticUndefined description='マスキング前の文章。「マスキング前の文章:・・・」となっている文章をここのbefore_maskingフィールドに格納する' extra={} is not JSON serializable; excluding default from JSON schema [non-serializable-default]\n",
      "  warnings.warn(message, PydanticJsonSchemaWarning)\n",
      "c:\\Users\\YukiYamanaka\\AppData\\Local\\Programs\\Python\\Python311\\Lib\\site-packages\\pydantic\\json_schema.py:2191: PydanticJsonSchemaWarning: Default value default=PydanticUndefined description='マスキング後の文章。「マスキング後の文章:・・・」となっている文章をここのafter_maskingフィールドに格納する' extra={} is not JSON serializable; excluding default from JSON schema [non-serializable-default]\n",
      "  warnings.warn(message, PydanticJsonSchemaWarning)\n",
      "c:\\Users\\YukiYamanaka\\AppData\\Local\\Programs\\Python\\Python311\\Lib\\site-packages\\pydantic\\json_schema.py:2191: PydanticJsonSchemaWarning: Default value default=PydanticUndefined description='マスキング前の文章。「マスキング前の文章:・・・」となっている文章をここのbefore_maskingフィールドに格納する' extra={} is not JSON serializable; excluding default from JSON schema [non-serializable-default]\n",
      "  warnings.warn(message, PydanticJsonSchemaWarning)\n",
      "c:\\Users\\YukiYamanaka\\AppData\\Local\\Programs\\Python\\Python311\\Lib\\site-packages\\pydantic\\json_schema.py:2191: PydanticJsonSchemaWarning: Default value default=PydanticUndefined description='マスキング後の文章。「マスキング後の文章:・・・」となっている文章をここのafter_maskingフィールドに格納する' extra={} is not JSON serializable; excluding default from JSON schema [non-serializable-default]\n",
      "  warnings.warn(message, PydanticJsonSchemaWarning)\n"
     ]
    },
    {
     "name": "stdout",
     "output_type": "stream",
     "text": [
      "91件目のマスキングデータを生成完了\n",
      "92件目のマスキングデータを生成開始\n"
     ]
    },
    {
     "name": "stderr",
     "output_type": "stream",
     "text": [
      "c:\\Users\\YukiYamanaka\\AppData\\Local\\Programs\\Python\\Python311\\Lib\\site-packages\\pydantic\\json_schema.py:2191: PydanticJsonSchemaWarning: Default value default=PydanticUndefined description='マスキング前の文章。「マスキング前の文章:・・・」となっている文章をここのbefore_maskingフィールドに格納する' extra={} is not JSON serializable; excluding default from JSON schema [non-serializable-default]\n",
      "  warnings.warn(message, PydanticJsonSchemaWarning)\n",
      "c:\\Users\\YukiYamanaka\\AppData\\Local\\Programs\\Python\\Python311\\Lib\\site-packages\\pydantic\\json_schema.py:2191: PydanticJsonSchemaWarning: Default value default=PydanticUndefined description='マスキング後の文章。「マスキング後の文章:・・・」となっている文章をここのafter_maskingフィールドに格納する' extra={} is not JSON serializable; excluding default from JSON schema [non-serializable-default]\n",
      "  warnings.warn(message, PydanticJsonSchemaWarning)\n",
      "c:\\Users\\YukiYamanaka\\AppData\\Local\\Programs\\Python\\Python311\\Lib\\site-packages\\pydantic\\json_schema.py:2191: PydanticJsonSchemaWarning: Default value default=PydanticUndefined description='マスキング前の文章。「マスキング前の文章:・・・」となっている文章をここのbefore_maskingフィールドに格納する' extra={} is not JSON serializable; excluding default from JSON schema [non-serializable-default]\n",
      "  warnings.warn(message, PydanticJsonSchemaWarning)\n",
      "c:\\Users\\YukiYamanaka\\AppData\\Local\\Programs\\Python\\Python311\\Lib\\site-packages\\pydantic\\json_schema.py:2191: PydanticJsonSchemaWarning: Default value default=PydanticUndefined description='マスキング後の文章。「マスキング後の文章:・・・」となっている文章をここのafter_maskingフィールドに格納する' extra={} is not JSON serializable; excluding default from JSON schema [non-serializable-default]\n",
      "  warnings.warn(message, PydanticJsonSchemaWarning)\n"
     ]
    },
    {
     "name": "stdout",
     "output_type": "stream",
     "text": [
      "92件目のマスキングデータを生成完了\n",
      "93件目のマスキングデータを生成開始\n"
     ]
    },
    {
     "name": "stderr",
     "output_type": "stream",
     "text": [
      "c:\\Users\\YukiYamanaka\\AppData\\Local\\Programs\\Python\\Python311\\Lib\\site-packages\\pydantic\\json_schema.py:2191: PydanticJsonSchemaWarning: Default value default=PydanticUndefined description='マスキング前の文章。「マスキング前の文章:・・・」となっている文章をここのbefore_maskingフィールドに格納する' extra={} is not JSON serializable; excluding default from JSON schema [non-serializable-default]\n",
      "  warnings.warn(message, PydanticJsonSchemaWarning)\n",
      "c:\\Users\\YukiYamanaka\\AppData\\Local\\Programs\\Python\\Python311\\Lib\\site-packages\\pydantic\\json_schema.py:2191: PydanticJsonSchemaWarning: Default value default=PydanticUndefined description='マスキング後の文章。「マスキング後の文章:・・・」となっている文章をここのafter_maskingフィールドに格納する' extra={} is not JSON serializable; excluding default from JSON schema [non-serializable-default]\n",
      "  warnings.warn(message, PydanticJsonSchemaWarning)\n",
      "c:\\Users\\YukiYamanaka\\AppData\\Local\\Programs\\Python\\Python311\\Lib\\site-packages\\pydantic\\json_schema.py:2191: PydanticJsonSchemaWarning: Default value default=PydanticUndefined description='マスキング前の文章。「マスキング前の文章:・・・」となっている文章をここのbefore_maskingフィールドに格納する' extra={} is not JSON serializable; excluding default from JSON schema [non-serializable-default]\n",
      "  warnings.warn(message, PydanticJsonSchemaWarning)\n",
      "c:\\Users\\YukiYamanaka\\AppData\\Local\\Programs\\Python\\Python311\\Lib\\site-packages\\pydantic\\json_schema.py:2191: PydanticJsonSchemaWarning: Default value default=PydanticUndefined description='マスキング後の文章。「マスキング後の文章:・・・」となっている文章をここのafter_maskingフィールドに格納する' extra={} is not JSON serializable; excluding default from JSON schema [non-serializable-default]\n",
      "  warnings.warn(message, PydanticJsonSchemaWarning)\n"
     ]
    },
    {
     "name": "stdout",
     "output_type": "stream",
     "text": [
      "93件目のマスキングデータを生成完了\n",
      "94件目のマスキングデータを生成開始\n"
     ]
    },
    {
     "name": "stderr",
     "output_type": "stream",
     "text": [
      "c:\\Users\\YukiYamanaka\\AppData\\Local\\Programs\\Python\\Python311\\Lib\\site-packages\\pydantic\\json_schema.py:2191: PydanticJsonSchemaWarning: Default value default=PydanticUndefined description='マスキング前の文章。「マスキング前の文章:・・・」となっている文章をここのbefore_maskingフィールドに格納する' extra={} is not JSON serializable; excluding default from JSON schema [non-serializable-default]\n",
      "  warnings.warn(message, PydanticJsonSchemaWarning)\n",
      "c:\\Users\\YukiYamanaka\\AppData\\Local\\Programs\\Python\\Python311\\Lib\\site-packages\\pydantic\\json_schema.py:2191: PydanticJsonSchemaWarning: Default value default=PydanticUndefined description='マスキング後の文章。「マスキング後の文章:・・・」となっている文章をここのafter_maskingフィールドに格納する' extra={} is not JSON serializable; excluding default from JSON schema [non-serializable-default]\n",
      "  warnings.warn(message, PydanticJsonSchemaWarning)\n",
      "c:\\Users\\YukiYamanaka\\AppData\\Local\\Programs\\Python\\Python311\\Lib\\site-packages\\pydantic\\json_schema.py:2191: PydanticJsonSchemaWarning: Default value default=PydanticUndefined description='マスキング前の文章。「マスキング前の文章:・・・」となっている文章をここのbefore_maskingフィールドに格納する' extra={} is not JSON serializable; excluding default from JSON schema [non-serializable-default]\n",
      "  warnings.warn(message, PydanticJsonSchemaWarning)\n",
      "c:\\Users\\YukiYamanaka\\AppData\\Local\\Programs\\Python\\Python311\\Lib\\site-packages\\pydantic\\json_schema.py:2191: PydanticJsonSchemaWarning: Default value default=PydanticUndefined description='マスキング後の文章。「マスキング後の文章:・・・」となっている文章をここのafter_maskingフィールドに格納する' extra={} is not JSON serializable; excluding default from JSON schema [non-serializable-default]\n",
      "  warnings.warn(message, PydanticJsonSchemaWarning)\n"
     ]
    },
    {
     "name": "stdout",
     "output_type": "stream",
     "text": [
      "94件目のマスキングデータを生成完了\n",
      "95件目のマスキングデータを生成開始\n"
     ]
    },
    {
     "name": "stderr",
     "output_type": "stream",
     "text": [
      "c:\\Users\\YukiYamanaka\\AppData\\Local\\Programs\\Python\\Python311\\Lib\\site-packages\\pydantic\\json_schema.py:2191: PydanticJsonSchemaWarning: Default value default=PydanticUndefined description='マスキング前の文章。「マスキング前の文章:・・・」となっている文章をここのbefore_maskingフィールドに格納する' extra={} is not JSON serializable; excluding default from JSON schema [non-serializable-default]\n",
      "  warnings.warn(message, PydanticJsonSchemaWarning)\n",
      "c:\\Users\\YukiYamanaka\\AppData\\Local\\Programs\\Python\\Python311\\Lib\\site-packages\\pydantic\\json_schema.py:2191: PydanticJsonSchemaWarning: Default value default=PydanticUndefined description='マスキング後の文章。「マスキング後の文章:・・・」となっている文章をここのafter_maskingフィールドに格納する' extra={} is not JSON serializable; excluding default from JSON schema [non-serializable-default]\n",
      "  warnings.warn(message, PydanticJsonSchemaWarning)\n",
      "c:\\Users\\YukiYamanaka\\AppData\\Local\\Programs\\Python\\Python311\\Lib\\site-packages\\pydantic\\json_schema.py:2191: PydanticJsonSchemaWarning: Default value default=PydanticUndefined description='マスキング前の文章。「マスキング前の文章:・・・」となっている文章をここのbefore_maskingフィールドに格納する' extra={} is not JSON serializable; excluding default from JSON schema [non-serializable-default]\n",
      "  warnings.warn(message, PydanticJsonSchemaWarning)\n",
      "c:\\Users\\YukiYamanaka\\AppData\\Local\\Programs\\Python\\Python311\\Lib\\site-packages\\pydantic\\json_schema.py:2191: PydanticJsonSchemaWarning: Default value default=PydanticUndefined description='マスキング後の文章。「マスキング後の文章:・・・」となっている文章をここのafter_maskingフィールドに格納する' extra={} is not JSON serializable; excluding default from JSON schema [non-serializable-default]\n",
      "  warnings.warn(message, PydanticJsonSchemaWarning)\n"
     ]
    },
    {
     "name": "stdout",
     "output_type": "stream",
     "text": [
      "95件目のマスキングデータを生成完了\n",
      "96件目のマスキングデータを生成開始\n"
     ]
    },
    {
     "name": "stderr",
     "output_type": "stream",
     "text": [
      "c:\\Users\\YukiYamanaka\\AppData\\Local\\Programs\\Python\\Python311\\Lib\\site-packages\\pydantic\\json_schema.py:2191: PydanticJsonSchemaWarning: Default value default=PydanticUndefined description='マスキング前の文章。「マスキング前の文章:・・・」となっている文章をここのbefore_maskingフィールドに格納する' extra={} is not JSON serializable; excluding default from JSON schema [non-serializable-default]\n",
      "  warnings.warn(message, PydanticJsonSchemaWarning)\n",
      "c:\\Users\\YukiYamanaka\\AppData\\Local\\Programs\\Python\\Python311\\Lib\\site-packages\\pydantic\\json_schema.py:2191: PydanticJsonSchemaWarning: Default value default=PydanticUndefined description='マスキング後の文章。「マスキング後の文章:・・・」となっている文章をここのafter_maskingフィールドに格納する' extra={} is not JSON serializable; excluding default from JSON schema [non-serializable-default]\n",
      "  warnings.warn(message, PydanticJsonSchemaWarning)\n",
      "c:\\Users\\YukiYamanaka\\AppData\\Local\\Programs\\Python\\Python311\\Lib\\site-packages\\pydantic\\json_schema.py:2191: PydanticJsonSchemaWarning: Default value default=PydanticUndefined description='マスキング前の文章。「マスキング前の文章:・・・」となっている文章をここのbefore_maskingフィールドに格納する' extra={} is not JSON serializable; excluding default from JSON schema [non-serializable-default]\n",
      "  warnings.warn(message, PydanticJsonSchemaWarning)\n",
      "c:\\Users\\YukiYamanaka\\AppData\\Local\\Programs\\Python\\Python311\\Lib\\site-packages\\pydantic\\json_schema.py:2191: PydanticJsonSchemaWarning: Default value default=PydanticUndefined description='マスキング後の文章。「マスキング後の文章:・・・」となっている文章をここのafter_maskingフィールドに格納する' extra={} is not JSON serializable; excluding default from JSON schema [non-serializable-default]\n",
      "  warnings.warn(message, PydanticJsonSchemaWarning)\n"
     ]
    },
    {
     "name": "stdout",
     "output_type": "stream",
     "text": [
      "96件目のマスキングデータを生成完了\n",
      "97件目のマスキングデータを生成開始\n"
     ]
    },
    {
     "name": "stderr",
     "output_type": "stream",
     "text": [
      "c:\\Users\\YukiYamanaka\\AppData\\Local\\Programs\\Python\\Python311\\Lib\\site-packages\\pydantic\\json_schema.py:2191: PydanticJsonSchemaWarning: Default value default=PydanticUndefined description='マスキング前の文章。「マスキング前の文章:・・・」となっている文章をここのbefore_maskingフィールドに格納する' extra={} is not JSON serializable; excluding default from JSON schema [non-serializable-default]\n",
      "  warnings.warn(message, PydanticJsonSchemaWarning)\n",
      "c:\\Users\\YukiYamanaka\\AppData\\Local\\Programs\\Python\\Python311\\Lib\\site-packages\\pydantic\\json_schema.py:2191: PydanticJsonSchemaWarning: Default value default=PydanticUndefined description='マスキング後の文章。「マスキング後の文章:・・・」となっている文章をここのafter_maskingフィールドに格納する' extra={} is not JSON serializable; excluding default from JSON schema [non-serializable-default]\n",
      "  warnings.warn(message, PydanticJsonSchemaWarning)\n",
      "c:\\Users\\YukiYamanaka\\AppData\\Local\\Programs\\Python\\Python311\\Lib\\site-packages\\pydantic\\json_schema.py:2191: PydanticJsonSchemaWarning: Default value default=PydanticUndefined description='マスキング前の文章。「マスキング前の文章:・・・」となっている文章をここのbefore_maskingフィールドに格納する' extra={} is not JSON serializable; excluding default from JSON schema [non-serializable-default]\n",
      "  warnings.warn(message, PydanticJsonSchemaWarning)\n",
      "c:\\Users\\YukiYamanaka\\AppData\\Local\\Programs\\Python\\Python311\\Lib\\site-packages\\pydantic\\json_schema.py:2191: PydanticJsonSchemaWarning: Default value default=PydanticUndefined description='マスキング後の文章。「マスキング後の文章:・・・」となっている文章をここのafter_maskingフィールドに格納する' extra={} is not JSON serializable; excluding default from JSON schema [non-serializable-default]\n",
      "  warnings.warn(message, PydanticJsonSchemaWarning)\n"
     ]
    },
    {
     "name": "stdout",
     "output_type": "stream",
     "text": [
      "97件目のマスキングデータを生成完了\n",
      "98件目のマスキングデータを生成開始\n"
     ]
    },
    {
     "name": "stderr",
     "output_type": "stream",
     "text": [
      "c:\\Users\\YukiYamanaka\\AppData\\Local\\Programs\\Python\\Python311\\Lib\\site-packages\\pydantic\\json_schema.py:2191: PydanticJsonSchemaWarning: Default value default=PydanticUndefined description='マスキング前の文章。「マスキング前の文章:・・・」となっている文章をここのbefore_maskingフィールドに格納する' extra={} is not JSON serializable; excluding default from JSON schema [non-serializable-default]\n",
      "  warnings.warn(message, PydanticJsonSchemaWarning)\n",
      "c:\\Users\\YukiYamanaka\\AppData\\Local\\Programs\\Python\\Python311\\Lib\\site-packages\\pydantic\\json_schema.py:2191: PydanticJsonSchemaWarning: Default value default=PydanticUndefined description='マスキング後の文章。「マスキング後の文章:・・・」となっている文章をここのafter_maskingフィールドに格納する' extra={} is not JSON serializable; excluding default from JSON schema [non-serializable-default]\n",
      "  warnings.warn(message, PydanticJsonSchemaWarning)\n",
      "c:\\Users\\YukiYamanaka\\AppData\\Local\\Programs\\Python\\Python311\\Lib\\site-packages\\pydantic\\json_schema.py:2191: PydanticJsonSchemaWarning: Default value default=PydanticUndefined description='マスキング前の文章。「マスキング前の文章:・・・」となっている文章をここのbefore_maskingフィールドに格納する' extra={} is not JSON serializable; excluding default from JSON schema [non-serializable-default]\n",
      "  warnings.warn(message, PydanticJsonSchemaWarning)\n",
      "c:\\Users\\YukiYamanaka\\AppData\\Local\\Programs\\Python\\Python311\\Lib\\site-packages\\pydantic\\json_schema.py:2191: PydanticJsonSchemaWarning: Default value default=PydanticUndefined description='マスキング後の文章。「マスキング後の文章:・・・」となっている文章をここのafter_maskingフィールドに格納する' extra={} is not JSON serializable; excluding default from JSON schema [non-serializable-default]\n",
      "  warnings.warn(message, PydanticJsonSchemaWarning)\n"
     ]
    },
    {
     "name": "stdout",
     "output_type": "stream",
     "text": [
      "98件目のマスキングデータを生成完了\n",
      "99件目のマスキングデータを生成開始\n"
     ]
    },
    {
     "name": "stderr",
     "output_type": "stream",
     "text": [
      "c:\\Users\\YukiYamanaka\\AppData\\Local\\Programs\\Python\\Python311\\Lib\\site-packages\\pydantic\\json_schema.py:2191: PydanticJsonSchemaWarning: Default value default=PydanticUndefined description='マスキング前の文章。「マスキング前の文章:・・・」となっている文章をここのbefore_maskingフィールドに格納する' extra={} is not JSON serializable; excluding default from JSON schema [non-serializable-default]\n",
      "  warnings.warn(message, PydanticJsonSchemaWarning)\n",
      "c:\\Users\\YukiYamanaka\\AppData\\Local\\Programs\\Python\\Python311\\Lib\\site-packages\\pydantic\\json_schema.py:2191: PydanticJsonSchemaWarning: Default value default=PydanticUndefined description='マスキング後の文章。「マスキング後の文章:・・・」となっている文章をここのafter_maskingフィールドに格納する' extra={} is not JSON serializable; excluding default from JSON schema [non-serializable-default]\n",
      "  warnings.warn(message, PydanticJsonSchemaWarning)\n",
      "c:\\Users\\YukiYamanaka\\AppData\\Local\\Programs\\Python\\Python311\\Lib\\site-packages\\pydantic\\json_schema.py:2191: PydanticJsonSchemaWarning: Default value default=PydanticUndefined description='マスキング前の文章。「マスキング前の文章:・・・」となっている文章をここのbefore_maskingフィールドに格納する' extra={} is not JSON serializable; excluding default from JSON schema [non-serializable-default]\n",
      "  warnings.warn(message, PydanticJsonSchemaWarning)\n",
      "c:\\Users\\YukiYamanaka\\AppData\\Local\\Programs\\Python\\Python311\\Lib\\site-packages\\pydantic\\json_schema.py:2191: PydanticJsonSchemaWarning: Default value default=PydanticUndefined description='マスキング後の文章。「マスキング後の文章:・・・」となっている文章をここのafter_maskingフィールドに格納する' extra={} is not JSON serializable; excluding default from JSON schema [non-serializable-default]\n",
      "  warnings.warn(message, PydanticJsonSchemaWarning)\n"
     ]
    },
    {
     "name": "stdout",
     "output_type": "stream",
     "text": [
      "99件目のマスキングデータを生成完了\n",
      "100件目のマスキングデータを生成開始\n"
     ]
    },
    {
     "name": "stderr",
     "output_type": "stream",
     "text": [
      "c:\\Users\\YukiYamanaka\\AppData\\Local\\Programs\\Python\\Python311\\Lib\\site-packages\\pydantic\\json_schema.py:2191: PydanticJsonSchemaWarning: Default value default=PydanticUndefined description='マスキング前の文章。「マスキング前の文章:・・・」となっている文章をここのbefore_maskingフィールドに格納する' extra={} is not JSON serializable; excluding default from JSON schema [non-serializable-default]\n",
      "  warnings.warn(message, PydanticJsonSchemaWarning)\n",
      "c:\\Users\\YukiYamanaka\\AppData\\Local\\Programs\\Python\\Python311\\Lib\\site-packages\\pydantic\\json_schema.py:2191: PydanticJsonSchemaWarning: Default value default=PydanticUndefined description='マスキング後の文章。「マスキング後の文章:・・・」となっている文章をここのafter_maskingフィールドに格納する' extra={} is not JSON serializable; excluding default from JSON schema [non-serializable-default]\n",
      "  warnings.warn(message, PydanticJsonSchemaWarning)\n",
      "c:\\Users\\YukiYamanaka\\AppData\\Local\\Programs\\Python\\Python311\\Lib\\site-packages\\pydantic\\json_schema.py:2191: PydanticJsonSchemaWarning: Default value default=PydanticUndefined description='マスキング前の文章。「マスキング前の文章:・・・」となっている文章をここのbefore_maskingフィールドに格納する' extra={} is not JSON serializable; excluding default from JSON schema [non-serializable-default]\n",
      "  warnings.warn(message, PydanticJsonSchemaWarning)\n",
      "c:\\Users\\YukiYamanaka\\AppData\\Local\\Programs\\Python\\Python311\\Lib\\site-packages\\pydantic\\json_schema.py:2191: PydanticJsonSchemaWarning: Default value default=PydanticUndefined description='マスキング後の文章。「マスキング後の文章:・・・」となっている文章をここのafter_maskingフィールドに格納する' extra={} is not JSON serializable; excluding default from JSON schema [non-serializable-default]\n",
      "  warnings.warn(message, PydanticJsonSchemaWarning)\n"
     ]
    },
    {
     "name": "stdout",
     "output_type": "stream",
     "text": [
      "100件目のマスキングデータを生成完了\n"
     ]
    }
   ],
   "source": [
    "before_masking_after_masking_list = []\n",
    "count = 100\n",
    "\n",
    "for i in range(count):\n",
    "    print(f\"{i+1}件目のマスキングデータを生成開始\")\n",
    "    before_masking_after_masking_data = generate_masking_content(generate_masking_content_system_prompt)\n",
    "    separate_before_masking_after_masking = set_before_masking_after_masking(before_masking_after_masking_data)\n",
    "\n",
    "    row_data = {\n",
    "        'before_mask': separate_before_masking_after_masking.before_masking,\n",
    "        'after_mask': separate_before_masking_after_masking.after_masking\n",
    "    }\n",
    "    \n",
    "    # リストに辞書を追加\n",
    "    before_masking_after_masking_list.append(row_data)\n",
    "    print(f\"{i+1}件目のマスキングデータを生成完了\")"
   ]
  },
  {
   "cell_type": "code",
   "execution_count": 148,
   "metadata": {},
   "outputs": [
    {
     "data": {
      "text/plain": [
       "[{'before_mask': '新しく開業した「ランチョン株式会社」は話題のスポットとなっています。特にその本社住所である東京都渋谷区恵比寿南2丁目8-5はおしゃれなエリアに位置し、多くの注目を集めています。同社の代表取締役であるヤマモトセイジさんの明るい性格と確かな経営手腕が成功を後押ししているようです。また、会社のメールアドレスであるinfo@lunchon.co.jpや問い合わせ電話番号03-1234-5678でも顧客からの連絡を受け付けています。さらに、ヤマモトセイジさんの個人的な生年月日は1975年5月18日とのことです。最近では、会社としての事業活動が益々活発化しており、特に「ランチョンお弁当宅配サービス」が大好評で、都内の各企業にも評判が広がっています。このサービスでは、暖かい食事を迅速に提供するとともに、環境にも配慮した取り組みを行っています。本社の郵便番号150-0022や上記のメールアドレスでも詳細な問い合わせが可能です。',\n",
       "  'after_mask': '新しく開業した「<マスキング済みの会社名>」は話題のスポットとなっています。特にその本社住所である<マスキング済みの住所>はおしゃれなエリアに位置し、多くの注目を集めています。同社の代表取締役である<マスキング済みの氏名>さんの明るい性格と確かな経営手腕が成功を後押ししているようです。また、会社のメールアドレスである<マスキング済みのemailアドレス>や問い合わせ電話番号<マスキング済みの電話番号>でも顧客からの連絡を受け付けています。さらに、<マスキング済みの氏名>さんの個人的な生年月日は<マスキング済みの生年月日>とのことです。最近では、会社としての事業活動が益々活発化しており、特に「<マスキング済みの会社名>お弁当宅配サービス」が大好評で、都内の各企業にも評判が広がっています。このサービスでは、暖かい食事を迅速に提供するとともに、環境にも配慮した取り組みを行っています。本社の郵便番号<マスキング済みの郵便番号>や上記のメールアドレスでも詳細な問い合わせが可能です。'},\n",
       " {'before_mask': 'カンザキユウイチさんは、大手IT企業で働いており、現在の勤務先は「テクノロジーノート株式会社」です。会社の所在地は大阪府大阪市淀川区宮原4丁目8番1号であり、最寄り駅は新大阪駅です。カンザキさんのオフィスの郵便番号は5320003で、直接の連絡先として職場の固定電話番号である06-1234-5678が記載されています。さらに、彼の個人用メールアドレスはyuuichi.kanzaki@example.jpで、生年月日は1985年5月15日です。最近、カンザキユウイチさんは東京出張が頻繁にあり、宿泊先として選んだホテルは港区にある「ホテルパール東京」です。彼の会社は新規プロジェクトを手掛けており、特にAI技術の応用に力を入れています。カンザキさん自身もその新規プロジェクトでリーダーシップを発揮しており、ますます忙しい日々を送っています。彼とは連絡を取る際に、上記の連絡先情報を使用するのが推奨されています。',\n",
       "  'after_mask': '<マスキング済みの氏名>さんは、大手IT企業で働いており、現在の勤務先は<マスキング済みの会社名>です。会社の所在地は<マスキング済みの住所>であり、最寄り駅は<マスキング済みの住所>です。<マスキング済みの氏名>さんのオフィスの郵便番号は<マスキング済みの郵便番号>で、直接の連絡先として職場の固定電話番号である<マスキング済みの電話番号>が記載されています。さらに、彼の個人用メールアドレスは<マスキング済みのemailアドレス>で、生年月日は<マスキング済みの生年月日>です。最近、<マスキング済みの氏名>さんは東京出張が頻繁にあり、宿泊先として選んだホテルは港区にある<マスキング済みの住所>です。彼の会社は新規プロジェクトを手掛けており、特にAI技術の応用に力を入れています。<マスキング済みの氏名>さん自身もその新規プロジェクトでリーダーシップを発揮しており、ますます忙しい日々を送っています。彼とは連絡を取る際に、上記の連絡先情報を使用するのが推奨されています。'},\n",
       " {'before_mask': '昨日、スズキタカシさんが東京都渋谷区神宮前4丁目19番16号のカフェで開催されたクリエイティブセミナーに参加しました。彼はセミナーの中で、株式会社クリエイティブラボの社員としての経験について語り、特にデザイン分野における最新のトレンドや課題について具体的な事例を交えて説明してくれました。参加者たちはスズキさんのお話を興味深く聞き、後半の質疑応答では、彼のこれまでの実績や今後の活動について多数の質問が寄せられました。また、彼が使用している連絡先メールアドレス、例えばsuzuki.takashi@example.comや電話番号09012345678もセミナー運営側から共有され、ビジネスの問い合わせにも応じるとのことでした。なお、セミナーの開始時間は午前10時で、スズキタカシさんの生年月日は1968年5月13日であることが自己紹介で少し触れられました。',\n",
       "  'after_mask': '昨日、<マスキング済みの氏名>さんが<マスキング済みの住所>のカフェで開催されたクリエイティブセミナーに参加しました。彼はセミナーの中で、<マスキング済みの会社名>の社員としての経験について語り、特にデザイン分野における最新のトレンドや課題について具体的な事例を交えて説明してくれました。参加者たちは<マスキング済みの氏名>さんのお話を興味深く聞き、後半の質疑応答では、彼のこれまでの実績や今後の活動について多数の質問が寄せられました。また、彼が使用している連絡先メールアドレス、例えば<マスキング済みのemailアドレス>や電話番号<マスキング済みの電話番号>もセミナー運営側から共有され、ビジネスの問い合わせにも応じるとのことでした。なお、セミナーの開始時間は午前10時で、<マスキング済みの氏名>さんの生年月日は<マスキング済みの生年月日>であることが自己紹介で少し触れられました。'},\n",
       " {'before_mask': 'ヨシダカナコさんは1985年5月12日生まれで、現在東京都渋谷区渋谷2丁目に住んでいます。彼女はITベンチャー企業で働いており、その会社名はGreen Tech Solutions株式会社です。職場の所在地は東京都港区赤坂8丁目23番15号で、郵便番号は〒1070052です。ヨシダさんのメールアドレスはkanako.yoshida@example.comで、職場の電話番号は03-1234-5678です。彼女は趣味のフランス語学習に熱心で、休日には新宿区内のフランス語教室に通っています。',\n",
       "  'after_mask': '<マスキング済みの氏名>さんは<マスキング済みの生年月日>生まれで、現在<マスキング済みの住所>に住んでいます。彼女はITベンチャー企業で働いており、その会社名は<マスキング済みの会社名>です。職場の所在地は<マスキング済みの住所>で、郵便番号は<マスキング済みの郵便番号>です。<マスキング済みの氏名>さんのメールアドレスは<マスキング済みのemailアドレス>で、職場の電話番号は<マスキング済みの電話番号>です。彼女は趣味のフランス語学習に熱心で、休日には<マスキング済みの住所>内のフランス語教室に通っています。'},\n",
       " {'before_mask': '昨日はヤマダハナコさんと久しぶりに食事をする機会がありました。彼女の勤務先である「株式会社東京ウェブシステム」には、非常に革新的なプロジェクトが進行中で、彼女が中心となって携わっているそうです。食事をしたのは彼女の薦めで選んだ「花乃和食処」、住所は東京都渋谷区恵比寿2丁目4-6で、とても雰囲気の良いお店でした。ヤマダさんからは新しいメールアドレス（hanako.yamada@example.jp）も教えてもらい、連絡が取りやすくなりました。また、彼女の誕生日が11月15日だと聞き、ちょうどその日にお祝いの会を計画することになりました。彼女の家の最寄りの郵便番号は150-0013で、電話番号は090-1234-5678だそうです。彼女は最近、クリエイティブな仕事に関心を持ち始め、自分の技術を活かした新しいプロジェクトに取り組む予定だと意気込んでいました。',\n",
       "  'after_mask': '昨日は<マスキング済みの氏名>さんと久しぶりに食事をする機会がありました。彼女の勤務先である<マスキング済みの会社名>には、非常に革新的なプロジェクトが進行中で、彼女が中心となって携わっているそうです。食事をしたのは彼女の薦めで選んだ「花乃和食処」、住所は<マスキング済みの住所>で、とても雰囲気の良いお店でした。<マスキング済みの氏名>さんからは新しいメールアドレス（<マスキング済みのemailアドレス>）も教えてもらい、連絡が取りやすくなりました。また、彼女の誕生日が<マスキング済みの生年月日>だと聞き、ちょうどその日にお祝いの会を計画することになりました。彼女の家の最寄りの郵便番号は<マスキング済みの郵便番号>で、電話番号は<マスキング済みの電話番号>だそうです。彼女は最近、クリエイティブな仕事に関心を持ち始め、自分の技術を活かした新しいプロジェクトに取り組む予定だと意気込んでいました。'},\n",
       " {'before_mask': 'カタカナ株式会社の営業部に勤務しているサトウアキラさんは、1985年3月12日生まれで埼玉県さいたま市大宮区桜木町1丁目7番9号ライフタワー大宮101に住んでいます。自宅の電話番号は0486543210で、会社の方の連絡先は03-1234-5678となっています。また、サトウアキラさんのメールアドレスはakira.sato@example.jpで、一部の顧客とも直接メールでやり取りすることがあるそうです。勤務先のカタカナ株式会社は千代田区大手町1丁目1番地に本社を構えており、今回のプロジェクトでサトウアキラさんが担当する新製品開発は大きな注目を集めています。',\n",
       "  'after_mask': '<マスキング済みの会社名>の営業部に勤務している<マスキング済みの氏名>さんは、<マスキング済みの生年月日>生まれで<マスキング済みの住所>に住んでいます。自宅の電話番号は<マスキング済みの電話番号>で、会社の方の連絡先は<マスキング済みの電話番号>となっています。また、<マスキング済みの氏名>さんのメールアドレスは<マスキング済みのemailアドレス>で、一部の顧客とも直接メールでやり取りすることがあるそうです。勤務先の<マスキング済みの会社名>は<マスキング済みの住所>に本社を構えており、今回のプロジェクトで<マスキング済みの氏名>さんが担当する新製品開発は大きな注目を集めています。'},\n",
       " {'before_mask': '先日、オオタケカナコさんが企画した新プロジェクトの発表会が開催されました。彼女の所属する会社であるSunrise Techno Solutions株式会社は、新しい技術を活用した革新的なソフトウェアを開発しており、顧客から高評価を受けています。発表会は東京都渋谷区道玄坂2丁目25-12、渋谷ビジネスビルの2階会場で行われ、郵便番号は1500043です。当日、現地には数百人が駆けつけましたが、オオタケカナコさんは司会進行も務め、流れるような説明で参加者を惹きつけていました。彼女の連絡先であるemailアドレスはkanako.otake@example.comで、質問などがあればこちらにコンタクトすると良さそうです。さらに、彼女の生年月日は1990年6月15日で、この若さでのプロジェクト成功は非常に注目されるポイントです。',\n",
       "  'after_mask': '<マスキング済みの氏名>さんが企画した新プロジェクトの発表会が開催されました。彼女の所属する会社である<マスキング済みの会社名>は、新しい技術を活用した革新的なソフトウェアを開発しており、顧客から高評価を受けています。発表会は<マスキング済みの住所>で行われ、<マスキング済みの郵便番号>です。当日、現地には数百人が駆けつけましたが、<マスキング済みの氏名>さんは司会進行も務め、流れるような説明で参加者を惹きつけていました。彼女の連絡先であるemailアドレスは<マスキング済みのemailアドレス>で、質問などがあればこちらにコンタクトすると良さそうです。さらに、彼女の生年月日は<マスキング済みの生年月日>で、この若さでのプロジェクト成功は非常に注目されるポイントです。'},\n",
       " {'before_mask': 'カワサキケンイチさんは現在、東京都渋谷区神南1丁目22番3号にある株式会社ブルースターに勤務しています。同氏は1990年7月15日生まれで、会社のメールアドレスはkenichi.kawasaki@bluestar.co.jpです。会社の代表番号は03-1234-5678で、郵便番号は1500041です。彼は毎朝9時の始業時間に間に合うように、徒歩で20分かけて通勤しています。休日には趣味の写真撮影を楽しむことが多く、最近では国内旅行にもよく出かけているそうです。特に京都や奈良の歴史ある街並みを訪れるのが好きで、先日は大泉町の友人宅に滞在して、地元の文化を堪能したとのこと。さらに、立川市にある写真展で自身の作品を展示する機会にも恵まれたようで、周囲からの反響が良かったことを嬉しく思っていると語っています。また、交流のあるクリエイターたちと食事会を開くこともあり、その際に仕事や趣味、将来の展望などについて語り合うことで、さらに人脈を広げているそうです。',\n",
       "  'after_mask': '<マスキング済みの氏名>さんは現在、<マスキング済みの住所>にある<マスキング済みの会社名>に勤務しています。同氏は<マスキング済みの生年月日>生まれで、会社のメールアドレスは<マスキング済みのemailアドレス>です。会社の代表番号は<マスキング済みの電話番号>で、郵便番号は<マスキング済みの郵便番号>です。彼は毎朝9時の始業時間に間に合うように、徒歩で20分かけて通勤しています。休日には趣味の写真撮影を楽しむことが多く、最近では国内旅行にもよく出かけているそうです。特に京都や奈良の歴史ある街並みを訪れるのが好きで、先日は<マスキング済みの住所>の友人宅に滞在して、地元の文化を堪能したとのこと。さらに、<マスキング済みの住所>にある写真展で自身の作品を展示する機会にも恵まれたようで、周囲からの反響が良かったことを嬉しく思っていると語っています。また、交流のあるクリエイターたちと食事会を開くこともあり、その際に仕事や趣味、将来の展望などについて語り合うことで、さらに人脈を広げているそうです。'},\n",
       " {'before_mask': 'シンゴウイチロウさんは株式会社サクラソリューションのシステムエンジニアとして東京都港区赤坂一丁目12番34号にある本社勤務をしています。彼の職場の郵便番号は〒1234567で、連絡先として登録されている電話番号は03-1234-5678です。シンゴウイチロウさんの情報を確認したところ、生年月日は1988年6月15日で、彼の個人メールアドレスはichiro.sakura@example.jpとなっています。一方で、彼の同僚であるタニガワハルカさんの情報も確認する必要があります。タニガワハルカさんの生年月日は1990年3月22日で、彼女の職場メールアドレスはharuka.tanigawa@company.comです。赤坂のオフィスは最近改装され、社員たちは働きやすい環境と充実した設備が整った場所での勤務を非常に気に入っています。シンゴウイチロウさんはプログラミングのスキルが高く、タニガワハルカさんはデータ分析に優れています。この二人が率先して広告キャンペーンのデータ処理プロジェクトに取り組んでおり、その成果が業界内でも話題となっています。',\n",
       "  'after_mask': '<マスキング済みの氏名>さんは<マスキング済みの会社名>のシステムエンジニアとして<マスキング済みの住所>にある本社勤務をしています。彼の職場の郵便番号は<マスキング済みの郵便番号>で、連絡先として登録されている電話番号は<マスキング済みの電話番号>です。<マスキング済みの氏名>さんの情報を確認したところ、生年月日は<マスキング済みの生年月日>で、彼の個人メールアドレスは<マスキング済みのemailアドレス>となっています。一方で、彼の同僚である<マスキング済みの氏名>さんの情報も確認する必要があります。<マスキング済みの氏名>さんの生年月日は<マスキング済みの生年月日>で、彼女の職場メールアドレスは<マスキング済みのemailアドレス>です。<マスキング済みの住所>のオフィスは最近改装され、社員たちは働きやすい環境と充実した設備が整った場所での勤務を非常に気に入っています。<マスキング済みの氏名>さんはプログラミングのスキルが高く、<マスキング済みの氏名>さんはデータ分析に優れています。この二人が率先して広告キャンペーンのデータ処理プロジェクトに取り組んでおり、その成果が業界内でも話題となっています。'},\n",
       " {'before_mask': '株式会社グローバルリンクスに勤務するサトウユミさんは、東京都港区赤坂3丁目12番地の赤坂ビルに住んでいます。彼女は1989年3月15日生まれで、友人からの連絡を受けやすいようにメールアドレスとしてy.sato@example.comを使用しています。なお、彼女の連絡先の電話番号は03-1234-5678です。また、郵便物の受け取りの際には郵便番号1070052が必要になります。休日には彼女のお母さんが住む神奈川県横浜市西区南幸2丁目4番地まで足を運び、家族との時間を過ごします。',\n",
       "  'after_mask': '<マスキング済みの会社名>に勤務する<マスキング済みの氏名>さんは、<マスキング済みの住所>に住んでいます。彼女は<マスキング済みの生年月日>生まれで、友人からの連絡を受けやすいようにメールアドレスとして<マスキング済みのemailアドレス>を使用しています。なお、彼女の連絡先の電話番号は<マスキング済みの電話番号>です。また、郵便物の受け取りの際には<マスキング済みの郵便番号>が必要になります。休日には彼女のお母さんが住む<マスキング済みの住所>まで足を運び、家族との時間を過ごします。'},\n",
       " {'before_mask': 'スズキイチロウさんは株式会社テクノメディアに勤務しており、彼の自宅は東京都渋谷区恵比寿1丁目エビスビル302号室にあります。彼の自宅の郵便番号は〒1500013で、固定電話番号は03-1234-5678です。また、スズキイチロウさんのメールアドレスはichiro.suzuki@example.comで、1985年5月12日生まれの彼は優秀なシステムエンジニアです。休日には、友人のナカムラユウコさんとアウトドア活動を楽しむことが多いです。ナカムラユウコさんの勤務先は株式会社グローバルデザインで、勤務先の住所は大阪府大阪市中央区南船場3丁目5-7にあり、連絡先の電話番号は06-9876-5432です。彼女のメールアドレスはyuko.nakamura@example.comで、生年月日は1990年4月15日です。',\n",
       "  'after_mask': '<マスキング済みの氏名>さんは<マスキング済みの会社名>に勤務しており、彼の自宅は<マスキング済みの住所>にあります。彼の自宅の郵便番号は<マスキング済みの郵便番号>で、固定電話番号は<マスキング済みの電話番号>です。また、<マスキング済みの氏名>さんのメールアドレスは<マスキング済みのemailアドレス>で、<マスキング済みの生年月日>生まれの彼は優秀なシステムエンジニアです。休日には、友人の<マスキング済みの氏名>さんとアウトドア活動を楽しむことが多いです。<マスキング済みの氏名>さんの勤務先は<マスキング済みの会社名>で、勤務先の住所は<マスキング済みの住所>にあり、連絡先の電話番号は<マスキング済みの電話番号>です。彼女のメールアドレスは<マスキング済みのemailアドレス>で、生年月日は<マスキング済みの生年月日>です。'},\n",
       " {'before_mask': 'タカハシヨウコさんは神奈川県横浜市中区本牧町3丁目114-12にお住まいで、1985年8月25日生まれです。彼女は「ソラトロニクス株式会社」という会社に勤めており、そこで経理部のチームリーダーを務めています。会社の所在地は東京都港区芝浦4丁目5-15 NXビルの5階で、郵便番号は108-0023です。また、タカハシさんの勤務先の電話番号は03-3452-6789で、彼女に連絡する際のemailアドレスはyoko.takahashi@soratronics.co.jpです。先日、タカハシさんを訪ねて友人のカワムラマサキさんが、同じ横浜市内の鶴見区にある自宅（神奈川県横浜市鶴見区豊岡町22丁目）の郵便番号230-0048から手紙を送ったそうです。カワムラさんは1978年2月14日生まれで、現在はフリーランスのグラフィックデザイナーとして活躍しています。',\n",
       "  'after_mask': '<マスキング済みの氏名>さんは<マスキング済みの住所>にお住まいで、<マスキング済みの生年月日>生まれです。彼女は<マスキング済みの会社名>という会社に勤めており、そこで経理部のチームリーダーを務めています。会社の所在地は<マスキング済みの住所>で、郵便番号は<マスキング済みの郵便番号>です。また、<マスキング済みの氏名>さんの勤務先の電話番号は<マスキング済みの電話番号>で、彼女に連絡する際のemailアドレスは<マスキング済みのemailアドレス>です。先日、<マスキング済みの氏名>さんを訪ねて友人の<マスキング済みの氏名>さんが、同じ横浜市内の鶴見区にある自宅（<マスキング済みの住所>）の郵便番号<マスキング済みの郵便番号>から手紙を送ったそうです。<マスキング済みの氏名>さんは<マスキング済みの生年月日>生まれで、現在はフリーランスのグラフィックデザイナーとして活躍しています。'},\n",
       " {'before_mask': 'サクラ銀行支店長のモリタハルコさんは、埼玉県さいたま市北区土呂町1-12-33に住んでいます。彼女の自宅の郵便番号は〒3310804で、電話番号は048-876-5432です。モリタさんは1992年10月15日生まれで、emailアドレスはharuko.morita@sakurabank.co.jpです。モリタさんは幼少期を長野県で過ごしたあと、大学進学のため東京に移り住みました。大学で経済学を学び、その後サクラ銀行に新卒として入社。休日はよく近所の公園でジョギングをしており、その様子は地域新聞にも掲載されたことがあります。彼女は銀行での業務が忙しい中でも、スポーツや読書など趣味を楽しみ、充実した日々を送っています。',\n",
       "  'after_mask': '<マスキング済みの会社名>支店長の<マスキング済みの氏名>さんは、<マスキング済みの住所>に住んでいます。彼女の自宅の郵便番号は<マスキング済みの郵便番号>で、電話番号は<マスキング済みの電話番号>です。<マスキング済みの氏名>さんは<マスキング済みの生年月日>生まれで、emailアドレスは<マスキング済みのemailアドレス>です。<マスキング済みの氏名>さんは幼少期を長野県で過ごしたあと、大学進学のために東京に移り住みました。大学で経済学を学び、その後<マスキング済みの会社名>に新卒として入社。休日はよく近所の公園でジョギングをしており、その様子は地域新聞にも掲載されたことがあります。彼女は銀行での業務が忙しい中でも、スポーツや読書など趣味を楽しみ、充実した日々を送っています。'},\n",
       " {'before_mask': 'サトウリカさんの住まいは滋賀県大津市真野1丁目2番地で、ご自宅の郵便番号は5200001、電話番号は0771123456です。彼女が働いている会社名は株式会社京滋テクノロジーという企業で、そこは京都市伏見区竹田7丁目8番地が住所になっています。この会社の郵便番号は6128001で、連絡先電話番号は0756012345です。また、彼女の生年月日は1990年5月12日で、会社で登録しているメールアドレスはrika.sato@keiji-tech.comです。一方で、趣味のSNS用アカウントには別のメールアドレスを使っており、こちらの個人専用のメールアドレスはrika.1990@gmail.comとされています。週末にはよく友人であるタカハシユウトさんと一緒に京都の観光地を巡ることが多いようです。ユウトさんの住居は奈良県奈良市大川9丁目1番地で、郵便番号は6308210、電話番号は0742256789です。',\n",
       "  'after_mask': '<マスキング済みの氏名>さんの住まいは<マスキング済みの住所>で、ご自宅の郵便番号は<マスキング済みの郵便番号>、電話番号は<マスキング済みの電話番号>です。彼女が働いている会社名は<マスキング済みの会社名>という企業で、そこは<マスキング済みの住所>が住所になっています。この会社の郵便番号は<マスキング済みの郵便番号>で、連絡先電話番号は<マスキング済みの電話番号>です。また、彼女の生年月日は<マスキング済みの生年月日>で、会社で登録しているメールアドレスは<マスキング済みのemailアドレス>です。一方で、趣味のSNS用アカウントには別のメールアドレスを使っており、こちらの個人専用のメールアドレスは<マスキング済みのemailアドレス>とされています。週末にはよく友人である<マスキング済みの氏名>さんと一緒に京都の観光地を巡ることが多いようです。<マスキング済みの氏名>さんの住居は<マスキング済みの住所>で、郵便番号は<マスキング済みの郵便番号>、電話番号は<マスキング済みの電話番号>です。'},\n",
       " {'before_mask': '高橋ヒロノブさんは、株式会社未来ネットワークの営業部に勤務しており、彼の会社の住所は東京都渋谷区渋谷1丁目1番1号で、郵便番号は151-0001です。生年月日は1985年7月23日で、普段は仕事用のメールアドレスhiro.takahashi@mirainetwork.jpを使用しており、連絡先の電話番号は03-1234-5678です。彼は渋谷のオフィスまで毎日電車で通勤しており、仕事柄たくさんの企業と連携する業務をこなしています。休日には趣味の写真撮影を楽しみ、渋谷周辺のカフェによく訪れています。',\n",
       "  'after_mask': '<マスキング済みの氏名>さんは、<マスキング済みの会社名>の営業部に勤務しており、彼の会社の住所は<マスキング済みの住所>で、郵便番号は<マスキング済みの郵便番号>です。生年月日は<マスキング済みの生年月日>で、普段は仕事用のメールアドレス<マスキング済みのemailアドレス>を使用しており、連絡先の電話番号は<マスキング済みの電話番号>です。彼は渋谷のオフィスまで毎日電車で通勤しており、仕事柄たくさんの企業と連携する業務をこなしています。休日には趣味の写真撮影を楽しみ、渋谷周辺のカフェによく訪れています。'},\n",
       " {'before_mask': 'サトウショウタさんのご自宅は大阪府大阪市福島区大開1丁目3番7号で、郵便番号は〒5530003になります。彼が働いている会社は「日本システム開発株式会社」という名前で、所在地は東京都港区赤坂7-2-21です。電話番号は03-1234-5678、メールアドレスはsato_shota@example.jpです。また、生年月日は1985年12月27日となっています。',\n",
       "  'after_mask': '<マスキング済みの氏名>さんのご自宅は<マスキング済みの住所>で、郵便番号は<マスキング済みの郵便番号>になります。彼が働いている会社は<マスキング済みの会社名>という名前で、所在地は<マスキング済みの住所>です。電話番号は<マスキング済みの電話番号>、メールアドレスは<マスキング済みのemailアドレス>です。また、生年月日は<マスキング済みの生年月日>となっています。'},\n",
       " {'before_mask': 'ヤマダズシ株式会社は、国内外で事業を拡大している食品企業です。同社は東京都渋谷区渋谷1丁目20番5号に本社を構えており、郵便番号は〒1500002です。社員のタケウチミオさんは、1988年5月14日生まれで、営業部の中心メンバーとして活躍しています。タケウチさんの社用メールアドレスはmio.takeuchi@yamada-sushi.co.jpで、電話番号は03-1234-5678です。また、同じ営業部にはヤマダショウタさんがおり、彼は北海道札幌市中央区北3条西22丁目にある出張所で働いています。ヤマダさんの誕生日は1990年11月3日で、メールアドレスはshota.yamada@yamada-sushi.co.jp、連絡先は090-8765-4321です。ヤマダズシは環境に優しい取り組みに力を入れており、再生可能エネルギーへの転換を推進しています。',\n",
       "  'after_mask': '<マスキング済みの会社名>は、国内外で事業を拡大している食品企業です。同社は<マスキング済みの住所>に本社を構えており、郵便番号は<マスキング済みの郵便番号>です。社員の<マスキング済みの氏名>さんは、<マスキング済みの生年月日>生まれで、営業部の中心メンバーとして活躍しています。<マスキング済みの氏名>さんの社用メールアドレスは<マスキング済みのemailアドレス>で、電話番号は<マスキング済みの電話番号>です。また、同じ営業部には<マスキング済みの氏名>さんがおり、彼は<マスキング済みの住所>にある出張所で働いています。<マスキング済みの氏名>さんの誕生日は<マスキング済みの生年月日>で、メールアドレスは<マスキング済みのemailアドレス>、連絡先は<マスキング済みの電話番号>です。<マスキング済みの会社名>は環境に優しい取り組みに力を入れており、再生可能エネルギーへの転換を推進しています。'},\n",
       " {'before_mask': '昨日の会議でハヤシユウタさんとの打ち合わせが非常に有意義だった。彼は株式会社未来創造研修所に勤務しており、会社の所在地は東京都千代田区麹町3丁目4番5号で、郵便番号は〒1020083だ。ハヤシさんは生年月日が1985年3月12日で、35歳になったばかりだそうだ。さらに、新しいプロジェクトを進行するために、彼の会社の直通電話番号、03-1234-5678に連絡を取る必要がある。また、先ほどメールで彼から新しい提案が送られてきた。そのメールアドレスはyhayashi1985@example.co.jpで、非常に丁寧な文章が印象に残った。',\n",
       "  'after_mask': '昨日の会議で<マスキング済みの氏名>さんとの打ち合わせが非常に有意義だった。彼は<マスキング済みの会社名>に勤務しており、会社の所在地は<マスキング済みの住所>で、郵便番号は<マスキング済みの郵便番号>だ。<マスキング済みの氏名>さんは生年月日が<マスキング済みの生年月日>で、35歳になったばかりだそうだ。さらに、新しいプロジェクトを進行するために、彼の会社の直通電話番号、<マスキング済みの電話番号>に連絡を取る必要がある。また、先ほどメールで彼から新しい提案が送られてきた。そのメールアドレスは<マスキング済みのemailアドレス>で、非常に丁寧な文章が印象に残った。'},\n",
       " {'before_mask': '昨日、カネダケンタロウさんが送ってきたメールを確認しました。メールの送信元アドレスはkaneda.kentaro@example.comで、内容は来週のイベントに関する詳細でした。その招待状には株式会社ムゲンソフトのロゴが入っており、イベントが開催される場所は東京都渋谷区宇田川町21番1号という住所が記載されていました。郵便番号は〒1500042、連絡が必要な場合は電話番号08012345678へ問い合わせるように書かれてありました。また、カネダケンタロウさんの生年月日もフォーム入力の際に必要で、彼は1990年5月23日生まれとのことでした。',\n",
       "  'after_mask': '昨日、<マスキング済みの氏名>さんが送ってきたメールを確認しました。メールの送信元アドレスは<マスキング済みのemailアドレス>で、内容は来週のイベントに関する詳細でした。その招待状には<マスキング済みの会社名>のロゴが入っており、イベントが開催される場所は<マスキング済みの住所>という住所が記載されていました。郵便番号は<マスキング済みの郵便番号>、連絡が必要な場合は電話番号<マスキング済みの電話番号>へ問い合わせるように書かれてありました。また、<マスキング済みの氏名>さんの生年月日もフォーム入力の際に必要で、彼は<マスキング済みの生年月日>生まれとのことでした。'},\n",
       " {'before_mask': '先週の月曜日、スズキケンタさんは株式会社ディープテックジャパンの採用イベントに参加しました。場所は東京都渋谷区青葉台2丁目10番6号で、郵便番号は1500046でした。彼はそこで多くの会社関係者と名刺交換を行いました。スズキケンタさんは生年月日が1995年5月15日で、最近のキャリアの悩みについて相談していました。イベント終了後、彼は講演者のウエダユウコさんともお話しし、その後メールでのやり取りを通じて交流を深めています。スズキケンタさんのメールアドレスはkenta.suzuki1995@gmail.comで、ウエダユウコさんのメールアドレスはyuko.ueda.biz@example.comです。また、このイベントには彼の友人であるナカムラソウイチさんも出席していて、彼の携帯電話番号は080-1234-5678だそうです。2人ともIT企業で働いており、最新技術について熱心に議論していました。',\n",
       "  'after_mask': '先週の月曜日、<マスキング済みの氏名>さんは<マスキング済みの会社名>の採用イベントに参加しました。場所は<マスキング済みの住所>で、郵便番号は<マスキング済みの郵便番号>でした。彼はそこで多くの会社関係者と名刺交換を行いました。<マスキング済みの氏名>さんは生年月日が<マスキング済みの生年月日>で、最近のキャリアの悩みについて相談していました。イベント終了後、彼は講演者の<マスキング済みの氏名>さんともお話しし、その後メールでのやり取りを通じて交流を深めています。<マスキング済みの氏名>さんのメールアドレスは<マスキング済みのemailアドレス>で、<マスキング済みの氏名>さんのメールアドレスは<マスキング済みのemailアドレス>です。また、このイベントには彼の友人である<マスキング済みの氏名>さんも出席していて、彼の携帯電話番号は<マスキング済みの電話番号>だそうです。2人ともIT企業で働いており、最新技術について熱心に議論していました。'},\n",
       " {'before_mask': 'サトウリカさんの出身地は北海道札幌市中央区南5条西12町目で、日本郵便番号は〒0600045です。彼女は株式会社アストラテックに勤務しており、役職はマーケティング部の課長です。また、会社の連絡先として0123456789の電話番号が使用されています。生年月日は1992年5月15日で、彼女の個人メールアドレスはrika_sato@example.comです。休日には友達と札幌の中心部にある大通公園で散歩を楽しんでおり、時折カフェで読書をしながらリラックスするのが好きだと言っていました。最近は仕事での忙しさから少し運動不足を感じているため、ジョギングを趣味として新たに始めたいと考えているそうです。',\n",
       "  'after_mask': '<マスキング済みの氏名>さんの出身地は<マスキング済みの住所>で、日本郵便番号は<マスキング済みの郵便番号>です。彼女は<マスキング済みの会社名>に勤務しており、役職はマーケティング部の課長です。また、会社の連絡先として<マスキング済みの電話番号>が使用されています。生年月日は<マスキング済みの生年月日>で、彼女の個人メールアドレスは<マスキング済みのemailアドレス>です。休日には友達と札幌の中心部にある大通公園で散歩を楽しんでおり、時折カフェで読書をしながらリラックスするのが好きだと言っていました。最近は仕事での忙しさから少し運動不足を感じているため、ジョギングを趣味として新たに始めたいと考えているそうです。'},\n",
       " {'before_mask': 'サトウマコトさんは現在、東京都世田谷区深沢2丁目15番3号という住所に住んでいます。彼はABC株式会社に勤めており、主に営業部門の責任者として働いています。彼の勤務先の住所は東京都港区六本木1丁目10番11号にあり、郵便番号は〒1066123です。さらに、サトウさんの個人用メールアドレスはmakoto.sato123@example.comで、会社用の電話番号は03-3456-7890に設定されています。他に、彼のプライベートな携帯電話番号は090-1234-5678です。ちなみに、サトウさんの誕生日は1985年6月15日で、今年でちょうど38歳になります。彼の趣味は写真を撮ることで、時々仕事の合間に都内の公園を訪れ、自然の写真を撮ったりしてリフレッシュしています。',\n",
       "  'after_mask': '<マスキング済みの氏名>さんは現在、<マスキング済みの住所>に住んでいます。彼は<マスキング済みの会社名>に勤めており、主に営業部門の責任者として働いています。彼の勤務先の住所は<マスキング済みの住所>にあり、郵便番号は<マスキング済みの郵便番号>です。さらに、<マスキング済みの氏名>さんの個人用メールアドレスは<マスキング済みのemailアドレス>で、会社用の電話番号は<マスキング済みの電話番号>に設定されています。他に、彼のプライベートな携帯電話番号は<マスキング済みの電話番号>です。ちなみに、<マスキング済みの氏名>さんの誕生日は<マスキング済みの生年月日>で、今年でちょうど38歳になります。彼の趣味は写真を撮ることで、時々仕事の合間に都内の公園を訪れ、自然の写真を撮ったりしてリフレッシュしています。'},\n",
       " {'before_mask': '山田ハナコさんは東京都練馬区向山町3丁目24番地の自宅に住んでおり、生年月日は1985年7月15日です。彼女は株式会社未来エンタープライズで働いており、メールアドレスはhanako.yamada@example.comです。通勤にはお気に入りの自転車を使い、朝の7時頃に家を出て職場には8時半ごろ到着します。山田さんの会社の住所は東京都港区南青山3丁目1−1で、郵便番号は〒1070062です。会社の電話番号は03-1234-5678、重要な案件に関しては直接この番号に連絡をすると良いでしょう。彼女の仕事は多岐にわたり、マーケティング戦略の企画から営業のサポートまで幅広い業務を担っています。休日には、彼女は近くの公園を散歩するのが好きで、緑に囲まれた自然の中でのんびりする時間を楽しんでいます。また、最近では東北地方への旅行を計画しており、美しい温泉地を巡るのが目標のひとつだそうです。山田さんは同僚や友人からの信頼も厚く、職場でも頼れる存在として評価されています。',\n",
       "  'after_mask': '<マスキング済みの氏名>さんは<マスキング済みの住所>の自宅に住んでおり、生年月日は<マスキング済みの生年月日>です。彼女は<マスキング済みの会社名>で働いており、メールアドレスは<マスキング済みのemailアドレス>です。通勤にはお気に入りの自転車を使い、朝の7時頃に家を出て職場には8時半ごろ到着します。<マスキング済みの氏名>さんの会社の住所は<マスキング済みの住所>で、郵便番号は<マスキング済みの郵便番号>です。会社の電話番号は<マスキング済みの電話番号>、重要な案件に関しては直接この番号に連絡をすると良いでしょう。彼女の仕事は多岐にわたり、マーケティング戦略の企画から営業のサポートまで幅広い業務を担っています。休日には、彼女は近くの公園を散歩するのが好きで、緑に囲まれた自然の中でのんびりする時間を楽しんでいます。また、最近では東北地方への旅行を計画しており、美しい温泉地を巡るのが目標のひとつだそうです。<マスキング済みの氏名>さんは同僚や友人からの信頼も厚く、職場でも頼れる存在として評価されています。'},\n",
       " {'before_mask': '先日、カトウマコトさんが務める株式会社サンライトカンパニーのオフィスで会議が開かれました。その会議は東京都品川区北品川1丁目18番5号の本社ビルで行われ、参加者全員が感心するほど斬新なアイデアが共有されました。カトウマコトさんは1985年3月3日生まれで、「makoto.kato@gmail.com」というメールアドレスを利用しており、連絡先電話番号は080-1234-5678です。会議終了後、参加者は次回の会議に備えて資料を再確認することを約束しました。',\n",
       "  'after_mask': '<マスキング済みの氏名>さんが務める<マスキング済みの会社名>のオフィスで会議が開かれました。その会議は<マスキング済みの住所>の本社ビルで行われ、参加者全員が感心するほど斬新なアイデアが共有されました。<マスキング済みの氏名>さんは<マスキング済みの生年月日>生まれで、<マスキング済みのemailアドレス>というメールアドレスを利用しており、連絡先電話番号は<マスキング済みの電話番号>です。会議終了後、参加者は次回の会議に備えて資料を再確認することを約束しました。'},\n",
       " {'before_mask': 'カワノケンイチさんは、株式会社ミルクテクノロジーズで現在CTOとして働いています。会社の所在地は東京都目黒区青葉台3丁目15番12号で、郵便番号は1530042です。カワノさんは、1991年11月21日生まれで、学生時代からプログラミングに強い関心を持っていました。また、彼のemailアドレスはkawano.kenichi@example.comで、連絡先の電話番号は08012345678です。大学院を卒業したのち現在の会社に入社し、AI関連のプロジェクトを手掛けています。彼は職場まで毎朝自宅から自転車で通勤しており、その所要時間は約20分です。これまでのキャリアの中で、彼はデータサイエンスやクラウドコンピューティングなどに関する数々の技術的な課題を解決し、若手エンジニアの指導も行っています。郵便番号や会社名、氏名などの情報は安全に管理されており、仕事上の連絡先として役立てられています。最近では、技術書の執筆にも力を入れており、業界内で彼の名前を見かけることも珍しくありません。このような取り組みから、彼の仕事ぶりは同僚からも高く評価されているのです。',\n",
       "  'after_mask': '<マスキング済みの氏名>さんは、<マスキング済みの会社名>で現在CTOとして働いています。会社の所在地は<マスキング済みの住所>で、郵便番号は<マスキング済みの郵便番号>です。<マスキング済みの氏名>さんは、<マスキング済みの生年月日>生まれで、学生時代からプログラミングに強い関心を持っていました。また、彼のemailアドレスは<マスキング済みのemailアドレス>で、連絡先の電話番号は<マスキング済みの電話番号>です。大学院を卒業したのち現在の会社に入社し、AI関連のプロジェクトを手掛けています。彼は職場まで毎朝自宅から自転車で通勤しており、その所要時間は約20分です。これまでのキャリアの中で、彼はデータサイエンスやクラウドコンピューティングなどに関する数々の技術的な課題を解決し、若手エンジニアの指導も行っています。郵便番号や会社名、氏名などの情報は安全に管理されており、仕事上の連絡先として役立てられています。最近では、技術書の執筆にも力を入れており、業界内で彼の名前を見かけることも珍しくありません。このような取り組みから、彼の仕事ぶりは同僚からも高く評価されているのです。'},\n",
       " {'before_mask': 'ヤマダハナコさんは、有限会社グリーンテックに勤めており、彼女の部署の所在地は埼玉県さいたま市大宮区桜木町1-10-2です。会社の郵便番号は〒3300031で、オフィスの固定電話番号は0486547890です。ヤマダハナコさん自身の誕生日は1985年12月3日で、彼女の個人メールアドレスはhanakayamada@example.jpです。また、最近、家族で引っ越した住所は東京都板橋区赤塚新町3丁目14番5号で、そこに新しい郵便番号として〒1750095が割り当てられています。彼女の新しい固定電話番号は0356784321です。',\n",
       "  'after_mask': '<マスキング済みの氏名>さんは、<マスキング済みの会社名>に勤めており、彼女の部署の所在地は<マスキング済みの住所>です。会社の郵便番号は<マスキング済みの郵便番号>で、オフィスの固定電話番号は<マスキング済みの電話番号>です。<マスキング済みの氏名>さん自身の誕生日は<マスキング済みの生年月日>で、彼女の個人メールアドレスは<マスキング済みのemailアドレス>です。また、最近、家族で引っ越した住所は<マスキング済みの住所>で、そこに新しい郵便番号として<マスキング済みの郵便番号>が割り当てられています。彼女の新しい固定電話番号は<マスキング済みの電話番号>です。'},\n",
       " {'before_mask': 'マツオエイジさんは、東京都世田谷区玉川3丁目の自宅で長く生活しており、その住所の近くには用賀駅があります。彼の生年月日は1982年10月15日で、現在は大手広告代理店のアサカワマーケティング株式会社に勤務しています。この会社の本社は東京都渋谷区渋谷1丁目にあり、郵便番号は〒1500002です。彼の電子メールアドレスはeiji.matsuo82@example.comで、いつも仕事の連絡やクライアントとのやり取りに使っています。また、勤務地のオフィスでは電話番号03-1234-5678を使って顧客からの問い合わせを受けています。',\n",
       "  'after_mask': '<マスキング済みの氏名>さんは、<マスキング済みの住所>で長く生活しており、その住所の近くには<マスキング済みの場所>があります。彼の生年月日は<マスキング済みの生年月日>で、現在は大手広告代理店の<マスキング済みの会社名>に勤務しています。この会社の本社は<マスキング済みの住所>にあり、郵便番号は<マスキング済みの郵便番号>です。彼の電子メールアドレスは<マスキング済みのemailアドレス>で、いつも仕事の連絡やクライアントとのやり取りに使っています。また、勤務地のオフィスでは電話番号<マスキング済みの電話番号>を使って顧客からの問い合わせを受けています。'},\n",
       " {'before_mask': 'ヤマダハナコさんは、株式会社グリーンエコシステムズで働いています。彼女の職場の住所は、神奈川県横浜市中区桜木町3丁目12番9号で、郵便番号は〒2310056です。職場へのお問い合わせは、電話番号045-789-1234またはメールアドレスhanako.yamada@greeneco.jpまでお願いします。ヤマダさんの生年月日は1985年6月17日で、同僚や上司からは非常に頼りにされている社員の一人です。株式会社グリーンエコシステムズでは、環境保護を目的とした製品の開発や販売を行い、特に再生可能エネルギーの分野で注目を集めています。また、ヤマダさん自身も大学時代に環境工学を専攻しており、その専門知識を活かして働いています。最近は、彼女がプロジェクトマネージャーを務める新製品が業界で話題となり、大手メディアから取材を受けるほどの成功を収めています。',\n",
       "  'after_mask': '<マスキング済みの氏名>さんは、<マスキング済みの会社名>で働いています。彼女の職場の住所は、<マスキング済みの住所>で、郵便番号は<マスキング済みの郵便番号>です。職場へのお問い合わせは、電話番号<マスキング済みの電話番号>またはメールアドレス<マスキング済みのemailアドレス>までお願いします。<マスキング済みの氏名>さんの生年月日は<マスキング済みの生年月日>で、同僚や上司からは非常に頼りにされている社員の一人です。<マスキング済みの会社名>では、環境保護を目的とした製品の開発や販売を行い、特に再生可能エネルギーの分野で注目を集めています。また、<マスキング済みの氏名>さん自身も大学時代に環境工学を専攻しており、その専門知識を活かして働いています。最近は、彼女がプロジェクトマネージャーを務める新製品が業界で話題となり、大手メディアから取材を受けるほどの成功を収めています。'},\n",
       " {'before_mask': '私の親友であるコバヤシナオトさんは、東京都港区芝四丁目12番地のサンライズ芝ビルに本社を構えるスターライト株式会社で働いています。彼の仕事ぶりは素晴らしく、社内でも評価が高いと聞きます。彼の生年月日は1990年5月24日で、今は33歳になります。コバヤシさんは、自分の業務に対する集中力と高いコミュニケーション能力で会社の発展に貢献していると感じます。彼の職場の電話番号は03-1234-5678で、プレゼンなどで連絡先として使用されることが多いそうです。また、彼のメールアドレスはnaoto.kobayashi@example.jpで、業務連絡や重要な案件についてのやり取りに使われています。彼の話では、会社の住所に加えて自宅も同じ港区で、具体的には東京都港区高輪三丁目45番3号に住んでいるとのことです。このように仕事にも生活にも心地良い環境を築いている様子は、とても見習いたいものです。',\n",
       "  'after_mask': '私の親友である<マスキング済みの氏名>さんは、<マスキング済みの住所>に本社を構える<マスキング済みの会社名>で働いています。彼の仕事ぶりは素晴らしく、社内でも評価が高いと聞きます。彼の生年月日は<マスキング済みの生年月日>で、今は33歳になります。<マスキング済みの氏名>さんは、自分の業務に対する集中力と高いコミュニケーション能力で会社の発展に貢献していると感じます。彼の職場の電話番号は<マスキング済みの電話番号>で、プレゼンなどで連絡先として使用されることが多いそうです。また、彼のメールアドレスは<マスキング済みのemailアドレス>で、業務連絡や重要な案件についてのやり取りに使われています。彼の話では、会社の住所に加えて自宅も同じ港区で、具体的には<マスキング済みの住所>に住んでいるとのことです。このように仕事にも生活にも心地良い環境を築いている様子は、とても見習いたいものです。'},\n",
       " {'before_mask': 'マツシタカズキさんは広島県広島市安佐南区川内1丁目23-45に住んでおり、1992年7月15日生まれの30歳です。彼の勤務先は株式会社山陽商事で、会社の所在地は岡山県岡山市北区表町1丁目10-20です。また、会社の電話番号は086-123-4567で、彼の個人の携帯電話番号は090-9876-5432です。さらに、彼のメールアドレスはkazuki.matsushita@example.comです。このメールアドレスは最近、重要な用件の連絡先として使われることが多く、特に業務上の連絡に欠かせないものです。出張などで頻繁に連絡を取り合う必要があり、彼自身もメールの確認を怠らないよう心掛けています。',\n",
       "  'after_mask': '<マスキング済みの氏名>さんは<マスキング済みの住所>に住んでおり、<マスキング済みの生年月日>生まれの30歳です。彼の勤務先は<マスキング済みの会社名>で、会社の所在地は<マスキング済みの住所>です。また、会社の電話番号は<マスキング済みの電話番号>で、彼の個人の携帯電話番号は<マスキング済みの電話番号>です。さらに、彼のメールアドレスは<マスキング済みのemailアドレス>です。このメールアドレスは最近、重要な用件の連絡先として使われることが多く、特に業務上の連絡に欠かせないものです。出張などで頻繁に連絡を取り合う必要があり、彼自身もメールの確認を怠らないよう心掛けています。'},\n",
       " {'before_mask': 'スズキイチロウさんは、東京都港区赤坂1丁目3-7に所在する株式会社赤坂ホールディングスで働いており、その会社の代表電話番号は03-1234-5678です。彼は毎日徒歩で通勤しており、職場までの道すがら赤坂見附駅近くのカフェに立ち寄ることが習慣になっています。また、スズキイチロウさんは1985年5月10日生まれで、最近はSNSでスポーツ観戦やアウトドアの趣味について情報を発信しています。彼のemailアドレスはichiro.suzuki@email.comで、仕事や趣味に関する連絡をそこで受け付けることが多いです。週末にはよく家族と東京都世田谷区の二子玉川あたりでのんびりと過ごし、リラックスしています。郵便物は彼の自宅宛てで、〒154-0000が自宅の郵便番号です。',\n",
       "  'after_mask': '<マスキング済みの氏名>さんは、<マスキング済みの住所>に所在する<マスキング済みの会社名>で働いており、その会社の代表電話番号は<マスキング済みの電話番号>です。彼は毎日徒歩で通勤しており、職場までの道すがら<マスキング済みの住所>近くのカフェに立ち寄ることが習慣になっています。また、<マスキング済みの氏名>さんは<マスキング済みの生年月日>で、最近はSNSでスポーツ観戦やアウトドアの趣味について情報を発信しています。彼のemailアドレスは<マスキング済みのemailアドレス>で、仕事や趣味に関する連絡をそこで受け付けることが多いです。週末にはよく家族と<マスキング済みの住所>あたりでのんびりと過ごし、リラックスしています。郵便物は彼の自宅宛てで、<マスキング済みの郵便番号>が自宅の郵便番号です。'},\n",
       " {'before_mask': '山田ハナコさんは、株式会社光輝システムズのマーケティング部で働いており、彼女の職場は東京都渋谷区代々木2丁目15番地に位置しています。郵便番号は151-0002です。普段は仕事の関係で多くのメールを送ることがあるため、彼女のメールアドレスはhanako.yamada@koakisys.co.jpです。彼女の生年月日は1990年5月12日で、休日には友人と過ごすために電話で連絡を取り合ったりしています。その際には主に携帯電話番号である080-1234-5678を使用しています。最近、彼女は仕事で重要なプレゼンテーションを控えており、資料を集めるために都心の複数の図書館を巡っているようです。彼女が東京都立図書館で利用した際には、現地に関する情報を職場の同僚とも共有し、役立てることができたそうです。一方で、彼女は趣味の一環としてフランス料理の教室に通っており、それについても同僚の間で話題になることが多いようです。彼女の職場周辺には美しい公園やカフェが点在しており、晴れた日は昼休みに散策を楽しむこともあると聞いています。',\n",
       "  'after_mask': '<マスキング済みの氏名>さんは、<マスキング済みの会社名>のマーケティング部で働いており、彼女の職場は<マスキング済みの住所>に位置しています。郵便番号は<マスキング済みの郵便番号>です。普段は仕事の関係で多くのメールを送ることがあるため、彼女のメールアドレスは<マスキング済みのemailアドレス>です。彼女の生年月日は<マスキング済みの生年月日>で、休日には友人と過ごすために電話で連絡を取り合ったりしています。その際には主に携帯電話番号である<マスキング済みの電話番号>を使用しています。最近、彼女は仕事で重要なプレゼンテーションを控えており、資料を集めるために都心の複数の図書館を巡っているようです。彼女が東京都立図書館で利用した際には、現地に関する情報を職場の同僚とも共有し、役立てることができたそうです。一方で、彼女は趣味の一環としてフランス料理の教室に通っており、それについても同僚の間で話題になることが多いようです。彼女の職場周辺には美しい公園やカフェが点在しており、晴れた日は昼休みに散策を楽しむこともあると聞いています。'},\n",
       " {'before_mask': 'ヤマダハナコさんは、1990年5月15日に北海道札幌市中央区南2条西3丁目で生まれました。現在は東京都新宿区西新宿2丁目1番地にある株式会社トウキョウテックという企業に勤めています。その会社の電話番号は03-1234-5678で、ヤマダハナコさんのメールアドレスはhanako.yamada@example.co.jpです。彼女は休日の多くを家族と過ごし、最近では新宿区内の有名なカフェ巡りを趣味としています。また、彼女の郵便番号は〒160-0023です。この情報は彼女の履歴書の一部として記載されていました。',\n",
       "  'after_mask': '<マスキング済みの氏名>さんは、<マスキング済みの生年月日>に<マスキング済みの住所>で生まれました。現在は<マスキング済みの住所>にある<マスキング済みの会社名>という企業に勤めています。その会社の電話番号は<マスキング済みの電話番号>で、<マスキング済みの氏名>さんのメールアドレスは<マスキング済みのemailアドレス>です。彼女は休日の多くを家族と過ごし、最近では<マスキング済みの住所>内の有名なカフェ巡りを趣味としています。また、彼女の郵便番号は<マスキング済みの郵便番号>です。この情報は彼女の履歴書の一部として記載されていました。'},\n",
       " {'before_mask': 'ヤマダハナコさんは、現在東京都渋谷区渋谷2丁目24号、郵便番号1500002のマンションに住んでいます。彼女は株式会社未来企画で働いており、職場の住所は東京都港区六本木7丁目1-26で、郵便番号は1060032です。ヤマダハナコさんの職場の電話番号は03-5432-1111で、Emailアドレスはhanako.yamada@example.comです。彼女の趣味はピアノ演奏で、週末にはプライベートの時間を大切にして家族と過ごしています。なお、ヤマダハナコさんは1985年6月15日生まれで、最近の誕生日では家族や同僚から多くの祝福を受けました。',\n",
       "  'after_mask': '<マスキング済みの氏名>さんは、現在<マスキング済みの住所>のマンションに住んでいます。彼女は<マスキング済みの会社名>で働いており、職場の住所は<マスキング済みの住所>で、郵便番号は<マスキング済みの郵便番号>です。<マスキング済みの氏名>さんの職場の電話番号は<マスキング済みの電話番号>で、Emailアドレスは<マスキング済みのemailアドレス>です。彼女の趣味はピアノ演奏で、週末にはプライベートの時間を大切にして家族と過ごしています。なお、<マスキング済みの氏名>さんは<マスキング済みの生年月日>生まれで、最近の誕生日では家族や同僚から多くの祝福を受けました。'},\n",
       " {'before_mask': '彼の名前はヤマダカンジで、職場であるセキュアデータ株式会社は東京都文京区本郷2丁目35番10号にあります。郵便番号は1130033で、会社の代表番号は03-3810-1234です。ヤマダさんは1975年7月16日生まれで、現在48歳です。メールで連絡を取りたい場合はkanji.yamada@example.co.jpを使うと良いでしょう。また、彼の自宅は、東京都渋谷区代官山1丁目12番地で郵便番号は1500034です。携帯電話も使っており、番号は090-1234-5678です。彼は地元のコミュニティ活動にも熱心で、例えばごみ拾いイベントでは率先してリーダーとして参加することで知られています。',\n",
       "  'after_mask': '彼の名前は<マスキング済みの氏名>で、職場である<マスキング済みの会社名>は<マスキング済みの住所>にあります。郵便番号は<マスキング済みの郵便番号>で、会社の代表番号は<マスキング済みの電話番号>です。<マスキング済みの氏名>さんは<マスキング済みの生年月日>生まれで、現在<マスキング済みの年齢>歳です。メールで連絡を取りたい場合は<マスキング済みのemailアドレス>を使うと良いでしょう。また、彼の自宅は、<マスキング済みの住所>で郵便番号は<マスキング済みの郵便番号>です。携帯電話も使っており、番号は<マスキング済みの電話番号>です。彼は地元のコミュニティ活動にも熱心で、例えばごみ拾いイベントでは率先してリーダーとして参加することで知られています。'},\n",
       " {'before_mask': 'カワサキリョウタさんは、平成生まれで、1993年11月15日に栃木県宇都宮市戸祭町12丁目4番地のマンションで生まれました。彼は現在、大手企業であるソニーテクノロジーズ株式会社に勤務しており、営業部でチームリーダーとして活躍しています。カワサキさんの名刺には、勤務先の住所として東京都港区芝公園一丁目23番5号と記載されており、連絡先の電話番号は03-1234-5678です。彼の個人的な連絡先も名刺に記載されており、メールアドレスはryota.kawasaki@gmail.comとなっています。休日には趣味の自転車に乗って日本全国を巡ることが多く、次回の旅行では熊本県阿蘇市付近を訪れる予定だと話していました。彼が利用する宿泊施設は「旅館阿蘇くじゅう」と呼ばれる伝統的な温泉旅館です。',\n",
       "  'after_mask': '<マスキング済みの氏名>さんは、平成生まれで、<マスキング済みの生年月日>に<マスキング済みの住所>で生まれました。彼は現在、大手企業である<マスキング済みの会社名>に勤務しており、営業部でチームリーダーとして活躍しています。<マスキング済みの氏名>さんの名刺には、勤務先の住所として<マスキング済みの住所>と記載されており、連絡先の電話番号は<マスキング済みの電話番号>です。彼の個人的な連絡先も名刺に記載されており、メールアドレスは<マスキング済みのemailアドレス>となっています。休日には趣味の自転車に乗って日本全国を巡ることが多く、次回の旅行では<マスキング済みの住所>付近を訪れる予定だと話していました。彼が利用する宿泊施設は「<マスキング済みの会社名>」と呼ばれる伝統的な温泉旅館です。'},\n",
       " {'before_mask': 'サトウケンジさんは株式会社グローバルトラストで働いており、同僚のコイズミエリカさんと共に新プロジェクトの準備をしています。彼らのオフィスは東京都港区芝浦三丁目9番15号にあり、郵便番号は〒1050014です。彼の生年月日は1980年11月23日で、会社の電話番号は03-1234-5678です。さらに、彼のemailアドレスはkenji.sato@example.jpです。また、昨夜行われた会食では、彼らのチームが次のクライアントである株式会社インテリアデザインスタンダードについての戦略を話し合いました。',\n",
       "  'after_mask': '<マスキング済みの氏名>さんは<マスキング済みの会社名>で働いており、同僚の<マスキング済みの氏名>さんと共に新プロジェクトの準備をしています。彼らのオフィスは<マスキング済みの住所>にあり、郵便番号は<マスキング済みの郵便番号>です。彼の生年月日は<マスキング済みの生年月日>で、会社の電話番号は<マスキング済みの電話番号>です。さらに、彼のemailアドレスは<マスキング済みのemailアドレス>です。また、昨夜行われた会食では、彼らのチームが次のクライアントである<マスキング済みの会社名>についての戦略を話し合いました。'},\n",
       " {'before_mask': 'オオタマユミさんは、東京の品川区北品川にある株式会社未来企画に勤務しています。彼女は毎日、朝8時に家を出て会社に向かいます。住所は東京都品川区北品川1丁目13-12です。最近、会社の業務でメールアカウントが変更され、彼女の新しいメールアドレスはmayumi.ota@miraikikaku.jpになりました。また、彼女の生年月日は1985年11月15日で、友人たちと一緒にその日の誕生日を祝う予定です。なお、会社の統一連絡先は03-3456-7890でオオタさんの部署にもつながります。郵便番号は〒140-0001で、近くには桜並木があり、春になるとそちらを散歩することを楽しんでいるそうです。',\n",
       "  'after_mask': '<マスキング済みの氏名>さんは、東京の品川区北品川にある<マスキング済みの会社名>に勤務しています。彼女は毎日、朝8時に家を出て会社に向かいます。住所は<マスキング済みの住所>です。最近、会社の業務でメールアカウントが変更され、彼女の新しいメールアドレスは<マスキング済みのemailアドレス>になりました。また、彼女の生年月日は<マスキング済みの生年月日>で、友人たちと一緒にその日の誕生日を祝う予定です。なお、会社の統一連絡先は<マスキング済みの電話番号>で<マスキング済みの氏名>さんの部署にもつながります。郵便番号は<マスキング済みの郵便番号>で、近くには桜並木があり、春になるとそちらを散歩することを楽しんでいるそうです。'},\n",
       " {'before_mask': 'サトウカズオさんが先日新年度の職場に異動となり、新しい勤務先は株式会社テンセイテクノロジーズという会社になりました。彼が働いている場所の住所は大阪府大阪市北区堂島1丁目7-3で、郵便番号は〒530-0003です。部署の連絡先の電話番号は06-1234-5678で、メールアドレスはkazu.sato@example.comとなっています。ちなみにサトウさんの生年月日は1985年7月16日で、今年で38歳になります。新しい職場ではシステムエンジニアとして活躍しているそうで、今後は特にAI技術を活用したソリューションの開発を担当する予定です。先日彼から聞いた話では、会社の社内研修が充実しており、非常に熱心に取り組める環境が整っているとのことでした。',\n",
       "  'after_mask': '<マスキング済みの氏名>さんが先日新年度の職場に異動となり、新しい勤務先は<マスキング済みの会社名>という会社になりました。彼が働いている場所の住所は<マスキング済みの住所>で、郵便番号は<マスキング済みの郵便番号>です。部署の連絡先の電話番号は<マスキング済みの電話番号>で、メールアドレスは<マスキング済みのemailアドレス>となっています。ちなみに<マスキング済みの氏名>さんの生年月日は<マスキング済みの生年月日>で、今年で38歳になります。新しい職場ではシステムエンジニアとして活躍しているそうで、今後は特にAI技術を活用したソリューションの開発を担当する予定です。先日彼から聞いた話では、会社の社内研修が充実しており、非常に熱心に取り組める環境が整っているとのことでした。'},\n",
       " {'before_mask': '先日、スズキイチロウさんが所属するトレジャープラン株式会社の新しいオフィスが完成したと話題になりました。この会社の本社所在地は東京都港区芝公園4丁目に建つ高層ビルの13階にあり、郵便番号は1050011です。そして、スズキイチロウさんの個人メールアドレスはichiro.suzuki@example.comで、彼は生年月日が1985年5月17日と公表されています。彼の勤務先の電話番号は03-1234-5678で、お客様からの問い合わせを迅速に対応する姿勢が評価されています。このオフィスの開設により、事業がさらに拡大し、地方都市にも進出を検討しているという噂が流れています。地域社会との連携も視野に入れ、新たな雇用を創出することを目指しているようです。スズキイチロウさんは、企業が抱える課題を解決するためのチームリーダーとして活躍しており、社内では多くの信頼を得ている模様です。スズキさんの趣味は登山であり、週末には自然豊かな環境へ出かけることを楽しんでいるそうです。また、彼が執筆したブログでは、仕事術や効率的な時間管理に関するアドバイスが書かれており、多くの読者から支持を得ています。',\n",
       "  'after_mask': '先日、<マスキング済みの氏名>さんが所属する<マスキング済みの会社名>の新しいオフィスが完成したと話題になりました。この会社の本社所在地は<マスキング済みの住所>にあり、郵便番号は<マスキング済みの郵便番号>です。そして、<マスキング済みの氏名>さんの個人メールアドレスは<マスキング済みのemailアドレス>で、彼は生年月日が<マスキング済みの生年月日>と公表されています。彼の勤務先の電話番号は<マスキング済みの電話番号>で、お客様からの問い合わせを迅速に対応する姿勢が評価されています。このオフィスの開設により、事業がさらに拡大し、地方都市にも進出を検討しているという噂が流れています。地域社会との連携も視野に入れ、新たな雇用を創出することを目指しているようです。<マスキング済みの氏名>さんは、企業が抱える課題を解決するためのチームリーダーとして活躍しており、社内では多くの信頼を得ている模様です。<マスキング済みの氏名>さんの趣味は登山であり、週末には自然豊かな環境へ出かけることを楽しんでいるそうです。また、彼が執筆したブログでは、仕事術や効率的な時間管理に関するアドバイスが書かれており、多くの読者から支持を得ています。'},\n",
       " {'before_mask': 'ワタナベコウヘイさんは2010年4月15日に新卒として株式会社アイデアプロダクトに入社しました。現在、ワタナベさんは本社勤務で、東京都渋谷区神南1-9-2のオフィスに通っています。郵便番号は150-0041で、会社の代表電話番号は03-9876-5432です。彼の職務メールアドレスはkouhei.watanabe@idea-product.co.jpで、日々の業務に活用されています。同僚のタカハシマミさんもまた重要なプロジェクトで彼と一緒に働いているメンバーの一人です。',\n",
       "  'after_mask': '<マスキング済みの氏名>さんは<マスキング済みの生年月日>に新卒として<マスキング済みの会社名>に入社しました。現在、<マスキング済みの氏名>さんは本社勤務で、<マスキング済みの住所>のオフィスに通っています。郵便番号は<マスキング済みの郵便番号>で、会社の代表電話番号は<マスキング済みの電話番号>です。彼の職務メールアドレスは<マスキング済みのemailアドレス>で、日々の業務に活用されています。同僚の<マスキング済みの氏名>さんもまた重要なプロジェクトで彼と一緒に働いているメンバーの一人です。'},\n",
       " {'before_mask': 'カワムラミホさんは東京都渋谷区神南1丁目にある 株式会社アルファブリッジ でマーケティング部門のマネージャーを務めています。住所は「東京都渋谷区神南1丁目2番34号」で、郵便番号は「150-0041」です。カワムラさんの職場には固定電話（03-1234-5678）もありますが、最近では彼女の携帯電話番号（090-9876-5432）や、メールアドレス kawamura.miho@example.com を使って連絡を取ることが一般的です。彼女は1985年3月15日生まれで、学生時代から優秀な成績で知られており、現在の職場でもその実力を発揮しています。また、彼女の住まいは「東京都世田谷区三軒茶屋2丁目3番45号」で、こちらの連絡先は自宅の固定電話（03-8765-4321）があります。',\n",
       "  'after_mask': '<マスキング済みの氏名>さんは<マスキング済みの住所>にある <マスキング済みの会社名> でマーケティング部門のマネージャーを務めています。住所は「<マスキング済みの住所>」で、郵便番号は「<マスキング済みの郵便番号>」です。<マスキング済みの氏名>さんの職場には固定電話（<マスキング済みの電話番号>）もありますが、最近では彼女の携帯電話番号（<マスキング済みの電話番号>）や、メールアドレス <マスキング済みのemailアドレス> を使って連絡を取ることが一般的です。彼女は<マスキング済みの生年月日>生まれで、学生時代から優秀な成績で知られており、現在の職場でもその実力を発揮しています。また、彼女の住まいは「<マスキング済みの住所>」で、こちらの連絡先は自宅の固定電話（<マスキング済みの電話番号>）があります。'},\n",
       " {'before_mask': 'ヤマモトカオルさんは東京都港区赤坂3丁目12番地の高層マンションに住んでいます。生年月日は1987年3月25日で、普段は株式会社未来開発でシステムエンジニアとして働いています。未来開発の住所は東京都品川区東五反田2丁目5番地で、会社の電話番号は03-5123-4567です。彼の個人のメールアドレスはkaoru.yamamoto@hotmail.comですが、会社用のメールアドレスはy.yamamoto@mirai.co.jpを使用しています。休日はよく地元のカフェに足を運び、本を読むことを楽しみにしているそうです。自宅近くの郵便番号は〒1070052で、職場の最寄りは品川駅、郵便番号は〒1410032になります。最近は旅行に興味を持ち始めており、次の連休には京都の観光地を訪れる計画を立てています。',\n",
       "  'after_mask': '<マスキング済みの氏名>さんは<マスキング済みの住所>の高層マンションに住んでいます。生年月日は<マスキング済みの生年月日>で、普段は<マスキング済みの会社名>でシステムエンジニアとして働いています。<マスキング済みの会社名>の住所は<マスキング済みの住所>で、会社の電話番号は<マスキング済みの電話番号>です。彼の個人のメールアドレスは<マスキング済みのemailアドレス>ですが、会社用のメールアドレスは<マスキング済みのemailアドレス>を使用しています。休日はよく地元のカフェに足を運び、本を読むことを楽しみにしているそうです。自宅近くの郵便番号は<マスキング済みの郵便番号>で、職場の最寄りは品川駅、郵便番号は<マスキング済みの郵便番号>になります。最近は旅行に興味を持ち始めており、次の連休には京都の観光地を訪れる計画を立てています。'},\n",
       " {'before_mask': 'ナカムラカズオさんは、2000年に設立された株式会社テクノリサーチで研究員として働いています。彼の会社の住所は大阪市北区梅田2丁目3番5号で、郵便番号は5300001です。ナカムラさんの生年月日は1985年7月15日で、プライベートのメールアドレスはnakamura1985@gmail.comです。また、彼の携帯電話番号は09012345678です。ナカムラさんは最近、AI関連のプロジェクトで表彰され、新聞にも彼の写真が掲載されるなど話題となっています。同僚たちは彼の研究熱心で柔軟な姿勢を称賛しており、彼の存在が部署にとって不可欠だと言われています。一方で、彼は週末になると趣味の山登りに情熱を注ぎ、日本アルプスの美しい景色を楽しんでいるそうです。彼はまた、その過程で得た自然のインスピレーションを仕事に生かすことがあると話しています。',\n",
       "  'after_mask': '<マスキング済みの氏名>さんは、2000年に設立された<マスキング済みの会社名>で研究員として働いています。彼の会社の住所は<マスキング済みの住所>で、郵便番号は<マスキング済みの郵便番号>です。<マスキング済みの氏名>さんの生年月日は<マスキング済みの生年月日>で、プライベートのメールアドレスは<マスキング済みのemailアドレス>です。また、彼の携帯電話番号は<マスキング済みの電話番号>です。<マスキング済みの氏名>さんは最近、AI関連のプロジェクトで表彰され、新聞にも彼の写真が掲載されるなど話題となっています。同僚たちは彼の研究熱心で柔軟な姿勢を称賛しており、彼の存在が部署にとって不可欠だと言われています。一方で、彼は週末になると趣味の山登りに情熱を注ぎ、日本アルプスの美しい景色を楽しんでいるそうです。彼はまた、その過程で得た自然のインスピレーションを仕事に生かすことがあると話しています。'},\n",
       " {'before_mask': 'シラカワケンタさんは1985年6月20日に東京都世田谷区の病院で生まれました。現在は株式会社アオイテクノロジーというIT関連会社に勤めており、会社の所在地は東京都港区赤坂1丁目4番2号のグランドタワービルです。郵便番号は〒1070052で、勤務先には電話番号03-1234-5678を利用して連絡を取ることができます。シラカワさんの個人のメールアドレスはshirakawa.kenta@example.comですが、会社用のメールアドレスとしてはkenta.shirakawa@aoitech.co.jpを使用しています。自宅は東京都練馬区にあり、郵便番号は〒1760001で、個人宅にかかってくる電話番号は03-2345-6789です。趣味は読書で、特にミステリー小説を好んでいるそうです。',\n",
       "  'after_mask': '<マスキング済みの氏名>さんは<マスキング済みの生年月日>に<マスキング済みの住所>の病院で生まれました。現在は<マスキング済みの会社名>というIT関連会社に勤めており、会社の所在地は<マスキング済みの住所>です。郵便番号は<マスキング済みの郵便番号>で、勤務先には電話番号<マスキング済みの電話番号>を利用して連絡を取ることができます。<マスキング済みの氏名>さんの個人のメールアドレスは<マスキング済みのemailアドレス>ですが、会社用のメールアドレスとしては<マスキング済みのemailアドレス>を使用しています。自宅は<マスキング済みの住所>にあり、郵便番号は<マスキング済みの郵便番号>で、個人宅にかかってくる電話番号は<マスキング済みの電話番号>です。趣味は読書で、特にミステリー小説を好んでいるそうです。'},\n",
       " {'before_mask': 'スズキイチロウさんは2023年4月5日に、東京都新宿区西新宿4丁目15番3号にあるテクノソリューションズ株式会社で入社式を迎えました。彼の生年月日は1987年11月22日で、30代後半の世代です。同社は、郵便番号160-0023の場所にあり、電話番号03-1234-5678で問い合わせを受け付けています。スズキさんの個人のメールアドレスはichiro.suzuki@example.comで、会社内のチームとのやり取りを主にこのアドレスで行っています。また彼は、取引先との重要な会議に備え、自宅で資料を準備することが多いです。彼の住まいは千葉県船橋市市場6丁目11番地で、郵便番号273-0005です。自宅の固定電話番号は047-987-6543となっており、迅速な対応が求められる場合にはこの番号が使用されています。スズキさんはまた、国内外からの連絡を受ける際にも便利なスマートフォンを活用しており、特に仕事関連で活躍しています。',\n",
       "  'after_mask': '<マスキング済みの氏名>さんは2023年4月5日に、<マスキング済みの住所>にある<マスキング済みの会社名>で入社式を迎えました。彼の生年月日は<マスキング済みの生年月日>で、30代後半の世代です。同社は、<マスキング済みの郵便番号>の場所にあり、電話番号<マスキング済みの電話番号>で問い合わせを受け付けています。<マスキング済みの氏名>さんの個人のメールアドレスは<マスキング済みのemailアドレス>で、会社内のチームとのやり取りを主にこのアドレスで行っています。また彼は、取引先との重要な会議に備え、自宅で資料を準備することが多いです。彼の住まいは<マスキング済みの住所>で、郵便番号<マスキング済みの郵便番号>です。自宅の固定電話番号は<マスキング済みの電話番号>となっており、迅速な対応が求められる場合にはこの番号が使用されています。<マスキング済みの氏名>さんはまた、国内外からの連絡を受ける際にも便利なスマートフォンを活用しており、特に仕事関連で活躍しています。'},\n",
       " {'before_mask': 'ある日、タナカタロウさんは自身の家である東京都渋谷区恵比寿南3丁目12番地5号に届いた郵便物を見て驚きました。その手紙には、勤務先である株式会社インプルーブソリューションズへの重要な通知が記されていました。彼はすぐに電話で同僚に相談する必要があり、職場の代表番号である03-1234-5678に電話を掛けました。その後、会社の公式メールを使って詳細を確認するために、自身のメールアドレスtanaka.taro@example.co.jpを使用しました。タナカさんは1985年5月15日生まれで、専門の業務に関して非常に優秀で知られています。彼の住んでいる場所と会社名が分かることで、地域の人々からの信頼も厚いものとなっています。一方、彼は新たに届いた郵便物が詐欺の可能性があると懸念しており、詳細を確認するために郵便番号150-0022の管轄郵便局へ赴くことを検討していました。',\n",
       "  'after_mask': 'ある日、<マスキング済みの氏名>さんは自身の家である<マスキング済みの住所>に届いた郵便物を見て驚きました。その手紙には、勤務先である<マスキング済みの会社名>への重要な通知が記されていました。彼はすぐに電話で同僚に相談する必要があり、職場の代表番号である<マスキング済みの電話番号>に電話を掛けました。その後、会社の公式メールを使って詳細を確認するために、自身のメールアドレス<マスキング済みのemailアドレス>を使用しました。<マスキング済みの氏名>さんは<マスキング済みの生年月日>生まれで、専門の業務に関して非常に優秀で知られています。彼の住んでいる場所と会社名が分かることで、地域の人々からの信頼も厚いものとなっています。一方、彼は新たに届いた郵便物が詐欺の可能性があると懸念しており、詳細を確認するために<マスキング済みの郵便番号>の管轄郵便局へ赴くことを検討していました。'},\n",
       " {'before_mask': 'サトウカナコさんは株式会社アオイソリューションズで働いており、会社の所在地は東京都渋谷区神宮前2丁目4-8で、郵便番号は〒150-0001です。彼女の生年月日は1985年5月17日で、連絡先の電話番号は03-1234-5678です。また、個人のメールアドレスはkanako.sato@example.comです。',\n",
       "  'after_mask': '<マスキング済みの氏名>さんは<マスキング済みの会社名>で働いており、会社の所在地は<マスキング済みの住所>で、<マスキング済みの郵便番号>です。彼女の生年月日は<マスキング済みの生年月日>で、連絡先の電話番号は<マスキング済みの電話番号>です。また、個人のメールアドレスは<マスキング済みのemailアドレス>です。'},\n",
       " {'before_mask': 'スズキイチロウさんは、株式会社グローバルテックで働いています。彼の勤務先の場所は東京都港区芝公園4丁目2番8号で、郵便番号は〒1050011です。会社での連絡先は電話番号03-1234-5678で、彼はしばしば仕事の関係で同僚とメールをやり取りしています。彼の会社の代表メールアドレスはichi.suzuki@globaltech.comです。スズキイチロウさんの生年月日は1985年5月20日で、彼は休日には友人とアウトドアを楽しむのが好きだそうです。',\n",
       "  'after_mask': '<マスキング済みの氏名>さんは、<マスキング済みの会社名>で働いています。彼の勤務先の場所は<マスキング済みの住所>で、郵便番号は<マスキング済みの郵便番号>です。会社での連絡先は電話番号<マスキング済みの電話番号>で、彼はしばしば仕事の関係で同僚とメールをやり取りしています。彼の会社の代表メールアドレスは<マスキング済みのemailアドレス>です。<マスキング済みの氏名>さんの生年月日は<マスキング済みの生年月日>で、彼は休日には友人とアウトドアを楽しむのが好きだそうです。'},\n",
       " {'before_mask': 'カワサキアヤコさんは、株式会社ユニオンソリューションズに勤めています。この会社は、東京都渋谷区神宮前5丁目25番地8号という便利な立地に本社があります。彼女の職場に連絡を取りたい場合、以下の電話番号0120-345-678にお電話ください。また、カワサキアヤコさんへの個人的なご連絡は、メールアドレスayako.kawasaki@example.comまでお願いいたします。ところで、彼女の生年月日は1990年5月12日で、よく社内で誕生日のお祝いが行われています。彼女は顧客支援部門で働いており、顧客対応のスペシャリストとして知られています。彼女の同僚のナカムラケンイチさんもまた、高く評価されるチームメンバーです。一方、大阪支社に勤務するオカダリカさんも著しい業績をあげており、部署間での交流が活発です。',\n",
       "  'after_mask': '<マスキング済みの氏名>さんは、<マスキング済みの会社名>に勤めています。この会社は、<マスキング済みの住所>という便利な立地に本社があります。彼女の職場に連絡を取りたい場合、以下の電話番号<マスキング済みの電話番号>にお電話ください。また、<マスキング済みの氏名>さんへの個人的なご連絡は、メールアドレス<マスキング済みのemailアドレス>までお願いいたします。ところで、彼女の生年月日は<マスキング済みの生年月日>で、よく社内で誕生日のお祝いが行われています。彼女は顧客支援部門で働いており、顧客対応のスペシャリストとして知られています。彼女の同僚の<マスキング済みの氏名>さんもまた、高く評価されるチームメンバーです。一方、大阪支社に勤務する<マスキング済みの氏名>さんも著しい業績をあげており、部署間での交流が活発です。'},\n",
       " {'before_mask': 'カワイヨウコさんは、日本最大手の不動産会社である東都リビング株式会社に勤務しています。彼女のオフィスは東京都新宿区西新宿1丁目8番3号にあり、郵便番号は1638001です。まだ新人社員として働いており、彼女の直属の上司であるスズキケンイチ課長からの指導を受けながら日々成長しています。カワイさんは一人暮らしをしており、最近新しい賃貸物件を契約したばかりです。その物件の住所は東京都文京区湯島2-4-10、郵便番号は1130034です。彼女は自身の携帯電話番号として09012345678を利用しており、この番号は仕事とプライベートの両方で活用されています。誕生日は1989年5月12日で、彼女の趣味は料理と絵画です。学生時代は料理教室に通い、高校では美術部だったと話してくれました。近々会社の同僚たちと花火大会を計画しているらしく、楽しみだと語っていました。',\n",
       "  'after_mask': '<マスキング済みの氏名>さんは、日本最大手の不動産会社である<マスキング済みの会社名>に勤務しています。彼女のオフィスは<マスキング済みの住所>にあり、郵便番号は<マスキング済みの郵便番号>です。まだ新人社員として働いており、彼女の直属の上司である<マスキング済みの氏名>課長からの指導を受けながら日々成長しています。<マスキング済みの氏名>さんは一人暮らしをしており、最近新しい賃貸物件を契約したばかりです。その物件の住所は<マスキング済みの住所>、郵便番号は<マスキング済みの郵便番号>です。彼女は自身の携帯電話番号として<マスキング済みの電話番号>を利用しており、この番号は仕事とプライベートの両方で活用されています。誕生日は<マスキング済みの生年月日>で、彼女の趣味は料理と絵画です。学生時代は料理教室に通い、高校では美術部だったと話してくれました。近々会社の同僚たちと花火大会を計画しているらしく、楽しみだと語っていました。'},\n",
       " {'before_mask': 'カワモトアキラさんは株式会社クミノテックで働いており、役職は営業部課長を務めています。彼のオフィスは東京都千代田区丸の内1丁目4番2号で、最寄り駅は東京駅です。郵便番号は100-0005です。カワモトさんの連絡先は、電話番号が03-1234-5678、メールアドレスはkawamoto.akira@example.comです。1975年5月10日生まれの彼は、これまでさまざまなプロジェクトに携わり、多くの成功を収めてきました。彼のオフィスには、しばしば重要な顧客が訪れ、会議や商談が行われます。昨年、カワモトさんは特に大きな契約を成功させ、その功績で社内表彰を受けました。この契約により、会社の年間売上が大幅に伸びたといわれています。過去には取引先である大阪府大阪市北区の株式会社アイテックに出張した際、プロジェクトの進捗状況を直接説明し、その場でクライアントから高く評価された話があります。',\n",
       "  'after_mask': '<マスキング済みの氏名>さんは<マスキング済みの会社名>で働いており、役職は営業部課長を務めています。彼のオフィスは<マスキング済みの住所>で、最寄り駅は東京駅です。郵便番号は<マスキング済みの郵便番号>です。<マスキング済みの氏名>さんの連絡先は、電話番号が<マスキング済みの電話番号>、メールアドレスは<マスキング済みのemailアドレス>です。<マスキング済みの生年月日>生まれの彼は、これまでさまざまなプロジェクトに携わり、多くの成功を収めてきました。彼のオフィスには、しばしば重要な顧客が訪れ、会議や商談が行われます。昨年、<マスキング済みの氏名>さんは特に大きな契約を成功させ、その功績で社内表彰を受けました。この契約により、会社の年間売上が大幅に伸びたといわれています。過去には取引先である<マスキング済みの住所>の<マスキング済みの会社名>に出張した際、プロジェクトの進捗状況を直接説明し、その場でクライアントから高く評価された話があります。'},\n",
       " {'before_mask': '昨日、久しぶりに大学時代の友人であるスズキイチロウ君と会いました。彼は現在、大手企業で働いており、株式会社ABCテクノロジーという会社に勤めています。就職活動に苦労していた彼が今やそんな会社でバリバリ働いていることを知って、とても嬉しく思いました。彼の会社の所在地は東京都港区赤坂3丁目12番45号で、郵便番号は〒1071234だそうです。さらに、彼の仕事用の連絡先電話番号は03-1234-5678で、よく会社の業務で使用しているようです。スズキ君は生まれも育ちも福岡で、生年月日は1985年6月15日とのこと。彼のメールアドレスはichiro.suzuki@example.comですが、最近は業務メールが多くてプライベートな連絡が少なくなったと少し困っている様子でした。それでも久しぶりの再会で楽しい時間を過ごすことができ、本当に良い日になりました。',\n",
       "  'after_mask': '昨日、久しぶりに大学時代の友人である<マスキング済みの氏名>君と会いました。彼は現在、大手企業で働いており、<マスキング済みの会社名>という会社に勤めています。就職活動に苦労していた彼が今やそんな会社でバリバリ働いていることを知って、とても嬉しく思いました。彼の会社の所在地は<マスキング済みの住所>で、郵便番号は<マスキング済みの郵便番号>だそうです。さらに、彼の仕事用の連絡先電話番号は<マスキング済みの電話番号>で、よく会社の業務で使用しているようです。<マスキング済みの氏名>君は生まれも育ちも福岡で、生年月日は<マスキング済みの生年月日>とのこと。彼のメールアドレスは<マスキング済みのemailアドレス>ですが、最近は業務メールが多くてプライベートな連絡が少なくなったと少し困っている様子でした。それでも久しぶりの再会で楽しい時間を過ごすことができ、本当に良い日になりました。'},\n",
       " {'before_mask': 'オオヤマハルカさんは1995年8月20日に生まれ、現在は東京都渋谷区神南1丁目のアーバンライフ株式会社で勤めています。彼女のメールアドレスはharuka.ooyama@example.jpで、電話番号は03-1234-5678です。会社の所在地は東京都港区六本木6丁目12番15号、郵便番号は〒106-1234です。また、オオヤマさんは普段は渋谷駅近くのカフェでランチをすることが多く、多忙な生活を送っています。彼女が担当している業務は主に海外営業で、日本国内および海外企業との交渉を行う重要なポジションです。',\n",
       "  'after_mask': '<マスキング済みの氏名>さんは<マスキング済みの生年月日>に生まれ、現在は<マスキング済みの住所>で勤めています。彼女のメールアドレスは<マスキング済みのemailアドレス>で、電話番号は<マスキング済みの電話番号>です。会社の所在地は<マスキング済みの住所>、郵便番号は<マスキング済みの郵便番号>です。また、<マスキング済みの氏名>さんは普段は渋谷駅近くのカフェでランチをすることが多く、多忙な生活を送っています。彼女が担当している業務は主に海外営業で、日本国内および海外企業との交渉を行う重要なポジションです。'},\n",
       " {'before_mask': 'ヤマダハナコさんは1995年の春に生まれ、現在では株式会社サクラテックで働いています。この会社のオフィスは東京都渋谷区神南1丁目にあり、郵便番号は1500041です。ヤマダハナコさんの同僚たちは、彼女の電話番号である03-1234-5678に連絡を取ることも多いそうです。さらに、彼女のemailアドレスであるhanako.yamada@example.comを使って、仕事の連絡をすることもあります。ヤマダハナコさんは、週末には地元の吉野町に帰り、家族と一緒に過ごしています。彼女の実家の住所は大阪府吉野町大字○○123-45で、郵便番号は6393101です。',\n",
       "  'after_mask': '<マスキング済みの氏名>さんは<マスキング済みの生年月日>に生まれ、現在では<マスキング済みの会社名>で働いています。この会社のオフィスは<マスキング済みの住所>にあり、郵便番号は<マスキング済みの郵便番号>です。<マスキング済みの氏名>さんの同僚たちは、彼女の電話番号である<マスキング済みの電話番号>に連絡を取ることも多いそうです。さらに、彼女のemailアドレスである<マスキング済みのemailアドレス>を使って、仕事の連絡をすることもあります。<マスキング済みの氏名>さんは、週末には地元の<マスキング済みの住所>に帰り、家族と一緒に過ごしています。彼女の実家の住所は<マスキング済みの住所>で、郵便番号は<マスキング済みの郵便番号>です。'},\n",
       " {'before_mask': 'ヤマサキソウタさんは2023年3月に株式会社グリーンプラザに入社し、現在は大阪府大阪市中央区本町2丁目3-5の本社オフィスで働いています。彼の勤務する会社の郵便番号は540-6311で、電話番号は06-1234-5678です。彼は1995年5月12日生まれで、地元の友人や家族とよく連絡を取り合っています。最近、仕事で使用するemailアドレスとしてsota.yamasaki@greenplaza.co.jpを取得しました。彼は新しい環境にも慣れてきて、社内で企画立案やプロジェクト管理に携わり、日々充実した仕事をしています。会社の近くにはおしゃれなカフェが多いため、昼休みに同僚と外でランチをすることが多いそうです。また、彼の得意分野であるデータ分析を活かして、企業の成長戦略の構築にも大きく貢献しています。',\n",
       "  'after_mask': '<マスキング済みの氏名>さんは2023年3月に<マスキング済みの会社名>に入社し、現在は<マスキング済みの住所>の本社オフィスで働いています。彼の勤務する会社の郵便番号は<マスキング済みの郵便番号>で、電話番号は<マスキング済みの電話番号>です。彼は<マスキング済みの生年月日>生まれで、地元の友人や家族とよく連絡を取り合っています。最近、仕事で使用するemailアドレスとして<マスキング済みのemailアドレス>を取得しました。彼は新しい環境にも慣れてきて、社内で企画立案やプロジェクト管理に携わり、日々充実した仕事をしています。会社の近くにはおしゃれなカフェが多いため、昼休みに同僚と外でランチをすることが多いそうです。また、彼の得意分野であるデータ分析を活かして、企業の成長戦略の構築にも大きく貢献しています。'},\n",
       " {'before_mask': '私の親しい友人スズキイチロウさんは、東京都渋谷区代々木1丁目17番4号のアパートに住んでいます。彼は株式会社グローバルテックジャパンという会社でエンジニアとして働いており、彼が最近昇進したこともあってますます忙しいようです。スズキさんと連絡を取るときは、彼のメールアドレスであるichiro.suzuki@example.jpをよく使います。また、彼の会社のオフィスへの電話番号である03-3456-7890にも連絡をしたことがあります。彼の誕生日は1985年7月16日で、今年の誕生日には友人たちと一緒に集まってお祝いしました。さらに、彼の職場は郵便番号150-0034の地域に位置しており、通勤先もとても便利な場所です。彼はアウトドアが好きで、休みの日には近郊のキャンプ場で過ごすことが多いです。彼の家を訪問する際は、お互いにスケジュールを調整し、最近では来週末にまた会う予定を立てました。スズキさんはとても社交的で、いつも新しいアイデアを持っているので一緒に話をしていると楽しい時間を過ごせます。',\n",
       "  'after_mask': '私の親しい友人<マスキング済みの氏名>さんは、<マスキング済みの住所>のアパートに住んでいます。彼は<マスキング済みの会社名>という会社でエンジニアとして働いており、彼が最近昇進したこともあってますます忙しいようです。<マスキング済みの氏名>さんと連絡を取るときは、彼のメールアドレスである<マスキング済みのemailアドレス>をよく使います。また、彼の会社のオフィスへの電話番号である<マスキング済みの電話番号>にも連絡をしたことがあります。彼の誕生日は<マスキング済みの生年月日>で、今年の誕生日には友人たちと一緒に集まってお祝いしました。さらに、彼の職場は<マスキング済みの郵便番号>の地域に位置しており、通勤先もとても便利な場所です。彼はアウトドアが好きで、休みの日には近郊のキャンプ場で過ごすことが多いです。彼の家を訪問する際は、お互いにスケジュールを調整し、最近では来週末にまた会う予定を立てました。<マスキング済みの氏名>さんはとても社交的で、いつも新しいアイデアを持っているので一緒に話をしていると楽しい時間を過ごせます。'},\n",
       " {'before_mask': 'サトウケンタさんは、1992年5月3日に生まれ、現在は東京都渋谷区代々木2丁目10-7のアパートに住んでいます。彼は株式会社グローバルテックに勤めており、会社の所在地は大阪府大阪市北区梅田3丁目2-5です。郵便番号は〒5300001で、会社の電話番号は06-1234-5678です。サトウケンタさんの個人用のメールアドレスはsatoken92@example.comで、仕事に関する連絡はもっぱらこのアドレスを使用しています。',\n",
       "  'after_mask': '<マスキング済みの氏名>さんは、<マスキング済みの生年月日>日に生まれ、現在は<マスキング済みの住所>のアパートに住んでいます。彼は<マスキング済みの会社名>に勤めており、会社の所在地は<マスキング済みの住所>です。郵便番号は<マスキング済みの郵便番号>で、会社の電話番号は<マスキング済みの電話番号>です。<マスキング済みの氏名>さんの個人用のメールアドレスは<マスキング済みのemailアドレス>で、仕事に関する連絡はもっぱらこのアドレスを使用しています。'},\n",
       " {'before_mask': 'ホンダトシオさんは、埼玉県川越市新町3丁目45-16にある自宅で、長年住んでいます。彼は1990年5月23日の生まれで、現在はIT企業である「テクノポート株式会社」でプロジェクトマネージャーとして働いています。この会社の所在地は東京都港区六本木5丁目8-15で、郵便番号は106-0032です。また、ホンダトシオさんの職場の電話番号は03-4567-8901で、彼の連絡先メールアドレスはtosio.honda@example.comです。彼は、最近、地元の自治会のリーダーとして地域活動にも積極的に関与しており、休日には近隣で清掃活動を行ったり、イベント調整をしています。',\n",
       "  'after_mask': '<マスキング済みの氏名>さんは、<マスキング済みの住所>にある自宅で、長年住んでいます。彼は<マスキング済みの生年月日>の生まれで、現在はIT企業である<マスキング済みの会社名>でプロジェクトマネージャーとして働いています。この会社の所在地は<マスキング済みの住所>で、郵便番号は<マスキング済みの郵便番号>です。また、<マスキング済みの氏名>さんの職場の電話番号は<マスキング済みの電話番号>で、彼の連絡先メールアドレスは<マスキング済みのemailアドレス>です。彼は、最近、地元の自治会のリーダーとして地域活動にも積極的に関与しており、休日には近隣で清掃活動を行ったり、イベント調整をしています。'},\n",
       " {'before_mask': '先日、ヤマダハナコさんと連絡を取りました。彼女は、株式会社日本未来テクノロジーで働いていて、職場は東京都渋谷区恵比寿西2丁目19番地1号にあるオフィスビル内です。ちなみに彼女の職場の郵便番号は150-0021です。ヤマダさんの生年月日は1990年4月15日で、連絡先の電話番号は09012345678、メールアドレスはhanako.yamada@example.comです。ヤマダさんは、ソフトウェア開発のプロジェクトリーダーを務めており、これまでに数々の成功を収めてきた優秀な方です。特に、彼女が設計した新しいウェブプラットフォームは非常に画期的で多くの企業から注目を受けています。恵比寿でランチをした際には、最近のプロジェクトの進捗状況や、彼女の趣味について話をしました。彼女は読書が好きで、最近日本文学の名作を読んで感銘を受けたとのことです。また、週末には近くのヨガスタジオに通い心身のリフレッシュをしているそうです。',\n",
       "  'after_mask': '先日、<マスキング済みの氏名>さんと連絡を取りました。彼女は、<マスキング済みの会社名>で働いていて、職場は<マスキング済みの住所>にあるオフィスビル内です。ちなみに彼女の職場の郵便番号は<マスキング済みの郵便番号>です。<マスキング済みの氏名>さんの生年月日は<マスキング済みの生年月日>で、連絡先の電話番号は<マスキング済みの電話番号>、メールアドレスは<マスキング済みのemailアドレス>です。<マスキング済みの氏名>さんは、ソフトウェア開発のプロジェクトリーダーを務めており、これまでに数々の成功を収めてきた優秀な方です。特に、彼女が設計した新しいウェブプラットフォームは非常に画期的で多くの企業から注目を受けています。恵比寿でランチをした際には、最近のプロジェクトの進捗状況や、彼女の趣味について話をしました。彼女は読書が好きで、最近日本文学の名作を読んで感銘を受けたとのことです。また、週末には近くのヨガスタジオに通い心身のリフレッシュをしているそうです。'},\n",
       " {'before_mask': 'ヤマダハナコさんは東京都港区芝公園の居住地に住んでいます。彼女はトミオカテクノロジー株式会社で働いており、職場の所在地は新宿区西新宿のビルです。会社への連絡は電話番号03-1234-5678またはemailアドレスhanako.yamada@example.jpを通じて行うことができます。ヤマダハナコさんの生年月日は1985年3月15日であり、彼女の郵便番号は105-0011です。趣味としては料理と読書が好きで、特に日本料理の技術を磨くことに力を入れています。休日には近所の公園でジョギングをしたり、地元の図書館で新刊を探すことも彼女の楽しみの一つです。',\n",
       "  'after_mask': '<マスキング済みの氏名>さんは<マスキング済みの住所>に住んでいます。彼女は<マスキング済みの会社名>で働いており、職場の所在地は<マスキング済みの住所>です。会社への連絡は電話番号<マスキング済みの電話番号>またはemailアドレス<マスキング済みのemailアドレス>を通じて行うことができます。<マスキング済みの氏名>さんの生年月日は<マスキング済みの生年月日>であり、彼女の郵便番号は<マスキング済みの郵便番号>です。趣味としては料理と読書が好きで、特に日本料理の技術を磨くことに力を入れています。休日には近所の公園でジョギングをしたり、地元の図書館で新刊を探すことも彼女の楽しみの一つです。'},\n",
       " {'before_mask': 'サトウヒロシさんは株式会社ワールドテクノロジーに勤務しており、彼の自宅は東京都渋谷区神南1丁目12-3にあります。郵便番号は〒1500041です。彼は2000年5月15日生まれで、会社の公式メールアドレスとしてhiroshi.sato@world-tech.jpを使用しています。また、会社の電話番号は03-1234-5678で、個人的な携帯電話は080-9876-5432です。週末には地元のコミュニティセンターでボランティア活動をし、地域の人々から信頼されています。最近彼が携わったプロジェクトにはAI技術を活用した新しいサービスの導入が含まれており、その成果として社内で表彰されました。また、趣味として写真を撮ることが好きで、特に自然風景を好んで撮影しています。彼は地元の公園で開催された写真展にも出品しており、その作品が好評を得ています。',\n",
       "  'after_mask': '<マスキング済みの氏名>さんは<マスキング済みの会社名>に勤務しており、彼の自宅は<マスキング済みの住所>にあります。郵便番号は<マスキング済みの郵便番号>です。彼は<マスキング済みの生年月日>生まれで、会社の公式メールアドレスとして<マスキング済みのemailアドレス>を使用しています。また、会社の電話番号は<マスキング済みの電話番号>で、個人的な携帯電話は<マスキング済みの電話番号>です。週末には地元のコミュニティセンターでボランティア活動をし、地域の人々から信頼されています。最近彼が携わったプロジェクトにはAI技術を活用した新しいサービスの導入が含まれており、その成果として社内で表彰されました。また、趣味として写真を撮ることが好きで、特に自然風景を好んで撮影しています。彼は地元の公園で開催された写真展にも出品しており、その作品が好評を得ています。'},\n",
       " {'before_mask': 'アオキタケシさんは株式会社サクラエンタープライズで働いており、本社所在地は大阪府大阪市北区梅田2丁目4番1号のグランドビルです。アオキさんは毎日電車で通勤しており、会社の郵便番号は5300001です。連絡先の電話番号は0987654321で、問い合わせは彼の専用メールであるtakeshi.aoki@example.comに送ることができます。アオキさんの生年月日は1985年6月15日で、趣味はテニスと料理です。また、週末はよく奈良県で実家の家族と過ごしているそうです。',\n",
       "  'after_mask': '<マスキング済みの氏名>さんは<マスキング済みの会社名>で働いており、本社所在地は<マスキング済みの住所>です。<マスキング済みの氏名>さんは毎日電車で通勤しており、会社の郵便番号は<マスキング済みの郵便番号>です。連絡先の電話番号は<マスキング済みの電話番号>で、問い合わせは彼の専用メールである<マスキング済みのemailアドレス>に送ることができます。<マスキング済みの氏名>さんの生年月日は<マスキング済みの生年月日>で、趣味はテニスと料理です。また、週末はよく奈良県で実家の家族と過ごしているそうです。'},\n",
       " {'before_mask': '昨日は株式会社ウエストテックジャパンの営業部で働いているスズキイチロウさんと会いました。彼の生年月日は1985年11月3日で、現在37歳です。最近、彼は神奈川県横浜市港北区の自宅を改装し、郵便番号は2220026です。彼からいただいた名刺には、電話番号が0451234567、emailアドレスはichiro.suzuki@example.comと記載されていました。スズキイチロウさんの話によると、ウエストテックジャパンはデジタルマーケティング事業で好評を得ており、特に日本国内のECサイト向けの最適化サービスが注目されているそうです。彼は営業担当として全国各地を回っており、最近では大阪と京都のクライアントとの契約案件に力を入れているとのことでした。さらに、彼は趣味としてアウトドア活動が好きで、休日には静岡県でキャンプを楽しむことが多いそうです。',\n",
       "  'after_mask': '昨日は<マスキング済みの会社名>の営業部で働いている<マスキング済みの氏名>さんと会いました。彼の生年月日は<マスキング済みの生年月日>で、現在<マスキング済みの年齢>歳です。最近、彼は<マスキング済みの住所>の自宅を改装し、郵便番号は<マスキング済みの郵便番号>です。彼からいただいた名刺には、電話番号が<マスキング済みの電話番号>、emailアドレスは<マスキング済みのemailアドレス>と記載されていました。<マスキング済みの氏名>さんの話によると、<マスキング済みの会社名>はデジタルマーケティング事業で好評を得ており、特に日本国内のECサイト向けの最適化サービスが注目されているそうです。彼は営業担当として全国各地を回っており、最近では大阪と京都のクライアントとの契約案件に力を入れているとのことでした。さらに、彼は趣味としてアウトドア活動が好きで、休日には<マスキング済みの住所>でキャンプを楽しむことが多いそうです。'},\n",
       " {'before_mask': 'ヤマザキハルコさんは2022年に株式会社ホープスター建設に入社し、現在は新宿区西新宿2丁目7番1号にある本社で働いています。彼女の勤務先の電話番号は03-1234-5678で、会社の代表メールアドレスはinfo@hopestar.co.jpです。ヤマザキハルコさん自身は神奈川県横浜市青葉区美しが丘4-5-6に住んでおり、郵便番号は227-0046、個人のメールアドレスはharuko.yamazaki@example.comです。彼女の生年月日は1985年4月23日で、今年で38歳になります。休日にはしばしば藤沢市の友人宅に遊びに行き、海沿いを散歩するのがお気に入りだそうです。',\n",
       "  'after_mask': '<マスキング済みの氏名>さんは2022年に<マスキング済みの会社名>に入社し、現在は<マスキング済みの住所>にある本社で働いています。彼女の勤務先の電話番号は<マスキング済みの電話番号>で、会社の代表メールアドレスは<マスキング済みのemailアドレス>です。<マスキング済みの氏名>さん自身は<マスキング済みの住所>に住んでおり、郵便番号は<マスキング済みの郵便番号>、個人のメールアドレスは<マスキング済みのemailアドレス>です。彼女の生年月日は<マスキング済みの生年月日>で、今年で38歳になります。休日にはしばしば<マスキング済みの住所>の友人宅に遊びに行き、海沿いを散歩するのがお気に入りだそうです。'},\n",
       " {'before_mask': 'エンドウサトルさんは株式会社ライフデザインサービスで働いています。会社の住所は東京都新宿区西新宿1丁目23番45号で、郵便番号は〒160-0023です。エンドウサトルさんの生年月日は1984年12月5日で、彼の連絡先電話番号は03-1234-5678です。また、エンドウサトルさんの職場メールアドレスはsatoru.endo@lifedesign.jpです。',\n",
       "  'after_mask': '<マスキング済みの氏名>さんは<マスキング済みの会社名>で働いています。会社の住所は<マスキング済みの住所>で、郵便番号は<マスキング済みの郵便番号>です。<マスキング済みの氏名>さんの生年月日は<マスキング済みの生年月日>で、彼の連絡先電話番号は<マスキング済みの電話番号>です。また、<マスキング済みの氏名>さんの職場メールアドレスは<マスキング済みのemailアドレス>です。'},\n",
       " {'before_mask': 'ヤマダハナコさんは1985年5月24日生まれで、現在は東京都渋谷区神南一丁目15番5号にあるウメダコンサルティング株式会社で働いています。この会社はITソリューションを専門とする企業で、ヤマダさんはシステムエンジニアとして多くのプロジェクトを成功に導いてきた実績があります。彼女の職場の電話番号は03-1234-5678で、メールアドレスはhanako.yamada@umedaconsulting.co.jpです。ヤマダさんは子供の頃から数学が得意で、地元の学校でも常にトップクラスの成績を収めていました。その後、京都大学工学部を卒業し、システムエンジニアとしてのキャリアをスタートしました。仕事の合間には同僚のナカムラアヤカさん（1990年12月3日生まれ）とランチを楽しんだり、業務後にコーヒーを飲みに行ったりしています。ナカムラさんの住まいは神奈川県横浜市青葉区美しが丘2丁目20番13号で、電話番号は045-9876-5432です。ウメダコンサルティング株式会社内ではヤマダさんとナカムラさんのコンビで業務をすることが多く、社員たちの間でも彼女たちのチームワークは高く評価されています。',\n",
       "  'after_mask': '<マスキング済みの氏名>さんは<マスキング済みの生年月日>生まれで、現在は<マスキング済みの住所>にある<マスキング済みの会社名>で働いています。この会社はITソリューションを専門とする企業で、<マスキング済みの氏名>さんはシステムエンジニアとして多くのプロジェクトを成功に導いてきた実績があります。彼女の職場の電話番号は<マスキング済みの電話番号>で、メールアドレスは<マスキング済みのemailアドレス>です。<マスキング済みの氏名>さんは子供の頃から数学が得意で、地元の学校でも常にトップクラスの成績を収めていました。その後、京都大学工学部を卒業し、システムエンジニアとしてのキャリアをスタートしました。仕事の合間には同僚の<マスキング済みの氏名>さん（<マスキング済みの生年月日>生まれ）とランチを楽しんだり、業務後にコーヒーを飲みに行ったりしています。<マスキング済みの氏名>さんの住まいは<マスキング済みの住所>で、電話番号は<マスキング済みの電話番号>です。<マスキング済みの会社名>内では<マスキング済みの氏名>さんと<マスキング済みの氏名>さんのコンビで業務をすることが多く、社員たちの間でも彼女たちのチームワークは高く評価されています。'},\n",
       " {'before_mask': 'ヤマダハナコさんは、東京都渋谷区神宮前1丁目にある株式会社ビジネスソリューションズで働いています。彼女は1985年2月12日生まれで、emailアドレスはhanako.yamada@example.com、電話番号は03-1234-5678です。この会社の所在地は郵便番号150-0001で、周辺には多くのカフェやレストランがあり、仕事終わりに同僚と寄り道することもあるそうです。ヤマダさんは新卒でこの会社に入社して以来、営業部門で働いており、特に海外との取引を担当するチームに所属しています。彼女は自分の名前の由来について、「花のように美しく育ってほしいと願ってつけられた」とご両親から聞いており、とても大切にしている名前だと話していました。また、ヤマダさんは趣味としてピアノを演奏することを楽しんでいるほか、休暇には長野県で自然の中を散策することが気分転換になるそうです。自宅は東京都杉並区桃井2丁目にあり、職場までの通勤時間は約40分程度とのことです。',\n",
       "  'after_mask': '<マスキング済みの氏名>さんは、<マスキング済みの住所>にある<マスキング済みの会社名>で働いています。彼女は<マスキング済みの生年月日>生まれで、emailアドレスは<マスキング済みのemailアドレス>、電話番号は<マスキング済みの電話番号>です。この会社の所在地は<マスキング済みの郵便番号>で、周辺には多くのカフェやレストランがあり、仕事終わりに同僚と寄り道することもあるそうです。<マスキング済みの氏名>さんは新卒でこの会社に入社して以来、営業部門で働いており、特に海外との取引を担当するチームに所属しています。彼女は自分の名前の由来について、「花のように美しく育ってほしいと願ってつけられた」とご両親から聞いており、とても大切にしている名前だと話していました。また、<マスキング済みの氏名>さんは趣味としてピアノを演奏することを楽しんでいるほか、休暇には長野県で自然の中を散策することが気分転換になるそうです。自宅は<マスキング済みの住所>にあり、職場までの通勤時間は約40分程度とのことです。'},\n",
       " {'before_mask': 'カトウユウタさんは、現在東京都新宿区西新宿2丁目3-1のマンションに住んでいます。この付近には大型デパートやカフェが点在しており、特に彼が気に入っているカフェはスターバックス新宿南店です。彼の職場は株式会社ソフトアンドテックで、渋谷区道玄坂2丁目4-5に位置しています。カトウさんはこの職場でエンジニアとして働いており、同僚のオオタアヤカさんとは仕事の後によく食事を楽しんでいます。また、彼の生年月日は1985年7月15日で、彼はその日を家族と過ごすことが多いと言います。最近は、友人に送るためのemailとしてyuta.kato@example.comを使っています。仕事に関しての連絡は専ら携帯電話の08012345678を使用しているとのことです。',\n",
       "  'after_mask': '<マスキング済みの氏名>さんは、現在<マスキング済みの住所>のマンションに住んでいます。この付近には大型デパートやカフェが点在しており、特に彼が気に入っているカフェは<マスキング済みの会社名>です。彼の職場は<マスキング済みの会社名>で、<マスキング済みの住所>に位置しています。<マスキング済みの氏名>さんはこの職場でエンジニアとして働いており、同僚の<マスキング済みの氏名>さんとは仕事の後によく食事を楽しんでいます。また、彼の生年月日は<マスキング済みの生年月日>で、彼はその日を家族と過ごすことが多いと言います。最近は、友人に送るためのemailとして<マスキング済みのemailアドレス>を使っています。仕事に関しての連絡は専ら携帯電話の<マスキング済みの電話番号>を使用しているとのことです。'},\n",
       " {'before_mask': 'この間の会議でお会いしたソノダアキラさんから、次のイベントに関する詳細情報が送られてきました。イベントは株式会社セイコーアドバンスが主催しており、場所は大阪府大阪市北区梅田2-4-36にある阪急グランドビルです。郵便番号は5300001で、参加者はそれぞれメールで登録する必要があります。私が受け取った連絡先のメールアドレスはsonoda.akira@example.comです。また、ソノダさんは1985年6月15日生まれで、その電話番号は09098765432だそうです。彼が主催するセッションも非常に興味深い内容のようで、ぜひ参加したいと考えています。次回は私の同僚のサカグチミホさんも参加予定で、彼女の担当分野についての議論も進める予定です。サカグチさんの会社は東京中央電機株式会社で、彼女の職場住所は東京都千代田区丸の内1-6-5です。彼女の電話番号は03-4567890で、こちらも郵便番号は1000005だと言っていました。',\n",
       "  'after_mask': 'この間の会議でお会いした<マスキング済みの氏名>さんから、次のイベントに関する詳細情報が送られてきました。イベントは<マスキング済みの会社名>が主催しており、場所は<マスキング済みの住所>にある<マスキング済みの会社名>です。郵便番号は<マスキング済みの郵便番号>で、参加者はそれぞれメールで登録する必要があります。私が受け取った連絡先のメールアドレスは<マスキング済みのemailアドレス>です。また、<マスキング済みの氏名>さんは<マスキング済みの生年月日>で、その電話番号は<マスキング済みの電話番号>だそうです。彼が主催するセッションも非常に興味深い内容のようで、ぜひ参加したいと考えています。次回は私の同僚の<マスキング済みの氏名>さんも参加予定で、彼女の担当分野についての議論も進める予定です。<マスキング済みの氏名>さんの会社は<マスキング済みの会社名>で、彼女の職場住所は<マスキング済みの住所>です。彼女の電話番号は<マスキング済みの電話番号>で、こちらも郵便番号は<マスキング済みの郵便番号>だと言っていました。'},\n",
       " {'before_mask': 'ヤマモトユウコさんは、株式会社アジアンテックに勤務しており、会社の所在地は東京都港区の虎ノ門ヒルズ近くの住所で、郵便番号は106-0046となっています。ヤマモトユウコさんの個人携帯の番号は090-1234-5678で、個人のemailアドレスはyuko.yamamoto@example.comです。また、彼女の生まれた日付は1985年3月15日で、家族とともに東京都世田谷区深沢の住宅に住んでいます。彼女が通勤に使用する電車は主に田園都市線で、駅近くのカフェで時折コーヒーを飲みながら読書をするのを楽しんでいます。株式会社アジアンテックの社内では資料作成やクライアント対応など多くの業務を担当し、先日は重要なプレゼンテーションでクライアントに好評を博しました。彼女の住宅近くには深沢八幡神社があり、その静かな環境でジョギングや散歩を楽しむこともあります。',\n",
       "  'after_mask': '<マスキング済みの氏名>さんは、<マスキング済みの会社名>に勤務しており、会社の所在地は<マスキング済みの住所>で、郵便番号は<マスキング済みの郵便番号>となっています。<マスキング済みの氏名>さんの個人携帯の番号は<マスキング済みの電話番号>で、個人のemailアドレスは<マスキング済みのemailアドレス>です。また、彼女の生まれた日付は<マスキング済みの生年月日>で、家族とともに<マスキング済みの住所>に住んでいます。彼女が通勤に使用する電車は主に田園都市線で、駅近くのカフェで時折コーヒーを飲みながら読書をするのを楽しんでいます。<マスキング済みの会社名>の社内では資料作成やクライアント対応など多くの業務を担当し、先日は重要なプレゼンテーションでクライアントに好評を博しました。彼女の住宅近くには深沢八幡神社があり、その静かな環境でジョギングや散歩を楽しむこともあります。'},\n",
       " {'before_mask': 'ヤマグチサトシさんは1985年6月12日生まれで、現在株式会社未来創造ネットワークでマーケティング部門のマネージャーを務めています。彼の会社は東京都港区赤坂1丁目2番3号にあり、郵便番号は〒1050001です。さらに、彼の連絡先メールアドレスはsatoshi.yamaguchi@example.comで、仕事に関する相談は電話番号03-1234-5678で受け付けています。会社は、革新的なITソリューションを提供することで評判を得ています。本日、彼の部門が新しいプロジェクトを開始し、全員が忙しく取り組んでいます。このプロジェクトは地域サービスの向上を目的としており、ヤマグチさんの生年月日を祝うランチ会でアイデアが出されたことから生まれました。オフィスの近くには公園があり、そこでリラックスするのが彼のお気に入りです。また、ヤマグチさんは最近家庭菜園に興味を持ち始め、オフィスにも小さな鉢植えを持ち込んでいます。',\n",
       "  'after_mask': '<マスキング済みの氏名>さんは<マスキング済みの生年月日>生まれで、現在<マスキング済みの会社名>でマーケティング部門のマネージャーを務めています。彼の会社は<マスキング済みの住所>にあり、郵便番号は<マスキング済みの郵便番号>です。さらに、彼の連絡先メールアドレスは<マスキング済みのemailアドレス>で、仕事に関する相談は電話番号<マスキング済みの電話番号>で受け付けています。会社は、革新的なITソリューションを提供することで評判を得ています。本日、彼の部門が新しいプロジェクトを開始し、全員が忙しく取り組んでいます。このプロジェクトは地域サービスの向上を目的としており、<マスキング済みの氏名>さんの生年月日を祝うランチ会でアイデアが出されたことから生まれました。オフィスの近くには公園があり、そこでリラックスするのが彼のお気に入りです。また、<マスキング済みの氏名>さんは最近家庭菜園に興味を持ち始め、オフィスにも小さな鉢植えを持ち込んでいます。'},\n",
       " {'before_mask': '田中カンナさんは、東京都新宿区西新宿8丁目15-10にある株式会社フューチャービジョンテクノロジーに勤務しています。彼女の職場の電話番号は03-5678-1234で、会社はIT業界において注目を集める最新技術を取り扱っています。また、田中さんの自宅は東京都杉並区高円寺南4丁目12番31号に位置し、郵便番号は168-0073です。彼女の生年月日は1990年4月15日で、メールアドレスはkanna.tanaka@example.comです。大学時代は慶応義塾大学の経済学部に在籍しており、現在も同大学の同窓会で活発に活動しています。週末には、新宿駅南口近くのカフェ「カフェ ド シンプル」で、友人と近況報告をしながら交流し、また、共通の趣味である読書や映画について語り合うのがお気に入りの時間だそうです。今年の夏休みには、北海道札幌市で行われる技術交流プログラムにも参加予定で、さらなるスキルアップを目指しています。',\n",
       "  'after_mask': '<マスキング済みの氏名>さんは、<マスキング済みの住所>にある<マスキング済みの会社名>に勤務しています。彼女の職場の電話番号は<マスキング済みの電話番号>で、会社はIT業界において注目を集める最新技術を取り扱っています。また、<マスキング済みの氏名>さんの自宅は<マスキング済みの住所>に位置し、郵便番号は<マスキング済みの郵便番号>です。彼女の生年月日は<マスキング済みの生年月日>で、メールアドレスは<マスキング済みのemailアドレス>です。大学時代は<マスキング済みの大学名>の経済学部に在籍しており、現在も同大学の同窓会で活発に活動しています。週末には、新宿駅南口近くのカフェ「カフェ ド シンプル」で、友人と近況報告をしながら交流し、また、共通の趣味である読書や映画について語り合うのがお気に入りの時間だそうです。今年の夏休みには、北海道札幌市で行われる技術交流プログラムにも参加予定で、さらなるスキルアップを目指しています。'},\n",
       " {'before_mask': '昨日、東京都渋谷区恵比寿西2丁目10番3号にある有限会社サンライトで行われたセミナーに参加しました。セミナーの講師はスズキイチロウさんで、内容は非常に興味深いものでした。スズキさんは、かつてマーケティング業界のトップ企業での経験もあり、その知識を生かした話がとても参考になりました。講演の後、参加者は自由に事業展開に関する相談をする時間が設けられていて、とても有意義な交流の場となりました。その場でお話しした人の中で特に印象に残ったのは、フルーツ販売業を営むヤマダハナコさんでした。二人の方とも名刺交換をし、スズキさんのemailアドレスはichiro.suzuki@example.com、ヤマダさんのemailアドレスはhanako.yamada@example.jpでした。またスズキさんの名刺には電話番号0123-456-789が記載されていました。さらにヤマダさんの会社は横浜市中区にあるため今度訪問予定です。興味深いことに、ヤマダさんは1985年5月20日生まれということで、年齢的にも私と近く、話が盛り上がりました。',\n",
       "  'after_mask': '昨日、<マスキング済みの住所>にある<マスキング済みの会社名>で行われたセミナーに参加しました。セミナーの講師は<マスキング済みの氏名>さんで、内容は非常に興味深いものでした。<マスキング済みの氏名>さんは、かつてマーケティング業界のトップ企業での経験もあり、その知識を生かした話がとても参考になりました。講演の後、参加者は自由に事業展開に関する相談をする時間が設けられていて、とても有意義な交流の場となりました。その場でお話しした人の中で特に印象に残ったのは、フルーツ販売業を営む<マスキング済みの氏名>さんでした。二人の方とも名刺交換をし、<マスキング済みの氏名>さんの<マスキング済みのemailアドレス>、<マスキング済みの氏名>さんの<マスキング済みのemailアドレス>でした。また<マスキング済みの氏名>さんの名刺には<マスキング済みの電話番号>が記載されていました。さらに<マスキング済みの氏名>さんの会社は<マスキング済みの住所>のため今度訪問予定です。興味深いことに、<マスキング済みの氏名>さんは<マスキング済みの生年月日>ということで、年齢的にも私と近く、話が盛り上がりました。'},\n",
       " {'before_mask': 'カワグチタロウさんは東京都渋谷区宇田川町35-6にある株式会社ネクストエンジニアリングで働いています。彼は2002年4月15日生まれで、現在同僚たちとプロジェクトの進行を担当しています。会社の郵便番号は〒1500042で、電話番号は03-1234-5678です。仕事のメールによく利用しているのはkawaguchi.taro@example.comというアドレスで、毎日数十通のメールを受け取っています。彼は最近、横浜市神奈川区に引っ越しました。新しい住所は神奈川県横浜市神奈川区台町5-2で郵便番号は〒2210835です。カワグチタロウさんは新しい住まいの環境にも満足しているようで、カフェ巡りが趣味だとか。',\n",
       "  'after_mask': '<マスキング済みの氏名>さんは<マスキング済みの住所>にある<マスキング済みの会社名>で働いています。彼は<マスキング済みの生年月日>生まれで、現在同僚たちとプロジェクトの進行を担当しています。会社の郵便番号は<マスキング済みの郵便番号>で、電話番号は<マスキング済みの電話番号>です。仕事のメールによく利用しているのは<マスキング済みのemailアドレス>というアドレスで、毎日数十通のメールを受け取っています。彼は最近、<マスキング済みの住所>に引っ越しました。新しい住所は<マスキング済みの住所>で郵便番号は<マスキング済みの郵便番号>です。<マスキング済みの氏名>さんは新しい住まいの環境にも満足しているようで、カフェ巡りが趣味だとか。'},\n",
       " {'before_mask': 'タカハシユウコさんは株式会社サクラ電機に勤務しており、会社の所在地は東京都千代田区丸の内1丁目1番1号です。郵便番号は〒1000001で、タカハシユウコさんの職場の電話番号は03-1234-5678です。彼女が所属している部署は営業部で、主に家電製品の販売戦略を担当しています。タカハシユウコさんは2010年に大学を卒業し、その後すぐに株式会社サクラ電機に入社しました。彼女の生年月日は1990年7月15日で、休日には趣味の絵画を楽しむことが多いそうです。また彼女の自宅住所は神奈川県横浜市港北区下田町2丁目10番5号で、連絡先のメールアドレスはyuko.takahashi@example.jpです。さらに、彼女は最近愛犬の「ポチ」を飼い始め、週末には近所の公園で散歩をするのが新たな楽しみになっているとのことです。',\n",
       "  'after_mask': '<マスキング済みの氏名>さんは<マスキング済みの会社名>に勤務しており、会社の所在地は<マスキング済みの住所>です。郵便番号は<マスキング済みの郵便番号>で、<マスキング済みの氏名>さんの職場の電話番号は<マスキング済みの電話番号>です。彼女が所属している部署は営業部で、主に家電製品の販売戦略を担当しています。<マスキング済みの氏名>さんは2010年に大学を卒業し、その後すぐに<マスキング済みの会社名>に入社しました。彼女の生年月日は<マスキング済みの生年月日>で、休日には趣味の絵画を楽しむことが多いそうです。また彼女の自宅住所は<マスキング済みの住所>で、連絡先のメールアドレスは<マスキング済みのemailアドレス>です。さらに、彼女は最近愛犬の「ポチ」を飼い始め、週末には近所の公園で散歩をするのが新たな楽しみになっているとのことです。'},\n",
       " {'before_mask': 'カトウユウタさんは現在、東京都新宿区西新宿2丁目8-1にある株式会社新宿イノベーションで働いています。この会社は東京都内でも特にスタートアップ支援に注力しており、専門的な技術開発やマーケティング戦略で評価されています。カトウユウタさんは1988年4月15日生まれで、大学卒業後マーケティング専門のコンサルタントとしてキャリアを築きました。その後自社プロジェクトの立ち上げに成功し、現在ではチームリーダーとして幅広いプロジェクトを指揮しています。この会社のオフィスの電話番号は03-1234-5678で、カトウユウタさんの個人のメールアドレスはy.kato@example.comです。また、彼の通勤先までの郵便番号は160-0023で、オフィスの周辺には多くのカフェやレストランが集まっているため仕事が終わった後の付き合いの場としても活用されています。このような環境で働く彼の姿を同僚は尊敬の念をもって見ています。',\n",
       "  'after_mask': '<マスキング済みの氏名>さんは現在、<マスキング済みの住所>にある<マスキング済みの会社名>で働いています。この会社は東京都内でも特にスタートアップ支援に注力しており、専門的な技術開発やマーケティング戦略で評価されています。<マスキング済みの氏名>さんは<マスキング済みの生年月日>生まれで、大学卒業後マーケティング専門のコンサルタントとしてキャリアを築きました。その後自社プロジェクトの立ち上げに成功し、現在ではチームリーダーとして幅広いプロジェクトを指揮しています。この会社のオフィスの電話番号は<マスキング済みの電話番号>で、<マスキング済みの氏名>さんの個人のメールアドレスは<マスキング済みのemailアドレス>です。また、彼の通勤先までの郵便番号は<マスキング済みの郵便番号>で、オフィスの周辺には多くのカフェやレストランが集まっているため仕事が終わった後の付き合いの場としても活用されています。このような環境で働く彼の姿を同僚は尊敬の念をもって見ています。'},\n",
       " {'before_mask': 'ムラカミケンタさんは、生年月日が1990年5月10日で現在32歳です。彼は現在「大山商事株式会社」で働いており、その会社は大阪府大阪市北区梅田2丁目4番12号に位置しています。同僚たちとの会話によれば、この会社は創業60年を迎える老舗企業だそうです。ムラカミさん自身もこの会社に入社してから10年が経ち、現在では営業部の主任を務めています。ムラカミさんはとても優しくて仕事熱心な同僚としても知られており、周りの評価も高いようです。普段は毎朝自転車で出勤しており、時々近くの喫茶店でコーヒーを飲むのが日課です。彼のメールアドレスは「murakami.kenta@example.com」で、携帯電話番号は080-1234-5678です。この番号を使ってよく仕事の連絡も取っています。ちなみに、彼の家は兵庫県西宮市甲子園口1丁目9番30号で、郵便番号は〒663-8113です。この場所は駅からも近く、非常に便利な立地として知られています。週末には友人のタカハシユカさんと一緒に公園でランニングや散歩を楽しむことが多いとのことです。',\n",
       "  'after_mask': '<マスキング済みの氏名>さんは、生年月日が<マスキング済みの生年月日>で現在32歳です。彼は現在<マスキング済みの会社名>で働いており、その会社は<マスキング済みの住所>に位置しています。同僚たちとの会話によれば、この会社は創業60年を迎える老舗企業だそうです。<マスキング済みの氏名>さん自身もこの会社に入社してから10年が経ち、現在では営業部の主任を務めています。<マスキング済みの氏名>さんはとても優しくて仕事熱心な同僚としても知られており、周りの評価も高いようです。普段は毎朝自転車で出勤しており、時々近くの喫茶店でコーヒーを飲むのが日課です。彼のメールアドレスは<マスキング済みのemailアドレス>で、携帯電話番号は<マスキング済みの電話番号>です。この番号を使ってよく仕事の連絡も取っています。ちなみに、彼の家は<マスキング済みの住所>で、郵便番号は<マスキング済みの郵便番号>です。この場所は駅からも近く、非常に便利な立地として知られています。週末には友人の<マスキング済みの氏名>さんと一緒に公園でランニングや散歩を楽しむことが多いとのことです。'},\n",
       " {'before_mask': 'カワグチケンタさんは、1990年5月15日生まれの男性で、東京都新宿区西新宿6丁目24番1号 新宿中央ビルに住んでいます。彼は株式会社ひかりシステムズでSEとして働いており、会社の住所は東京都品川区東五反田3丁目7番18号 五反田テックビルで、郵便番号は〒1410022です。カワグチさんの職場の電話番号は03-1234-5678で、同僚や取引先からも活躍が評価されています。また、彼の個人のメールアドレスはkawaguchi.kenta@example.comです。休日にはジョギングや読書を楽しむことが趣味で、特に推理小説がお気に入りとのことです。カワグチさんは地元のボランティア活動にも積極的で、新宿区のクリーンアップ活動に毎月参加しています。その活動中には地元の子どもたちとの交流も多いそうです。',\n",
       "  'after_mask': '<マスキング済みの氏名>さんは、<マスキング済みの生年月日>生まれの男性で、<マスキング済みの住所>に住んでいます。彼は<マスキング済みの会社名>でSEとして働いており、会社の住所は<マスキング済みの住所>で、郵便番号は<マスキング済みの郵便番号>です。<マスキング済みの氏名>さんの職場の電話番号は<マスキング済みの電話番号>で、同僚や取引先からも活躍が評価されています。また、彼の個人のメールアドレスは<マスキング済みのemailアドレス>です。休日にはジョギングや読書を楽しむことが趣味で、特に推理小説がお気に入りとのことです。<マスキング済みの氏名>さんは地元のボランティア活動にも積極的で、新宿区のクリーンアップ活動に毎月参加しています。その活動中には地元の子どもたちとの交流も多いそうです。'},\n",
       " {'before_mask': 'オオハシケンタロウさんは東京支社勤務のマーケティングディレクターで、勤務先の住所は東京都港区赤坂3丁目21-8に位置する株式会社イントリーで働いています。彼の職場の電話番号は03-1234-5678で、メールアドレスはkenta_ohashi@intory.jpです。彼自身の生年月日は1988年7月15日で、家族と共に住む自宅住所は東京都世田谷区代沢2丁目10-5、郵便番号は〒154-0001です。また、休日には家族で近所のカフェなどに出かけるのが趣味のようです。',\n",
       "  'after_mask': '<マスキング済みの氏名>さんは<マスキング済みの住所>勤務のマーケティングディレクターで、勤務先の住所は<マスキング済みの住所>に位置する<マスキング済みの会社名>で働いています。彼の職場の電話番号は<マスキング済みの電話番号>で、メールアドレスは<マスキング済みのemailアドレス>です。彼自身の生年月日は<マスキング済みの生年月日>で、家族と共に住む自宅住所は<マスキング済みの住所>、郵便番号は<マスキング済みの郵便番号>です。また、休日には家族で近所のカフェなどに出かけるのが趣味のようです。'},\n",
       " {'before_mask': '昨日、ヤマダハナコさんは、自らの生まれ故郷である神奈川県横浜市中区桜木町の住所、郵便番号が2310000であることを話していました。彼女が勤務している会社は「大陽電機株式会社」という名前で、大手の企業として広く知られています。職場の電話番号は0451234567で、メールアドレスはhanako.yamada@example.co.jpです。ヤマダハナコさんは1986年12月25日に生まれ、現在も地元に根差した生活を送っています。普段は社内で技術支援を専門とし、アクティブに働いています。最近では、桜木町の夜景について多くの情報発信を行っていることから、地域の観光促進にも力を入れているそうです。彼女は地元のイベントにも積極的に参加しており、地域の住民と活発な交流を図る姿が印象的です。また、彼女が個人的に経営しているブログでは、地域の美食情報や観光スポットなどの情報も盛りだくさんで、そのブログは地元民のみならず観光客にも好評を得ています。特に彼女の写真の腕前が素晴らしく、市内の夜景や季節ごとの花々の写真には感嘆する声が多く寄せられており、まるでプロのカメラマンのようだとの声も聞かれます。',\n",
       "  'after_mask': '昨日、<マスキング済みの氏名>さんは、自らの生まれ故郷である<マスキング済みの住所>の住所、郵便番号が<マスキング済みの郵便番号>であることを話していました。彼女が勤務している会社は<マスキング済みの会社名>という名前で、大手の企業として広く知られています。職場の電話番号は<マスキング済みの電話番号>で、メールアドレスは<マスキング済みのemailアドレス>です。<マスキング済みの氏名>さんは<マスキング済みの生年月日>に生まれ、現在も地元に根差した生活を送っています。普段は社内で技術支援を専門とし、アクティブに働いています。最近では、<マスキング済みの住所>の夜景について多くの情報発信を行っていることから、地域の観光促進にも力を入れているそうです。彼女は地元のイベントにも積極的に参加しており、地域の住民と活発な交流を図る姿が印象的です。また、彼女が個人的に経営しているブログでは、地域の美食情報や観光スポットなどの情報も盛りだくさんで、そのブログは地元民のみならず観光客にも好評を得ています。特に彼女の写真の腕前が素晴らしく、市内の夜景や季節ごとの花々の写真には感嘆する声が多く寄せられており、まるでプロのカメラマンのようだとの声も聞かれます。'},\n",
       " {'before_mask': '先日、スズキイチロウさんからのメールを受け取って驚いたのですが、彼が転職した先の会社名が「株式会社システム開発イノベーション」というなんとも興味深い名前で、その会社の住所が東京都港区南青山5丁目12-13でした。さらに彼の新しい職場の電話番号が03-6789-4567で、郵便番号が107-0062です。メールアドレスは彼から直接教えてもらったもので、suzuki.ichiro@example.co.jpです。一方、生年月日が1975年6月15日であることも話の中で明らかになりました。',\n",
       "  'after_mask': '<マスキング済みの氏名>さんからのメールを受け取って驚いたのですが、彼が転職した先の会社名が<マスキング済みの会社名>というなんとも興味深い名前で、その会社の住所が<マスキング済みの住所>でした。さらに彼の新しい職場の電話番号が<マスキング済みの電話番号>で、郵便番号が<マスキング済みの郵便番号>です。メールアドレスは彼から直接教えてもらったもので、<マスキング済みのemailアドレス>です。一方、生年月日が<マスキング済みの生年月日>であることも話の中で明らかになりました。'},\n",
       " {'before_mask': '昨日、スズキイチロウさんとお話しする機会がありました。彼は大阪府大阪市北区梅田1丁目1番3号のマンションに住んでおり、郵便番号は5300001です。スズキさんは1986年8月15日に生まれた40代で、現在は株式会社関西テクノロジーという会社で働いています。彼の業務の連絡先はemailアドレスがichiro.suzuki@example.co.jpで、電話番号は06-1234-5678です。この会社はシステム開発を主に行っている中堅企業で、住所が大阪府大阪市北区芝田2丁目5番6号に所在し、郵便番号は5300013です。スズキさんは最近、新しいプロジェクトの開発責任者になったと話していました。彼はチームメンバーとのコミュニケーションを非常に重視しており、リーダーとして皆が働きやすい環境を整えることに力を入れているそうです。また、プライベートでは音楽が趣味で、近所のカフェでギター演奏を楽しむこともあるとのことでした。彼の行動と人格が同僚たちからも高く評価されているのがよくわかりました。',\n",
       "  'after_mask': '昨日、<マスキング済みの氏名>さんとお話しする機会がありました。彼は<マスキング済みの住所>のマンションに住んでおり、郵便番号は<マスキング済みの郵便番号>です。<マスキング済みの氏名>さんは<マスキング済みの生年月日>生まれの40代で、現在は<マスキング済みの会社名>という会社で働いています。彼の業務の連絡先はemailアドレスが<マスキング済みのemailアドレス>で、電話番号は<マスキング済みの電話番号>です。この会社はシステム開発を主に行っている中堅企業で、住所が<マスキング済みの住所>に所在し、郵便番号は<マスキング済みの郵便番号>です。<マスキング済みの氏名>さんは最近、新しいプロジェクトの開発責任者になったと話していました。彼はチームメンバーとのコミュニケーションを非常に重視しており、リーダーとして皆が働きやすい環境を整えることに力を入れているそうです。また、プライベートでは音楽が趣味で、近所のカフェでギター演奏を楽しむこともあるとのことでした。彼の行動と人格が同僚たちからも高く評価されているのがよくわかりました。'},\n",
       " {'before_mask': 'スズキイチロウさんは現在東京都新宿区西新宿8丁目3番32号に住んでいます。彼の職業はITエンジニアで、勤務先は株式会社光野ITソリューションズです。スズキさんの同僚のヤマダハナコさんは、営業部のチームリーダーとして活躍し、会社の成績向上に大きく貢献しています。スズキさんは2023年10月のデータ管理プロジェクトで中心的な役割を果たし、顧客からの評価も非常に高いです。そして、スズキさんの生年月日は1988年9月14日で、彼と彼の家族は夏休みには北海道に旅行に行くのが恒例です。スズキさんの連絡先は、メールアドレスがichiro.suzuki@example.comで、携帯電話番号は090-1234-5678です。また、彼の自宅の郵便番号は123-4567です。ヤマダハナコさんの生年月日は1990年4月1日で、自宅の住所は大阪市北区堂島浜2丁目5番18号です。ヤマダさんのメールアドレスはhanako.yamada@example.comで、携帯電話番号は080-9876-5432です。ヤマダさんの自宅の郵便番号は987-6543です。',\n",
       "  'after_mask': '<マスキング済みの氏名>さんは現在<マスキング済みの住所>に住んでいます。彼の職業はITエンジニアで、勤務先は<マスキング済みの会社名>です。<マスキング済みの氏名>さんの同僚の<マスキング済みの氏名>さんは、営業部のチームリーダーとして活躍し、会社の成績向上に大きく貢献しています。<マスキング済みの氏名>さんは2023年10月のデータ管理プロジェクトで中心的な役割を果たし、顧客からの評価も非常に高いです。そして、<マスキング済みの氏名>さんの生年月日は<マスキング済みの生年月日>で、彼と彼の家族は夏休みには北海道に旅行に行くのが恒例です。<マスキング済みの氏名>さんの連絡先は、メールアドレスが<マスキング済みのemailアドレス>で、携帯電話番号は<マスキング済みの電話番号>です。また、彼の自宅の郵便番号は<マスキング済みの郵便番号>です。<マスキング済みの氏名>さんの生年月日は<マスキング済みの生年月日>で、自宅の住所は<マスキング済みの住所>です。<マスキング済みの氏名>さんのメールアドレスは<マスキング済みのemailアドレス>で、携帯電話番号は<マスキング済みの電話番号>です。<マスキング済みの氏名>さんの自宅の郵便番号は<マスキング済みの郵便番号>です。'},\n",
       " {'before_mask': 'スズキイチロウさんは、株式会社青空出版で編集者として働いています。彼の会社の住所は東京都港区芝公園4丁目2-8で、郵便番号は1050018です。また、彼の仕事用のemailアドレスはichiro.suzuki@aozorapublishing.jpで、電話番号は03-1234-5678です。スズキさんの生年月日は1985年5月15日で、趣味のハイキングに関する情報をメールで受け取ることもあります。彼は東京都練馬区の自宅で休日を過ごし、そこでは〒1760023の住所が登録されています。最近、彼は新しいパソコン購入に関する相談を山田花子さんにしたようです。山田花子さんはマーケティング部の主任であり、彼女のemailアドレスはhanako.yamada@aozorapublishing.jpです。彼女の職場の電話番号は03-8765-4321で、2000年4月2日生まれの山田さんは、親しまれる同僚として評判です。',\n",
       "  'after_mask': '<マスキング済みの氏名>さんは、<マスキング済みの会社名>で編集者として働いています。彼の会社の住所は<マスキング済みの住所>で、郵便番号は<マスキング済みの郵便番号>です。また、彼の仕事用のemailアドレスは<マスキング済みのemailアドレス>で、電話番号は<マスキング済みの電話番号>です。<マスキング済みの氏名>さんの生年月日は<マスキング済みの生年月日>で、趣味のハイキングに関する情報をメールで受け取ることもあります。彼は<マスキング済みの住所>の自宅で休日を過ごし、そこでは<マスキング済みの郵便番号>の住所が登録されています。最近、彼は新しいパソコン購入に関する相談を<マスキング済みの氏名>さんにしたようです。<マスキング済みの氏名>さんはマーケティング部の主任であり、彼女のemailアドレスは<マスキング済みのemailアドレス>です。彼女の職場の電話番号は<マスキング済みの電話番号>で、<マスキング済みの生年月日>生まれの彼女は、親しまれる同僚として評判です。'},\n",
       " {'before_mask': 'モリヤマタカシさんは1978年3月5日生まれで、現在東京都渋谷区代々木で暮らしています。彼は株式会社グリーンテックに勤務しており、会社の所在地は東京都港区赤坂3丁目5番12号 スカイビルです。郵便番号は1060032で、会社の電話番号は03-1234-5678です。また、彼の個人のメールアドレスはt.moriyama@example.comで、頻繁に事務連絡やオンラインミーティングのために使用しています。最近引っ越しを検討しているとのことで、新しい住居として広めのスペースを確保できる物件を探しています。渋谷周辺で探していると聞き、私も知り合いの不動産業者に相談してみたところ、彼にぴったりの物件が数件あるようです。モリヤマさんはとても活動的な性格で、趣味にマラソンや読書を楽しんでいることでも知られています。',\n",
       "  'after_mask': '<マスキング済みの氏名>さんは<マスキング済みの生年月日>生まれで、現在<マスキング済みの住所>で暮らしています。彼は<マスキング済みの会社名>に勤務しており、会社の所在地は<マスキング済みの住所>です。郵便番号は<マスキング済みの郵便番号>で、会社の電話番号は<マスキング済みの電話番号>です。また、彼の個人のメールアドレスは<マスキング済みのemailアドレス>で、頻繁に事務連絡やオンラインミーティングのために使用しています。最近引っ越しを検討しているとのことで、新しい住居として広めのスペースを確保できる物件を探しています。渋谷周辺で探していると聞き、私も知り合いの不動産業者に相談してみたところ、彼にぴったりの物件が数件あるようです。<マスキング済みの氏名>さんはとても活動的な性格で、趣味にマラソンや読書を楽しんでいることでも知られています。'},\n",
       " {'before_mask': '先日、スズキタカシさんから担当しているプロジェクトについて詳細を伺いました。彼は大阪の会社、関西ソフトウェア株式会社に勤めており、会社の所在地は大阪府大阪市中央区道頓堀1丁目4番2号です。郵便番号は〒5420084で、会社の代表電話番号は06-1234-5678です。さらに、彼の個人のメールアドレスはtakashi.suzuki@example.comで、連絡を取る際にはこのメールアドレスが便利だと言っていました。スズキさんは1978年11月15日生まれで、現在45歳になります。彼の最新の提案書は非常に斬新で、プロジェクトに新しい局面をもたらしました。',\n",
       "  'after_mask': '先日、<マスキング済みの氏名>さんから担当しているプロジェクトについて詳細を伺いました。彼は大阪の会社、<マスキング済みの会社名>に勤めており、会社の所在地は<マスキング済みの住所>です。郵便番号は<マスキング済みの郵便番号>で、会社の代表電話番号は<マスキング済みの電話番号>です。さらに、彼の個人のメールアドレスは<マスキング済みのemailアドレス>で、連絡を取り際にはこのメールアドレスが便利だと言っていました。<マスキング済みの氏名>さんは<マスキング済みの生年月日>生まれで、現在45歳になります。彼の最新の提案書は非常に斬新で、プロジェクトに新しい局面をもたらしました。'},\n",
       " {'before_mask': 'カワハラユウタさんは株式会社ミライネットで働いており、会社の所在地は東京都港区芝公園3丁目4番13号です。カワハラさんは1985年5月21日に生まれ、現在も東京都内に住んでいます。その住所は渋谷区恵比寿南1丁目12番7号で、郵便番号は〒1500022です。メールアドレスはy.kawahara@example.jpで、携帯電話番号は09012345678です。また、彼は仕事が忙しい中でも週末によく趣味のカメラをもって近くの公園で風景写真を撮るのを楽しみにしています。',\n",
       "  'after_mask': '<マスキング済みの氏名>さんは<マスキング済みの会社名>で働いており、会社の所在地は<マスキング済みの住所>です。<マスキング済みの氏名>さんは<マスキング済みの生年月日>に生まれ、現在も東京都内に住んでいます。その住所は<マスキング済みの住所>で、郵便番号は<マスキング済みの郵便番号>です。メールアドレスは<マスキング済みのemailアドレス>で、携帯電話番号は<マスキング済みの電話番号>です。また、彼は仕事が忙しい中でも週末によく趣味のカメラをもって近くの公園で風景写真を撮るのを楽しみにしています。'},\n",
       " {'before_mask': '先日、スギヤマケンイチさんから相談の電話がありました。彼は株式会社日本技術開発に勤めており、東京新宿区西新宿1丁目6-1の住友ビルにある会社のオフィスで働いています。彼の職場の電話番号は03-1234-5678で、彼の生年月日は1985年5月23日です。スギヤマさんから相談内容をメールで送るようお願いしたところ、メールアドレスはkenichi.sugiyama@example.jpですと教えてくれました。その後、彼の自宅の住所も必要になり、東京都八王子市泉町123-45という情報もいただきました。郵便番号は192-0012とのことでした。スギヤマさんの協力のおかげで、プロジェクトが順調に進展しそうです。',\n",
       "  'after_mask': '<マスキング済みの氏名>さんから相談の電話がありました。彼は<マスキング済みの会社名>に勤めており、<マスキング済みの住所>にある会社のオフィスで働いています。彼の職場の電話番号は<マスキング済みの電話番号>で、彼の生年月日は<マスキング済みの生年月日>です。<マスキング済みの氏名>さんから相談内容をメールで送るようお願いしたところ、メールアドレスは<マスキング済みのemailアドレス>ですと教えてくれました。その後、彼の自宅の住所も必要になり、<マスキング済みの住所>という情報もいただきました。郵便番号は<マスキング済みの郵便番号>とのことでした。<マスキング済みの氏名>さんの協力のおかげで、プロジェクトが順調に進展しそうです。'},\n",
       " {'before_mask': 'アオキショウタさんは、東京都港区南青山2丁目5番9号のマンションに住んでいます。彼は株式会社クリエイティブジャパンでシステムエンジニアとして働いています。職場の住所は東京都渋谷区桜丘町30-5で、会社の電話番号は03-1234-5678です。アオキさんの個人的な電子メールアドレスはsho_aoki@example.comで、連絡方法として頻繁に使用されています。また、彼は1985年12月25日生まれで、現在37歳です。最近、地元のコミュニティイベントでリーダーとして活動を始め、地元住民にとても信頼されています。',\n",
       "  'after_mask': '<マスキング済みの氏名>さんは、<マスキング済みの住所>のマンションに住んでいます。彼は<マスキング済みの会社名>でシステムエンジニアとして働いています。職場の住所は<マスキング済みの住所>で、会社の電話番号は<マスキング済みの電話番号>です。<マスキング済みの氏名>さんの個人的な電子メールアドレスは<マスキング済みのemailアドレス>で、連絡方法として頻繁に使用されています。また、彼は<マスキング済みの生年月日>生まれで、現在37歳です。最近、地元のコミュニティイベントでリーダーとして活動を始め、地元住民にとても信頼されています。'},\n",
       " {'before_mask': '昨日、ワタナベユウキさんと久しぶりに食事をしました。彼の住んでいる住所は大阪府大阪市淀川区西中島5丁目20番10号で、こちらに引っ越してからもうすぐ5年になるそうです。彼は以前、都内のIT系企業「株式会社エフテック」で働いていましたが、現在は「株式会社リアクトテック」に転職して大阪に戻ってきたとのことです。以下は彼の生年月日で1985年5月16日生まれで、最近40歳になったばかりとのことで健康には気を使っているそうです。さらに、もし連絡が必要であれば彼の携帯電話番号が090-1234-5678で、彼のemailアドレスはwatanabe.yuki@example.comです。彼によると、新しい勤務先の電話番号は06-8888-9999で、会社の住所が大阪府大阪市北区梅田1丁目2番2号だそうで、梅田の中心地に近いため通勤が便利だと言っていました。',\n",
       "  'after_mask': '昨日、<マスキング済みの氏名>さんと久しぶりに食事をしました。彼の住んでいる住所は<マスキング済みの住所>で、こちらに引っ越してからもうすぐ5年になるそうです。彼は以前、都内のIT系企業<マスキング済みの会社名>で働いていましたが、現在は<マスキング済みの会社名>に転職して大阪に戻ってきたとのことです。以下は彼の生年月日で<マスキング済みの生年月日>で、最近40歳になったばかりとのことで健康には気を使っているそうです。さらに、もし連絡が必要であれば彼の携帯電話番号が<マスキング済みの電話番号>で、彼のemailアドレスは<マスキング済みのemailアドレス>です。彼によると、新しい勤務先の電話番号は<マスキング済みの電話番号>で、会社の住所が<マスキング済みの住所>だそうで、梅田の中心地に近いため通勤が便利だと言っていました。'},\n",
       " {'before_mask': 'タカハシケンタさんは東京都渋谷区桜丘町9番5号にある株式会社フューチャーソリューションズで働いています。 タカハシケンタさんの生年月日は1988年12月25日で、emailアドレスはkent.takahashi@example.jpです。彼の日常には仕事に備えての勉強が含まれています。また、東京都渋谷区にある同会社のオフィスには、電話番号03-6455-7943があります。同僚と頻繁に昼食を取ったり、時々仕事帰りにカフェで過ごすこともあるそうです。それに、タカハシさんの郵便番号は150-0031で、会社への通勤には地下鉄を利用しています。週末になると地元のフィットネスジムに通い、リフレッシュする時間を過ごされています。さらに、タカハシさんは会社でITソリューションの開発に関わっており、そのプロジェクトではいくつも新しいツール導入を担当していることが分かっています。若い頃から技術に興味を持ち、大学在籍中にプログラミングの勉強を始めたという経緯があります。彼が所属するプロジェクトの進行は非常に順調で、クライアントからも高評価を得ています。',\n",
       "  'after_mask': '<マスキング済みの氏名>さんは<マスキング済みの住所>にある<マスキング済みの会社名>で働いています。 <マスキング済みの氏名>さんの生年月日は<マスキング済みの生年月日>で、emailアドレスは<マスキング済みのemailアドレス>です。彼の日常には仕事に備えての勉強が含まれています。また、<マスキング済みの住所>にある同会社のオフィスには、電話番号<マスキング済みの電話番号>があります。同僚と頻繁に昼食を取ったり、時々仕事帰りにカフェで過ごすこともあるそうです。それに、<マスキング済みの氏名>さんの郵便番号は<マスキング済みの郵便番号>で、会社への通勤には地下鉄を利用しています。週末になると地元のフィットネスジムに通い、リフレッシュする時間を過ごされています。さらに、<マスキング済みの氏名>さんは会社でITソリューションの開発に関わっており、そのプロジェクトではいくつも新しいツール導入を担当していることが分かっています。若い頃から技術に興味を持ち、大学在籍中にプログラミングの勉強を始めたという経緯があります。彼が所属するプロジェクトの進行は非常に順調で、クライアントからも高評価を得ています。'},\n",
       " {'before_mask': 'カワイレンタルシステムズ株式会社で働くモリタタカシさんは、1990年4月15日に生まれ、現在東京都杉並区桃井3丁目27番32号に住んでいます。職場の所在地は東京都渋谷区代々木1丁目12番4号、郵便番号は〒1510053で、電話番号は03-1234-5678です。モリタさんの職場メールアドレスはmorita.takashi@kawai-rental.co.jpとなっています。自宅には固定電話があり、その番号は03-8765-4321です。モリタさんはシステムエンジニアとして活躍しており、休日には好きなひとり旅をして各地の温泉を訪れるのが趣味だそうです。',\n",
       "  'after_mask': '<マスキング済みの会社名>で働く<マスキング済みの氏名>さんは、<マスキング済みの生年月日>に生まれ、現在<マスキング済みの住所>に住んでいます。職場の所在地は<マスキング済みの住所>、郵便番号は<マスキング済みの郵便番号>で、電話番号は<マスキング済みの電話番号>です。<マスキング済みの氏名>さんの職場メールアドレスは<マスキング済みのemailアドレス>となっています。自宅には固定電話があり、その番号は<マスキング済みの電話番号>です。<マスキング済みの氏名>さんはシステムエンジニアとして活躍しており、休日には好きなひとり旅をして各地の温泉を訪れるのが趣味だそうです。'},\n",
       " {'before_mask': 'ヤマシタミホさんは東京都渋谷区上原2丁目4-8に住んでいます。彼女の勤務先は「株式会社未来創造」という名前のベンチャー企業です。この会社の本社は東京都千代田区神田錦町3丁目14番地にあり、社員の数はまだ20名ほどの小規模な会社ですが、革新的なAI技術の研究開発で注目されています。ヤマシタミホさんはメールアドレスmiho.yamashita@example.jpを使用しており、連絡を取りたい場合は、090-1234-5678まで電話してください。また、彼女の誕生日は1992年7月18日で、趣味は読書とカフェ巡りです。最近では特に東京周辺の隠れた名店を見つけることに熱中しているそうです。彼女は先日、同僚と一緒に青山にある「カフェ・フルール」に訪れ、季節限定のデザートを楽しんできたと話してくれました。このカフェは、有機栽培のコーヒーとオーダーメイドのスイーツで話題で、ヤマシタミホさんも大いに満足して帰宅したそうです。帰宅後、彼女は自宅でゆっくりと過ごし、自身の個人ブログにその日の体験をアップしました。',\n",
       "  'after_mask': '<マスキング済みの氏名>さんは<マスキング済みの住所>に住んでいます。彼女の勤務先は<マスキング済みの会社名>という名前のベンチャー企業です。この会社の本社は<マスキング済みの住所>にあり、社員の数はまだ20名ほどの小規模な会社ですが、革新的なAI技術の研究開発で注目されています。<マスキング済みの氏名>さんはメールアドレス<マスキング済みのemailアドレス>を使用しており、連絡を取りたい場合は、<マスキング済みの電話番号>まで電話してください。また、彼女の誕生日は<マスキング済みの生年月日>で、趣味は読書とカフェ巡りです。最近では特に東京周辺の隠れた名店を見つけることに熱中しているそうです。彼女は先日、同僚と一緒に青山にある「カフェ・フルール」に訪れ、季節限定のデザートを楽しんできたと話してくれました。このカフェは、有機栽培のコーヒーとオーダーメイドのスイーツで話題で、<マスキング済みの氏名>さんも大いに満足して帰宅したそうです。帰宅後、彼女は自宅でゆっくりと過ごし、自身の個人ブログにその日の体験をアップしました。'},\n",
       " {'before_mask': 'タカハシユウコさんは日本の出版社「リバーパブリッシング株式会社」に勤務しています。この会社の本社は大阪府大阪市北区梅田3丁目1番1号、郵便番号は〒5300001です。彼女の職場の電話番号は06-1234-5678で、メールアドレスはtakahashi.yuko@example.co.jpです。また、タカハシユウコさんの知人であるミウラアキラさんは東京都世田谷区深沢4丁目5番6号に住んでいます。ミウラさんの生年月日は1990年5月21日で、彼の電話番号は090-8765-4321です。',\n",
       "  'after_mask': '<マスキング済みの氏名>さんは日本の出版社<マスキング済みの会社名>に勤務しています。この会社の本社は<マスキング済みの住所>、郵便番号は<マスキング済みの郵便番号>です。彼女の職場の電話番号は<マスキング済みの電話番号>で、メールアドレスは<マスキング済みのemailアドレス>です。また、<マスキング済みの氏名>さんの知人である<マスキング済みの氏名>さんは<マスキング済みの住所>に住んでいます。<マスキング済みの氏名>さんの生年月日は<マスキング済みの生年月日>で、彼の電話番号は<マスキング済みの電話番号>です。'},\n",
       " {'before_mask': 'リクルートホールディングス所属のヤマグチケイスケさんは1985年5月12日に東京都新宿区で生まれ育ちました。現在は株式会社グリーンフィールドの代表取締役として活躍しており、日々忙しい業務をこなしています。彼の会社の所在地は東京都港区六本木一丁目10番27号です。同僚や取引先との連絡は、主にkeisuke.yamaguchi@example.co.jpというメールアドレスを通じて行っています。最近、仕事中に彼の会社の電話番号080-1234-5678にかかってきた、海外からの取引依頼について話題になりました。また、業務委託でやり取りしているフランスの企業とは、郵便物のやり取りが頻繁に必要となり、彼の事務所の郵便番号106-0032を使用しています。',\n",
       "  'after_mask': '<マスキング済みの会社名>所属の<マスキング済みの氏名>さんは<マスキング済みの生年月日>に<マスキング済みの住所>で生まれ育ちました。現在は<マスキング済みの会社名>の代表取締役として活躍しており、日々忙しい業務をこなしています。彼の会社の所在地は<マスキング済みの住所>です。同僚や取引先との連絡は、主に<マスキング済みのemailアドレス>というメールアドレスを通じて行っています。最近、仕事中に彼の会社の電話番号<マスキング済みの電話番号>にかかってきた、海外からの取引依頼について話題になりました。また、業務委託でやり取りしているフランスの企業とは、郵便物のやり取りが頻繁に必要となり、彼の事務所の郵便番号<マスキング済みの郵便番号>を使用しています。'},\n",
       " {'before_mask': '11月の初め、アサカヒロミさんは新しい職場での仕事が本格的に始まりました。彼女の勤める会社であるオオツカテクノロジー株式会社は、東京都港区南青山6丁目12番9号に本社を構える技術系企業です。彼女の業務についての詳しい話をするために、上司であるサトウケンタさんから直接連絡を受けることもあり、その際には主に会社支給の電話番号、03-1234-5678を用いることが多いそうです。このご時世では、メールでのやり取りも頻繁で、彼女の個人用のメールアドレスであるhiro.asaka@example.jpが主な連絡手段となっています。同僚たちとのコミュニケーションのほかにも、しばしば彼女が幼少期を過ごした地元である大阪府大阪市淀川区東三国2丁目4番5号の住所への手紙をやり取りすることがあるそうです。アサカヒロミさんは1990年4月10日、関西地方で生まれており、その背景が彼女の物事への柔軟な対応や、持ち前の明るい性格を育てた源のひとつではないでしょうか。',\n",
       "  'after_mask': '11月の初め、<マスキング済みの氏名>さんは新しい職場での仕事が本格的に始まりました。彼女の勤める会社である<マスキング済みの会社名>は、<マスキング済みの住所>に本社を構える技術系企業です。彼女の業務についての詳しい話をするために、上司である<マスキング済みの氏名>さんから直接連絡を受けることもあり、その際には主に会社支給の電話番号、<マスキング済みの電話番号>を用いることが多いそうです。このご時世では、メールでのやり取りも頻繁で、彼女の個人用のメールアドレスである<マスキング済みのemailアドレス>が主な連絡手段となっています。同僚たちとのコミュニケーションのほかにも、しばしば彼女が幼少期を過ごした地元である<マスキング済みの住所>の住所への手紙をやり取りすることがあるそうです。<マスキング済みの氏名>さんは<マスキング済みの生年月日>、関西地方で生まれており、その背景が彼女の物事への柔軟な対応や、持ち前の明るい性格を育てた源のひとつではないでしょうか。'},\n",
       " {'before_mask': 'フジモトタケルさんは東京都港区芝公園四丁目、郵便番号は〒105-0011の、自宅にお住まいです。彼は40歳になったばかりで、その誕生日は1983年4月15日です。フジモトさんは、株式会社東京テクノロジーでシステムエンジニアとして働いており、会社の住所は東京都千代田区丸の内一丁目1番1号、郵便番号は〒100-0005です。彼の会社の名刺には電話番号として03-1234-5678が記載されており、メールアドレスはtakeru.fujimoto@example.co.jpになっています。フジモトタケルさんは週末は趣味の写真撮影に夢中で、東京都内の様々な景色を撮り歩きます。また、フジモトさんの一番好きな写真スポットは目黒川の桜並木で、満開になる春には毎年訪れています。「写真を通じて人生を豊かにすることができる」と語るフジモトさんは、SNSでもその写真を公開しており、フォロワーからも絶賛されるほどの腕前を持っています。',\n",
       "  'after_mask': '<マスキング済みの氏名>さんは<マスキング済みの住所>、郵便番号は<マスキング済みの郵便番号>の、自宅にお住まいです。彼は40歳になったばかりで、その誕生日は<マスキング済みの生年月日>です。<マスキング済みの氏名>さんは、<マスキング済みの会社名>でシステムエンジニアとして働いており、会社の住所は<マスキング済みの住所>、郵便番号は<マスキング済みの郵便番号>です。彼の会社の名刺には電話番号として<マスキング済みの電話番号>が記載されており、メールアドレスは<マスキング済みのemailアドレス>になっています。<マスキング済みの氏名>さんは週末は趣味の写真撮影に夢中で、<マスキング済みの住所>内の様々な景色を撮り歩きます。また、<マスキング済みの氏名>さんの一番好きな写真スポットは目黒川の桜並木で、満開になる春には毎年訪れています。「写真を通じて人生を豊かにすることができる」と語る<マスキング済みの氏名>さんは、SNSでもその写真を公開しており、フォロワーからも絶賛されるほどの腕前を持っています。'},\n",
       " {'before_mask': 'カワナカアヤコさんは、株式会社ネイチャーエコロジーの研究員として勤務しています。彼女の職場は神奈川県横浜市西区北幸1丁目2番3号、郵便番号は2200004で、電話番号は0451234567です。また、カワナカアヤコさんの生年月日は1984年5月17日で、個人的な連絡用に使用しているメールアドレスはayakokawanaka84@gmail.comです。彼女は研究業務ではチームを率いるリーダーとして活躍しながら、休日は三浦半島で自然観察をしたり、地元のサークル活動に積極的に参加しています。昨年、彼女が中心となって進めたプロジェクトでは、環境問題に関する新しいソリューションが提示され、多くの企業や政府機関からの注目を集めました。プロジェクトのプレゼンテーションでは、彼女のスピーチが話題となり、いくつかの専門誌にも特集記事が掲載されました。さらに、カワナカさんは短歌を趣味としており、地元のイベントで創作作品を披露することもあります。彼女の詩は自然をテーマとし、その中に温かみと独特の視点が込められ、多くの人に感動を与えています。',\n",
       "  'after_mask': '<マスキング済みの氏名>さんは、<マスキング済みの会社名>の研究員として勤務しています。彼女の職場は<マスキング済みの住所>、郵便番号は<マスキング済みの郵便番号>で、電話番号は<マスキング済みの電話番号>です。また、<マスキング済みの氏名>さんの生年月日は<マスキング済みの生年月日>で、個人的な連絡用に使用しているメールアドレスは<マスキング済みのemailアドレス>です。彼女は研究業務ではチームを率いるリーダーとして活躍しながら、休日は三浦半島で自然観察をしたり、地元のサークル活動に積極的に参加しています。昨年、彼女が中心となって進めたプロジェクトでは、環境問題に関する新しいソリューションが提示され、多くの企業や政府機関からの注目を集めました。プロジェクトのプレゼンテーションでは、彼女のスピーチが話題となり、いくつかの専門誌にも特集記事が掲載されました。さらに、<マスキング済みの氏名>さんは短歌を趣味としており、地元のイベントで創作作品を披露することもあります。彼女の詩は自然をテーマとし、その中に温かみと独特の視点が込められ、多くの人に感動を与えています。'},\n",
       " {'before_mask': '佐藤マナミさんは、東京都新宿区四谷3丁目1番2号にある四谷進学ゼミ株式会社に勤務しています。彼女は1990年5月17日生まれで、現在33歳です。いつも昼休みには近くのカフェにコーヒーを買いに出かけるのが日課で、仕事の後は友人とよく新宿付近で食事を楽しんでいます。会社の電話番号は03-1234-5678で、彼女のメールアドレスはmanami.sato@example.comです。彼女が住んでいる住所は東京都渋谷区松濤1丁目12番4号で、郵便番号は〒1501234です。休日には近くの代々木公園でジョギングや読書を楽しんでおり、特に春の桜の季節には公園内でのんびり過ごすのが好きだと言っています。彼女の趣味は旅行で、これまでにヨーロッパや東南アジアなど様々な場所を訪れてきました。',\n",
       "  'after_mask': '<マスキング済みの氏名>さんは、<マスキング済みの住所>にある<マスキング済みの会社名>に勤務しています。彼女は<マスキング済みの生年月日>生まれで、現在33歳です。いつも昼休みには近くのカフェにコーヒーを買いに出かけるのが日課で、仕事の後は友人とよく新宿付近で食事を楽しんでいます。会社の電話番号は<マスキング済みの電話番号>で、彼女のメールアドレスは<マスキング済みのemailアドレス>です。彼女が住んでいる住所は<マスキング済みの住所>で、郵便番号は<マスキング済みの郵便番号>です。休日には近くの代々木公園でジョギングや読書を楽しんでおり、特に春の桜の季節には公園内でのんびり過ごすのが好きだと言っています。彼女の趣味は旅行で、これまでにヨーロッパや東南アジアなど様々な場所を訪れてきました。'}]"
      ]
     },
     "execution_count": 148,
     "metadata": {},
     "output_type": "execute_result"
    }
   ],
   "source": [
    "before_masking_after_masking_list"
   ]
  },
  {
   "cell_type": "code",
   "execution_count": 149,
   "metadata": {},
   "outputs": [],
   "source": [
    "# 収集したデータからデータフレームを作成\n",
    "df = pd.DataFrame(before_masking_after_masking_list)\n",
    "\n",
    "# CSVに出力\n",
    "df.to_csv('katakana_full_name.csv', index=False)"
   ]
  }
 ],
 "metadata": {
  "kernelspec": {
   "display_name": "Python 3",
   "language": "python",
   "name": "python3"
  },
  "language_info": {
   "codemirror_mode": {
    "name": "ipython",
    "version": 3
   },
   "file_extension": ".py",
   "mimetype": "text/x-python",
   "name": "python",
   "nbconvert_exporter": "python",
   "pygments_lexer": "ipython3",
   "version": "3.11.8"
  }
 },
 "nbformat": 4,
 "nbformat_minor": 2
}
