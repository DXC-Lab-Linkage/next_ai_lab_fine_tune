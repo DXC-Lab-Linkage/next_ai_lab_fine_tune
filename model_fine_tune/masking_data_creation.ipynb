{
 "cells": [
  {
   "cell_type": "code",
   "execution_count": 2,
   "metadata": {},
   "outputs": [
    {
     "name": "stdout",
     "output_type": "stream",
     "text": [
      "Looking in links: /dbfs/databricks/libraries/\n",
      "Requirement already satisfied: langchain in /Users/takahashiryusei/.pyenv/versions/playground_py_3_12_7/lib/python3.12/site-packages (0.3.9)\n",
      "Requirement already satisfied: PyYAML>=5.3 in /Users/takahashiryusei/.pyenv/versions/playground_py_3_12_7/lib/python3.12/site-packages (from langchain) (6.0.2)\n",
      "Requirement already satisfied: SQLAlchemy<3,>=1.4 in /Users/takahashiryusei/.pyenv/versions/playground_py_3_12_7/lib/python3.12/site-packages (from langchain) (2.0.36)\n",
      "Requirement already satisfied: aiohttp<4.0.0,>=3.8.3 in /Users/takahashiryusei/.pyenv/versions/playground_py_3_12_7/lib/python3.12/site-packages (from langchain) (3.11.8)\n",
      "Requirement already satisfied: langchain-core<0.4.0,>=0.3.21 in /Users/takahashiryusei/.pyenv/versions/playground_py_3_12_7/lib/python3.12/site-packages (from langchain) (0.3.21)\n",
      "Requirement already satisfied: langchain-text-splitters<0.4.0,>=0.3.0 in /Users/takahashiryusei/.pyenv/versions/playground_py_3_12_7/lib/python3.12/site-packages (from langchain) (0.3.2)\n",
      "Requirement already satisfied: langsmith<0.2.0,>=0.1.17 in /Users/takahashiryusei/.pyenv/versions/playground_py_3_12_7/lib/python3.12/site-packages (from langchain) (0.1.147)\n",
      "Requirement already satisfied: numpy<3,>=1.26.2 in /Users/takahashiryusei/.pyenv/versions/playground_py_3_12_7/lib/python3.12/site-packages (from langchain) (2.1.3)\n",
      "Requirement already satisfied: pydantic<3.0.0,>=2.7.4 in /Users/takahashiryusei/.pyenv/versions/playground_py_3_12_7/lib/python3.12/site-packages (from langchain) (2.10.2)\n",
      "Requirement already satisfied: requests<3,>=2 in /Users/takahashiryusei/.pyenv/versions/playground_py_3_12_7/lib/python3.12/site-packages (from langchain) (2.32.3)\n",
      "Requirement already satisfied: tenacity!=8.4.0,<10,>=8.1.0 in /Users/takahashiryusei/.pyenv/versions/playground_py_3_12_7/lib/python3.12/site-packages (from langchain) (9.0.0)\n",
      "Requirement already satisfied: aiohappyeyeballs>=2.3.0 in /Users/takahashiryusei/.pyenv/versions/playground_py_3_12_7/lib/python3.12/site-packages (from aiohttp<4.0.0,>=3.8.3->langchain) (2.4.3)\n",
      "Requirement already satisfied: aiosignal>=1.1.2 in /Users/takahashiryusei/.pyenv/versions/playground_py_3_12_7/lib/python3.12/site-packages (from aiohttp<4.0.0,>=3.8.3->langchain) (1.3.1)\n",
      "Requirement already satisfied: attrs>=17.3.0 in /Users/takahashiryusei/.pyenv/versions/playground_py_3_12_7/lib/python3.12/site-packages (from aiohttp<4.0.0,>=3.8.3->langchain) (24.2.0)\n",
      "Requirement already satisfied: frozenlist>=1.1.1 in /Users/takahashiryusei/.pyenv/versions/playground_py_3_12_7/lib/python3.12/site-packages (from aiohttp<4.0.0,>=3.8.3->langchain) (1.5.0)\n",
      "Requirement already satisfied: multidict<7.0,>=4.5 in /Users/takahashiryusei/.pyenv/versions/playground_py_3_12_7/lib/python3.12/site-packages (from aiohttp<4.0.0,>=3.8.3->langchain) (6.1.0)\n",
      "Requirement already satisfied: propcache>=0.2.0 in /Users/takahashiryusei/.pyenv/versions/playground_py_3_12_7/lib/python3.12/site-packages (from aiohttp<4.0.0,>=3.8.3->langchain) (0.2.0)\n",
      "Requirement already satisfied: yarl<2.0,>=1.17.0 in /Users/takahashiryusei/.pyenv/versions/playground_py_3_12_7/lib/python3.12/site-packages (from aiohttp<4.0.0,>=3.8.3->langchain) (1.18.0)\n",
      "Requirement already satisfied: jsonpatch<2.0,>=1.33 in /Users/takahashiryusei/.pyenv/versions/playground_py_3_12_7/lib/python3.12/site-packages (from langchain-core<0.4.0,>=0.3.21->langchain) (1.33)\n",
      "Requirement already satisfied: packaging<25,>=23.2 in /Users/takahashiryusei/.pyenv/versions/playground_py_3_12_7/lib/python3.12/site-packages (from langchain-core<0.4.0,>=0.3.21->langchain) (24.2)\n",
      "Requirement already satisfied: typing-extensions>=4.7 in /Users/takahashiryusei/.pyenv/versions/playground_py_3_12_7/lib/python3.12/site-packages (from langchain-core<0.4.0,>=0.3.21->langchain) (4.12.2)\n",
      "Requirement already satisfied: httpx<1,>=0.23.0 in /Users/takahashiryusei/.pyenv/versions/playground_py_3_12_7/lib/python3.12/site-packages (from langsmith<0.2.0,>=0.1.17->langchain) (0.27.2)\n",
      "Requirement already satisfied: orjson<4.0.0,>=3.9.14 in /Users/takahashiryusei/.pyenv/versions/playground_py_3_12_7/lib/python3.12/site-packages (from langsmith<0.2.0,>=0.1.17->langchain) (3.10.12)\n",
      "Requirement already satisfied: requests-toolbelt<2.0.0,>=1.0.0 in /Users/takahashiryusei/.pyenv/versions/playground_py_3_12_7/lib/python3.12/site-packages (from langsmith<0.2.0,>=0.1.17->langchain) (1.0.0)\n",
      "Requirement already satisfied: annotated-types>=0.6.0 in /Users/takahashiryusei/.pyenv/versions/playground_py_3_12_7/lib/python3.12/site-packages (from pydantic<3.0.0,>=2.7.4->langchain) (0.7.0)\n",
      "Requirement already satisfied: pydantic-core==2.27.1 in /Users/takahashiryusei/.pyenv/versions/playground_py_3_12_7/lib/python3.12/site-packages (from pydantic<3.0.0,>=2.7.4->langchain) (2.27.1)\n",
      "Requirement already satisfied: charset-normalizer<4,>=2 in /Users/takahashiryusei/.pyenv/versions/playground_py_3_12_7/lib/python3.12/site-packages (from requests<3,>=2->langchain) (3.4.0)\n",
      "Requirement already satisfied: idna<4,>=2.5 in /Users/takahashiryusei/.pyenv/versions/playground_py_3_12_7/lib/python3.12/site-packages (from requests<3,>=2->langchain) (3.10)\n",
      "Requirement already satisfied: urllib3<3,>=1.21.1 in /Users/takahashiryusei/.pyenv/versions/playground_py_3_12_7/lib/python3.12/site-packages (from requests<3,>=2->langchain) (2.2.3)\n",
      "Requirement already satisfied: certifi>=2017.4.17 in /Users/takahashiryusei/.pyenv/versions/playground_py_3_12_7/lib/python3.12/site-packages (from requests<3,>=2->langchain) (2024.8.30)\n",
      "Requirement already satisfied: anyio in /Users/takahashiryusei/.pyenv/versions/playground_py_3_12_7/lib/python3.12/site-packages (from httpx<1,>=0.23.0->langsmith<0.2.0,>=0.1.17->langchain) (4.6.2.post1)\n",
      "Requirement already satisfied: httpcore==1.* in /Users/takahashiryusei/.pyenv/versions/playground_py_3_12_7/lib/python3.12/site-packages (from httpx<1,>=0.23.0->langsmith<0.2.0,>=0.1.17->langchain) (1.0.7)\n",
      "Requirement already satisfied: sniffio in /Users/takahashiryusei/.pyenv/versions/playground_py_3_12_7/lib/python3.12/site-packages (from httpx<1,>=0.23.0->langsmith<0.2.0,>=0.1.17->langchain) (1.3.1)\n",
      "Requirement already satisfied: h11<0.15,>=0.13 in /Users/takahashiryusei/.pyenv/versions/playground_py_3_12_7/lib/python3.12/site-packages (from httpcore==1.*->httpx<1,>=0.23.0->langsmith<0.2.0,>=0.1.17->langchain) (0.14.0)\n",
      "Requirement already satisfied: jsonpointer>=1.9 in /Users/takahashiryusei/.pyenv/versions/playground_py_3_12_7/lib/python3.12/site-packages (from jsonpatch<2.0,>=1.33->langchain-core<0.4.0,>=0.3.21->langchain) (3.0.0)\n",
      "Looking in links: /dbfs/databricks/libraries/\n",
      "Requirement already satisfied: langchain-openai in /Users/takahashiryusei/.pyenv/versions/playground_py_3_12_7/lib/python3.12/site-packages (0.2.10)\n",
      "Requirement already satisfied: langchain-core<0.4.0,>=0.3.21 in /Users/takahashiryusei/.pyenv/versions/playground_py_3_12_7/lib/python3.12/site-packages (from langchain-openai) (0.3.21)\n",
      "Requirement already satisfied: openai<2.0.0,>=1.54.0 in /Users/takahashiryusei/.pyenv/versions/playground_py_3_12_7/lib/python3.12/site-packages (from langchain-openai) (1.55.2)\n",
      "Requirement already satisfied: tiktoken<1,>=0.7 in /Users/takahashiryusei/.pyenv/versions/playground_py_3_12_7/lib/python3.12/site-packages (from langchain-openai) (0.8.0)\n",
      "Requirement already satisfied: PyYAML>=5.3 in /Users/takahashiryusei/.pyenv/versions/playground_py_3_12_7/lib/python3.12/site-packages (from langchain-core<0.4.0,>=0.3.21->langchain-openai) (6.0.2)\n",
      "Requirement already satisfied: jsonpatch<2.0,>=1.33 in /Users/takahashiryusei/.pyenv/versions/playground_py_3_12_7/lib/python3.12/site-packages (from langchain-core<0.4.0,>=0.3.21->langchain-openai) (1.33)\n",
      "Requirement already satisfied: langsmith<0.2.0,>=0.1.125 in /Users/takahashiryusei/.pyenv/versions/playground_py_3_12_7/lib/python3.12/site-packages (from langchain-core<0.4.0,>=0.3.21->langchain-openai) (0.1.147)\n",
      "Requirement already satisfied: packaging<25,>=23.2 in /Users/takahashiryusei/.pyenv/versions/playground_py_3_12_7/lib/python3.12/site-packages (from langchain-core<0.4.0,>=0.3.21->langchain-openai) (24.2)\n",
      "Requirement already satisfied: pydantic<3.0.0,>=2.7.4 in /Users/takahashiryusei/.pyenv/versions/playground_py_3_12_7/lib/python3.12/site-packages (from langchain-core<0.4.0,>=0.3.21->langchain-openai) (2.10.2)\n",
      "Requirement already satisfied: tenacity!=8.4.0,<10.0.0,>=8.1.0 in /Users/takahashiryusei/.pyenv/versions/playground_py_3_12_7/lib/python3.12/site-packages (from langchain-core<0.4.0,>=0.3.21->langchain-openai) (9.0.0)\n",
      "Requirement already satisfied: typing-extensions>=4.7 in /Users/takahashiryusei/.pyenv/versions/playground_py_3_12_7/lib/python3.12/site-packages (from langchain-core<0.4.0,>=0.3.21->langchain-openai) (4.12.2)\n",
      "Requirement already satisfied: anyio<5,>=3.5.0 in /Users/takahashiryusei/.pyenv/versions/playground_py_3_12_7/lib/python3.12/site-packages (from openai<2.0.0,>=1.54.0->langchain-openai) (4.6.2.post1)\n",
      "Requirement already satisfied: distro<2,>=1.7.0 in /Users/takahashiryusei/.pyenv/versions/playground_py_3_12_7/lib/python3.12/site-packages (from openai<2.0.0,>=1.54.0->langchain-openai) (1.9.0)\n",
      "Requirement already satisfied: httpx<1,>=0.23.0 in /Users/takahashiryusei/.pyenv/versions/playground_py_3_12_7/lib/python3.12/site-packages (from openai<2.0.0,>=1.54.0->langchain-openai) (0.27.2)\n",
      "Requirement already satisfied: jiter<1,>=0.4.0 in /Users/takahashiryusei/.pyenv/versions/playground_py_3_12_7/lib/python3.12/site-packages (from openai<2.0.0,>=1.54.0->langchain-openai) (0.8.0)\n",
      "Requirement already satisfied: sniffio in /Users/takahashiryusei/.pyenv/versions/playground_py_3_12_7/lib/python3.12/site-packages (from openai<2.0.0,>=1.54.0->langchain-openai) (1.3.1)\n",
      "Requirement already satisfied: tqdm>4 in /Users/takahashiryusei/.pyenv/versions/playground_py_3_12_7/lib/python3.12/site-packages (from openai<2.0.0,>=1.54.0->langchain-openai) (4.67.1)\n",
      "Requirement already satisfied: regex>=2022.1.18 in /Users/takahashiryusei/.pyenv/versions/playground_py_3_12_7/lib/python3.12/site-packages (from tiktoken<1,>=0.7->langchain-openai) (2024.11.6)\n",
      "Requirement already satisfied: requests>=2.26.0 in /Users/takahashiryusei/.pyenv/versions/playground_py_3_12_7/lib/python3.12/site-packages (from tiktoken<1,>=0.7->langchain-openai) (2.32.3)\n",
      "Requirement already satisfied: idna>=2.8 in /Users/takahashiryusei/.pyenv/versions/playground_py_3_12_7/lib/python3.12/site-packages (from anyio<5,>=3.5.0->openai<2.0.0,>=1.54.0->langchain-openai) (3.10)\n",
      "Requirement already satisfied: certifi in /Users/takahashiryusei/.pyenv/versions/playground_py_3_12_7/lib/python3.12/site-packages (from httpx<1,>=0.23.0->openai<2.0.0,>=1.54.0->langchain-openai) (2024.8.30)\n",
      "Requirement already satisfied: httpcore==1.* in /Users/takahashiryusei/.pyenv/versions/playground_py_3_12_7/lib/python3.12/site-packages (from httpx<1,>=0.23.0->openai<2.0.0,>=1.54.0->langchain-openai) (1.0.7)\n",
      "Requirement already satisfied: h11<0.15,>=0.13 in /Users/takahashiryusei/.pyenv/versions/playground_py_3_12_7/lib/python3.12/site-packages (from httpcore==1.*->httpx<1,>=0.23.0->openai<2.0.0,>=1.54.0->langchain-openai) (0.14.0)\n",
      "Requirement already satisfied: jsonpointer>=1.9 in /Users/takahashiryusei/.pyenv/versions/playground_py_3_12_7/lib/python3.12/site-packages (from jsonpatch<2.0,>=1.33->langchain-core<0.4.0,>=0.3.21->langchain-openai) (3.0.0)\n",
      "Requirement already satisfied: orjson<4.0.0,>=3.9.14 in /Users/takahashiryusei/.pyenv/versions/playground_py_3_12_7/lib/python3.12/site-packages (from langsmith<0.2.0,>=0.1.125->langchain-core<0.4.0,>=0.3.21->langchain-openai) (3.10.12)\n",
      "Requirement already satisfied: requests-toolbelt<2.0.0,>=1.0.0 in /Users/takahashiryusei/.pyenv/versions/playground_py_3_12_7/lib/python3.12/site-packages (from langsmith<0.2.0,>=0.1.125->langchain-core<0.4.0,>=0.3.21->langchain-openai) (1.0.0)\n",
      "Requirement already satisfied: annotated-types>=0.6.0 in /Users/takahashiryusei/.pyenv/versions/playground_py_3_12_7/lib/python3.12/site-packages (from pydantic<3.0.0,>=2.7.4->langchain-core<0.4.0,>=0.3.21->langchain-openai) (0.7.0)\n",
      "Requirement already satisfied: pydantic-core==2.27.1 in /Users/takahashiryusei/.pyenv/versions/playground_py_3_12_7/lib/python3.12/site-packages (from pydantic<3.0.0,>=2.7.4->langchain-core<0.4.0,>=0.3.21->langchain-openai) (2.27.1)\n",
      "Requirement already satisfied: charset-normalizer<4,>=2 in /Users/takahashiryusei/.pyenv/versions/playground_py_3_12_7/lib/python3.12/site-packages (from requests>=2.26.0->tiktoken<1,>=0.7->langchain-openai) (3.4.0)\n",
      "Requirement already satisfied: urllib3<3,>=1.21.1 in /Users/takahashiryusei/.pyenv/versions/playground_py_3_12_7/lib/python3.12/site-packages (from requests>=2.26.0->tiktoken<1,>=0.7->langchain-openai) (2.2.3)\n",
      "Looking in links: /dbfs/databricks/libraries/\n",
      "Requirement already satisfied: python-dotenv in /Users/takahashiryusei/.pyenv/versions/playground_py_3_12_7/lib/python3.12/site-packages (1.0.1)\n"
     ]
    }
   ],
   "source": [
    "!pip install --no-index --find-links=/dbfs/databricks/libraries/ langchain\n",
    "!pip install --no-index --find-links=/dbfs/databricks/libraries/ langchain-openai\n",
    "!pip install --no-index --find-links=/dbfs/databricks/libraries/ python-dotenv"
   ]
  },
  {
   "cell_type": "code",
   "execution_count": 3,
   "metadata": {},
   "outputs": [
    {
     "name": "stderr",
     "output_type": "stream",
     "text": [
      "/Users/takahashiryusei/.pyenv/versions/3.12.7/envs/playground_py_3_12_7/lib/python3.12/site-packages/IPython/core/interactiveshell.py:3577: LangChainDeprecationWarning: As of langchain-core 0.3.0, LangChain uses pydantic v2 internally. The langchain_core.pydantic_v1 module was a compatibility shim for pydantic v1, and should no longer be used. Please update the code to import from Pydantic directly.\n",
      "\n",
      "For example, replace imports like: `from langchain_core.pydantic_v1 import BaseModel`\n",
      "with: `from pydantic import BaseModel`\n",
      "or the v1 compatibility namespace if you are working in a code base that has not been fully upgraded to pydantic 2 yet. \tfrom pydantic.v1 import BaseModel\n",
      "\n",
      "  exec(code_obj, self.user_global_ns, self.user_ns)\n"
     ]
    }
   ],
   "source": [
    "from langchain_core.prompts import ChatPromptTemplate\n",
    "from langchain_openai import AzureChatOpenAI\n",
    "import os\n",
    "from dotenv import load_dotenv\n",
    "from pydantic import BaseModel\n",
    "from langchain_core.pydantic_v1 import Field\n",
    "import pandas as pd"
   ]
  },
  {
   "cell_type": "code",
   "execution_count": null,
   "metadata": {},
   "outputs": [],
   "source": [
    "load_dotenv()\n",
    "\n",
    "# AzureOpenAIのAPI KEY\n",
    "azure_openai_api_key: str = ''\n",
    "os.environ['AZURE_OPENAI_ENDPOINT'] = ''"
   ]
  },
  {
   "cell_type": "code",
   "execution_count": null,
   "metadata": {},
   "outputs": [],
   "source": [
    "def get_llm(azure_deployment=\"gpt-4o-mini\", api_version=\"2024-08-01-preview\"):\n",
    "\n",
    "    llm = AzureChatOpenAI(\n",
    "        api_key=azure_openai_api_key,\n",
    "        temperature=1,\n",
    "        azure_deployment=azure_deployment,\n",
    "        api_version=api_version,\n",
    "    )\n",
    "    return llm"
   ]
  },
  {
   "cell_type": "code",
   "execution_count": null,
   "metadata": {},
   "outputs": [],
   "source": [
    "generate_masking_content_system_prompt = \"\"\"\n",
    "【役割】\n",
    "あなたは日本の個人情報をマスキングするためのデータセットを作成するデータ作成担当者です。\n",
    "個人情報は、人の氏名、生年月日、会社名、住所、emailアドレス、電話番号です。\n",
    "\n",
    "【背景】\n",
    "個人情報をマスキングすることに特化したLLMを作成するために、マスキングされたデータセットが必要\n",
    "あなたに個人情報をマスキングするためのデータセットを量産してもらいたい\n",
    "\n",
    "【制約】\n",
    "- 文章は日本語で、さまざまなバリエーションで文章を生成して下さい。バリエーション豊富であればあるほど良いです。自然な文章で長めの文章を生成して下さい。\n",
    "- 自然な文章で長文を生成して下さい。\n",
    "- 文章は下記の【フォーマット】で必ず出力して下さい。「マスク前の文章」と「マスク後の文章」をワンセットで1件だけ生成して下さい。\n",
    "- 必ず【必須の個人情報】を含めたマスキングデータを作成して下さい。\n",
    "- 【任意の個人情報】を含めても良いです。自然な文章を作成するにあたり、【任意の個人情報】の内容が必要であれば含めて下さい。\n",
    "- 【必須の個人情報】と【任意の個人情報】の内容は必ずマスキングして「マスク後の文章:」に出力して下さい。\n",
    "\n",
    "【必須で含める個人情報】\n",
    "- 人の氏名\n",
    "\n",
    "【人の氏名の制約】\n",
    "- 漢字でフルネームの氏名を生成すること。性と名間にスペースは付けないでください。\n",
    "\n",
    "【任意で含める個人情報】\n",
    "- 会社名\n",
    "- 日本の住所\n",
    "- emailアドレス\n",
    "- 電話番号\n",
    "- 郵便番号\n",
    "- 生年月日\n",
    "\n",
    "【フォーマット】\n",
    "マスキング前の文章:はじめまして、IBM Japan Systems Engineering Co. Ltd.（ISE）の田中太郎です。よろしくお願いします。\n",
    "-----\n",
    "マスキング後の文章:はじめまして、<会社名マスク済み>の<氏名マスク済み>です。よろしくお願いします。\n",
    "\"\"\"\n",
    "\n",
    "set_before_masking_after_masking_system_prompt = \"\"\"\n",
    "【役割】\n",
    "あなたはマスキング前の文章とマスキング後の文章を分けることAIアシスタントです。\n",
    "\n",
    "【背景】\n",
    "個人情報をマスキングすることに特化したLLMを作成するために、マスキングされたデータセットが必要です。\n",
    "マスキング前の文章とマスキング後の文章を明確に分けてほしい。\n",
    "\n",
    "【制約】\n",
    "- 「マスク前の文章:」の文章を忠実にbefore_maskingフィールドに格納して下さい。\n",
    "- 「マスク後の文章:」の文章を忠実にafter_maskingフィールドに格納して下さい。\n",
    "\"\"\""
   ]
  },
  {
   "cell_type": "code",
   "execution_count": null,
   "metadata": {},
   "outputs": [],
   "source": [
    "class BeforeMaskingAfterMaskingModel(BaseModel):\n",
    "    before_masking: str = Field(description='マスキング前の文章。「マスキング前の文章:・・・」となっている文章をここのbefore_maskingフィールドに格納する')\n",
    "    after_masking: str = Field(description='マスキング後の文章。「マスキング後の文章:・・・」となっている文章をここのafter_maskingフィールドに格納する')\n",
    "\n",
    "    model_config = {\n",
    "        \"json_schema_extra\": {\n",
    "            \"required\": [\"before_masking\", \"after_masking\"]\n",
    "        }\n",
    "    }"
   ]
  },
  {
   "cell_type": "code",
   "execution_count": 36,
   "metadata": {},
   "outputs": [],
   "source": [
    "def generate_masking_content():\n",
    "    try:\n",
    "        llm = get_llm()\n",
    "        user_query = \"日本の個人情報をマスキングするためのデータセットを作成したいです。多彩でさまざまなバリエーションの長めの文章を生成して下さい。500文字以上の長めの文章を生成して下さい。\"\n",
    "\n",
    "        prompt = ChatPromptTemplate.from_messages(\n",
    "            [\n",
    "                (\n",
    "                    \"system\",\n",
    "                    generate_masking_content_system_prompt\n",
    "                ),\n",
    "                (\"human\", \"{input}\"),\n",
    "            ]\n",
    "        )\n",
    "\n",
    "        chain = prompt | llm\n",
    "        result = chain.invoke({\n",
    "            'input': user_query\n",
    "        })\n",
    "\n",
    "        return result\n",
    "\n",
    "    except Exception as e:\n",
    "        print(f\"タグ生成に失敗しました: {e}\")\n",
    "        return []"
   ]
  },
  {
   "cell_type": "code",
   "execution_count": 37,
   "metadata": {},
   "outputs": [],
   "source": [
    "def set_before_masking_after_masking(before_masking_after_masking_content):\n",
    "    prompt = ChatPromptTemplate.from_messages(\n",
    "        [\n",
    "            (\n",
    "                'system',\n",
    "                set_before_masking_after_masking_system_prompt,\n",
    "            ),\n",
    "            (\"human\", \"{input}\"),\n",
    "        ]\n",
    "    )\n",
    "\n",
    "    llm = get_llm()\n",
    "    chain = prompt | llm.with_structured_output(BeforeMaskingAfterMaskingModel)\n",
    "    output_qanda = chain.invoke({\n",
    "        'input': before_masking_after_masking_content\n",
    "        })\n",
    "    \n",
    "    return output_qanda"
   ]
  },
  {
   "cell_type": "code",
   "execution_count": 38,
   "metadata": {},
   "outputs": [
    {
     "name": "stdout",
     "output_type": "stream",
     "text": [
      "1件目のマスキングデータを生成開始\n"
     ]
    },
    {
     "name": "stderr",
     "output_type": "stream",
     "text": [
      "/Users/takahashiryusei/.pyenv/versions/3.12.7/envs/playground_py_3_12_7/lib/python3.12/site-packages/pydantic/json_schema.py:2270: PydanticJsonSchemaWarning: Default value default=PydanticUndefined description='マスキング前の文章。「マスキング前の文章:・・・」となっている文章をここのbefore_maskingフィールドに格納する' extra={} is not JSON serializable; excluding default from JSON schema [non-serializable-default]\n",
      "  warnings.warn(message, PydanticJsonSchemaWarning)\n",
      "/Users/takahashiryusei/.pyenv/versions/3.12.7/envs/playground_py_3_12_7/lib/python3.12/site-packages/pydantic/json_schema.py:2270: PydanticJsonSchemaWarning: Default value default=PydanticUndefined description='マスキング後の文章。「マスキング後の文章:・・・」となっている文章をここのafter_maskingフィールドに格納する' extra={} is not JSON serializable; excluding default from JSON schema [non-serializable-default]\n",
      "  warnings.warn(message, PydanticJsonSchemaWarning)\n"
     ]
    },
    {
     "name": "stdout",
     "output_type": "stream",
     "text": [
      "1件目のマスキングデータを生成完了\n",
      "2件目のマスキングデータを生成開始\n"
     ]
    },
    {
     "name": "stderr",
     "output_type": "stream",
     "text": [
      "/Users/takahashiryusei/.pyenv/versions/3.12.7/envs/playground_py_3_12_7/lib/python3.12/site-packages/pydantic/json_schema.py:2270: PydanticJsonSchemaWarning: Default value default=PydanticUndefined description='マスキング前の文章。「マスキング前の文章:・・・」となっている文章をここのbefore_maskingフィールドに格納する' extra={} is not JSON serializable; excluding default from JSON schema [non-serializable-default]\n",
      "  warnings.warn(message, PydanticJsonSchemaWarning)\n",
      "/Users/takahashiryusei/.pyenv/versions/3.12.7/envs/playground_py_3_12_7/lib/python3.12/site-packages/pydantic/json_schema.py:2270: PydanticJsonSchemaWarning: Default value default=PydanticUndefined description='マスキング後の文章。「マスキング後の文章:・・・」となっている文章をここのafter_maskingフィールドに格納する' extra={} is not JSON serializable; excluding default from JSON schema [non-serializable-default]\n",
      "  warnings.warn(message, PydanticJsonSchemaWarning)\n"
     ]
    },
    {
     "name": "stdout",
     "output_type": "stream",
     "text": [
      "2件目のマスキングデータを生成完了\n",
      "3件目のマスキングデータを生成開始\n"
     ]
    },
    {
     "name": "stderr",
     "output_type": "stream",
     "text": [
      "/Users/takahashiryusei/.pyenv/versions/3.12.7/envs/playground_py_3_12_7/lib/python3.12/site-packages/pydantic/json_schema.py:2270: PydanticJsonSchemaWarning: Default value default=PydanticUndefined description='マスキング前の文章。「マスキング前の文章:・・・」となっている文章をここのbefore_maskingフィールドに格納する' extra={} is not JSON serializable; excluding default from JSON schema [non-serializable-default]\n",
      "  warnings.warn(message, PydanticJsonSchemaWarning)\n",
      "/Users/takahashiryusei/.pyenv/versions/3.12.7/envs/playground_py_3_12_7/lib/python3.12/site-packages/pydantic/json_schema.py:2270: PydanticJsonSchemaWarning: Default value default=PydanticUndefined description='マスキング後の文章。「マスキング後の文章:・・・」となっている文章をここのafter_maskingフィールドに格納する' extra={} is not JSON serializable; excluding default from JSON schema [non-serializable-default]\n",
      "  warnings.warn(message, PydanticJsonSchemaWarning)\n"
     ]
    },
    {
     "name": "stdout",
     "output_type": "stream",
     "text": [
      "3件目のマスキングデータを生成完了\n"
     ]
    }
   ],
   "source": [
    "before_masking_after_masking_list = []\n",
    "count = 3\n",
    "\n",
    "for i in range(count):\n",
    "    print(f\"{i+1}件目のマスキングデータを生成開始\")\n",
    "    before_masking_after_masking_data = generate_masking_content()\n",
    "    separate_before_masking_after_masking = set_before_masking_after_masking(before_masking_after_masking_data)\n",
    "\n",
    "    row_data = {\n",
    "        'before_mask': separate_before_masking_after_masking.before_masking,\n",
    "        'after_mask': separate_before_masking_after_masking.after_masking\n",
    "    }\n",
    "    \n",
    "    # リストに辞書を追加\n",
    "    before_masking_after_masking_list.append(row_data)\n",
    "    print(f\"{i+1}件目のマスキングデータを生成完了\")"
   ]
  },
  {
   "cell_type": "code",
   "execution_count": 39,
   "metadata": {},
   "outputs": [
    {
     "data": {
      "text/plain": [
       "[{'before_mask': '昨日、株式会社テクノソリューションズの新入社員研修で、私、鈴木一郎はチームビルディングアクティビティに参加しました。東京都千代田区丸の内3丁目1-1の本社ビルにて、初めての対面での研修でした。実際に顔を合わせてみると、オンライン会議ではわからなかった細かなニュアンスや交流が生まれ、非常に有意義に感じました。研修終了後には、同僚の山田花子さんや佐藤健太郎さんと一緒に、近くのカフェでメールアドレス（xxxx@example.com）を交換し、今後の連絡手段を確保しました。また、私の生年月日は1990年5月15日で、同僚たちとは同年代なので、親近感を持つことができました。さらに、業務用の電話番号として03-1234-5678を利用することになりましたので、何か困ったことがあればいつでもご連絡ください。これからの業務においても、チームで協力し合いながら成長していきたいと思っています。',\n",
       "  'after_mask': '昨日、<会社名マスク済み>の新入社員研修で、私、<氏名マスク済み>はチームビルディングアクティビティに参加しました。<住所マスク済み>の本社ビルにて、初めての対面での研修でした。実際に顔を合わせてみると、オンライン会議ではわからなかった細かなニュアンスや交流が生まれ、非常に有意義に感じました。研修終了後には、同僚の<氏名マスク済み>さんや<氏名マスク済み>さんと一緒に、近くのカフェでメールアドレス（<メールアドレスマスク済み>）を交換し、今後の連絡手段を確保しました。また、私の生年月日は<生年月日マスク済み>で、同僚たちとは同年代なので、親近感を持つことができました。さらに、業務用の電話番号として<電話番号マスク済み>を利用することになりましたので、何か困ったことがあればいつでもご連絡ください。これからの業務においても、チームで協力し合いながら成長していきたいと思っています。'},\n",
       " {'before_mask': 'はじめまして。佐藤一郎と申します。私は株式会社東京テクノロジーにてソフトウェアエンジニアを務めております。1985年3月14日に東京都新宿区で生まれ、東京都港区六本木に在住しています。仕事の内容としては主にシステム開発やプログラムの設計を担当しており、新しい技術を取り入れることで会社のプロジェクトの効率化に貢献しています。また、お客様との打ち合わせが多く、随時進捗状況を報告しています。プライベートでは読書や映画鑑賞が好きで、特にミステリー小説やサスペンス映画を好んでいます。週末にはカフェで過ごすことが多く、リラックスした時間を楽しんでいます。もし何か質問があれば、お気軽にお聞きください。emailはichiro.sato@example.com、電話番号は080-1234-5678です。',\n",
       "  'after_mask': 'はじめまして。<氏名マスク済み>と申します。私は<会社名マスク済み>にてソフトウェアエンジニアを務めております。<生年月日マスク済み>に<住所マスク済み>で生まれ、<住所マスク済み>に在住しています。仕事の内容としては主にシステム開発やプログラムの設計を担当しており、新しい技術を取り入れることで会社のプロジェクトの効率化に貢献しています。また、お客様との打ち合わせが多く、随時進捗状況を報告しています。プライベートでは読書や映画鑑賞が好きで、特にミステリー小説やサスペンス映画を好んでいます。週末にはカフェで過ごすことが多く、リラックスした時間を楽しんでいます。もし何か質問があれば、お気軽にお聞きください。emailは<emailアドレスマスク済み>、電話番号は<電話番号マスク済み>です。'},\n",
       " {'before_mask': 'お世話になります。株式会社エー・ビー・シーの営業部でございます。今年度も引き続きお取引いただき誠にありがとうございます。担当者の佐藤光太と申します。私は1985年5月15日に東京都港区で生まれ育ちました。大学卒業後にABC社に入社し、10年以上の経験を積んでまいりました。弊社は東京都中央区銀座2丁目6-8にオフィスを構えており、毎日お客様のご期待に応えるべく努めております。何かご不明な点やご質問がございましたら、どうぞお気軽にご連絡ください。電話番号は03-1234-5678で、メールアドレスはkota.sato@abc.co.jpです。また、急を要する場合は私の携帯電話番号080-9876-5432までご連絡いただければ、迅速に対応させていただきます。いつもお世話になりありがとうございます。引き続きどうぞよろしくお願い申し上げます。',\n",
       "  'after_mask': 'お世話になります。<会社名マスク済み>の営業部でございます。今年度も引き続きお取引いただき誠にありがとうございます。担当者の<氏名マスク済み>と申します。私は<生年月日マスク済み>に<住所マスク済み>で生まれ育ちました。大学卒業後に<会社名マスク済み>に入社し、10年以上の経験を積んでまいりました。弊社は<住所マスク済み>にオフィスを構えており、毎日お客様のご期待に応えるべく努めております。何かご不明な点やご質問がございましたら、どうぞお気軽にご連絡ください。電話番号は<電話番号マスク済み>で、メールアドレスは<emailアドレスマスク済み>です。また、急を要する場合は私の携帯電話番号<電話番号マスク済み>までご連絡いただければ、迅速に対応させていただきます。いつもお世話になりありがとうございます。引き続きどうぞよろしくお願い申し上げます。'}]"
      ]
     },
     "execution_count": 39,
     "metadata": {},
     "output_type": "execute_result"
    }
   ],
   "source": [
    "before_masking_after_masking_list"
   ]
  },
  {
   "cell_type": "code",
   "execution_count": null,
   "metadata": {},
   "outputs": [],
   "source": [
    "# 収集したデータからデータフレームを作成\n",
    "df = pd.DataFrame(before_masking_after_masking_list)\n",
    "\n",
    "# CSVに出力\n",
    "df.to_csv('not_add_space_kanji_full_name.csv', index=False)"
   ]
  }
 ],
 "metadata": {
  "kernelspec": {
   "display_name": "playground_py_3_12_7",
   "language": "python",
   "name": "python3"
  },
  "language_info": {
   "codemirror_mode": {
    "name": "ipython",
    "version": 3
   },
   "file_extension": ".py",
   "mimetype": "text/x-python",
   "name": "python",
   "nbconvert_exporter": "python",
   "pygments_lexer": "ipython3",
   "version": "3.12.7"
  }
 },
 "nbformat": 4,
 "nbformat_minor": 2
}
